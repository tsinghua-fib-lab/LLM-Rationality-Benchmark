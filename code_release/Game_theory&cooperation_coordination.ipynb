{
 "cells": [
  {
   "cell_type": "markdown",
   "metadata": {},
   "source": [
    "Contains code for **Game theory** and **Cooperation and coordination** experiments.  \n",
    "**Game theory:**  \n",
    "- Second price auction\n",
    "- Beauty contest\n",
    "- One-shot prisoner’s dilemma\n",
    "- Finitely repeated prisoner’s dilemma\n",
    "- One-shot public goods game\n",
    "- Finitely repeated public goods game\n",
    "\n",
    "**Cooperation and coordination:**  \n",
    "- Infinitely repeated prisoner’s dilemma\n",
    "- Battle of the sexes\n",
    "- Stag hunt\n",
    "- Minimum effort"
   ]
  },
  {
   "cell_type": "code",
   "execution_count": 1,
   "metadata": {
    "ExecuteTime": {
     "end_time": "2023-12-19T15:49:35.674412Z",
     "start_time": "2023-12-19T15:49:34.980332Z"
    }
   },
   "outputs": [],
   "source": [
    "import openai\n",
    "import os\n",
    "import pandas as pd\n",
    "import numpy as np\n",
    "from tqdm import tqdm\n",
    "import matplotlib.pyplot as plt\n",
    "import matplotlib.ticker as ticker\n",
    "import random\n",
    "import re\n",
    "import time\n",
    "import pickle\n",
    "import copy\n",
    "import json\n",
    "import requests\n",
    "filepath=r'./records/'\n",
    "assert os.path.exists(filepath)"
   ]
  },
  {
   "cell_type": "markdown",
   "metadata": {},
   "source": [
    "# Step 1: choose a LLM"
   ]
  },
  {
   "cell_type": "markdown",
   "metadata": {
    "heading_collapsed": true
   },
   "source": [
    "## OSS LLMs: (except llama)\n",
    "openchat-13b, wizardlm-13b, vicuna-13b, vicuna-7b, oasst-12b, chatglm2-6b\n",
    "\n",
    "1. Install [fastchat](https://github.com/lm-sys/FastChat) and download the OSS LLM models from their official websites.  \n",
    "2. Use fastchat to start an api server (see [here](https://github.com/lm-sys/FastChat/blob/main/docs/openai_api.md)).  \n",
    "3. Then you can use openai api to call the LLMs.\n"
   ]
  },
  {
   "cell_type": "code",
   "execution_count": null,
   "metadata": {
    "hidden": true
   },
   "outputs": [],
   "source": [
    "################## choose model here\n",
    "\n",
    "model = \"vicuna-13b-v1.5-16k\"\n",
    "# model = 'openchat_3.5'\n",
    "# model = 'WizardLM-13B-V1.2'\n",
    "# model = \"vicuna-7b-v1.5-16k\"\n",
    "# model = 'oasst-sft-4-pythia-12b-epoch-3.5'\n",
    "# model = 'chatglm2-6b'"
   ]
  },
  {
   "cell_type": "code",
   "execution_count": 36,
   "metadata": {
    "ExecuteTime": {
     "end_time": "2023-12-20T02:17:56.284965Z",
     "start_time": "2023-12-20T02:17:53.389435Z"
    },
    "code_folding": [
     9,
     22
    ],
    "hidden": true
   },
   "outputs": [
    {
     "name": "stdout",
     "output_type": "stream",
     "text": [
      "Hello! How can I help you today?\n",
      "Hello Alice, my name is Bob. Nice to meet you!\n",
      "I'm sorry, but as an AI language model, I don't have access to personal information unless you provide it to me. If you'd like to tell me your name, I'd be happy to address you by name.\n"
     ]
    }
   ],
   "source": [
    "openai.api_key = \"EMPTY\"\n",
    "openai.api_base = \"http://localhost:8000/v1\"\n",
    "\n",
    "def get_completion(prompt, model,temperature=0):\n",
    "    messages = [{\"role\": \"user\", \"content\": prompt}]\n",
    "    response = openai.ChatCompletion.create(\n",
    "        model=model,\n",
    "        messages=messages,\n",
    "        temperature=temperature,\n",
    "    )\n",
    "    return response.choices[0].message[\"content\"]\n",
    "\n",
    "prompt = f\"\"\"Hello!\"\"\"\n",
    "response = get_completion(prompt,model=model)\n",
    "print(response)\n",
    "\n",
    "class ChatApp:\n",
    "    def __init__(self, system_message, init_message=None):\n",
    "        self.messages = [\n",
    "            {\"role\": \"system\", \"content\": system_message},\n",
    "        ]\n",
    "\n",
    "    def chat(self, message, model,temperature=0):\n",
    "        self.messages.append({\"role\": \"user\", \"content\": message})\n",
    "        response = openai.ChatCompletion.create(\n",
    "                    model=model,\n",
    "                    messages=self.messages,\n",
    "                    temperature=temperature,\n",
    "                )            \n",
    "        self.messages.append({\"role\": \"assistant\", \"content\": response[\"choices\"][0][\"message\"].content})\n",
    "        return response[\"choices\"][0][\"message\"]['content']\n",
    "    \n",
    "    def chat_wo_update(self, message, model, temperature=0):\n",
    "        tmp_message=copy.deepcopy(self.messages)\n",
    "        tmp_message.append({\"role\": \"user\", \"content\": message})\n",
    "        response = openai.ChatCompletion.create(\n",
    "                    model=model,\n",
    "                    messages=tmp_message,\n",
    "                    temperature=temperature,\n",
    "                )\n",
    "\n",
    "        return response[\"choices\"][0][\"message\"]['content']\n",
    "\n",
    "system_message=\"You are Bob, a friendly assistant.\"\n",
    "Alice=ChatApp(system_message=system_message)\n",
    "print(Alice.chat_wo_update(message=\"Hello, my name is Alice. What's your name?\",model=model))\n",
    "print(Alice.chat(message='Do you know my name?',model=model))"
   ]
  },
  {
   "cell_type": "markdown",
   "metadata": {
    "heading_collapsed": true
   },
   "source": [
    "## OSS LLMs: (llama)\n",
    "llama2-13b, llama2-7b\n",
    "\n",
    "1. Install [llama2-flask-api](https://github.com/unconv/llama2-flask-api) and download the Llama models from their official websites.  \n",
    "2. Start an api server (see [here](https://github.com/unconv/llama2-flask-api)).  \n",
    "3. Then you can use the following functions to call the LLMs."
   ]
  },
  {
   "cell_type": "code",
   "execution_count": 39,
   "metadata": {
    "ExecuteTime": {
     "end_time": "2023-12-20T02:24:59.028036Z",
     "start_time": "2023-12-20T02:24:50.734205Z"
    },
    "code_folding": [
     12
    ],
    "hidden": true
   },
   "outputs": [
    {
     "name": "stdout",
     "output_type": "stream",
     "text": [
      " Hello! I'm here to assist you with any questions or tasks you may have. Is there something specific you'd like to know or discuss? I'm here to help and provide information to the best of my ability. Please feel free to ask me anything!\n"
     ]
    }
   ],
   "source": [
    "def get_completion(prompt):\n",
    "    messages = [{\"role\": \"user\", \"content\": prompt}]\n",
    "#     messages = [{\"role\": \"system\", \"content\": 'You are Alice'},{\"role\": \"user\", \"content\": prompt}]\n",
    "    response = requests.post(\"http://localhost:5000/chat\", json={\"messages\":messages})\n",
    "    response = json.loads(response.text)\n",
    "    #print(res)\n",
    "    return response['choices'][0]['message'][\"content\"]\n",
    "\n",
    "prompt = f\"\"\"Hello!\"\"\"\n",
    "response = get_completion(prompt)\n",
    "print(response)\n",
    "\n",
    "class ChatApp:\n",
    "    def __init__(self, system_message, init_message=None):\n",
    "        self.messages = [\n",
    "            {\"role\": \"system\", \"content\": system_message},\n",
    "        ]\n",
    "\n",
    "    def chat(self, message, model,temperature=0):\n",
    "        self.messages.append({\"role\": \"user\", \"content\": message})\n",
    "        response = requests.post(\"http://localhost:5000/chat\", json={\"messages\":self.messages})\n",
    "        response = json.loads(response.text)          \n",
    "        self.messages.append({\"role\": \"assistant\", \"content\": response[\"choices\"][0][\"message\"]['content']})\n",
    "        return response[\"choices\"][0][\"message\"]['content']\n",
    "    \n",
    "    def chat_wo_update(self, message, model, temperature=0):\n",
    "        tmp_message=copy.deepcopy(self.messages)\n",
    "        tmp_message.append({\"role\": \"user\", \"content\": message})\n",
    "        response = requests.post(\"http://localhost:5000/chat\", json={\"messages\":tmp_message})\n",
    "        response = json.loads(response.text)\n",
    "        return response[\"choices\"][0][\"message\"]['content']\n"
   ]
  },
  {
   "cell_type": "markdown",
   "metadata": {
    "heading_collapsed": true
   },
   "source": [
    "## API LLMs - chat models\n",
    "gpt-4, gpt-3.5"
   ]
  },
  {
   "cell_type": "code",
   "execution_count": null,
   "metadata": {
    "hidden": true
   },
   "outputs": [],
   "source": [
    "############# set openai key here\n",
    "key=''\n",
    "openai.api_key = key\n",
    "\n",
    "################## choose model here\n",
    "model=\"gpt-3.5-turbo-1106\"\n",
    "# model='gpt-4-1106-preview'"
   ]
  },
  {
   "cell_type": "code",
   "execution_count": null,
   "metadata": {
    "code_folding": [
     0,
     13
    ],
    "hidden": true
   },
   "outputs": [],
   "source": [
    "def get_completion(prompt, model,temperature=0):\n",
    "    messages = [{\"role\": \"user\", \"content\": prompt}]\n",
    "    response = openai.ChatCompletion.create(\n",
    "        model=model,\n",
    "        messages=messages,\n",
    "        temperature=temperature,\n",
    "    )\n",
    "    return response.choices[0].message[\"content\"]\n",
    "\n",
    "prompt = f\"\"\"Hello!\"\"\"\n",
    "response = get_completion(prompt,model='gpt-3.5-turbo')\n",
    "print(response)\n",
    "\n",
    "class ChatApp:\n",
    "    def __init__(self, system_message, init_message=None):\n",
    "        self.messages = [\n",
    "            {\"role\": \"system\", \"content\": system_message},\n",
    "        ]\n",
    "\n",
    "    def chat(self, message, model,temperature=0):\n",
    "        self.messages.append({\"role\": \"user\", \"content\": message})\n",
    "        response = openai.ChatCompletion.create(\n",
    "                    model=model,\n",
    "                    messages=self.messages,\n",
    "                    temperature=temperature,\n",
    "                )            \n",
    "        self.messages.append({\"role\": \"assistant\", \"content\": response[\"choices\"][0][\"message\"].content})\n",
    "        return response[\"choices\"][0][\"message\"]['content']\n",
    "    \n",
    "    def chat_wo_update(self, message, model, temperature=0):\n",
    "        tmp_message=copy.deepcopy(self.messages)\n",
    "        tmp_message.append({\"role\": \"user\", \"content\": message})\n",
    "        response = openai.ChatCompletion.create(\n",
    "                    model=model,\n",
    "                    messages=tmp_message,\n",
    "                    temperature=temperature,\n",
    "                )\n",
    "\n",
    "        return response[\"choices\"][0][\"message\"]['content']\n"
   ]
  },
  {
   "cell_type": "markdown",
   "metadata": {
    "heading_collapsed": true
   },
   "source": [
    "## API LLMs - completion models\n",
    "bard, text-bison-001, text-davinci-003, text-davinci-002, claude-instant"
   ]
  },
  {
   "cell_type": "code",
   "execution_count": null,
   "metadata": {
    "hidden": true
   },
   "outputs": [],
   "source": [
    "################## choose model here\n",
    "\n",
    "# model='bard'\n",
    "# model='text-bison-001'\n",
    "# model=\"text-davinci-003\"\n",
    "model=\"text-davinci-002\"\n",
    "# model='Claude-Instant-Temp0'\n",
    "\n",
    "\n",
    "############# set openai key here\n",
    "key=''\n",
    "openai.api_key = key\n",
    "\n",
    "############# set bard token here\n",
    "BARD_TOKEN=''\n",
    "\n",
    "############# set palm token here (for text-bison-001)\n",
    "palm_token = ''\n",
    "\n",
    "############# set claude api key here \n",
    "claude_api_key = \"\""
   ]
  },
  {
   "cell_type": "code",
   "execution_count": null,
   "metadata": {
    "code_folding": [
     18,
     29,
     36
    ],
    "hidden": true
   },
   "outputs": [],
   "source": [
    "#################api function##################\n",
    "import os\n",
    "import openai\n",
    "from bardapi import Bard\n",
    "import google.generativeai as palm\n",
    "\n",
    "original_proxy = os.environ.get('HTTP_PROXY', None)\n",
    "\n",
    "print('Models available: gpt-3.5-turbo, gpt-4, \\\n",
    "text-davinci-003, text-davinci-002, text-bison-001, bard,\\\n",
    "Claude-instant, Claude-2-100k')\n",
    "# print(palm_models)\n",
    "\n",
    "\n",
    "import asyncio\n",
    "from fastapi_poe.types import ProtocolMessage\n",
    "from fastapi_poe.client import get_bot_response\n",
    "\n",
    "async def get_claude_responses(api_key, model, message_prompt):\n",
    "    complete_response = ''\n",
    "    message = ProtocolMessage(role=\"user\", content=message_prompt)\n",
    "    async for partial in get_bot_response(messages=[message], \n",
    "                                        bot_name=model, # Claude-instant, Claude-2-100k, GPT-3.5-Turbo, Google-PaLM\n",
    "                                        api_key=api_key):\n",
    "\n",
    "        complete_response+=partial.text\n",
    "#     print(complete_response)\n",
    "    return complete_response\n",
    "\n",
    "def convert_to_list(input_data):\n",
    "    # if isinstance(input_data, str):\n",
    "    #     return [input_data]\n",
    "    # else:\n",
    "    mlist = [item.strip() for item in input_data.split(\",\")]\n",
    "    return mlist\n",
    "# def get_completion(model, prompt):\n",
    "async def get_completion(model, prompt):\n",
    "    role_prompt = \"You are a helpful assistant.\" # for gpt's only\n",
    "    # message_prompt = input(\"Enter your message prompt: \")\n",
    "    # models = input(\"Which models do you want to test: \")\n",
    "    message_prompt = prompt\n",
    "    models = model\n",
    "    # models = [models]\n",
    "\n",
    "    models = convert_to_list(models)\n",
    "#     print(models)\n",
    "    tasks = []\n",
    "    for model in models:\n",
    "#         print(model)\n",
    "        if model == 'gpt-3.5-turbo' or model == 'gpt-4': \n",
    "            try: \n",
    "                response = openai.chat.completions.create(\n",
    "                    model=model,\n",
    "                    messages=[\n",
    "                        {\"role\": \"system\", \"content\": role_prompt},\n",
    "                        {\"role\": \"user\", \"content\": message_prompt}\n",
    "                ]\n",
    "                )\n",
    "#                 print(response.choices[0].message.content)\n",
    "                out=response.choices[0].message.content\n",
    "\n",
    "            except Exception as e:\n",
    "                print(f\"{model} API failed with error: {str(e)}. Please wait a while and try again.\")\n",
    "                continue\n",
    "\n",
    "        elif model == 'text-davinci-003' or model == 'text-davinci-002':\n",
    "            try:\n",
    "                response = openai.Completion.create(\n",
    "                    model=model,\n",
    "                    prompt = message_prompt,\n",
    "                    temperature=0,\n",
    "                    max_tokens=1000\n",
    "                )\n",
    "#                 print(response.choices[0].text.strip())\n",
    "                out=response.choices[0].text.strip()\n",
    "\n",
    "            except Exception as e:\n",
    "                print(f\"{model} API failed with error: {str(e)}. Please wait a while and try again.\")\n",
    "                continue\n",
    "\n",
    "        elif model == 'text-bison-001': \n",
    "            os.environ['HTTP_PROXY'] = 'http://127.0.0.1:33210'\n",
    "                # Enable the proxy\n",
    "            try:\n",
    "                palm.configure(api_key=palm_token)\n",
    "                completion = palm.generate_text(\n",
    "                    model='models/text-bison-001',\n",
    "                    prompt=message_prompt,\n",
    "                    temperature=0,\n",
    "                    max_output_tokens=1000,\n",
    "                )\n",
    "#                 print(completion.result)\n",
    "                out=completion.result\n",
    "            except Exception as e:\n",
    "                print(f\"{model} API failed with error: {str(e)}.\")\n",
    "                continue\n",
    "            finally:\n",
    "                # Restore the original value of HTTP_PROXY\n",
    "                os.environ.clear()  # Clear all environment variables\n",
    "                os.environ.update(os.environ.copy())\n",
    "\n",
    "\n",
    "        elif model == 'bard':\n",
    "            try:\n",
    "                # bard_token = input(\"Enter bard token (__Secure-1PSID): \")\n",
    "                bard_token = BARD_TOKEN\n",
    "                bard = Bard(token=bard_token)\n",
    "                out=bard.get_answer(message_prompt)['content']\n",
    "#                 print(out)\n",
    "            except Exception as e:\n",
    "                print(f\"Bard API failed with error: {str(e)}. Please wait a while and try again.\")\n",
    "                continue\n",
    "\n",
    "\n",
    "        elif model == 'Claude-instant' or model == 'Claude-2-100k' or model == 'ValidatorClaude' or model=='Claude-Instant-Temp0':\n",
    "            try:\n",
    "                api_key = claude_api_key\n",
    "                out=get_claude_responses(api_key, model, message_prompt)\n",
    "                tasks.append(out)\n",
    "                out=await asyncio.gather(*tasks)\n",
    "                out=out[0]\n",
    "                return out\n",
    "            except Exception as e:\n",
    "                print(f\"{model} API failed with error: {str(e)}.\")\n",
    "                continue\n",
    "        \n",
    "    return out\n",
    "\n"
   ]
  },
  {
   "cell_type": "code",
   "execution_count": null,
   "metadata": {
    "code_folding": [
     4
    ],
    "hidden": true
   },
   "outputs": [],
   "source": [
    "import nest_asyncio\n",
    "nest_asyncio.apply()\n",
    "\n",
    "\n",
    "class ChatApp:\n",
    "    def __init__(self, system_message, init_message=None):\n",
    "        self.messages = [\n",
    "            {\"role\": \"system\", \"content\": system_message},\n",
    "        ]\n",
    "\n",
    "    def chat(self, message, model,temperature=0):\n",
    "        self.messages.append({\"role\": \"user\", \"content\": message})\n",
    "        if len(self.messages)<=2:\n",
    "            prompt='USER: '+self.messages[0]['content']+' '+self.messages[1]['content']+' AGENT: '\n",
    "        else:\n",
    "            prompt='USER: '+self.messages[0]['content']+' '+self.messages[1]['content']\n",
    "            for m in self.messages[2:]:\n",
    "                if m['role']=='user':\n",
    "                    prompt+='USER: '+m['content']\n",
    "                elif m['role']=='assistant':\n",
    "                    prompt+='AGENT: '+m['content']\n",
    "            prompt+=' AGENT: '\n",
    "        response=asyncio.run(get_completion(model, prompt))\n",
    "        self.messages.append({\"role\": \"assistant\", \"content\": response})\n",
    "        return response\n",
    "    \n",
    "    def chat_wo_update(self, message, model, temperature=0):\n",
    "        tmp_message=copy.deepcopy(self.messages)\n",
    "        tmp_message.append({\"role\": \"user\", \"content\": message})\n",
    "        if len(tmp_message)<=2:\n",
    "            prompt='USER: '+tmp_message[0]['content']+' '+tmp_message[1]['content']+' AGENT: '\n",
    "        else:\n",
    "            prompt='USER: '+tmp_message[0]['content']+' '+tmp_message[1]['content']\n",
    "            for m in tmp_message[2:]:\n",
    "                if m['role']=='user':\n",
    "                    prompt+='USER: '+m['content']\n",
    "                elif m['role']=='assistant':\n",
    "                    prompt+='AGENT: '+m['content']\n",
    "            prompt+=' AGENT: '\n",
    "        response=asyncio.run(get_completion(model, prompt))\n",
    "        return response\n",
    "\n",
    "# system_message=\"You are Bob, a friendly assistant.\"\n",
    "# Alice=ChatApp(system_message=system_message)\n",
    "# print(Alice.chat_wo_update(message=\"Hello, my name is Alice. What's your name?\",model=model))\n",
    "# print(Alice.chat(message='Do you know my name?',model=model))"
   ]
  },
  {
   "cell_type": "code",
   "execution_count": null,
   "metadata": {
    "hidden": true
   },
   "outputs": [],
   "source": []
  },
  {
   "cell_type": "markdown",
   "metadata": {},
   "source": [
    "# Step 2: choose a game and run experiments"
   ]
  },
  {
   "cell_type": "markdown",
   "metadata": {
    "heading_collapsed": true
   },
   "source": [
    "## 1. Second price auction"
   ]
  },
  {
   "cell_type": "code",
   "execution_count": 16,
   "metadata": {
    "ExecuteTime": {
     "end_time": "2023-12-19T16:16:34.107325Z",
     "start_time": "2023-12-19T16:16:34.088159Z"
    },
    "code_folding": [],
    "hidden": true
   },
   "outputs": [],
   "source": [
    "def correct_json(s):\n",
    "    prompt=f\"\"\"\n",
    "The following string delimited by triple backticks is in json format, but there are some mistakes, and I cannot directly convert it to json by json.loads(). For example, there may be missing comma or quotes. Please help me correct the mistakes, and output the string in valid json format. Please only output the corrected string, and do not output any other things.\n",
    "```\n",
    "{s}\n",
    "```\n",
    "    \"\"\".strip()\n",
    "    response = get_completion(prompt)\n",
    "    return response\n",
    "\n",
    "def parse_response(response): # return a json\n",
    "    response = response.replace('Action','action')\n",
    "    response = response.replace('Thought','thought')\n",
    "    try:\n",
    "        out=json.loads(response,strict=0)\n",
    "    except:\n",
    "        start_index = response.find('{')  \n",
    "        end_index = response.rfind('}')  \n",
    "        if end_index==-1:\n",
    "            response=response.strip()+'}'\n",
    "            \n",
    "        start_index = response.find('{') \n",
    "        end_index = response.find('}') \n",
    "        if start_index != -1 and end_index != -1:\n",
    "            extracted_content = response[start_index:end_index + 1]\n",
    "            try:\n",
    "                out=json.loads(extracted_content,strict=0)\n",
    "            except:\n",
    "                print('json error: ',extracted_content)\n",
    "                corrected_json=correct_json(extracted_content)\n",
    "                print('corrected:',corrected_json)\n",
    "                start_index = corrected_json.find('{')  \n",
    "                end_index = corrected_json.rfind('}')  \n",
    "                extracted_content = corrected_json[start_index:end_index + 1]\n",
    "                out=json.loads(extracted_content,strict=0)\n",
    "        else:\n",
    "            print('No json found in:',response)\n",
    "            assert 0\n",
    "    return out\n",
    "\n",
    "def get_action(bot,model,display=False):\n",
    "    message=f\"\"\"\n",
    "Now let's start the auction. Tell me how you think and the bid you would like to place. Please answer in json format with keys 'thought' and 'bid'. For example, {{\"thought\": \"xxx\",\"bid\": x}}. \n",
    "\"\"\".strip()\n",
    "#     The 'bid' should be a number.\n",
    "    res=bot.chat_wo_update(message, model=model)\n",
    "    time.sleep(1)\n",
    "    if display:\n",
    "        print('-------get action---------')\n",
    "        print(message)\n",
    "        print(res)\n",
    "    out=parse_response(res)\n",
    "    action=out['bid']\n",
    "    \n",
    "    reason=out['thought']\n",
    "    try:\n",
    "        action=float(action)\n",
    "    except:\n",
    "        print('Invalid action:',out)\n",
    "        assert 0\n",
    "    return action,reason\n"
   ]
  },
  {
   "cell_type": "code",
   "execution_count": 41,
   "metadata": {
    "ExecuteTime": {
     "end_time": "2023-12-20T02:35:00.214168Z",
     "start_time": "2023-12-20T02:25:17.619269Z"
    },
    "code_folding": [
     8
    ],
    "hidden": true,
    "scrolled": true
   },
   "outputs": [
    {
     "name": "stdout",
     "output_type": "stream",
     "text": [
      "==============value=10,sess1==============\n",
      "time: 4.838624715805054\n",
      "==============value=10,sess2==============\n",
      "time: 4.813868999481201\n",
      "==============value=10,sess3==============\n",
      "time: 4.794914484024048\n",
      "==============value=10,sess4==============\n",
      "time: 4.819051504135132\n",
      "==============value=10,sess5==============\n",
      "time: 4.93616795539856\n",
      "==============value=10,sess6==============\n",
      "time: 4.779558420181274\n",
      "==============value=10,sess7==============\n",
      "time: 4.826843023300171\n",
      "==============value=10,sess8==============\n",
      "time: 4.820796012878418\n",
      "==============value=10,sess9==============\n",
      "time: 4.754726409912109\n",
      "==============value=10,sess10==============\n",
      "time: 4.845721006393433\n",
      "==============value=20,sess1==============\n",
      "time: 5.542486667633057\n",
      "==============value=20,sess2==============\n",
      "time: 5.472866535186768\n",
      "==============value=20,sess3==============\n",
      "time: 5.48654580116272\n",
      "==============value=20,sess4==============\n",
      "time: 5.57664680480957\n",
      "==============value=20,sess5==============\n",
      "time: 5.484941482543945\n",
      "==============value=20,sess6==============\n",
      "time: 5.470313310623169\n",
      "==============value=20,sess7==============\n",
      "time: 5.48480486869812\n",
      "==============value=20,sess8==============\n",
      "time: 5.474811553955078\n",
      "==============value=20,sess9==============\n",
      "time: 5.3956451416015625\n",
      "==============value=20,sess10==============\n",
      "time: 5.368614912033081\n",
      "==============value=30,sess1==============\n",
      "time: 5.465673446655273\n",
      "==============value=30,sess2==============\n",
      "time: 5.47725248336792\n",
      "==============value=30,sess3==============\n",
      "time: 5.477276086807251\n",
      "==============value=30,sess4==============\n",
      "time: 5.473098278045654\n",
      "==============value=30,sess5==============\n",
      "time: 5.4616858959198\n",
      "==============value=30,sess6==============\n",
      "time: 5.4831531047821045\n",
      "==============value=30,sess7==============\n",
      "time: 5.4610068798065186\n",
      "==============value=30,sess8==============\n",
      "time: 5.475703954696655\n",
      "==============value=30,sess9==============\n",
      "time: 5.468247413635254\n",
      "==============value=30,sess10==============\n",
      "time: 5.491703987121582\n",
      "==============value=40,sess1==============\n",
      "time: 5.510908365249634\n",
      "==============value=40,sess2==============\n",
      "time: 5.557426929473877\n",
      "==============value=40,sess3==============\n",
      "time: 5.522977590560913\n",
      "==============value=40,sess4==============\n",
      "time: 5.529370307922363\n",
      "==============value=40,sess5==============\n",
      "time: 5.5905656814575195\n",
      "==============value=40,sess6==============\n",
      "time: 5.539386510848999\n",
      "==============value=40,sess7==============\n",
      "time: 5.578454256057739\n",
      "==============value=40,sess8==============\n",
      "time: 5.535386085510254\n",
      "==============value=40,sess9==============\n",
      "time: 5.555189609527588\n",
      "==============value=40,sess10==============\n",
      "time: 5.571653127670288\n",
      "==============value=50,sess1==============\n",
      "time: 5.529439687728882\n",
      "==============value=50,sess2==============\n",
      "time: 5.525305271148682\n",
      "==============value=50,sess3==============\n",
      "time: 5.5379180908203125\n",
      "==============value=50,sess4==============\n",
      "time: 5.539304494857788\n",
      "==============value=50,sess5==============\n",
      "time: 5.546708345413208\n",
      "==============value=50,sess6==============\n",
      "time: 5.4771387577056885\n",
      "==============value=50,sess7==============\n",
      "time: 5.5706627368927\n",
      "==============value=50,sess8==============\n",
      "time: 5.399170637130737\n",
      "==============value=50,sess9==============\n",
      "time: 5.423331022262573\n",
      "==============value=50,sess10==============\n",
      "time: 5.534716844558716\n",
      "==============value=60,sess1==============\n",
      "time: 5.545551300048828\n",
      "==============value=60,sess2==============\n",
      "time: 5.548236131668091\n",
      "==============value=60,sess3==============\n",
      "time: 5.512125253677368\n",
      "==============value=60,sess4==============\n",
      "time: 5.535348176956177\n",
      "==============value=60,sess5==============\n",
      "time: 5.525599241256714\n",
      "==============value=60,sess6==============\n",
      "time: 5.53600811958313\n",
      "==============value=60,sess7==============\n",
      "time: 5.550537347793579\n",
      "==============value=60,sess8==============\n",
      "time: 5.562108755111694\n",
      "==============value=60,sess9==============\n",
      "time: 5.560698509216309\n",
      "==============value=60,sess10==============\n",
      "time: 5.53544545173645\n",
      "==============value=70,sess1==============\n",
      "time: 5.54703426361084\n",
      "==============value=70,sess2==============\n",
      "time: 5.520853042602539\n",
      "==============value=70,sess3==============\n",
      "time: 5.5050835609436035\n",
      "==============value=70,sess4==============\n",
      "time: 5.560920715332031\n",
      "==============value=70,sess5==============\n",
      "time: 5.532512664794922\n",
      "==============value=70,sess6==============\n",
      "time: 5.552980184555054\n",
      "==============value=70,sess7==============\n",
      "time: 5.561006307601929\n",
      "==============value=70,sess8==============\n",
      "time: 5.557872533798218\n",
      "==============value=70,sess9==============\n",
      "time: 5.539311170578003\n",
      "==============value=70,sess10==============\n",
      "time: 5.582695722579956\n",
      "==============value=80,sess1==============\n",
      "time: 5.520978212356567\n",
      "==============value=80,sess2==============\n",
      "time: 5.563225984573364\n",
      "==============value=80,sess3==============\n",
      "time: 5.540511608123779\n",
      "==============value=80,sess4==============\n",
      "time: 5.569817304611206\n",
      "==============value=80,sess5==============\n",
      "time: 5.468356609344482\n",
      "==============value=80,sess6==============\n",
      "time: 5.5584492683410645\n",
      "==============value=80,sess7==============\n",
      "time: 5.542932987213135\n",
      "==============value=80,sess8==============\n",
      "time: 5.61638617515564\n",
      "==============value=80,sess9==============\n",
      "time: 5.54668402671814\n",
      "==============value=80,sess10==============\n",
      "time: 5.540886163711548\n",
      "==============value=90,sess1==============\n",
      "json error:  {\n",
      "\"thought\": \"Since my private value of the item is 90 points, I should bid a number that is higher than 90 - 10 = 80 points, to ensure that I have a chance to win the item. However, I don't want to bid too high and end up overpaying for the item. Let's see... I'll bid 85 points.\"\n",
      "\"bid\": 85\n",
      "}\n",
      "corrected: {\n",
      "\"thought\": \"Since my private value of the item is 90 points, I should bid a number that is higher than 90 - 10 = 80 points, to ensure that I have a chance to win the item. However, I don't want to bid too high and end up overpaying for the item. Let's see... I'll bid 85 points.\",\n",
      "\"bid\": 85\n",
      "}\n",
      "time: 9.1772141456604\n",
      "==============value=90,sess2==============\n",
      "json error:  {\n",
      "\"thought\": \"Since my private value of the item is 90 points, I should bid a number that is higher than 90 - 10 = 80 points, to ensure that I have a chance to win the item. However, I don't want to bid too high and end up overpaying for the item. Let's see... I'll bid 85 points.\"\n",
      "\"bid\": 85\n",
      "}\n",
      "corrected: {\n",
      "\"thought\": \"Since my private value of the item is 90 points, I should bid a number that is higher than 90 - 10 = 80 points, to ensure that I have a chance to win the item. However, I don't want to bid too high and end up overpaying for the item. Let's see... I'll bid 85 points.\",\n",
      "\"bid\": 85\n",
      "}\n",
      "time: 9.079846620559692\n",
      "==============value=90,sess3==============\n",
      "json error:  {\n",
      "\"thought\": \"Since my private value of the item is 90 points, I should bid a number that is higher than 90 - 10 = 80 points, to ensure that I have a chance to win the item. However, I don't want to bid too high and end up overpaying for the item. Let's see... I'll bid 85 points.\"\n",
      "\"bid\": 85\n",
      "}\n",
      "corrected: {\n",
      "\"thought\": \"Since my private value of the item is 90 points, I should bid a number that is higher than 90 - 10 = 80 points, to ensure that I have a chance to win the item. However, I don't want to bid too high and end up overpaying for the item. Let's see... I'll bid 85 points.\",\n",
      "\"bid\": 85\n",
      "}\n",
      "time: 9.216462850570679\n",
      "==============value=90,sess4==============\n",
      "json error:  {\n",
      "\"thought\": \"Since my private value of the item is 90 points, I should bid a number that is higher than 90 - 10 = 80 points, to ensure that I have a chance to win the item. However, I don't want to bid too high and end up overpaying for the item. Let's see... I'll bid 85 points.\"\n",
      "\"bid\": 85\n",
      "}\n",
      "corrected: {\n",
      "\"thought\": \"Since my private value of the item is 90 points, I should bid a number that is higher than 90 - 10 = 80 points, to ensure that I have a chance to win the item. However, I don't want to bid too high and end up overpaying for the item. Let's see... I'll bid 85 points.\",\n",
      "\"bid\": 85\n",
      "}\n",
      "time: 8.94675064086914\n",
      "==============value=90,sess5==============\n",
      "json error:  {\n",
      "\"thought\": \"Since my private value of the item is 90 points, I should bid a number that is higher than 90 - 10 = 80 points, to ensure that I have a chance to win the item. However, I don't want to bid too high and end up overpaying for the item. Let's see... I'll bid 85 points.\"\n",
      "\"bid\": 85\n",
      "}\n"
     ]
    },
    {
     "name": "stdout",
     "output_type": "stream",
     "text": [
      "corrected: {\n",
      "\"thought\": \"Since my private value of the item is 90 points, I should bid a number that is higher than 90 - 10 = 80 points, to ensure that I have a chance to win the item. However, I don't want to bid too high and end up overpaying for the item. Let's see... I'll bid 85 points.\",\n",
      "\"bid\": 85\n",
      "}\n",
      "time: 9.223864316940308\n",
      "==============value=90,sess6==============\n",
      "json error:  {\n",
      "\"thought\": \"Since my private value of the item is 90 points, I should bid a number that is higher than 90 - 10 = 80 points, to ensure that I have a chance to win the item. However, I don't want to bid too high and end up overpaying for the item. Let's see... I'll bid 85 points.\"\n",
      "\"bid\": 85\n",
      "}\n",
      "corrected: {\n",
      "\"thought\": \"Since my private value of the item is 90 points, I should bid a number that is higher than 90 - 10 = 80 points, to ensure that I have a chance to win the item. However, I don't want to bid too high and end up overpaying for the item. Let's see... I'll bid 85 points.\",\n",
      "\"bid\": 85\n",
      "}\n",
      "time: 8.653895854949951\n",
      "==============value=90,sess7==============\n",
      "json error:  {\n",
      "\"thought\": \"Since my private value of the item is 90 points, I should bid a number that is higher than 90 - 10 = 80 points, to ensure that I have a chance to win the item. However, I don't want to bid too high and end up overpaying for the item. Let's see... I'll bid 85 points.\"\n",
      "\"bid\": 85\n",
      "}\n",
      "corrected: {\n",
      "\"thought\": \"Since my private value of the item is 90 points, I should bid a number that is higher than 90 - 10 = 80 points, to ensure that I have a chance to win the item. However, I don't want to bid too high and end up overpaying for the item. Let's see... I'll bid 85 points.\",\n",
      "\"bid\": 85\n",
      "}\n",
      "time: 8.969889879226685\n",
      "==============value=90,sess8==============\n",
      "json error:  {\n",
      "\"thought\": \"Since my private value of the item is 90 points, I should bid a number that is higher than 90 - 10 = 80 points, to ensure that I have a chance to win the item. However, I don't want to bid too high and end up overpaying for the item. Let's see... I'll bid 85 points.\"\n",
      "\"bid\": 85\n",
      "}\n",
      "corrected: {\n",
      "\"thought\": \"Since my private value of the item is 90 points, I should bid a number that is higher than 90 - 10 = 80 points, to ensure that I have a chance to win the item. However, I don't want to bid too high and end up overpaying for the item. Let's see... I'll bid 85 points.\",\n",
      "\"bid\": 85\n",
      "}\n",
      "time: 8.75008249282837\n",
      "==============value=90,sess9==============\n",
      "json error:  {\n",
      "\"thought\": \"Since my private value of the item is 90 points, I should bid a number that is higher than 90 - 10 = 80 points, to ensure that I have a chance to win the item. However, I don't want to bid too high and end up overpaying for the item. Let's see... I'll bid 85 points.\"\n",
      "\"bid\": 85\n",
      "}\n",
      "corrected: {\n",
      "\"thought\": \"Since my private value of the item is 90 points, I should bid a number that is higher than 90 - 10 = 80 points, to ensure that I have a chance to win the item. However, I don't want to bid too high and end up overpaying for the item. Let's see... I'll bid 85 points.\",\n",
      "\"bid\": 85\n",
      "}\n",
      "time: 9.23066759109497\n",
      "==============value=90,sess10==============\n",
      "json error:  {\n",
      "\"thought\": \"Since my private value of the item is 90 points, I should bid a number that is higher than 90 - 10 = 80 points, to ensure that I have a chance to win the item. However, I don't want to bid too high and end up overpaying for the item. Let's see... I'll bid 85 points.\"\n",
      "\"bid\": 85\n",
      "}\n",
      "corrected: {\n",
      "\"thought\": \"Since my private value of the item is 90 points, I should bid a number that is higher than 90 - 10 = 80 points, to ensure that I have a chance to win the item. However, I don't want to bid too high and end up overpaying for the item. Let's see... I'll bid 85 points.\",\n",
      "\"bid\": 85\n",
      "}\n",
      "time: 8.989733695983887\n",
      "==============value=100,sess1==============\n",
      "time: 5.771837949752808\n",
      "==============value=100,sess2==============\n",
      "time: 5.603308916091919\n",
      "==============value=100,sess3==============\n",
      "time: 5.627202033996582\n",
      "==============value=100,sess4==============\n",
      "time: 5.6153435707092285\n",
      "==============value=100,sess5==============\n",
      "time: 5.7642223834991455\n",
      "==============value=100,sess6==============\n",
      "time: 5.789693117141724\n",
      "==============value=100,sess7==============\n",
      "time: 5.796311378479004\n",
      "==============value=100,sess8==============\n",
      "time: 6.0453972816467285\n",
      "==============value=100,sess9==============\n",
      "time: 5.806674957275391\n",
      "==============value=100,sess10==============\n",
      "time: 5.8001320362091064\n"
     ]
    }
   ],
   "source": [
    "nsess=10\n",
    "\n",
    "expname='llama13b'\n",
    "\n",
    "max_try=50\n",
    "display_result=0\n",
    "\n",
    "system_message_0 = \"\"\"\n",
    "Please act as a human bidder in an auction. You are participating in an auction with another bidder. There is only one item, and your private value of the item is {} points. You do not know the private value of the other bidder. \n",
    "You and the other bidder will simultaneously place a bid (can be 0 or any positive number). The bidder who places the higher bid will get the item (the other will not), and only need to pay a number of points equaling to the second-highest bid among all the bids.\n",
    "If you get the item, your payoff is calculated as: payoff = your value of the item – the number of points you pay\n",
    "If you do not get the item, your payoff is zero.\n",
    "Your goal is to maximize your own payoff. You should first think carefully about what to do, and then make a decision.\n",
    "\"\"\".strip()\n",
    "\n",
    "for value in range(10,101,10):\n",
    "    system_message=system_message_0.format(value)\n",
    "    \n",
    "    for sess in range(1,1+nsess):\n",
    "        print(f'==============value={value},sess{sess}==============')\n",
    "\n",
    "        recordfile=os.path.join(filepath,f'records_{expname}_value{value}_sess{sess}.pkl')\n",
    "        if os.path.exists(recordfile):\n",
    "            with open(recordfile, 'rb') as f:\n",
    "                records = pickle.load(f)\n",
    "            print('existed!')\n",
    "            continue\n",
    "\n",
    "        starttime=time.time()\n",
    "        for _ in range(max_try):\n",
    "            try:\n",
    "                bot=ChatApp(system_message=system_message)\n",
    "                action,reason=get_action(bot,model=model,display=display_result)\n",
    "                records=[{'action':action,'reason':reason}]\n",
    "                print('time:',time.time()-starttime)\n",
    "                # save file\n",
    "                recordfile=os.path.join(filepath,f'records_{expname}_value{value}_sess{sess}.pkl')\n",
    "                with open(recordfile, 'wb') as f:\n",
    "                    pickle.dump(records, f)\n",
    "                break\n",
    "            except Exception as e:\n",
    "                print(e)\n",
    "                print('error!sleep 30s...')\n",
    "                time.sleep(30)\n",
    "       "
   ]
  },
  {
   "cell_type": "code",
   "execution_count": 42,
   "metadata": {
    "ExecuteTime": {
     "end_time": "2023-12-20T02:39:31.462192Z",
     "start_time": "2023-12-20T02:39:31.437731Z"
    },
    "hidden": true
   },
   "outputs": [
    {
     "name": "stdout",
     "output_type": "stream",
     "text": [
      "100 0.21692460317460316\n"
     ]
    },
    {
     "data": {
      "text/plain": [
       "0.21692460317460316"
      ]
     },
     "execution_count": 42,
     "metadata": {},
     "output_type": "execute_result"
    }
   ],
   "source": [
    "# calculate payoffdeviation from NE\n",
    "nsess=10\n",
    "nround=10\n",
    "round=nround\n",
    "\n",
    "result=[]\n",
    "for value in range(10,101,10):\n",
    "    for sess in range(1,nsess+1):\n",
    "        recordfile=os.path.join(filepath,f'records_{expname}_value{value}_sess{sess}.pkl')\n",
    "        with open(recordfile, 'rb') as f:\n",
    "            records= pickle.load(f)\n",
    "        for record in records:\n",
    "            tmp=record['action']\n",
    "#             print(tmp)\n",
    "            result.append(abs(tmp-value)/value)\n",
    "        \n",
    "print(len(result),np.mean(result))\n",
    "dev=np.mean(result)\n",
    "dev"
   ]
  },
  {
   "cell_type": "code",
   "execution_count": null,
   "metadata": {
    "hidden": true
   },
   "outputs": [],
   "source": []
  },
  {
   "cell_type": "markdown",
   "metadata": {
    "heading_collapsed": true
   },
   "source": [
    "## 2. Beauty contest"
   ]
  },
  {
   "cell_type": "code",
   "execution_count": 5,
   "metadata": {
    "ExecuteTime": {
     "end_time": "2023-12-20T02:46:43.456660Z",
     "start_time": "2023-12-20T02:46:43.450661Z"
    },
    "hidden": true
   },
   "outputs": [
    {
     "name": "stdout",
     "output_type": "stream",
     "text": [
      "Please act as a human player. You are playing a game with another human player (called the opponent) for only one round. You and the opponent will simultaneously choose a number between 0 and 30 (including 0 and 30). The winner is the player whose number is closest to two thirds of the average of all chosen numbers. The winner will earn 100 points, and the other player will earn nothing. If there is a tie, both players will earn 50 points.\n",
      "Your goal is to maximize your own earnings. You should first think carefully about what to do, and then make a decision.\n"
     ]
    }
   ],
   "source": [
    "max_number=30\n",
    "\n",
    "system_message = f\"\"\"\n",
    "Please act as a human player. You are playing a game with another human player (called the opponent) for only one round. You and the opponent will simultaneously choose a number between 0 and {max_number} (including 0 and {max_number}). The winner is the player whose number is closest to two thirds of the average of all chosen numbers. The winner will earn 100 points, and the other player will earn nothing. If there is a tie, both players will earn 50 points.\n",
    "Your goal is to maximize your own earnings. You should first think carefully about what to do, and then make a decision.\n",
    "\"\"\".strip()\n",
    "\n",
    "print(system_message)"
   ]
  },
  {
   "cell_type": "code",
   "execution_count": 6,
   "metadata": {
    "ExecuteTime": {
     "end_time": "2023-12-20T02:46:45.172322Z",
     "start_time": "2023-12-20T02:46:45.164665Z"
    },
    "hidden": true
   },
   "outputs": [],
   "source": [
    "def correct_json(s):\n",
    "    prompt=f\"\"\"\n",
    "The following string delimited by triple backticks is in json format, but there are some mistakes, and I cannot directly convert it to json by json.loads(). For example, there may be missing comma or quotes. Please help me correct the mistakes, and output the string in valid json format. Please only output the corrected string, and do not output any other things.\n",
    "```\n",
    "{s}\n",
    "```\n",
    "    \"\"\".strip()\n",
    "    response = get_completion(prompt,model=model)\n",
    "    return response\n",
    "s=\"\"\"{\n",
    "  \"thought\": \"aaa\"\n",
    "  \"action\": J\n",
    "}\"\"\"\n",
    "# print(correct_json(s))\n",
    "\n",
    "\n",
    "summarize_action=f\"\"\"Given the following paragraph delimited by triple backticks:\n",
    "```\n",
    "<out>\n",
    "```\n",
    "Please summarize how he thought, and the number he chose in the first person from above paragraph in json format with keys 'thought' and 'number'. The 'number' should be between 0 and 100 (including 0 and 100).\n",
    "\"\"\".strip()"
   ]
  },
  {
   "cell_type": "code",
   "execution_count": 7,
   "metadata": {
    "ExecuteTime": {
     "end_time": "2023-12-20T02:46:45.649206Z",
     "start_time": "2023-12-20T02:46:45.628375Z"
    },
    "code_folding": [],
    "hidden": true
   },
   "outputs": [],
   "source": [
    "def parse_response(response): # return a json\n",
    "    response = response.replace('Action','action')\n",
    "    response = response.replace('Thought','thought')\n",
    "    try:\n",
    "        out=json.loads(response,strict=0)\n",
    "    except:\n",
    "        start_index = response.find('{')  # 查找第一个'{'的索引\n",
    "        end_index = response.rfind('}')  # 查找最后一个'}'的索引\n",
    "        if end_index==-1:\n",
    "            response=response.strip()+'}'\n",
    "            \n",
    "        start_index = response.find('{')  # 查找第一个'{'的索引\n",
    "        end_index = response.rfind('}')  # 查找最后一个'}'的索引\n",
    "        if start_index != -1 and end_index != -1:\n",
    "            extracted_content = response[start_index:end_index + 1]\n",
    "            try:\n",
    "                out=json.loads(extracted_content,strict=0)\n",
    "            except:\n",
    "                print('json error: ',extracted_content)\n",
    "                corrected_json=correct_json(extracted_content)\n",
    "                print('corrected:',corrected_json)\n",
    "                start_index = corrected_json.find('{')  # 查找第一个'{'的索引\n",
    "                end_index = corrected_json.rfind('}')  # 查找最后一个'}'的索引\n",
    "                extracted_content = corrected_json[start_index:end_index + 1]\n",
    "                out=json.loads(extracted_content,strict=0)\n",
    "        else:\n",
    "            prompt=summarize_action.replace('<out>',response)\n",
    "            out=gpt_completion(prompt)\n",
    "            out=json.loads(out)\n",
    "#             print('No json found in:',response)\n",
    "#             assert 0\n",
    "    return out\n",
    "\n",
    "\n",
    "def get_action(bot,model,display=False):\n",
    "    message=f\"\"\"\n",
    "Now let's start the game. Tell me how you think and the number you would like to choose. Please answer in json format with keys 'thought' and 'number'. The 'number' should be between 0 and {max_number} (including 0 and {max_number}).\n",
    "\"\"\".strip()\n",
    "#     message=f\"\"\"\n",
    "# Now let's start the game. Tell me how you think and the number you would like to choose.\n",
    "# \"\"\".strip()\n",
    "    res=bot.chat_wo_update(message, model=model)\n",
    "    time.sleep(1)\n",
    "    if display:\n",
    "        print('-------get action---------')\n",
    "        print(message)\n",
    "        print(res)\n",
    "    out=parse_response(res)\n",
    "    action=out['number']\n",
    "    \n",
    "    reason=out['thought']\n",
    "    try:\n",
    "        action=float(action)\n",
    "    except:\n",
    "        print('Invalid action:',out)\n",
    "        assert 0\n",
    "    return action,reason\n"
   ]
  },
  {
   "cell_type": "code",
   "execution_count": null,
   "metadata": {
    "hidden": true
   },
   "outputs": [],
   "source": [
    "nsess=10\n",
    "\n",
    "expname='llama13b'\n",
    "\n",
    "max_try=50\n",
    "display_result=0\n",
    "\n",
    "system_message_0 = \"\"\"\n",
    "Please act as a human player. You are playing a game with another human player (called the opponent) for only one round. You and the opponent will simultaneously choose a number between 0 and {} (including 0 and {}). The winner is the player whose number is closest to two thirds of the average of all chosen numbers. The winner will earn 100 points, and the other player will earn nothing. If there is a tie, both players will earn 50 points.\n",
    "Your goal is to maximize your own earnings. You should first think carefully about what to do, and then make a decision.\n",
    "\"\"\".strip()\n",
    "for max_number in range(10,101,10):\n",
    "    system_message=system_message_0.format(max_number,max_number)\n",
    "#     print(system_message)\n",
    "    \n",
    "    for sess in range(1,1+nsess):\n",
    "        print(f'==============max_number={max_number},sess{sess}==============')\n",
    "\n",
    "        recordfile=os.path.join(filepath,f'records_{expname}_max{max_number}_sess{sess}.pkl')\n",
    "        if os.path.exists(recordfile):\n",
    "            with open(recordfile, 'rb') as f:\n",
    "                records = pickle.load(f)\n",
    "            print('existed!')\n",
    "            continue\n",
    "\n",
    "        starttime=time.time()\n",
    "        for _ in range(max_try):\n",
    "            try:\n",
    "                bot=ChatApp(system_message=system_message)\n",
    "                action,reason=get_action(bot,model=model,display=display_result)\n",
    "                records=[{'action':action,'reason':reason}]\n",
    "                print('time:',time.time()-starttime)\n",
    "                # save file\n",
    "                recordfile=os.path.join(filepath,f'records_{expname}_max{max_number}_sess{sess}.pkl')\n",
    "                with open(recordfile, 'wb') as f:\n",
    "                    pickle.dump(records, f)\n",
    "                break\n",
    "            except Exception as e:\n",
    "                print(e)\n",
    "                print('error!sleep 30s...')\n",
    "                time.sleep(30)   \n",
    "       "
   ]
  },
  {
   "cell_type": "code",
   "execution_count": null,
   "metadata": {
    "hidden": true
   },
   "outputs": [],
   "source": [
    "# payoffdeviation from NE\n",
    "nsess=10\n",
    "nround=10\n",
    "round=nround\n",
    "\n",
    "\n",
    "result=[]\n",
    "for max_number in range(10,101,10):\n",
    "    for sess in range(1,nsess+1):\n",
    "        recordfile=os.path.join(filepath,f'records_{expname}_max{max_number}_sess{sess}.pkl')\n",
    "        with open(recordfile, 'rb') as f:\n",
    "            records= pickle.load(f)\n",
    "        for record in records:\n",
    "            tmp=record['action']\n",
    "#             print(tmp)\n",
    "            result.append(tmp/max_number)\n",
    "        \n",
    "print(len(result),np.mean(result))\n",
    "dev=np.mean(result)\n",
    "dev"
   ]
  },
  {
   "cell_type": "code",
   "execution_count": null,
   "metadata": {
    "hidden": true
   },
   "outputs": [],
   "source": []
  },
  {
   "cell_type": "markdown",
   "metadata": {
    "heading_collapsed": true
   },
   "source": [
    "## 3. One-shot prisoner’s dilemma"
   ]
  },
  {
   "cell_type": "code",
   "execution_count": 46,
   "metadata": {
    "ExecuteTime": {
     "end_time": "2023-12-18T15:32:00.740700Z",
     "start_time": "2023-12-18T15:32:00.735730Z"
    },
    "hidden": true
   },
   "outputs": [
    {
     "name": "stdout",
     "output_type": "stream",
     "text": [
      "Please act as a human player. You are playing a game with another human player (called the opponent) for only one round. You and the opponent will simultaneously choose an action between F and J.\n",
      "If you choose J and the opponent chooses J, you earn 40 points and the opponent earns 40 points.\n",
      "If you choose J and the opponent chooses F, you earn 12 points and the opponent earns 50 points.\n",
      "If you choose F and the opponent chooses J, you earn 50 points and the opponent earns 12 points.\n",
      "If you choose F and the opponent chooses F, you earn 25 points and the opponent earns 25 points.\n",
      "Your goal is to maximize your own earnings. You should first think carefully about what to do, and then choose one of the two actions: F or J.\n"
     ]
    }
   ],
   "source": [
    "system_message = \"\"\"\n",
    "Please act as a human player. You are playing a game with another human player (called the opponent) for only one round. You and the opponent will simultaneously choose an action between F and J.\n",
    "{payoff_str}\n",
    "Your goal is to maximize your own earnings. You should first think carefully about what to do, and then choose one of the two actions: F or J.\n",
    "\"\"\".strip()\n",
    "\n",
    "\n",
    "aa=f'If you choose J and the opponent chooses J, you earn 40 points and the opponent earns 40 points.'\n",
    "ab=f'If you choose J and the opponent chooses F, you earn 12 points and the opponent earns 50 points.'\n",
    "ba=f'If you choose F and the opponent chooses J, you earn 50 points and the opponent earns 12 points.'\n",
    "bb=f'If you choose F and the opponent chooses F, you earn 25 points and the opponent earns 25 points.'\n",
    "payoff=[aa,ab,ba,bb]\n",
    "payoff_str=payoff[0]+'\\n'+payoff[1]+'\\n'+payoff[2]+'\\n'+payoff[3]\n",
    "\n",
    "tmp_system_message=system_message.format(payoff_str=payoff_str)\n",
    "print(tmp_system_message)"
   ]
  },
  {
   "cell_type": "code",
   "execution_count": 47,
   "metadata": {
    "ExecuteTime": {
     "end_time": "2023-12-18T15:32:02.001672Z",
     "start_time": "2023-12-18T15:32:01.989215Z"
    },
    "hidden": true
   },
   "outputs": [],
   "source": [
    "def correct_json(s):\n",
    "    tmp=s.split('\"')\n",
    "    newlist=[]\n",
    "    for x in tmp:\n",
    "        striped=x.strip()\n",
    "        if striped=='': # 缺少逗号\n",
    "            newlist.append(',')\n",
    "        elif striped[0]==':' and striped!=':':\n",
    "            newlist.extend([':',striped[1:-1].strip(),'}'])\n",
    "        else:\n",
    "            newlist.append(striped)\n",
    "    newstr='\"'.join(newlist)\n",
    "    try:\n",
    "        a=json.loads(newstr)\n",
    "    except:\n",
    "        prompt=f\"\"\"\n",
    "The following string delimited by triple backticks is in json format, but there are some mistakes, and I cannot directly convert it to json by json.loads(). For example, there may be missing comma or quotes. Please help me correct the mistakes, and output the string in valid json format. Please only output the corrected string, and do not output any other things.\n",
    "```\n",
    "{s}\n",
    "```\n",
    "        \"\"\".strip()\n",
    "        response = gpt_completion(prompt)\n",
    "        return response\n",
    "    return newstr\n",
    "\n",
    "s=\"\"\"{\n",
    "  \"thought\": \"aaa\"\n",
    "  \"action\": J\n",
    "}\"\"\"\n",
    "# print(correct_json(s))\n",
    "\n",
    "summarize_action=f\"\"\"Given the following paragraph delimited by triple backticks:\n",
    "```\n",
    "<out>\n",
    "```\n",
    "Please summarize how he thought and the action he choose (F or J) in the first person from above paragraph in json format with keys 'thought' and 'action'. The 'action' should be F or J.\n",
    "\"\"\".strip()"
   ]
  },
  {
   "cell_type": "code",
   "execution_count": 48,
   "metadata": {
    "ExecuteTime": {
     "end_time": "2023-12-18T15:32:02.814109Z",
     "start_time": "2023-12-18T15:32:02.788154Z"
    },
    "code_folding": [
     0
    ],
    "hidden": true
   },
   "outputs": [],
   "source": [
    "def parse_response(response): # return a json\n",
    "    response = response.replace('Action','action')\n",
    "    response = response.replace('Thought','thought')\n",
    "    try:\n",
    "        out=json.loads(response,strict=0)\n",
    "    except:\n",
    "        start_index = response.find('{')  # 查找第一个'{'的索引\n",
    "        end_index = response.rfind('}')  # 查找最后一个'}'的索引\n",
    "        if end_index==-1:\n",
    "            response=response.strip()+'}'\n",
    "            \n",
    "        start_index = response.find('{')  # 查找第一个'{'的索引\n",
    "        end_index = response.rfind('}')  # 查找最后一个'}'的索引\n",
    "        if start_index != -1 and end_index != -1:\n",
    "            extracted_content = response[start_index:end_index + 1]\n",
    "            try:\n",
    "                out=json.loads(extracted_content,strict=0)\n",
    "            except:\n",
    "                print('json error: ',extracted_content)\n",
    "                corrected_json=correct_json(extracted_content)\n",
    "                print('corrected:',corrected_json)\n",
    "                start_index = corrected_json.find('{')  # 查找第一个'{'的索引\n",
    "                end_index = corrected_json.rfind('}')  # 查找最后一个'}'的索引\n",
    "                extracted_content = corrected_json[start_index:end_index + 1]\n",
    "                out=json.loads(extracted_content,strict=0)\n",
    "        else:\n",
    "            print('No json found in:',response)\n",
    "            prompt=summarize_action.replace('<out>',response)\n",
    "            out=gpt_completion(prompt)\n",
    "            print('Summarize json:',out)\n",
    "            out=json.loads(out,strict=0)\n",
    "    return out\n",
    "\n",
    "def get_action(bot,model,display=False):\n",
    "    message=f\"\"\"\n",
    "Now let's start the game. Tell me how you think and the action you would like to choose. Please answer in json format with keys 'thought' and 'action'. For example, {{\"thought\": \"xxx\",\"action\": x}}. The 'action' should be F or J. \n",
    "\"\"\".strip()\n",
    "#     For example, {{\"thought\": \"xxx\",\"action\": x}}. The 'action' should be F or J. \n",
    "#     message=f\"\"\"\n",
    "# Now let's start the game. Tell me how you think and the action you would like to choose.\n",
    "# \"\"\".strip()\n",
    "    res=bot.chat_wo_update(message, model=model)\n",
    "    time.sleep(1)\n",
    "    if display:\n",
    "        print('-------get action---------')\n",
    "        print(message)\n",
    "        print(res)\n",
    "    out=parse_response(res)\n",
    "    try:\n",
    "        action=out['action']\n",
    "        reason=out['thought']\n",
    "    except:\n",
    "        print('key error:',res)\n",
    "        prompt=summarize_action.replace('<out>',res)\n",
    "        out=gpt_completion(prompt)\n",
    "        out=parse_response(out)\n",
    "        print('corrected:',out)\n",
    "        action=out['action']\n",
    "        reason=out['thought']\n",
    "        \n",
    "    try:\n",
    "        assert action in ['F','J']\n",
    "    except:\n",
    "        print('Invalid action:',out)\n",
    "        assert 0\n",
    "    return action,reason\n"
   ]
  },
  {
   "cell_type": "code",
   "execution_count": 52,
   "metadata": {
    "ExecuteTime": {
     "end_time": "2023-12-18T15:50:29.205403Z",
     "start_time": "2023-12-18T15:46:05.836908Z"
    },
    "code_folding": [
     59
    ],
    "hidden": true,
    "scrolled": true
   },
   "outputs": [
    {
     "name": "stdout",
     "output_type": "stream",
     "text": [
      "==============sess1==============\n"
     ]
    },
    {
     "name": "stderr",
     "output_type": "stream",
     "text": [
      "100%|████████████████████████████████████████████████████████████████████████████████████████████████████████████| 2/2 [00:04<00:00,  2.46s/it]\n"
     ]
    },
    {
     "name": "stdout",
     "output_type": "stream",
     "text": [
      "time: 4.922423362731934\n",
      "==============sess2==============\n"
     ]
    },
    {
     "name": "stderr",
     "output_type": "stream",
     "text": [
      "100%|████████████████████████████████████████████████████████████████████████████████████████████████████████████| 2/2 [00:07<00:00,  3.68s/it]\n"
     ]
    },
    {
     "name": "stdout",
     "output_type": "stream",
     "text": [
      "json error:  {\n",
      "\"thought\": \"I will choose the action that has the highest expected value. Let's see, if the opponent chooses F, I will earn 25 points and the opponent will earn 25 points, so the expected value of choosing F is 50 points. If the opponent chooses J, I will earn 40 points and the opponent will earn 40 points, so the expected value of choosing J is also 50 points. Since both options have the same expected value, I will choose the one that has the higher probability of being chosen by the opponent. Based on the game's rules, the opponent is more likely to choose F than J, so I will choose J.\"\n",
      "\"action\": \"J\"}\n",
      "corrected: {\"thought\":\"I will choose the action that has the highest expected value. Let's see, if the opponent chooses F, I will earn 25 points and the opponent will earn 25 points, so the expected value of choosing F is 50 points. If the opponent chooses J, I will earn 40 points and the opponent will earn 40 points, so the expected value of choosing J is also 50 points. Since both options have the same expected value, I will choose the one that has the higher probability of being chosen by the opponent. Based on the game's rules, the opponent is more likely to choose F than J, so I will choose J.\",\"action\":\"J\"}\n",
      "time: 7.371484041213989\n",
      "==============sess3==============\n"
     ]
    },
    {
     "name": "stderr",
     "output_type": "stream",
     "text": [
      "100%|████████████████████████████████████████████████████████████████████████████████████████████████████████████| 2/2 [00:04<00:00,  2.47s/it]\n"
     ]
    },
    {
     "name": "stdout",
     "output_type": "stream",
     "text": [
      "time: 4.941057443618774\n",
      "==============sess4==============\n"
     ]
    },
    {
     "name": "stderr",
     "output_type": "stream",
     "text": [
      " 50%|██████████████████████████████████████████████████████                                                      | 1/2 [00:04<00:04,  4.96s/it]"
     ]
    },
    {
     "name": "stdout",
     "output_type": "stream",
     "text": [
      "json error:  {\n",
      "\"thought\": \"I will choose the action that has the highest expected value. Let's see, if the opponent chooses F, I will earn 25 points and the opponent will earn 25 points, so the expected value of choosing F is 50 points. If the opponent chooses J, I will earn 40 points and the opponent will earn 40 points, so the expected value of choosing J is also 50 points. Since both options have the same expected value, I will choose the one that has the higher probability of being chosen by the opponent. Based on the game's rules, the opponent is more likely to choose F than J, so I will choose J.\"\n",
      "\"action\": \"J\"}\n",
      "corrected: {\"thought\":\"I will choose the action that has the highest expected value. Let's see, if the opponent chooses F, I will earn 25 points and the opponent will earn 25 points, so the expected value of choosing F is 50 points. If the opponent chooses J, I will earn 40 points and the opponent will earn 40 points, so the expected value of choosing J is also 50 points. Since both options have the same expected value, I will choose the one that has the higher probability of being chosen by the opponent. Based on the game's rules, the opponent is more likely to choose F than J, so I will choose J.\",\"action\":\"J\"}\n"
     ]
    },
    {
     "name": "stderr",
     "output_type": "stream",
     "text": [
      "100%|████████████████████████████████████████████████████████████████████████████████████████████████████████████| 2/2 [00:08<00:00,  4.50s/it]\n"
     ]
    },
    {
     "name": "stdout",
     "output_type": "stream",
     "text": [
      "time: 9.003693342208862\n",
      "==============sess5==============\n"
     ]
    },
    {
     "name": "stderr",
     "output_type": "stream",
     "text": [
      "100%|████████████████████████████████████████████████████████████████████████████████████████████████████████████| 2/2 [00:04<00:00,  2.42s/it]\n"
     ]
    },
    {
     "name": "stdout",
     "output_type": "stream",
     "text": [
      "time: 4.854289531707764\n",
      "==============sess6==============\n"
     ]
    },
    {
     "name": "stderr",
     "output_type": "stream",
     "text": [
      "100%|████████████████████████████████████████████████████████████████████████████████████████████████████████████| 2/2 [00:05<00:00,  2.66s/it]\n"
     ]
    },
    {
     "name": "stdout",
     "output_type": "stream",
     "text": [
      "time: 5.336205005645752\n",
      "==============sess7==============\n"
     ]
    },
    {
     "name": "stderr",
     "output_type": "stream",
     "text": [
      "100%|████████████████████████████████████████████████████████████████████████████████████████████████████████████| 2/2 [00:04<00:00,  2.25s/it]\n"
     ]
    },
    {
     "name": "stdout",
     "output_type": "stream",
     "text": [
      "time: 4.504450798034668\n",
      "==============sess8==============\n"
     ]
    },
    {
     "name": "stderr",
     "output_type": "stream",
     "text": [
      "100%|████████████████████████████████████████████████████████████████████████████████████████████████████████████| 2/2 [00:06<00:00,  3.13s/it]\n"
     ]
    },
    {
     "name": "stdout",
     "output_type": "stream",
     "text": [
      "time: 6.271432161331177\n",
      "==============sess9==============\n"
     ]
    },
    {
     "name": "stderr",
     "output_type": "stream",
     "text": [
      "100%|████████████████████████████████████████████████████████████████████████████████████████████████████████████| 2/2 [00:05<00:00,  2.86s/it]\n"
     ]
    },
    {
     "name": "stdout",
     "output_type": "stream",
     "text": [
      "time: 5.727107286453247\n",
      "==============sess10==============\n"
     ]
    },
    {
     "name": "stderr",
     "output_type": "stream",
     "text": [
      "100%|████████████████████████████████████████████████████████████████████████████████████████████████████████████| 2/2 [00:06<00:00,  3.17s/it]\n"
     ]
    },
    {
     "name": "stdout",
     "output_type": "stream",
     "text": [
      "time: 6.336090803146362\n",
      "==============sess11==============\n"
     ]
    },
    {
     "name": "stderr",
     "output_type": "stream",
     "text": [
      "100%|████████████████████████████████████████████████████████████████████████████████████████████████████████████| 2/2 [00:04<00:00,  2.23s/it]\n"
     ]
    },
    {
     "name": "stdout",
     "output_type": "stream",
     "text": [
      "time: 4.468461751937866\n",
      "==============sess12==============\n"
     ]
    },
    {
     "name": "stderr",
     "output_type": "stream",
     "text": [
      "100%|████████████████████████████████████████████████████████████████████████████████████████████████████████████| 2/2 [00:06<00:00,  3.40s/it]\n"
     ]
    },
    {
     "name": "stdout",
     "output_type": "stream",
     "text": [
      "json error:  {\n",
      "\"thought\": \"I will choose the action that has the highest expected value. Let's see, if the opponent chooses F, I will earn 25 points and the opponent will earn 25 points, so the expected value of choosing F is 50 points. If the opponent chooses J, I will earn 12 points and the opponent will earn 50 points, so the expected value of choosing J is also 50 points. Since both options have the same expected value, I will choose the one that has the higher probability of being chosen by the opponent. Based on the game's structure, the opponent is more likely to choose F than J, so I will choose J.\"\n",
      "\"action\": \"J\"}\n",
      "corrected: {\"thought\":\"I will choose the action that has the highest expected value. Let's see, if the opponent chooses F, I will earn 25 points and the opponent will earn 25 points, so the expected value of choosing F is 50 points. If the opponent chooses J, I will earn 12 points and the opponent will earn 50 points, so the expected value of choosing J is also 50 points. Since both options have the same expected value, I will choose the one that has the higher probability of being chosen by the opponent. Based on the game's structure, the opponent is more likely to choose F than J, so I will choose J.\",\"action\":\"J\"}\n",
      "time: 6.805636644363403\n",
      "==============sess13==============\n"
     ]
    },
    {
     "name": "stderr",
     "output_type": "stream",
     "text": [
      "100%|████████████████████████████████████████████████████████████████████████████████████████████████████████████| 2/2 [00:04<00:00,  2.18s/it]\n"
     ]
    },
    {
     "name": "stdout",
     "output_type": "stream",
     "text": [
      "time: 4.359886169433594\n",
      "==============sess14==============\n"
     ]
    },
    {
     "name": "stderr",
     "output_type": "stream",
     "text": [
      "100%|████████████████████████████████████████████████████████████████████████████████████████████████████████████| 2/2 [00:04<00:00,  2.13s/it]\n"
     ]
    },
    {
     "name": "stdout",
     "output_type": "stream",
     "text": [
      "time: 4.269254684448242\n",
      "==============sess15==============\n"
     ]
    },
    {
     "name": "stderr",
     "output_type": "stream",
     "text": [
      "100%|████████████████████████████████████████████████████████████████████████████████████████████████████████████| 2/2 [00:04<00:00,  2.28s/it]\n"
     ]
    },
    {
     "name": "stdout",
     "output_type": "stream",
     "text": [
      "time: 4.555572271347046\n",
      "==============sess16==============\n"
     ]
    },
    {
     "name": "stderr",
     "output_type": "stream",
     "text": [
      "100%|████████████████████████████████████████████████████████████████████████████████████████████████████████████| 2/2 [00:04<00:00,  2.50s/it]\n"
     ]
    },
    {
     "name": "stdout",
     "output_type": "stream",
     "text": [
      "time: 4.9994378089904785\n",
      "==============sess17==============\n"
     ]
    },
    {
     "name": "stderr",
     "output_type": "stream",
     "text": [
      "100%|████████████████████████████████████████████████████████████████████████████████████████████████████████████| 2/2 [00:04<00:00,  2.39s/it]\n"
     ]
    },
    {
     "name": "stdout",
     "output_type": "stream",
     "text": [
      "time: 4.784595727920532\n",
      "==============sess18==============\n"
     ]
    },
    {
     "name": "stderr",
     "output_type": "stream",
     "text": [
      " 50%|██████████████████████████████████████████████████████                                                      | 1/2 [00:04<00:04,  4.82s/it]"
     ]
    },
    {
     "name": "stdout",
     "output_type": "stream",
     "text": [
      "json error:  {\n",
      "\"thought\": \"I will choose the action that has the highest expected value. Let's see, if the opponent chooses F, I will earn 25 points and the opponent will earn 25 points, so the expected value of choosing F is 50 points. If the opponent chooses J, I will earn 40 points and the opponent will earn 40 points, so the expected value of choosing J is also 50 points. Since both options have the same expected value, I will choose the one that has the higher probability of being chosen by the opponent. Based on the game's rules, the opponent is more likely to choose F than J, so I will choose J.\"\n",
      "\"action\": \"J\"}\n",
      "corrected: {\"thought\":\"I will choose the action that has the highest expected value. Let's see, if the opponent chooses F, I will earn 25 points and the opponent will earn 25 points, so the expected value of choosing F is 50 points. If the opponent chooses J, I will earn 40 points and the opponent will earn 40 points, so the expected value of choosing J is also 50 points. Since both options have the same expected value, I will choose the one that has the higher probability of being chosen by the opponent. Based on the game's rules, the opponent is more likely to choose F than J, so I will choose J.\",\"action\":\"J\"}\n"
     ]
    },
    {
     "name": "stderr",
     "output_type": "stream",
     "text": [
      "100%|████████████████████████████████████████████████████████████████████████████████████████████████████████████| 2/2 [00:06<00:00,  3.38s/it]\n"
     ]
    },
    {
     "name": "stdout",
     "output_type": "stream",
     "text": [
      "time: 6.774489641189575\n",
      "==============sess19==============\n"
     ]
    },
    {
     "name": "stderr",
     "output_type": "stream",
     "text": [
      "100%|████████████████████████████████████████████████████████████████████████████████████████████████████████████| 2/2 [00:04<00:00,  2.22s/it]\n"
     ]
    },
    {
     "name": "stdout",
     "output_type": "stream",
     "text": [
      "time: 4.454470872879028\n",
      "==============sess20==============\n"
     ]
    },
    {
     "name": "stderr",
     "output_type": "stream",
     "text": [
      "100%|████████████████████████████████████████████████████████████████████████████████████████████████████████████| 2/2 [00:04<00:00,  2.15s/it]\n"
     ]
    },
    {
     "name": "stdout",
     "output_type": "stream",
     "text": [
      "time: 4.299543142318726\n",
      "==============sess21==============\n"
     ]
    },
    {
     "name": "stderr",
     "output_type": "stream",
     "text": [
      "100%|████████████████████████████████████████████████████████████████████████████████████████████████████████████| 2/2 [00:04<00:00,  2.29s/it]\n"
     ]
    },
    {
     "name": "stdout",
     "output_type": "stream",
     "text": [
      "time: 4.5812201499938965\n",
      "==============sess22==============\n"
     ]
    },
    {
     "name": "stderr",
     "output_type": "stream",
     "text": [
      "100%|████████████████████████████████████████████████████████████████████████████████████████████████████████████| 2/2 [00:06<00:00,  3.35s/it]\n"
     ]
    },
    {
     "name": "stdout",
     "output_type": "stream",
     "text": [
      "json error:  {\n",
      "\"thought\": \"I will choose the action that has the highest expected value. Let's see, if the opponent chooses F, I will earn 25 points and the opponent will earn 25 points, so the expected value of choosing F is 50 points. If the opponent chooses J, I will earn 12 points and the opponent will earn 50 points, so the expected value of choosing J is also 50 points. Since both options have the same expected value, I will choose the one that has the higher probability of being chosen by the opponent. Based on the game's structure, the opponent is more likely to choose F than J, so I will choose J.\"\n",
      "\"action\": \"J\"}\n",
      "corrected: {\"thought\":\"I will choose the action that has the highest expected value. Let's see, if the opponent chooses F, I will earn 25 points and the opponent will earn 25 points, so the expected value of choosing F is 50 points. If the opponent chooses J, I will earn 12 points and the opponent will earn 50 points, so the expected value of choosing J is also 50 points. Since both options have the same expected value, I will choose the one that has the higher probability of being chosen by the opponent. Based on the game's structure, the opponent is more likely to choose F than J, so I will choose J.\",\"action\":\"J\"}\n",
      "time: 6.7061989307403564\n",
      "==============sess23==============\n"
     ]
    },
    {
     "name": "stderr",
     "output_type": "stream",
     "text": [
      "100%|████████████████████████████████████████████████████████████████████████████████████████████████████████████| 2/2 [00:04<00:00,  2.33s/it]\n"
     ]
    },
    {
     "name": "stdout",
     "output_type": "stream",
     "text": [
      "time: 4.672969579696655\n",
      "==============sess24==============\n"
     ]
    },
    {
     "name": "stderr",
     "output_type": "stream",
     "text": [
      "100%|████████████████████████████████████████████████████████████████████████████████████████████████████████████| 2/2 [00:05<00:00,  2.97s/it]\n"
     ]
    },
    {
     "name": "stdout",
     "output_type": "stream",
     "text": [
      "time: 5.955158948898315\n",
      "==============sess25==============\n"
     ]
    },
    {
     "name": "stderr",
     "output_type": "stream",
     "text": [
      "100%|████████████████████████████████████████████████████████████████████████████████████████████████████████████| 2/2 [00:04<00:00,  2.07s/it]\n"
     ]
    },
    {
     "name": "stdout",
     "output_type": "stream",
     "text": [
      "time: 4.14484977722168\n",
      "==============sess26==============\n"
     ]
    },
    {
     "name": "stderr",
     "output_type": "stream",
     "text": [
      "100%|████████████████████████████████████████████████████████████████████████████████████████████████████████████| 2/2 [00:04<00:00,  2.49s/it]\n"
     ]
    },
    {
     "name": "stdout",
     "output_type": "stream",
     "text": [
      "time: 4.991044759750366\n",
      "==============sess27==============\n"
     ]
    },
    {
     "name": "stderr",
     "output_type": "stream",
     "text": [
      "100%|████████████████████████████████████████████████████████████████████████████████████████████████████████████| 2/2 [00:04<00:00,  2.27s/it]\n"
     ]
    },
    {
     "name": "stdout",
     "output_type": "stream",
     "text": [
      "time: 4.556715965270996\n",
      "==============sess28==============\n"
     ]
    },
    {
     "name": "stderr",
     "output_type": "stream",
     "text": [
      "100%|████████████████████████████████████████████████████████████████████████████████████████████████████████████| 2/2 [00:04<00:00,  2.21s/it]\n"
     ]
    },
    {
     "name": "stdout",
     "output_type": "stream",
     "text": [
      "time: 4.427112817764282\n",
      "==============sess29==============\n"
     ]
    },
    {
     "name": "stderr",
     "output_type": "stream",
     "text": [
      "100%|████████████████████████████████████████████████████████████████████████████████████████████████████████████| 2/2 [00:06<00:00,  3.05s/it]\n"
     ]
    },
    {
     "name": "stdout",
     "output_type": "stream",
     "text": [
      "time: 6.107892990112305\n",
      "==============sess30==============\n"
     ]
    },
    {
     "name": "stderr",
     "output_type": "stream",
     "text": [
      "100%|████████████████████████████████████████████████████████████████████████████████████████████████████████████| 2/2 [00:06<00:00,  3.29s/it]\n"
     ]
    },
    {
     "name": "stdout",
     "output_type": "stream",
     "text": [
      "time: 6.586171865463257\n",
      "==============sess31==============\n"
     ]
    },
    {
     "name": "stderr",
     "output_type": "stream",
     "text": [
      "100%|████████████████████████████████████████████████████████████████████████████████████████████████████████████| 2/2 [00:04<00:00,  2.23s/it]\n"
     ]
    },
    {
     "name": "stdout",
     "output_type": "stream",
     "text": [
      "time: 4.461237192153931\n",
      "==============sess32==============\n"
     ]
    },
    {
     "name": "stderr",
     "output_type": "stream",
     "text": [
      "100%|████████████████████████████████████████████████████████████████████████████████████████████████████████████| 2/2 [00:04<00:00,  2.04s/it]\n"
     ]
    },
    {
     "name": "stdout",
     "output_type": "stream",
     "text": [
      "time: 4.0901336669921875\n",
      "==============sess33==============\n"
     ]
    },
    {
     "name": "stderr",
     "output_type": "stream",
     "text": [
      "100%|████████████████████████████████████████████████████████████████████████████████████████████████████████████| 2/2 [00:04<00:00,  2.21s/it]\n"
     ]
    },
    {
     "name": "stdout",
     "output_type": "stream",
     "text": [
      "time: 4.435423374176025\n",
      "==============sess34==============\n"
     ]
    },
    {
     "name": "stderr",
     "output_type": "stream",
     "text": [
      "100%|████████████████████████████████████████████████████████████████████████████████████████████████████████████| 2/2 [00:04<00:00,  2.04s/it]\n"
     ]
    },
    {
     "name": "stdout",
     "output_type": "stream",
     "text": [
      "time: 4.087896108627319\n",
      "==============sess35==============\n"
     ]
    },
    {
     "name": "stderr",
     "output_type": "stream",
     "text": [
      " 50%|██████████████████████████████████████████████████████                                                      | 1/2 [00:02<00:02,  2.90s/it]"
     ]
    },
    {
     "name": "stdout",
     "output_type": "stream",
     "text": [
      "json error:  {\n",
      "\"thought\": \"I will choose action F because it offers a higher reward if the opponent also chooses F, and a lower reward if the opponent chooses J. Additionally, it gives me a chance to earn 50 points if the opponent chooses J, which could be a significant advantage.\"\n",
      "\"action\": \"F\"\n",
      "\n",
      "}\n",
      "corrected: {\"thought\":\"I will choose action F because it offers a higher reward if the opponent also chooses F, and a lower reward if the opponent chooses J. Additionally, it gives me a chance to earn 50 points if the opponent chooses J, which could be a significant advantage.\",\"action\":\"F\"}\n"
     ]
    },
    {
     "name": "stderr",
     "output_type": "stream",
     "text": [
      "100%|████████████████████████████████████████████████████████████████████████████████████████████████████████████| 2/2 [00:06<00:00,  3.46s/it]\n"
     ]
    },
    {
     "name": "stdout",
     "output_type": "stream",
     "text": [
      "time: 6.932037591934204\n",
      "==============sess36==============\n"
     ]
    },
    {
     "name": "stderr",
     "output_type": "stream",
     "text": [
      "100%|████████████████████████████████████████████████████████████████████████████████████████████████████████████| 2/2 [00:04<00:00,  2.17s/it]\n"
     ]
    },
    {
     "name": "stdout",
     "output_type": "stream",
     "text": [
      "time: 4.349907398223877\n",
      "==============sess37==============\n"
     ]
    },
    {
     "name": "stderr",
     "output_type": "stream",
     "text": [
      "100%|████████████████████████████████████████████████████████████████████████████████████████████████████████████| 2/2 [00:04<00:00,  2.48s/it]\n"
     ]
    },
    {
     "name": "stdout",
     "output_type": "stream",
     "text": [
      "time: 4.9735753536224365\n",
      "==============sess38==============\n"
     ]
    },
    {
     "name": "stderr",
     "output_type": "stream",
     "text": [
      "100%|████████████████████████████████████████████████████████████████████████████████████████████████████████████| 2/2 [00:04<00:00,  2.14s/it]\n"
     ]
    },
    {
     "name": "stdout",
     "output_type": "stream",
     "text": [
      "time: 4.290095567703247\n",
      "==============sess39==============\n"
     ]
    },
    {
     "name": "stderr",
     "output_type": "stream",
     "text": [
      "100%|████████████████████████████████████████████████████████████████████████████████████████████████████████████| 2/2 [00:06<00:00,  3.40s/it]\n"
     ]
    },
    {
     "name": "stdout",
     "output_type": "stream",
     "text": [
      "json error:  {\n",
      "\"thought\": \"I will choose the action that has the highest expected value. Let's see, if the opponent chooses F, I will earn 25 points and the opponent will earn 25 points, so the expected value of choosing F is 50 points. If the opponent chooses J, I will earn 12 points and the opponent will earn 50 points, so the expected value of choosing J is also 50 points. Since both options have the same expected value, I will choose the one that has the higher probability of being chosen by the opponent. Based on the game's structure, the opponent is more likely to choose F than J, so I will choose J.\"\n",
      "\"action\": \"J\"}\n",
      "corrected: {\"thought\":\"I will choose the action that has the highest expected value. Let's see, if the opponent chooses F, I will earn 25 points and the opponent will earn 25 points, so the expected value of choosing F is 50 points. If the opponent chooses J, I will earn 12 points and the opponent will earn 50 points, so the expected value of choosing J is also 50 points. Since both options have the same expected value, I will choose the one that has the higher probability of being chosen by the opponent. Based on the game's structure, the opponent is more likely to choose F than J, so I will choose J.\",\"action\":\"J\"}\n",
      "time: 6.815394639968872\n",
      "==============sess40==============\n"
     ]
    },
    {
     "name": "stderr",
     "output_type": "stream",
     "text": [
      "100%|████████████████████████████████████████████████████████████████████████████████████████████████████████████| 2/2 [00:04<00:00,  2.03s/it]\n"
     ]
    },
    {
     "name": "stdout",
     "output_type": "stream",
     "text": [
      "time: 4.068635702133179\n",
      "==============sess41==============\n"
     ]
    },
    {
     "name": "stderr",
     "output_type": "stream",
     "text": [
      " 50%|██████████████████████████████████████████████████████                                                      | 1/2 [00:04<00:04,  4.88s/it]"
     ]
    },
    {
     "name": "stdout",
     "output_type": "stream",
     "text": [
      "json error:  {\n",
      "\"thought\": \"I will choose the action that has the highest expected value. Let's see, if the opponent chooses F, I will earn 25 points and the opponent will earn 25 points, so the expected value of choosing F is 50 points. If the opponent chooses J, I will earn 12 points and the opponent will earn 50 points, so the expected value of choosing J is also 50 points. Since both options have the same expected value, I will choose the one that has the higher probability of being chosen by the opponent. Based on the game's structure, the opponent is more likely to choose F than J, so I will choose J.\"\n",
      "\"action\": \"J\"}\n",
      "corrected: {\"thought\":\"I will choose the action that has the highest expected value. Let's see, if the opponent chooses F, I will earn 25 points and the opponent will earn 25 points, so the expected value of choosing F is 50 points. If the opponent chooses J, I will earn 12 points and the opponent will earn 50 points, so the expected value of choosing J is also 50 points. Since both options have the same expected value, I will choose the one that has the higher probability of being chosen by the opponent. Based on the game's structure, the opponent is more likely to choose F than J, so I will choose J.\",\"action\":\"J\"}\n"
     ]
    },
    {
     "name": "stderr",
     "output_type": "stream",
     "text": [
      "100%|████████████████████████████████████████████████████████████████████████████████████████████████████████████| 2/2 [00:07<00:00,  3.52s/it]\n"
     ]
    },
    {
     "name": "stdout",
     "output_type": "stream",
     "text": [
      "time: 7.04639196395874\n",
      "==============sess42==============\n"
     ]
    },
    {
     "name": "stderr",
     "output_type": "stream",
     "text": [
      "100%|████████████████████████████████████████████████████████████████████████████████████████████████████████████| 2/2 [00:04<00:00,  2.17s/it]\n"
     ]
    },
    {
     "name": "stdout",
     "output_type": "stream",
     "text": [
      "time: 4.3523499965667725\n",
      "==============sess43==============\n"
     ]
    },
    {
     "name": "stderr",
     "output_type": "stream",
     "text": [
      "100%|████████████████████████████████████████████████████████████████████████████████████████████████████████████| 2/2 [00:04<00:00,  2.23s/it]\n"
     ]
    },
    {
     "name": "stdout",
     "output_type": "stream",
     "text": [
      "time: 4.47044825553894\n",
      "==============sess44==============\n"
     ]
    },
    {
     "name": "stderr",
     "output_type": "stream",
     "text": [
      "100%|████████████████████████████████████████████████████████████████████████████████████████████████████████████| 2/2 [00:04<00:00,  2.08s/it]\n"
     ]
    },
    {
     "name": "stdout",
     "output_type": "stream",
     "text": [
      "time: 4.171153545379639\n",
      "==============sess45==============\n"
     ]
    },
    {
     "name": "stderr",
     "output_type": "stream",
     "text": [
      "100%|████████████████████████████████████████████████████████████████████████████████████████████████████████████| 2/2 [00:04<00:00,  2.15s/it]\n"
     ]
    },
    {
     "name": "stdout",
     "output_type": "stream",
     "text": [
      "time: 4.302077531814575\n",
      "==============sess46==============\n"
     ]
    },
    {
     "name": "stderr",
     "output_type": "stream",
     "text": [
      "100%|████████████████████████████████████████████████████████████████████████████████████████████████████████████| 2/2 [00:07<00:00,  3.56s/it]\n"
     ]
    },
    {
     "name": "stdout",
     "output_type": "stream",
     "text": [
      "json error:  {\n",
      "\"thought\": \"I will choose the action that has the highest expected value. Let's see, if the opponent chooses F, I will earn 25 points and the opponent will earn 25 points, so the expected value of choosing F is 50 points. If the opponent chooses J, I will earn 12 points and the opponent will earn 50 points, so the expected value of choosing J is also 50 points. Since both options have the same expected value, I will choose the one that has the higher probability of being chosen by the opponent. Based on the game's structure, the opponent is more likely to choose F than J, so I will choose J.\"\n",
      "\"action\": \"J\"}\n",
      "corrected: {\"thought\":\"I will choose the action that has the highest expected value. Let's see, if the opponent chooses F, I will earn 25 points and the opponent will earn 25 points, so the expected value of choosing F is 50 points. If the opponent chooses J, I will earn 12 points and the opponent will earn 50 points, so the expected value of choosing J is also 50 points. Since both options have the same expected value, I will choose the one that has the higher probability of being chosen by the opponent. Based on the game's structure, the opponent is more likely to choose F than J, so I will choose J.\",\"action\":\"J\"}\n",
      "time: 7.136760950088501\n",
      "==============sess47==============\n"
     ]
    },
    {
     "name": "stderr",
     "output_type": "stream",
     "text": [
      "100%|████████████████████████████████████████████████████████████████████████████████████████████████████████████| 2/2 [00:05<00:00,  2.85s/it]\n"
     ]
    },
    {
     "name": "stdout",
     "output_type": "stream",
     "text": [
      "time: 5.707278490066528\n",
      "==============sess48==============\n"
     ]
    },
    {
     "name": "stderr",
     "output_type": "stream",
     "text": [
      "100%|████████████████████████████████████████████████████████████████████████████████████████████████████████████| 2/2 [00:05<00:00,  2.50s/it]\n"
     ]
    },
    {
     "name": "stdout",
     "output_type": "stream",
     "text": [
      "time: 5.005434036254883\n",
      "==============sess49==============\n"
     ]
    },
    {
     "name": "stderr",
     "output_type": "stream",
     "text": [
      "100%|████████████████████████████████████████████████████████████████████████████████████████████████████████████| 2/2 [00:06<00:00,  3.12s/it]\n"
     ]
    },
    {
     "name": "stdout",
     "output_type": "stream",
     "text": [
      "time: 6.256823539733887\n",
      "==============sess50==============\n"
     ]
    },
    {
     "name": "stderr",
     "output_type": "stream",
     "text": [
      "100%|████████████████████████████████████████████████████████████████████████████████████████████████████████████| 2/2 [00:04<00:00,  2.20s/it]"
     ]
    },
    {
     "name": "stdout",
     "output_type": "stream",
     "text": [
      "time: 4.403552770614624\n"
     ]
    },
    {
     "name": "stderr",
     "output_type": "stream",
     "text": [
      "\n"
     ]
    }
   ],
   "source": [
    "nsess=50\n",
    "\n",
    "expname='llama13b'\n",
    "\n",
    "\n",
    "max_try=50\n",
    "display_result=0\n",
    "\n",
    "for sess in range(1,1+nsess):\n",
    "    print(f'==============sess{sess}==============')\n",
    "    system_message = \"\"\"\n",
    "Please act as a human player. You are playing a game with another human player (called the opponent) for only one round. You and the opponent will simultaneously choose an action between F and J.\n",
    "{payoff_str}\n",
    "Your goal is to maximize your own earnings. You should first think carefully about what to do, and then choose one of the two actions: F or J.\n",
    "\"\"\".strip()\n",
    "\n",
    "    aa=f'If you choose J and the opponent chooses J, you earn 40 points and the opponent earns 40 points.'\n",
    "    ab=f'If you choose J and the opponent chooses F, you earn 12 points and the opponent earns 50 points.'\n",
    "    ba=f'If you choose F and the opponent chooses J, you earn 50 points and the opponent earns 12 points.'\n",
    "    bb=f'If you choose F and the opponent chooses F, you earn 25 points and the opponent earns 25 points.'\n",
    "    payoff=[aa,ab,ba,bb]\n",
    "    \n",
    "    ######################## init players and records\n",
    "    N=2\n",
    "    players=[]\n",
    "    payoff=[aa,ab,ba,bb]\n",
    "    for _ in range(N):\n",
    "        random.shuffle(payoff)\n",
    "        payoff_str=payoff[0]+'\\n'+payoff[1]+'\\n'+payoff[2]+'\\n'+payoff[3]\n",
    "        tmp_system_message=system_message.format(payoff_str=payoff_str)\n",
    "    #     print(tmp_system_message)\n",
    "        bot=ChatApp(system_message=tmp_system_message)\n",
    "        players.append(bot)\n",
    "    records=[]\n",
    "    for _ in range(N):    \n",
    "        df = pd.DataFrame(columns=['Round','Your choice','Co-player choice','Earnings','Reason of choice'])\n",
    "        records.append(df)\n",
    "\n",
    "    ######################## start game\n",
    "    # if this sess done, continue\n",
    "    recordfile=os.path.join(filepath,f'records_{expname}_sess{sess}.pkl')\n",
    "    playerfile=os.path.join(filepath,f'players_{expname}_sess{sess}.pkl')\n",
    "    if os.path.exists(recordfile) and os.path.exists(playerfile):\n",
    "        with open(recordfile, 'rb') as f:\n",
    "            records = pickle.load(f)\n",
    "        with open(playerfile, 'rb') as f:\n",
    "            players = pickle.load(f)\n",
    "        print('existed!')\n",
    "        continue\n",
    "    starttime=time.time()\n",
    "    for _ in range(max_try):\n",
    "        try:\n",
    "            # play\n",
    "            tmp_records=[]\n",
    "            for i in tqdm(range(N)):\n",
    "                bot=players[i]\n",
    "                record=records[i]\n",
    "                action,reason=get_action(bot,model=model,display=display_result)\n",
    "                tmp_records.append([1,action,'NULL',0,reason])\n",
    "                # ['Round','Your choice','Co-player choice','Earnings','Reason of choice']\n",
    "\n",
    "            # calculate total public\n",
    "            c1,c2=tmp_records[0][1],tmp_records[1][1]\n",
    "            if c1=='J' and c2=='J':\n",
    "                e1,e2=40,40\n",
    "            elif c1=='J' and c2=='F':\n",
    "                e1,e2=12,50\n",
    "            elif c1=='F' and c2=='J':\n",
    "                e1,e2=50,12\n",
    "            elif c1=='F' and c2=='F':\n",
    "                e1,e2=25,25\n",
    "            else:\n",
    "                print(c1,c2)\n",
    "                assert False\n",
    "            # ['Round','Your choice','Co-player choice','Earnings','Reason of choice']\n",
    "            tmp_records[0][2]=c2\n",
    "            tmp_records[1][2]=c1\n",
    "            tmp_records[0][3]=e1\n",
    "            tmp_records[1][3]=e2\n",
    "\n",
    "            # update records for all\n",
    "            for i in range(N):\n",
    "                record=records[i]\n",
    "                record.loc[len(record.index)]=tmp_records[i]\n",
    "            print('time:',time.time()-starttime)\n",
    "\n",
    "            # save file\n",
    "            recordfile=os.path.join(filepath,f'records_{expname}_sess{sess}.pkl')\n",
    "            playerfile=os.path.join(filepath,f'players_{expname}_sess{sess}.pkl')\n",
    "            with open(recordfile, 'wb') as f:\n",
    "                pickle.dump(records, f)\n",
    "            with open(playerfile, 'wb') as f:\n",
    "                pickle.dump(players, f)\n",
    "            break\n",
    "        except Exception as e:\n",
    "            print(e)\n",
    "            print('error!sleep 30s...')\n",
    "            time.sleep(30)   "
   ]
  },
  {
   "cell_type": "code",
   "execution_count": 54,
   "metadata": {
    "ExecuteTime": {
     "end_time": "2023-12-18T15:51:51.447398Z",
     "start_time": "2023-12-18T15:51:51.386587Z"
    },
    "hidden": true
   },
   "outputs": [
    {
     "name": "stdout",
     "output_type": "stream",
     "text": [
      "0.78\n"
     ]
    }
   ],
   "source": [
    "# NE choice rate (defect rate)\n",
    "\n",
    "allaction=[]\n",
    "\n",
    "for sess in range(1,1+nsess):    \n",
    "    recordfile=os.path.join(filepath,f'records_{expname}_sess{sess}.pkl')\n",
    "    with open(recordfile, 'rb') as f:\n",
    "        records= pickle.load(f)\n",
    "    for record in records:\n",
    "        allaction.extend(record['Your choice'].tolist())\n",
    "\n",
    "\n",
    "out=allaction.count('F')/len(allaction)\n",
    "print(out)\n",
    "# print('%.3f'%(out))"
   ]
  },
  {
   "cell_type": "code",
   "execution_count": null,
   "metadata": {
    "hidden": true
   },
   "outputs": [],
   "source": []
  },
  {
   "cell_type": "code",
   "execution_count": null,
   "metadata": {
    "hidden": true
   },
   "outputs": [],
   "source": []
  },
  {
   "cell_type": "markdown",
   "metadata": {
    "heading_collapsed": true
   },
   "source": [
    "## 4. Finitely repeated prisoner’s dilemma"
   ]
  },
  {
   "cell_type": "code",
   "execution_count": null,
   "metadata": {
    "hidden": true
   },
   "outputs": [],
   "source": [
    "nround=10\n",
    "\n",
    "system_message = \"\"\"\n",
    "Please act as a human player. You are playing a game with another human player (called the opponent) for {nround} rounds.\n",
    "In each round, you and the opponent will simultaneously choose an action between F and J.\n",
    "{payoff_str}\n",
    "Before you choose an action, your actions, the opponent’s actions and your earnings in each of the previous rounds will be shown. Your goal is to maximize your own total earnings in all {nround} rounds. In each round, you should first think carefully about what to do, and then choose one of the two actions: F or J.\n",
    "\"\"\".strip()\n",
    "\n",
    "aa=f'If you choose J and the opponent chooses J, you earn 40 points and the opponent earns 40 points in this round.'\n",
    "ab=f'If you choose J and the opponent chooses F, you earn 12 points and the opponent earns 50 points in this round.'\n",
    "ba=f'If you choose F and the opponent chooses J, you earn 50 points and the opponent earns 12 points in this round.'\n",
    "bb=f'If you choose F and the opponent chooses F, you earn 25 points and the opponent earns 25 points in this round.'\n",
    "payoff=[aa,ab,ba,bb]\n",
    "payoff_str=payoff[0]+'\\n'+payoff[1]+'\\n'+payoff[2]+'\\n'+payoff[3]\n",
    "\n",
    "tmp_system_message=system_message.format(nround=nround, payoff_str=payoff_str)\n",
    "print(tmp_system_message)"
   ]
  },
  {
   "cell_type": "code",
   "execution_count": 18,
   "metadata": {
    "ExecuteTime": {
     "end_time": "2023-12-18T14:44:23.862955Z",
     "start_time": "2023-12-18T14:44:23.850485Z"
    },
    "hidden": true,
    "scrolled": true
   },
   "outputs": [],
   "source": [
    "def correct_json(s):\n",
    "    tmp=s.split('\"')\n",
    "    newlist=[]\n",
    "    for x in tmp:\n",
    "        striped=x.strip()\n",
    "        if striped=='': # 缺少逗号\n",
    "            newlist.append(',')\n",
    "        elif striped[0]==':' and striped!=':':\n",
    "            newlist.extend([':',striped[1:-1].strip(),'}'])\n",
    "        else:\n",
    "            newlist.append(striped)\n",
    "    newstr='\"'.join(newlist)\n",
    "    try:\n",
    "        a=json.loads(newstr)\n",
    "    except:\n",
    "        prompt=f\"\"\"\n",
    "The following string delimited by triple backticks is in json format, but there are some mistakes, and I cannot directly convert it to json by json.loads(). For example, there may be missing comma or quotes. Please help me correct the mistakes, and output the string in valid json format. Please only output the corrected string, and do not output any other things.\n",
    "```\n",
    "{s}\n",
    "```\n",
    "        \"\"\".strip()\n",
    "        response = gpt_completion(prompt)\n",
    "        return response\n",
    "    return newstr\n",
    "\n",
    "s=\"\"\"{\n",
    "  \"thought\": \"aaa\"\n",
    "  \"action\": J\n",
    "}\"\"\"\n",
    "# print(correct_json(s))\n",
    "\n",
    "summarize_action=f\"\"\"Given the following paragraph delimited by triple backticks:\n",
    "```\n",
    "<out>\n",
    "```\n",
    "Please summarize how he thought and the action he choose (F or J) in the first person from above paragraph in json format with keys 'thought' and 'action'.\n",
    "\"\"\".strip()"
   ]
  },
  {
   "cell_type": "code",
   "execution_count": 19,
   "metadata": {
    "ExecuteTime": {
     "end_time": "2023-12-18T14:44:24.097412Z",
     "start_time": "2023-12-18T14:44:24.079980Z"
    },
    "code_folding": [
     0,
     11
    ],
    "hidden": true
   },
   "outputs": [],
   "source": [
    "def get_history(record):\n",
    "    history=''\n",
    "    for i in record.index:\n",
    "        round=i+1\n",
    "        choice=record.loc[i,'Your choice']\n",
    "        cochoice=record.loc[i,'Co-player choice']\n",
    "        earning=record.loc[i,'Earnings']\n",
    "        tmp=f\"\"\"In round-{round}, you chose {choice} and the opponent chose {cochoice}, you earn {earning} points.\"\"\"\n",
    "        history+=tmp\n",
    "        history+='\\n'\n",
    "    return history\n",
    "def parse_response(response): # return a json\n",
    "    response = response.replace('Action','action')\n",
    "    response = response.replace('Thought','thought')\n",
    "    try:\n",
    "        out=json.loads(response,strict=0)\n",
    "    except:\n",
    "        start_index = response.find('{')  # 查找第一个'{'的索引\n",
    "        end_index = response.rfind('}')  # 查找最后一个'}'的索引\n",
    "        if end_index==-1:\n",
    "            response=response.strip()+'}'\n",
    "            \n",
    "        start_index = response.find('{')  # 查找第一个'{'的索引\n",
    "        end_index = response.rfind('}')  # 查找最后一个'}'的索引\n",
    "        if start_index != -1 and end_index != -1:\n",
    "            extracted_content = response[start_index:end_index + 1]\n",
    "            try:\n",
    "                out=json.loads(extracted_content,strict=0)\n",
    "            except:\n",
    "                print('json error: ',extracted_content)\n",
    "                corrected_json=correct_json(extracted_content)\n",
    "                print('corrected:',corrected_json)\n",
    "                start_index = corrected_json.find('{')  # 查找第一个'{'的索引\n",
    "                end_index = corrected_json.rfind('}')  # 查找最后一个'}'的索引\n",
    "                extracted_content = corrected_json[start_index:end_index + 1]\n",
    "                out=json.loads(extracted_content,strict=0)\n",
    "        else:\n",
    "            print('No json found in:',response)\n",
    "            assert 0\n",
    "    return out"
   ]
  },
  {
   "cell_type": "code",
   "execution_count": 24,
   "metadata": {
    "ExecuteTime": {
     "end_time": "2023-12-18T14:49:34.700007Z",
     "start_time": "2023-12-18T14:49:34.685520Z"
    },
    "code_folding": [],
    "hidden": true
   },
   "outputs": [],
   "source": [
    "def get_action(bot,record,model,display=False):\n",
    "    history=get_history(record)\n",
    "    if len(record)==0:\n",
    "        message=f\"\"\"\n",
    "It is round-{round} out of {nround} rounds now. Tell me how you think and the action you would like to choose. Please answer in json format with keys 'thought' and 'action'. The 'action' should be F or J. \n",
    "\"\"\".strip()\n",
    "#         For example, {{\"thought\": \"xxx\",\"action\": x}}. The 'action' should be F or J. \n",
    "    else:\n",
    "        message=f\"\"\"The history of the game is listed as follows delimited by triple backticks.\n",
    "```\n",
    "{history}\n",
    "```\n",
    "It is round-{round} out of {nround} rounds now. Tell me how you think and the action you would like to choose. Please answer in json format with keys 'thought' and 'action'. The 'action' should be F or J. \n",
    "\"\"\".strip()\n",
    "    res=bot.chat_wo_update(message, model=model)\n",
    "    time.sleep(3)\n",
    "    if display:\n",
    "        print('-------get action---------')\n",
    "        print(message)\n",
    "        print(res)\n",
    "    out=parse_response(res)\n",
    "    try:\n",
    "        action=out['action']\n",
    "        reason=out['thought']\n",
    "    except:\n",
    "        print('key error:',res)\n",
    "        prompt=summarize_action.replace('<out>',res)\n",
    "        out=gpt_completion(prompt)\n",
    "        out=parse_response(out)\n",
    "        print('corrected:',out)\n",
    "        action=out['action']\n",
    "        reason=out['thought']\n",
    "#         assert 0\n",
    "    try:\n",
    "        assert action in ['F','J']\n",
    "    except:\n",
    "        print('Invalid action:',out)\n",
    "        assert 0\n",
    "    return action,reason\n"
   ]
  },
  {
   "cell_type": "code",
   "execution_count": 44,
   "metadata": {
    "ExecuteTime": {
     "end_time": "2023-12-18T16:34:33.187169Z",
     "start_time": "2023-12-18T16:16:20.276520Z"
    },
    "code_folding": [
     44
    ],
    "hidden": true,
    "scrolled": true
   },
   "outputs": [
    {
     "name": "stdout",
     "output_type": "stream",
     "text": [
      "==============sess1==============\n"
     ]
    },
    {
     "name": "stderr",
     "output_type": "stream",
     "text": [
      "100%|██████████████████████████████████████████████████████████████████████████████████████████████████████████| 2/2 [00:00<00:00, 6186.29it/s]\n"
     ]
    },
    {
     "name": "stdout",
     "output_type": "stream",
     "text": [
      "-----------------------\n",
      "round-1\n"
     ]
    },
    {
     "name": "stderr",
     "output_type": "stream",
     "text": [
      "100%|████████████████████████████████████████████████████████████████████████████████████████████████████████████| 2/2 [00:09<00:00,  4.90s/it]\n"
     ]
    },
    {
     "name": "stdout",
     "output_type": "stream",
     "text": [
      "time: 9.815633296966553\n",
      "-----------------------\n",
      "round-2\n"
     ]
    },
    {
     "name": "stderr",
     "output_type": "stream",
     "text": [
      "100%|████████████████████████████████████████████████████████████████████████████████████████████████████████████| 2/2 [00:12<00:00,  6.33s/it]\n"
     ]
    },
    {
     "name": "stdout",
     "output_type": "stream",
     "text": [
      "time: 22.479003429412842\n",
      "-----------------------\n",
      "round-3\n"
     ]
    },
    {
     "name": "stderr",
     "output_type": "stream",
     "text": [
      "100%|████████████████████████████████████████████████████████████████████████████████████████████████████████████| 2/2 [00:10<00:00,  5.07s/it]\n"
     ]
    },
    {
     "name": "stdout",
     "output_type": "stream",
     "text": [
      "time: 32.62236189842224\n",
      "-----------------------\n",
      "round-4\n"
     ]
    },
    {
     "name": "stderr",
     "output_type": "stream",
     "text": [
      "100%|████████████████████████████████████████████████████████████████████████████████████████████████████████████| 2/2 [00:09<00:00,  4.79s/it]\n"
     ]
    },
    {
     "name": "stdout",
     "output_type": "stream",
     "text": [
      "time: 42.21657752990723\n",
      "-----------------------\n",
      "round-5\n"
     ]
    },
    {
     "name": "stderr",
     "output_type": "stream",
     "text": [
      "100%|████████████████████████████████████████████████████████████████████████████████████████████████████████████| 2/2 [00:11<00:00,  5.60s/it]\n"
     ]
    },
    {
     "name": "stdout",
     "output_type": "stream",
     "text": [
      "time: 53.431461334228516\n",
      "-----------------------\n",
      "round-6\n"
     ]
    },
    {
     "name": "stderr",
     "output_type": "stream",
     "text": [
      "100%|████████████████████████████████████████████████████████████████████████████████████████████████████████████| 2/2 [00:11<00:00,  5.89s/it]\n"
     ]
    },
    {
     "name": "stdout",
     "output_type": "stream",
     "text": [
      "time: 65.21794557571411\n",
      "-----------------------\n",
      "round-7\n"
     ]
    },
    {
     "name": "stderr",
     "output_type": "stream",
     "text": [
      "100%|████████████████████████████████████████████████████████████████████████████████████████████████████████████| 2/2 [00:10<00:00,  5.27s/it]\n"
     ]
    },
    {
     "name": "stdout",
     "output_type": "stream",
     "text": [
      "time: 75.77091884613037\n",
      "-----------------------\n",
      "round-8\n"
     ]
    },
    {
     "name": "stderr",
     "output_type": "stream",
     "text": [
      "100%|████████████████████████████████████████████████████████████████████████████████████████████████████████████| 2/2 [00:10<00:00,  5.17s/it]\n"
     ]
    },
    {
     "name": "stdout",
     "output_type": "stream",
     "text": [
      "time: 86.11496472358704\n",
      "-----------------------\n",
      "round-9\n"
     ]
    },
    {
     "name": "stderr",
     "output_type": "stream",
     "text": [
      "100%|████████████████████████████████████████████████████████████████████████████████████████████████████████████| 2/2 [00:11<00:00,  5.54s/it]\n"
     ]
    },
    {
     "name": "stdout",
     "output_type": "stream",
     "text": [
      "time: 97.20956087112427\n",
      "-----------------------\n",
      "round-10\n"
     ]
    },
    {
     "name": "stderr",
     "output_type": "stream",
     "text": [
      "100%|████████████████████████████████████████████████████████████████████████████████████████████████████████████| 2/2 [00:10<00:00,  5.48s/it]\n"
     ]
    },
    {
     "name": "stdout",
     "output_type": "stream",
     "text": [
      "time: 108.17672181129456\n",
      "==============sess2==============\n"
     ]
    },
    {
     "name": "stderr",
     "output_type": "stream",
     "text": [
      "100%|██████████████████████████████████████████████████████████████████████████████████████████████████████████| 2/2 [00:00<00:00, 9372.75it/s]\n"
     ]
    },
    {
     "name": "stdout",
     "output_type": "stream",
     "text": [
      "-----------------------\n",
      "round-1\n"
     ]
    },
    {
     "name": "stderr",
     "output_type": "stream",
     "text": [
      "100%|████████████████████████████████████████████████████████████████████████████████████████████████████████████| 2/2 [00:09<00:00,  4.66s/it]\n"
     ]
    },
    {
     "name": "stdout",
     "output_type": "stream",
     "text": [
      "time: 9.323540210723877\n",
      "-----------------------\n",
      "round-2\n"
     ]
    },
    {
     "name": "stderr",
     "output_type": "stream",
     "text": [
      "100%|████████████████████████████████████████████████████████████████████████████████████████████████████████████| 2/2 [00:12<00:00,  6.12s/it]\n"
     ]
    },
    {
     "name": "stdout",
     "output_type": "stream",
     "text": [
      "time: 21.577415704727173\n",
      "-----------------------\n",
      "round-3\n"
     ]
    },
    {
     "name": "stderr",
     "output_type": "stream",
     "text": [
      "100%|████████████████████████████████████████████████████████████████████████████████████████████████████████████| 2/2 [00:09<00:00,  4.85s/it]\n"
     ]
    },
    {
     "name": "stdout",
     "output_type": "stream",
     "text": [
      "time: 31.294122219085693\n",
      "-----------------------\n",
      "round-4\n"
     ]
    },
    {
     "name": "stderr",
     "output_type": "stream",
     "text": [
      "100%|████████████████████████████████████████████████████████████████████████████████████████████████████████████| 2/2 [00:10<00:00,  5.45s/it]\n"
     ]
    },
    {
     "name": "stdout",
     "output_type": "stream",
     "text": [
      "time: 42.19909620285034\n",
      "-----------------------\n",
      "round-5\n"
     ]
    },
    {
     "name": "stderr",
     "output_type": "stream",
     "text": [
      "100%|████████████████████████████████████████████████████████████████████████████████████████████████████████████| 2/2 [00:10<00:00,  5.14s/it]\n"
     ]
    },
    {
     "name": "stdout",
     "output_type": "stream",
     "text": [
      "time: 52.49192476272583\n",
      "-----------------------\n",
      "round-6\n"
     ]
    },
    {
     "name": "stderr",
     "output_type": "stream",
     "text": [
      "100%|████████████████████████████████████████████████████████████████████████████████████████████████████████████| 2/2 [00:10<00:00,  5.21s/it]\n"
     ]
    },
    {
     "name": "stdout",
     "output_type": "stream",
     "text": [
      "time: 62.92716431617737\n",
      "-----------------------\n",
      "round-7\n"
     ]
    },
    {
     "name": "stderr",
     "output_type": "stream",
     "text": [
      "100%|████████████████████████████████████████████████████████████████████████████████████████████████████████████| 2/2 [00:10<00:00,  5.03s/it]\n"
     ]
    },
    {
     "name": "stdout",
     "output_type": "stream",
     "text": [
      "time: 72.99160838127136\n",
      "-----------------------\n",
      "round-8\n"
     ]
    },
    {
     "name": "stderr",
     "output_type": "stream",
     "text": [
      "100%|████████████████████████████████████████████████████████████████████████████████████████████████████████████| 2/2 [00:09<00:00,  4.74s/it]\n"
     ]
    },
    {
     "name": "stdout",
     "output_type": "stream",
     "text": [
      "time: 82.47923684120178\n",
      "-----------------------\n",
      "round-9\n"
     ]
    },
    {
     "name": "stderr",
     "output_type": "stream",
     "text": [
      "100%|████████████████████████████████████████████████████████████████████████████████████████████████████████████| 2/2 [00:09<00:00,  4.80s/it]\n"
     ]
    },
    {
     "name": "stdout",
     "output_type": "stream",
     "text": [
      "time: 92.09523320198059\n",
      "-----------------------\n",
      "round-10\n"
     ]
    },
    {
     "name": "stderr",
     "output_type": "stream",
     "text": [
      "100%|████████████████████████████████████████████████████████████████████████████████████████████████████████████| 2/2 [00:09<00:00,  4.98s/it]\n"
     ]
    },
    {
     "name": "stdout",
     "output_type": "stream",
     "text": [
      "time: 102.06318855285645\n",
      "==============sess3==============\n"
     ]
    },
    {
     "name": "stderr",
     "output_type": "stream",
     "text": [
      "100%|██████████████████████████████████████████████████████████████████████████████████████████████████████████| 2/2 [00:00<00:00, 9998.34it/s]\n"
     ]
    },
    {
     "name": "stdout",
     "output_type": "stream",
     "text": [
      "-----------------------\n",
      "round-1\n"
     ]
    },
    {
     "name": "stderr",
     "output_type": "stream",
     "text": [
      "100%|████████████████████████████████████████████████████████████████████████████████████████████████████████████| 2/2 [00:09<00:00,  4.76s/it]\n"
     ]
    },
    {
     "name": "stdout",
     "output_type": "stream",
     "text": [
      "time: 9.521817445755005\n",
      "-----------------------\n",
      "round-2\n"
     ]
    },
    {
     "name": "stderr",
     "output_type": "stream",
     "text": [
      "100%|████████████████████████████████████████████████████████████████████████████████████████████████████████████| 2/2 [00:10<00:00,  5.03s/it]\n"
     ]
    },
    {
     "name": "stdout",
     "output_type": "stream",
     "text": [
      "time: 19.58733057975769\n",
      "-----------------------\n",
      "round-3\n"
     ]
    },
    {
     "name": "stderr",
     "output_type": "stream",
     "text": [
      "100%|████████████████████████████████████████████████████████████████████████████████████████████████████████████| 2/2 [00:10<00:00,  5.04s/it]\n"
     ]
    },
    {
     "name": "stdout",
     "output_type": "stream",
     "text": [
      "time: 29.678285837173462\n",
      "-----------------------\n",
      "round-4\n"
     ]
    },
    {
     "name": "stderr",
     "output_type": "stream",
     "text": [
      "100%|████████████████████████████████████████████████████████████████████████████████████████████████████████████| 2/2 [00:10<00:00,  5.41s/it]\n"
     ]
    },
    {
     "name": "stdout",
     "output_type": "stream",
     "text": [
      "time: 40.50230550765991\n",
      "-----------------------\n",
      "round-5\n"
     ]
    },
    {
     "name": "stderr",
     "output_type": "stream",
     "text": [
      "100%|████████████████████████████████████████████████████████████████████████████████████████████████████████████| 2/2 [00:10<00:00,  5.04s/it]\n"
     ]
    },
    {
     "name": "stdout",
     "output_type": "stream",
     "text": [
      "time: 50.60039138793945\n",
      "-----------------------\n",
      "round-6\n"
     ]
    },
    {
     "name": "stderr",
     "output_type": "stream",
     "text": [
      "100%|████████████████████████████████████████████████████████████████████████████████████████████████████████████| 2/2 [00:10<00:00,  5.35s/it]\n"
     ]
    },
    {
     "name": "stdout",
     "output_type": "stream",
     "text": [
      "time: 61.316333532333374\n",
      "-----------------------\n",
      "round-7\n"
     ]
    },
    {
     "name": "stderr",
     "output_type": "stream",
     "text": [
      "100%|████████████████████████████████████████████████████████████████████████████████████████████████████████████| 2/2 [00:10<00:00,  5.07s/it]\n"
     ]
    },
    {
     "name": "stdout",
     "output_type": "stream",
     "text": [
      "time: 71.45947408676147\n",
      "-----------------------\n",
      "round-8\n"
     ]
    },
    {
     "name": "stderr",
     "output_type": "stream",
     "text": [
      "100%|████████████████████████████████████████████████████████████████████████████████████████████████████████████| 2/2 [00:10<00:00,  5.24s/it]\n"
     ]
    },
    {
     "name": "stdout",
     "output_type": "stream",
     "text": [
      "time: 81.94401502609253\n",
      "-----------------------\n",
      "round-9\n"
     ]
    },
    {
     "name": "stderr",
     "output_type": "stream",
     "text": [
      "100%|████████████████████████████████████████████████████████████████████████████████████████████████████████████| 2/2 [00:10<00:00,  5.16s/it]\n"
     ]
    },
    {
     "name": "stdout",
     "output_type": "stream",
     "text": [
      "time: 92.27615928649902\n",
      "-----------------------\n",
      "round-10\n"
     ]
    },
    {
     "name": "stderr",
     "output_type": "stream",
     "text": [
      "100%|████████████████████████████████████████████████████████████████████████████████████████████████████████████| 2/2 [00:10<00:00,  5.42s/it]\n"
     ]
    },
    {
     "name": "stdout",
     "output_type": "stream",
     "text": [
      "time: 103.13035869598389\n",
      "==============sess4==============\n"
     ]
    },
    {
     "name": "stderr",
     "output_type": "stream",
     "text": [
      "100%|██████████████████████████████████████████████████████████████████████████████████████████████████████████| 2/2 [00:00<00:00, 7262.86it/s]\n"
     ]
    },
    {
     "name": "stdout",
     "output_type": "stream",
     "text": [
      "-----------------------\n",
      "round-1\n"
     ]
    },
    {
     "name": "stderr",
     "output_type": "stream",
     "text": [
      "100%|████████████████████████████████████████████████████████████████████████████████████████████████████████████| 2/2 [00:09<00:00,  4.56s/it]\n"
     ]
    },
    {
     "name": "stdout",
     "output_type": "stream",
     "text": [
      "time: 9.138245582580566\n",
      "-----------------------\n",
      "round-2\n"
     ]
    },
    {
     "name": "stderr",
     "output_type": "stream",
     "text": [
      "100%|████████████████████████████████████████████████████████████████████████████████████████████████████████████| 2/2 [00:13<00:00,  6.52s/it]\n"
     ]
    },
    {
     "name": "stdout",
     "output_type": "stream",
     "text": [
      "time: 22.19478464126587\n",
      "-----------------------\n",
      "round-3\n"
     ]
    },
    {
     "name": "stderr",
     "output_type": "stream",
     "text": [
      "100%|████████████████████████████████████████████████████████████████████████████████████████████████████████████| 2/2 [00:09<00:00,  4.94s/it]\n"
     ]
    },
    {
     "name": "stdout",
     "output_type": "stream",
     "text": [
      "time: 32.09725379943848\n",
      "-----------------------\n",
      "round-4\n"
     ]
    },
    {
     "name": "stderr",
     "output_type": "stream",
     "text": [
      "100%|████████████████████████████████████████████████████████████████████████████████████████████████████████████| 2/2 [00:10<00:00,  5.42s/it]\n"
     ]
    },
    {
     "name": "stdout",
     "output_type": "stream",
     "text": [
      "time: 42.9548065662384\n",
      "-----------------------\n",
      "round-5\n"
     ]
    },
    {
     "name": "stderr",
     "output_type": "stream",
     "text": [
      "100%|████████████████████████████████████████████████████████████████████████████████████████████████████████████| 2/2 [00:11<00:00,  5.56s/it]\n"
     ]
    },
    {
     "name": "stdout",
     "output_type": "stream",
     "text": [
      "time: 54.09225821495056\n",
      "-----------------------\n",
      "round-6\n"
     ]
    },
    {
     "name": "stderr",
     "output_type": "stream",
     "text": [
      "100%|████████████████████████████████████████████████████████████████████████████████████████████████████████████| 2/2 [00:11<00:00,  5.77s/it]\n"
     ]
    },
    {
     "name": "stdout",
     "output_type": "stream",
     "text": [
      "time: 65.64092111587524\n",
      "-----------------------\n",
      "round-7\n"
     ]
    },
    {
     "name": "stderr",
     "output_type": "stream",
     "text": [
      "100%|████████████████████████████████████████████████████████████████████████████████████████████████████████████| 2/2 [00:11<00:00,  5.86s/it]\n"
     ]
    },
    {
     "name": "stdout",
     "output_type": "stream",
     "text": [
      "time: 77.37961983680725\n",
      "-----------------------\n",
      "round-8\n"
     ]
    },
    {
     "name": "stderr",
     "output_type": "stream",
     "text": [
      "100%|████████████████████████████████████████████████████████████████████████████████████████████████████████████| 2/2 [00:11<00:00,  5.65s/it]\n"
     ]
    },
    {
     "name": "stdout",
     "output_type": "stream",
     "text": [
      "time: 88.69251441955566\n",
      "-----------------------\n",
      "round-9\n"
     ]
    },
    {
     "name": "stderr",
     "output_type": "stream",
     "text": [
      "100%|████████████████████████████████████████████████████████████████████████████████████████████████████████████| 2/2 [00:11<00:00,  5.69s/it]\n"
     ]
    },
    {
     "name": "stdout",
     "output_type": "stream",
     "text": [
      "time: 100.07577085494995\n",
      "-----------------------\n",
      "round-10\n"
     ]
    },
    {
     "name": "stderr",
     "output_type": "stream",
     "text": [
      "100%|████████████████████████████████████████████████████████████████████████████████████████████████████████████| 2/2 [00:14<00:00,  7.39s/it]\n"
     ]
    },
    {
     "name": "stdout",
     "output_type": "stream",
     "text": [
      "time: 114.85209274291992\n",
      "==============sess5==============\n"
     ]
    },
    {
     "name": "stderr",
     "output_type": "stream",
     "text": [
      "100%|█████████████████████████████████████████████████████████████████████████████████████████████████████████| 2/2 [00:00<00:00, 18766.46it/s]\n"
     ]
    },
    {
     "name": "stdout",
     "output_type": "stream",
     "text": [
      "-----------------------\n",
      "round-1\n"
     ]
    },
    {
     "name": "stderr",
     "output_type": "stream",
     "text": [
      "100%|████████████████████████████████████████████████████████████████████████████████████████████████████████████| 2/2 [00:09<00:00,  4.59s/it]\n"
     ]
    },
    {
     "name": "stdout",
     "output_type": "stream",
     "text": [
      "time: 9.185026407241821\n",
      "-----------------------\n",
      "round-2\n"
     ]
    },
    {
     "name": "stderr",
     "output_type": "stream",
     "text": [
      "100%|████████████████████████████████████████████████████████████████████████████████████████████████████████████| 2/2 [00:09<00:00,  4.77s/it]\n"
     ]
    },
    {
     "name": "stdout",
     "output_type": "stream",
     "text": [
      "time: 18.74261999130249\n",
      "-----------------------\n",
      "round-3\n"
     ]
    },
    {
     "name": "stderr",
     "output_type": "stream",
     "text": [
      "100%|████████████████████████████████████████████████████████████████████████████████████████████████████████████| 2/2 [00:10<00:00,  5.16s/it]\n"
     ]
    },
    {
     "name": "stdout",
     "output_type": "stream",
     "text": [
      "time: 29.06744408607483\n",
      "-----------------------\n",
      "round-4\n"
     ]
    },
    {
     "name": "stderr",
     "output_type": "stream",
     "text": [
      "100%|████████████████████████████████████████████████████████████████████████████████████████████████████████████| 2/2 [00:10<00:00,  5.02s/it]\n"
     ]
    },
    {
     "name": "stdout",
     "output_type": "stream",
     "text": [
      "time: 39.12047266960144\n",
      "-----------------------\n",
      "round-5\n"
     ]
    },
    {
     "name": "stderr",
     "output_type": "stream",
     "text": [
      "100%|████████████████████████████████████████████████████████████████████████████████████████████████████████████| 2/2 [00:09<00:00,  4.90s/it]\n"
     ]
    },
    {
     "name": "stdout",
     "output_type": "stream",
     "text": [
      "time: 48.93765997886658\n",
      "-----------------------\n",
      "round-6\n"
     ]
    },
    {
     "name": "stderr",
     "output_type": "stream",
     "text": [
      "100%|████████████████████████████████████████████████████████████████████████████████████████████████████████████| 2/2 [00:09<00:00,  4.60s/it]\n"
     ]
    },
    {
     "name": "stdout",
     "output_type": "stream",
     "text": [
      "time: 58.14402174949646\n",
      "-----------------------\n",
      "round-7\n"
     ]
    },
    {
     "name": "stderr",
     "output_type": "stream",
     "text": [
      "100%|████████████████████████████████████████████████████████████████████████████████████████████████████████████| 2/2 [00:16<00:00,  8.25s/it]\n"
     ]
    },
    {
     "name": "stdout",
     "output_type": "stream",
     "text": [
      "time: 74.66096019744873\n",
      "-----------------------\n",
      "round-8\n"
     ]
    },
    {
     "name": "stderr",
     "output_type": "stream",
     "text": [
      "100%|████████████████████████████████████████████████████████████████████████████████████████████████████████████| 2/2 [00:09<00:00,  4.64s/it]\n"
     ]
    },
    {
     "name": "stdout",
     "output_type": "stream",
     "text": [
      "time: 83.94296145439148\n",
      "-----------------------\n",
      "round-9\n"
     ]
    },
    {
     "name": "stderr",
     "output_type": "stream",
     "text": [
      "100%|████████████████████████████████████████████████████████████████████████████████████████████████████████████| 2/2 [00:08<00:00,  4.42s/it]\n"
     ]
    },
    {
     "name": "stdout",
     "output_type": "stream",
     "text": [
      "time: 92.80196166038513\n",
      "-----------------------\n",
      "round-10\n"
     ]
    },
    {
     "name": "stderr",
     "output_type": "stream",
     "text": [
      "100%|████████████████████████████████████████████████████████████████████████████████████████████████████████████| 2/2 [00:09<00:00,  4.58s/it]\n"
     ]
    },
    {
     "name": "stdout",
     "output_type": "stream",
     "text": [
      "time: 101.97610354423523\n",
      "==============sess6==============\n"
     ]
    },
    {
     "name": "stderr",
     "output_type": "stream",
     "text": [
      "100%|██████████████████████████████████████████████████████████████████████████████████████████████████████████| 2/2 [00:00<00:00, 6141.00it/s]\n"
     ]
    },
    {
     "name": "stdout",
     "output_type": "stream",
     "text": [
      "-----------------------\n",
      "round-1\n"
     ]
    },
    {
     "name": "stderr",
     "output_type": "stream",
     "text": [
      "100%|████████████████████████████████████████████████████████████████████████████████████████████████████████████| 2/2 [00:09<00:00,  4.84s/it]\n"
     ]
    },
    {
     "name": "stdout",
     "output_type": "stream",
     "text": [
      "time: 9.686476230621338\n",
      "-----------------------\n",
      "round-2\n"
     ]
    },
    {
     "name": "stderr",
     "output_type": "stream",
     "text": [
      "100%|████████████████████████████████████████████████████████████████████████████████████████████████████████████| 2/2 [00:13<00:00,  6.72s/it]\n"
     ]
    },
    {
     "name": "stdout",
     "output_type": "stream",
     "text": [
      "time: 23.142898082733154\n",
      "-----------------------\n",
      "round-3\n"
     ]
    },
    {
     "name": "stderr",
     "output_type": "stream",
     "text": [
      "100%|████████████████████████████████████████████████████████████████████████████████████████████████████████████| 2/2 [00:10<00:00,  5.24s/it]\n"
     ]
    },
    {
     "name": "stdout",
     "output_type": "stream",
     "text": [
      "time: 33.62606906890869\n",
      "-----------------------\n",
      "round-4\n"
     ]
    },
    {
     "name": "stderr",
     "output_type": "stream",
     "text": [
      "100%|████████████████████████████████████████████████████████████████████████████████████████████████████████████| 2/2 [00:10<00:00,  5.04s/it]\n"
     ]
    },
    {
     "name": "stdout",
     "output_type": "stream",
     "text": [
      "time: 43.71496534347534\n",
      "-----------------------\n",
      "round-5\n"
     ]
    },
    {
     "name": "stderr",
     "output_type": "stream",
     "text": [
      "100%|████████████████████████████████████████████████████████████████████████████████████████████████████████████| 2/2 [00:11<00:00,  5.77s/it]\n"
     ]
    },
    {
     "name": "stdout",
     "output_type": "stream",
     "text": [
      "time: 55.25811004638672\n",
      "-----------------------\n",
      "round-6\n"
     ]
    },
    {
     "name": "stderr",
     "output_type": "stream",
     "text": [
      "100%|████████████████████████████████████████████████████████████████████████████████████████████████████████████| 2/2 [00:10<00:00,  5.27s/it]\n"
     ]
    },
    {
     "name": "stdout",
     "output_type": "stream",
     "text": [
      "time: 65.79766082763672\n",
      "-----------------------\n",
      "round-7\n"
     ]
    },
    {
     "name": "stderr",
     "output_type": "stream",
     "text": [
      "100%|████████████████████████████████████████████████████████████████████████████████████████████████████████████| 2/2 [00:09<00:00,  4.87s/it]\n"
     ]
    },
    {
     "name": "stdout",
     "output_type": "stream",
     "text": [
      "time: 75.55835437774658\n",
      "-----------------------\n",
      "round-8\n"
     ]
    },
    {
     "name": "stderr",
     "output_type": "stream",
     "text": [
      "100%|████████████████████████████████████████████████████████████████████████████████████████████████████████████| 2/2 [00:10<00:00,  5.18s/it]\n"
     ]
    },
    {
     "name": "stdout",
     "output_type": "stream",
     "text": [
      "time: 85.92052483558655\n",
      "-----------------------\n",
      "round-9\n"
     ]
    },
    {
     "name": "stderr",
     "output_type": "stream",
     "text": [
      "100%|████████████████████████████████████████████████████████████████████████████████████████████████████████████| 2/2 [00:09<00:00,  4.96s/it]\n"
     ]
    },
    {
     "name": "stdout",
     "output_type": "stream",
     "text": [
      "time: 95.84256172180176\n",
      "-----------------------\n",
      "round-10\n"
     ]
    },
    {
     "name": "stderr",
     "output_type": "stream",
     "text": [
      "100%|████████████████████████████████████████████████████████████████████████████████████████████████████████████| 2/2 [00:10<00:00,  5.19s/it]\n"
     ]
    },
    {
     "name": "stdout",
     "output_type": "stream",
     "text": [
      "time: 106.24023222923279\n",
      "==============sess7==============\n"
     ]
    },
    {
     "name": "stderr",
     "output_type": "stream",
     "text": [
      "100%|██████████████████████████████████████████████████████████████████████████████████████████████████████████| 2/2 [00:00<00:00, 9974.56it/s]\n"
     ]
    },
    {
     "name": "stdout",
     "output_type": "stream",
     "text": [
      "-----------------------\n",
      "round-1\n"
     ]
    },
    {
     "name": "stderr",
     "output_type": "stream",
     "text": [
      "100%|████████████████████████████████████████████████████████████████████████████████████████████████████████████| 2/2 [00:10<00:00,  5.05s/it]\n"
     ]
    },
    {
     "name": "stdout",
     "output_type": "stream",
     "text": [
      "time: 10.107158184051514\n",
      "-----------------------\n",
      "round-2\n"
     ]
    },
    {
     "name": "stderr",
     "output_type": "stream",
     "text": [
      "100%|████████████████████████████████████████████████████████████████████████████████████████████████████████████| 2/2 [00:09<00:00,  4.87s/it]\n"
     ]
    },
    {
     "name": "stdout",
     "output_type": "stream",
     "text": [
      "time: 19.851101875305176\n",
      "-----------------------\n",
      "round-3\n"
     ]
    },
    {
     "name": "stderr",
     "output_type": "stream",
     "text": [
      "100%|████████████████████████████████████████████████████████████████████████████████████████████████████████████| 2/2 [00:13<00:00,  6.51s/it]\n"
     ]
    },
    {
     "name": "stdout",
     "output_type": "stream",
     "text": [
      "time: 32.88319277763367\n",
      "-----------------------\n",
      "round-4\n"
     ]
    },
    {
     "name": "stderr",
     "output_type": "stream",
     "text": [
      "100%|████████████████████████████████████████████████████████████████████████████████████████████████████████████| 2/2 [00:13<00:00,  6.80s/it]\n"
     ]
    },
    {
     "name": "stdout",
     "output_type": "stream",
     "text": [
      "time: 46.49344992637634\n",
      "-----------------------\n",
      "round-5\n"
     ]
    },
    {
     "name": "stderr",
     "output_type": "stream",
     "text": [
      "100%|████████████████████████████████████████████████████████████████████████████████████████████████████████████| 2/2 [00:12<00:00,  6.03s/it]\n"
     ]
    },
    {
     "name": "stdout",
     "output_type": "stream",
     "text": [
      "time: 58.563605308532715\n",
      "-----------------------\n",
      "round-6\n"
     ]
    },
    {
     "name": "stderr",
     "output_type": "stream",
     "text": [
      "100%|████████████████████████████████████████████████████████████████████████████████████████████████████████████| 2/2 [00:10<00:00,  5.38s/it]\n"
     ]
    },
    {
     "name": "stdout",
     "output_type": "stream",
     "text": [
      "time: 69.33057904243469\n",
      "-----------------------\n",
      "round-7\n"
     ]
    },
    {
     "name": "stderr",
     "output_type": "stream",
     "text": [
      "100%|████████████████████████████████████████████████████████████████████████████████████████████████████████████| 2/2 [00:10<00:00,  5.42s/it]\n"
     ]
    },
    {
     "name": "stdout",
     "output_type": "stream",
     "text": [
      "time: 80.18203163146973\n",
      "-----------------------\n",
      "round-8\n"
     ]
    },
    {
     "name": "stderr",
     "output_type": "stream",
     "text": [
      "100%|████████████████████████████████████████████████████████████████████████████████████████████████████████████| 2/2 [00:11<00:00,  5.96s/it]\n"
     ]
    },
    {
     "name": "stdout",
     "output_type": "stream",
     "text": [
      "time: 92.1039342880249\n",
      "-----------------------\n",
      "round-9\n"
     ]
    },
    {
     "name": "stderr",
     "output_type": "stream",
     "text": [
      "100%|████████████████████████████████████████████████████████████████████████████████████████████████████████████| 2/2 [00:11<00:00,  5.81s/it]\n"
     ]
    },
    {
     "name": "stdout",
     "output_type": "stream",
     "text": [
      "time: 103.72796535491943\n",
      "-----------------------\n",
      "round-10\n"
     ]
    },
    {
     "name": "stderr",
     "output_type": "stream",
     "text": [
      "100%|████████████████████████████████████████████████████████████████████████████████████████████████████████████| 2/2 [00:12<00:00,  6.41s/it]\n"
     ]
    },
    {
     "name": "stdout",
     "output_type": "stream",
     "text": [
      "time: 116.56318020820618\n",
      "==============sess8==============\n"
     ]
    },
    {
     "name": "stderr",
     "output_type": "stream",
     "text": [
      "100%|██████████████████████████████████████████████████████████████████████████████████████████████████████████| 2/2 [00:00<00:00, 9436.00it/s]\n"
     ]
    },
    {
     "name": "stdout",
     "output_type": "stream",
     "text": [
      "-----------------------\n",
      "round-1\n"
     ]
    },
    {
     "name": "stderr",
     "output_type": "stream",
     "text": [
      "100%|████████████████████████████████████████████████████████████████████████████████████████████████████████████| 2/2 [00:11<00:00,  5.72s/it]\n"
     ]
    },
    {
     "name": "stdout",
     "output_type": "stream",
     "text": [
      "time: 11.438238620758057\n",
      "-----------------------\n",
      "round-2\n"
     ]
    },
    {
     "name": "stderr",
     "output_type": "stream",
     "text": [
      "100%|████████████████████████████████████████████████████████████████████████████████████████████████████████████| 2/2 [00:10<00:00,  5.39s/it]\n"
     ]
    },
    {
     "name": "stdout",
     "output_type": "stream",
     "text": [
      "time: 22.231299877166748\n",
      "-----------------------\n",
      "round-3\n"
     ]
    },
    {
     "name": "stderr",
     "output_type": "stream",
     "text": [
      "100%|████████████████████████████████████████████████████████████████████████████████████████████████████████████| 2/2 [00:10<00:00,  5.25s/it]\n"
     ]
    },
    {
     "name": "stdout",
     "output_type": "stream",
     "text": [
      "time: 32.73408603668213\n",
      "-----------------------\n",
      "round-4\n"
     ]
    },
    {
     "name": "stderr",
     "output_type": "stream",
     "text": [
      "100%|████████████████████████████████████████████████████████████████████████████████████████████████████████████| 2/2 [00:10<00:00,  5.11s/it]\n"
     ]
    },
    {
     "name": "stdout",
     "output_type": "stream",
     "text": [
      "time: 42.97370672225952\n",
      "-----------------------\n",
      "round-5\n"
     ]
    },
    {
     "name": "stderr",
     "output_type": "stream",
     "text": [
      "100%|████████████████████████████████████████████████████████████████████████████████████████████████████████████| 2/2 [00:09<00:00,  4.79s/it]\n"
     ]
    },
    {
     "name": "stdout",
     "output_type": "stream",
     "text": [
      "time: 52.5666708946228\n",
      "-----------------------\n",
      "round-6\n"
     ]
    },
    {
     "name": "stderr",
     "output_type": "stream",
     "text": [
      "100%|████████████████████████████████████████████████████████████████████████████████████████████████████████████| 2/2 [00:10<00:00,  5.48s/it]\n"
     ]
    },
    {
     "name": "stdout",
     "output_type": "stream",
     "text": [
      "time: 63.53417468070984\n",
      "-----------------------\n",
      "round-7\n"
     ]
    },
    {
     "name": "stderr",
     "output_type": "stream",
     "text": [
      "100%|████████████████████████████████████████████████████████████████████████████████████████████████████████████| 2/2 [00:10<00:00,  5.28s/it]\n"
     ]
    },
    {
     "name": "stdout",
     "output_type": "stream",
     "text": [
      "time: 74.10411143302917\n",
      "-----------------------\n",
      "round-8\n"
     ]
    },
    {
     "name": "stderr",
     "output_type": "stream",
     "text": [
      "100%|████████████████████████████████████████████████████████████████████████████████████████████████████████████| 2/2 [00:10<00:00,  5.21s/it]\n"
     ]
    },
    {
     "name": "stdout",
     "output_type": "stream",
     "text": [
      "time: 84.53129315376282\n",
      "-----------------------\n",
      "round-9\n"
     ]
    },
    {
     "name": "stderr",
     "output_type": "stream",
     "text": [
      "100%|████████████████████████████████████████████████████████████████████████████████████████████████████████████| 2/2 [00:11<00:00,  5.92s/it]\n"
     ]
    },
    {
     "name": "stdout",
     "output_type": "stream",
     "text": [
      "time: 96.38864660263062\n",
      "-----------------------\n",
      "round-10\n"
     ]
    },
    {
     "name": "stderr",
     "output_type": "stream",
     "text": [
      "100%|████████████████████████████████████████████████████████████████████████████████████████████████████████████| 2/2 [00:13<00:00,  6.69s/it]\n"
     ]
    },
    {
     "name": "stdout",
     "output_type": "stream",
     "text": [
      "time: 109.78064560890198\n",
      "==============sess9==============\n"
     ]
    },
    {
     "name": "stderr",
     "output_type": "stream",
     "text": [
      "100%|██████████████████████████████████████████████████████████████████████████████████████████████████████████| 2/2 [00:00<00:00, 9436.00it/s]\n"
     ]
    },
    {
     "name": "stdout",
     "output_type": "stream",
     "text": [
      "-----------------------\n",
      "round-1\n"
     ]
    },
    {
     "name": "stderr",
     "output_type": "stream",
     "text": [
      "100%|████████████████████████████████████████████████████████████████████████████████████████████████████████████| 2/2 [00:09<00:00,  4.79s/it]\n"
     ]
    },
    {
     "name": "stdout",
     "output_type": "stream",
     "text": [
      "time: 9.595043182373047\n",
      "-----------------------\n",
      "round-2\n"
     ]
    },
    {
     "name": "stderr",
     "output_type": "stream",
     "text": [
      "100%|████████████████████████████████████████████████████████████████████████████████████████████████████████████| 2/2 [00:10<00:00,  5.40s/it]\n"
     ]
    },
    {
     "name": "stdout",
     "output_type": "stream",
     "text": [
      "time: 20.399885892868042\n",
      "-----------------------\n",
      "round-3\n"
     ]
    },
    {
     "name": "stderr",
     "output_type": "stream",
     "text": [
      "100%|████████████████████████████████████████████████████████████████████████████████████████████████████████████| 2/2 [00:09<00:00,  5.00s/it]\n"
     ]
    },
    {
     "name": "stdout",
     "output_type": "stream",
     "text": [
      "time: 30.410812377929688\n",
      "-----------------------\n",
      "round-4\n"
     ]
    },
    {
     "name": "stderr",
     "output_type": "stream",
     "text": [
      "100%|████████████████████████████████████████████████████████████████████████████████████████████████████████████| 2/2 [00:11<00:00,  5.79s/it]\n"
     ]
    },
    {
     "name": "stdout",
     "output_type": "stream",
     "text": [
      "time: 42.00923299789429\n",
      "-----------------------\n",
      "round-5\n"
     ]
    },
    {
     "name": "stderr",
     "output_type": "stream",
     "text": [
      "100%|████████████████████████████████████████████████████████████████████████████████████████████████████████████| 2/2 [00:11<00:00,  5.97s/it]\n"
     ]
    },
    {
     "name": "stdout",
     "output_type": "stream",
     "text": [
      "time: 53.96840858459473\n",
      "-----------------------\n",
      "round-6\n"
     ]
    },
    {
     "name": "stderr",
     "output_type": "stream",
     "text": [
      "100%|████████████████████████████████████████████████████████████████████████████████████████████████████████████| 2/2 [00:11<00:00,  5.82s/it]\n"
     ]
    },
    {
     "name": "stdout",
     "output_type": "stream",
     "text": [
      "time: 65.62911486625671\n",
      "-----------------------\n",
      "round-7\n"
     ]
    },
    {
     "name": "stderr",
     "output_type": "stream",
     "text": [
      "100%|████████████████████████████████████████████████████████████████████████████████████████████████████████████| 2/2 [00:12<00:00,  6.07s/it]\n"
     ]
    },
    {
     "name": "stdout",
     "output_type": "stream",
     "text": [
      "time: 77.78564167022705\n",
      "-----------------------\n",
      "round-8\n"
     ]
    },
    {
     "name": "stderr",
     "output_type": "stream",
     "text": [
      "100%|████████████████████████████████████████████████████████████████████████████████████████████████████████████| 2/2 [00:10<00:00,  5.27s/it]\n"
     ]
    },
    {
     "name": "stdout",
     "output_type": "stream",
     "text": [
      "time: 88.34200811386108\n",
      "-----------------------\n",
      "round-9\n"
     ]
    },
    {
     "name": "stderr",
     "output_type": "stream",
     "text": [
      "100%|████████████████████████████████████████████████████████████████████████████████████████████████████████████| 2/2 [00:11<00:00,  5.57s/it]\n"
     ]
    },
    {
     "name": "stdout",
     "output_type": "stream",
     "text": [
      "time: 99.50069451332092\n",
      "-----------------------\n",
      "round-10\n"
     ]
    },
    {
     "name": "stderr",
     "output_type": "stream",
     "text": [
      "100%|████████████████████████████████████████████████████████████████████████████████████████████████████████████| 2/2 [00:12<00:00,  6.10s/it]\n"
     ]
    },
    {
     "name": "stdout",
     "output_type": "stream",
     "text": [
      "time: 111.71209168434143\n",
      "==============sess10==============\n"
     ]
    },
    {
     "name": "stderr",
     "output_type": "stream",
     "text": [
      "100%|██████████████████████████████████████████████████████████████████████████████████████████████████████████| 2/2 [00:00<00:00, 9289.71it/s]\n"
     ]
    },
    {
     "name": "stdout",
     "output_type": "stream",
     "text": [
      "-----------------------\n",
      "round-1\n"
     ]
    },
    {
     "name": "stderr",
     "output_type": "stream",
     "text": [
      "100%|████████████████████████████████████████████████████████████████████████████████████████████████████████████| 2/2 [00:11<00:00,  5.52s/it]\n"
     ]
    },
    {
     "name": "stdout",
     "output_type": "stream",
     "text": [
      "time: 11.055052995681763\n",
      "-----------------------\n",
      "round-2\n"
     ]
    },
    {
     "name": "stderr",
     "output_type": "stream",
     "text": [
      "100%|████████████████████████████████████████████████████████████████████████████████████████████████████████████| 2/2 [00:09<00:00,  4.61s/it]\n"
     ]
    },
    {
     "name": "stdout",
     "output_type": "stream",
     "text": [
      "time: 20.290520429611206\n",
      "-----------------------\n",
      "round-3\n"
     ]
    },
    {
     "name": "stderr",
     "output_type": "stream",
     "text": [
      "100%|████████████████████████████████████████████████████████████████████████████████████████████████████████████| 2/2 [00:12<00:00,  6.30s/it]\n"
     ]
    },
    {
     "name": "stdout",
     "output_type": "stream",
     "text": [
      "time: 32.89976119995117\n",
      "-----------------------\n",
      "round-4\n"
     ]
    },
    {
     "name": "stderr",
     "output_type": "stream",
     "text": [
      "100%|████████████████████████████████████████████████████████████████████████████████████████████████████████████| 2/2 [00:13<00:00,  6.54s/it]\n"
     ]
    },
    {
     "name": "stdout",
     "output_type": "stream",
     "text": [
      "time: 45.99077534675598\n",
      "-----------------------\n",
      "round-5\n"
     ]
    },
    {
     "name": "stderr",
     "output_type": "stream",
     "text": [
      "100%|████████████████████████████████████████████████████████████████████████████████████████████████████████████| 2/2 [00:11<00:00,  5.60s/it]\n"
     ]
    },
    {
     "name": "stdout",
     "output_type": "stream",
     "text": [
      "time: 57.20359826087952\n",
      "-----------------------\n",
      "round-6\n"
     ]
    },
    {
     "name": "stderr",
     "output_type": "stream",
     "text": [
      "100%|████████████████████████████████████████████████████████████████████████████████████████████████████████████| 2/2 [00:14<00:00,  7.06s/it]\n"
     ]
    },
    {
     "name": "stdout",
     "output_type": "stream",
     "text": [
      "time: 71.33496832847595\n",
      "-----------------------\n",
      "round-7\n"
     ]
    },
    {
     "name": "stderr",
     "output_type": "stream",
     "text": [
      "100%|████████████████████████████████████████████████████████████████████████████████████████████████████████████| 2/2 [00:11<00:00,  5.82s/it]\n"
     ]
    },
    {
     "name": "stdout",
     "output_type": "stream",
     "text": [
      "time: 82.99302554130554\n",
      "-----------------------\n",
      "round-8\n"
     ]
    },
    {
     "name": "stderr",
     "output_type": "stream",
     "text": [
      "100%|████████████████████████████████████████████████████████████████████████████████████████████████████████████| 2/2 [00:10<00:00,  5.33s/it]\n"
     ]
    },
    {
     "name": "stdout",
     "output_type": "stream",
     "text": [
      "time: 93.66999530792236\n",
      "-----------------------\n",
      "round-9\n"
     ]
    },
    {
     "name": "stderr",
     "output_type": "stream",
     "text": [
      "100%|████████████████████████████████████████████████████████████████████████████████████████████████████████████| 2/2 [00:12<00:00,  6.29s/it]\n"
     ]
    },
    {
     "name": "stdout",
     "output_type": "stream",
     "text": [
      "time: 106.25659942626953\n",
      "-----------------------\n",
      "round-10\n"
     ]
    },
    {
     "name": "stderr",
     "output_type": "stream",
     "text": [
      "100%|████████████████████████████████████████████████████████████████████████████████████████████████████████████| 2/2 [00:12<00:00,  6.00s/it]"
     ]
    },
    {
     "name": "stdout",
     "output_type": "stream",
     "text": [
      "time: 118.27615332603455\n"
     ]
    },
    {
     "name": "stderr",
     "output_type": "stream",
     "text": [
      "\n"
     ]
    }
   ],
   "source": [
    "nround=10\n",
    "nsess=10\n",
    "\n",
    "expname='llama13b'\n",
    "\n",
    "\n",
    "max_try=50\n",
    "display_result=0\n",
    "\n",
    "\n",
    "for sess in range(1,1+nsess):\n",
    "    print(f'==============sess{sess}==============')\n",
    "    system_message = \"\"\"\n",
    "Please act as a human player. You are playing a game with another human player (called the opponent) for {nround} rounds.\n",
    "In each round, you and the opponent will simultaneously choose an action between F and J.\n",
    "{payoff_str}\n",
    "Before you choose an action, your actions, the opponent’s actions and your earnings in each of the previous rounds will be shown. Your goal is to maximize your own total earnings in all {nround} rounds. In each round, you should first think carefully about what to do, and then choose one of the two actions: F or J.\n",
    "    \"\"\".strip()\n",
    "\n",
    "    aa=f'If you choose J and the opponent chooses J, you earn 40 points and the opponent earns 40 points in this round.'\n",
    "    ab=f'If you choose J and the opponent chooses F, you earn 12 points and the opponent earns 50 points in this round.'\n",
    "    ba=f'If you choose F and the opponent chooses J, you earn 50 points and the opponent earns 12 points in this round.'\n",
    "    bb=f'If you choose F and the opponent chooses F, you earn 25 points and the opponent earns 25 points in this round.'\n",
    "    payoff=[aa,ab,ba,bb]\n",
    "    \n",
    "    ######################## init players and records\n",
    "    N=2\n",
    "    players=[]\n",
    "    payoff=[aa,ab,ba,bb]\n",
    "    for _ in tqdm(range(N)):\n",
    "        random.shuffle(payoff)\n",
    "        payoff_str=payoff[0]+'\\n'+payoff[1]+'\\n'+payoff[2]+'\\n'+payoff[3]\n",
    "        tmp_system_message=system_message.format(nround=nround, payoff_str=payoff_str)\n",
    "    #     print(tmp_system_message)\n",
    "        bot=ChatApp(system_message=tmp_system_message)\n",
    "        players.append(bot)\n",
    "    records=[]\n",
    "    for _ in range(N):    \n",
    "        df = pd.DataFrame(columns=['Round','Your choice','Co-player choice','Earnings','Reason of choice'])\n",
    "        records.append(df)\n",
    "\n",
    "    ######################## start game\n",
    "\n",
    "    starttime=time.time()\n",
    "    for round in range(1,nround+1):\n",
    "        print('-----------------------')\n",
    "        print(f'round-{round}')\n",
    "\n",
    "        # if this round done, continue\n",
    "        recordfile=os.path.join(filepath,f'records_finPD_{expname}_{nround}_sess{sess}_round{round}.pkl')\n",
    "        playerfile=os.path.join(filepath,f'players_finPD_{expname}_{nround}_sess{sess}_round{round}.pkl')\n",
    "        if os.path.exists(recordfile) and os.path.exists(playerfile):\n",
    "            with open(recordfile, 'rb') as f:\n",
    "                records = pickle.load(f)\n",
    "            with open(playerfile, 'rb') as f:\n",
    "                players = pickle.load(f)\n",
    "            print('existed!')\n",
    "            continue\n",
    "\n",
    "#         for _ in range(max_try):\n",
    "#             try:\n",
    "        if round>1:\n",
    "            prev_round=round-1\n",
    "            recordfile=os.path.join(filepath,f'records_finPD_{expname}_{nround}_sess{sess}_round{prev_round}.pkl')\n",
    "            playerfile=os.path.join(filepath,f'players_finPD_{expname}_{nround}_sess{sess}_round{prev_round}.pkl')\n",
    "            with open(recordfile, 'rb') as f:\n",
    "                records = pickle.load(f)\n",
    "            with open(playerfile, 'rb') as f:\n",
    "                players = pickle.load(f)\n",
    "        # play\n",
    "        tmp_records=[]\n",
    "        for i in tqdm(range(N)):\n",
    "            bot=players[i]\n",
    "            record=records[i]\n",
    "            action,reason=get_action(bot,record,model=model,display=display_result)\n",
    "            tmp_records.append([round,action,'NULL',0,reason])\n",
    "            # ['Round','Your choice','Co-player choice','Earnings','Reason of choice']\n",
    "\n",
    "        # calculate total public\n",
    "        c1,c2=tmp_records[0][1],tmp_records[1][1]\n",
    "        if c1=='J' and c2=='J':\n",
    "            e1,e2=40,40\n",
    "        elif c1=='J' and c2=='F':\n",
    "            e1,e2=12,50\n",
    "        elif c1=='F' and c2=='J':\n",
    "            e1,e2=50,12\n",
    "        elif c1=='F' and c2=='F':\n",
    "            e1,e2=25,25\n",
    "        else:\n",
    "            print(c1,c2)\n",
    "            assert False\n",
    "        # ['Round','Your choice','Co-player choice','Earnings','Reason of choice']\n",
    "        tmp_records[0][2]=c2\n",
    "        tmp_records[1][2]=c1\n",
    "        tmp_records[0][3]=e1\n",
    "        tmp_records[1][3]=e2\n",
    "\n",
    "        # update records for all\n",
    "        for i in range(N):\n",
    "            record=records[i]\n",
    "            record.loc[len(record.index)]=tmp_records[i]\n",
    "        print('time:',time.time()-starttime)\n",
    "\n",
    "        # save file\n",
    "        recordfile=os.path.join(filepath,f'records_finPD_{expname}_{nround}_sess{sess}_round{round}.pkl')\n",
    "        playerfile=os.path.join(filepath,f'players_finPD_{expname}_{nround}_sess{sess}_round{round}.pkl')\n",
    "        with open(recordfile, 'wb') as f:\n",
    "            pickle.dump(records, f)\n",
    "        with open(playerfile, 'wb') as f:\n",
    "            pickle.dump(players, f)\n",
    "#                 break\n",
    "#             except Exception as e:\n",
    "#                 print(e)\n",
    "#                 print('error!sleep 30s...')\n",
    "#                 time.sleep(30)"
   ]
  },
  {
   "cell_type": "code",
   "execution_count": 46,
   "metadata": {
    "ExecuteTime": {
     "end_time": "2023-12-18T16:42:11.522635Z",
     "start_time": "2023-12-18T16:42:11.501488Z"
    },
    "hidden": true
   },
   "outputs": [
    {
     "name": "stdout",
     "output_type": "stream",
     "text": [
      "0.315\n"
     ]
    }
   ],
   "source": [
    "# NE choice rate (defect rate)\n",
    "nsess=10\n",
    "nround=10\n",
    "round=nround\n",
    "\n",
    "allaction=[]\n",
    "\n",
    "for sess in range(1,1+nsess):    \n",
    "    recordfile=os.path.join(filepath,f'records_finPD_{expname}_{nround}_sess{sess}_round{round}.pkl')\n",
    "    with open(recordfile, 'rb') as f:\n",
    "        records= pickle.load(f)\n",
    "    for record in records:\n",
    "        allaction.extend(record['Your choice'].tolist())\n",
    "\n",
    "\n",
    "out=allaction.count('F')/len(allaction)\n",
    "print(out)\n",
    "# print('%.3f'%(out))"
   ]
  },
  {
   "cell_type": "code",
   "execution_count": null,
   "metadata": {
    "hidden": true
   },
   "outputs": [],
   "source": []
  },
  {
   "cell_type": "markdown",
   "metadata": {
    "heading_collapsed": true
   },
   "source": [
    "## 5. One-shot public goods game"
   ]
  },
  {
   "cell_type": "code",
   "execution_count": 24,
   "metadata": {
    "ExecuteTime": {
     "end_time": "2023-12-07T02:03:47.411809Z",
     "start_time": "2023-12-07T02:03:47.402201Z"
    },
    "hidden": true
   },
   "outputs": [
    {
     "name": "stdout",
     "output_type": "stream",
     "text": [
      "Please act as a human player. You and 3 other players are playing a game for only one round. There is a shared public account and each player has a private account. Each player will be given 100 points. Then, all players simultaneously allocate these points into private account and public account. \n",
      "The points you allocate to your private account will be exchanged for earnings at a rate of 1:1, and these earnings will be received only by you. The total number of points in the public account equals to the sum of points allocated to the public account by all players (including yourself). These points will be exchanged for public earnings at a rate of 1:1.2, and these earnings will be equally shared among all 4 players, which means that each point in the public account will yield an earning of 0.3 points for each player. \n",
      "In sum, your earnings can be described as: Your earnings = (Points in your private account * 1) + (Total points in public account * 0.3)\n",
      "Your goal is to maximize your own earnings. You should first think carefully about what to do, and then make a decision.\n"
     ]
    }
   ],
   "source": [
    "N,G,K,Z=4, 1.2, 0.3, 100 \n",
    "\n",
    "assert abs(G-N*K)<0.000001\n",
    "\n",
    "system_message = f\"\"\"\n",
    "Please act as a human player. You and {N-1} other players are playing a game for only one round. There is a shared public account and each player has a private account. Each player will be given {Z} points. Then, all players simultaneously allocate these points into private account and public account. \n",
    "The points you allocate to your private account will be exchanged for earnings at a rate of 1:1, and these earnings will be received only by you. The total number of points in the public account equals to the sum of points allocated to the public account by all players (including yourself). These points will be exchanged for public earnings at a rate of 1:{G}, and these earnings will be equally shared among all {N} players, which means that each point in the public account will yield an earning of {K} points for each player. \n",
    "In sum, your earnings can be described as: Your earnings = (Points in your private account * 1) + (Total points in public account * {K})\n",
    "Your goal is to maximize your own earnings. You should first think carefully about what to do, and then make a decision.\n",
    "\"\"\".strip()\n",
    "\n",
    "print(system_message)"
   ]
  },
  {
   "cell_type": "code",
   "execution_count": 25,
   "metadata": {
    "ExecuteTime": {
     "end_time": "2023-12-07T02:03:47.783769Z",
     "start_time": "2023-12-07T02:03:47.779088Z"
    },
    "hidden": true
   },
   "outputs": [],
   "source": [
    "summarize_action=f\"\"\"Given the following paragraph delimited by triple backticks:\n",
    "```\n",
    "<out>\n",
    "```\n",
    "Please summarize how he thought, and the number of points allocated in private/public account in the first person from above paragraph in json format with keys 'thought', 'private' and 'public'. The value of 'private' and 'public' should be a number.\n",
    "\"\"\".strip()"
   ]
  },
  {
   "cell_type": "code",
   "execution_count": 27,
   "metadata": {
    "ExecuteTime": {
     "end_time": "2023-12-07T02:12:26.253523Z",
     "start_time": "2023-12-07T02:12:26.229194Z"
    },
    "code_folding": [
     0
    ],
    "hidden": true
   },
   "outputs": [],
   "source": [
    "def parse_response(response): # return a json\n",
    "    response = response.replace('Action','action')\n",
    "    response = response.replace('Thought','thought')\n",
    "    try:\n",
    "        out=json.loads(response,strict=0)\n",
    "    except:\n",
    "        start_index = response.find('{')  # 查找第一个'{'的索引\n",
    "        end_index = response.rfind('}')  # 查找最后一个'}'的索引\n",
    "        if end_index==-1:\n",
    "            response=response.strip()+'}'\n",
    "            \n",
    "        start_index = response.find('{')  # 查找第一个'{'的索引\n",
    "        end_index = response.rfind('}')  # 查找最后一个'}'的索引\n",
    "        if start_index != -1 and end_index != -1:\n",
    "            extracted_content = response[start_index:end_index + 1]\n",
    "            try:\n",
    "                out=json.loads(extracted_content,strict=0)\n",
    "            except:\n",
    "                print('json error: ',extracted_content)\n",
    "                corrected_json=correct_json(extracted_content)\n",
    "                print('corrected:',corrected_json)\n",
    "                start_index = corrected_json.find('{')  # 查找第一个'{'的索引\n",
    "                end_index = corrected_json.rfind('}')  # 查找最后一个'}'的索引\n",
    "                extracted_content = corrected_json[start_index:end_index + 1]\n",
    "                out=json.loads(extracted_content,strict=0)\n",
    "        else:\n",
    "            print('No json found in:',response)\n",
    "            assert 0\n",
    "    return out\n",
    "\n",
    "def get_action(bot,model,display=False):\n",
    "    message=f\"\"\"\n",
    "Now let's start the game. You are given {Z} points. Tell me how you think and how much you would like to allocate to the private and public account, respectively. Please answer in json format with keys 'thought', 'private', and 'public'. The sum of private and public should equal {Z}. \n",
    "\"\"\".strip()\n",
    "    res=bot.chat_wo_update(message, model=model)\n",
    "    time.sleep(1)\n",
    "    if display:\n",
    "        print('-------get action---------')\n",
    "        print(message)\n",
    "        print(res)\n",
    "    out=parse_response(res)\n",
    "    try:\n",
    "        private=out['private']\n",
    "        public=out['public']\n",
    "        reason=out['thought']\n",
    "        private,public=int(private),int(public)\n",
    "        \n",
    "    except:\n",
    "        print('key error:',res)\n",
    "        prompt=summarize_action.replace('<out>',res)\n",
    "        out=gpt_completion(prompt)\n",
    "        out=parse_response(out)\n",
    "        print('corrected:',out)\n",
    "        private=out['private']\n",
    "        public=out['public']\n",
    "        reason=out['thought']\n",
    "        \n",
    "    try:\n",
    "        assert abs(private+public-Z)<0.0001\n",
    "    except:\n",
    "        print('private+public!=Z',[private,public])\n",
    "        assert False\n",
    "    \n",
    "    return private,public,reason\n"
   ]
  },
  {
   "cell_type": "code",
   "execution_count": 30,
   "metadata": {
    "ExecuteTime": {
     "end_time": "2023-12-07T02:16:24.697233Z",
     "start_time": "2023-12-07T02:12:45.993365Z"
    },
    "code_folding": [
     23,
     49
    ],
    "hidden": true,
    "scrolled": true
   },
   "outputs": [
    {
     "name": "stdout",
     "output_type": "stream",
     "text": [
      "==============sess1==============\n"
     ]
    },
    {
     "name": "stderr",
     "output_type": "stream",
     "text": [
      "100%|█████████████████████████████████████████████████████████████████████████████████████████████████████████| 4/4 [00:00<00:00, 28630.06it/s]\n",
      "100%|████████████████████████████████████████████████████████████████████████████████████████████████████████████| 4/4 [00:11<00:00,  2.91s/it]\n"
     ]
    },
    {
     "name": "stdout",
     "output_type": "stream",
     "text": [
      "time: 11.66519808769226\n",
      "==============sess2==============\n"
     ]
    },
    {
     "name": "stderr",
     "output_type": "stream",
     "text": [
      "100%|█████████████████████████████████████████████████████████████████████████████████████████████████████████| 4/4 [00:00<00:00, 26973.02it/s]\n",
      "100%|████████████████████████████████████████████████████████████████████████████████████████████████████████████| 4/4 [00:11<00:00,  2.93s/it]\n"
     ]
    },
    {
     "name": "stdout",
     "output_type": "stream",
     "text": [
      "time: 11.731720924377441\n",
      "==============sess3==============\n"
     ]
    },
    {
     "name": "stderr",
     "output_type": "stream",
     "text": [
      "100%|█████████████████████████████████████████████████████████████████████████████████████████████████████████| 4/4 [00:00<00:00, 32078.81it/s]\n",
      "100%|████████████████████████████████████████████████████████████████████████████████████████████████████████████| 4/4 [00:11<00:00,  2.92s/it]\n"
     ]
    },
    {
     "name": "stdout",
     "output_type": "stream",
     "text": [
      "time: 11.672149658203125\n",
      "==============sess4==============\n"
     ]
    },
    {
     "name": "stderr",
     "output_type": "stream",
     "text": [
      "100%|█████████████████████████████████████████████████████████████████████████████████████████████████████████| 4/4 [00:00<00:00, 31242.49it/s]\n",
      "100%|████████████████████████████████████████████████████████████████████████████████████████████████████████████| 4/4 [00:11<00:00,  2.88s/it]\n"
     ]
    },
    {
     "name": "stdout",
     "output_type": "stream",
     "text": [
      "time: 11.525362491607666\n",
      "==============sess5==============\n"
     ]
    },
    {
     "name": "stderr",
     "output_type": "stream",
     "text": [
      "100%|█████████████████████████████████████████████████████████████████████████████████████████████████████████| 4/4 [00:00<00:00, 31655.12it/s]\n",
      "100%|████████████████████████████████████████████████████████████████████████████████████████████████████████████| 4/4 [00:11<00:00,  2.88s/it]\n"
     ]
    },
    {
     "name": "stdout",
     "output_type": "stream",
     "text": [
      "time: 11.518013000488281\n",
      "==============sess6==============\n"
     ]
    },
    {
     "name": "stderr",
     "output_type": "stream",
     "text": [
      "100%|█████████████████████████████████████████████████████████████████████████████████████████████████████████| 4/4 [00:00<00:00, 29537.35it/s]\n",
      "100%|████████████████████████████████████████████████████████████████████████████████████████████████████████████| 4/4 [00:11<00:00,  2.90s/it]\n"
     ]
    },
    {
     "name": "stdout",
     "output_type": "stream",
     "text": [
      "time: 11.615089654922485\n",
      "==============sess7==============\n"
     ]
    },
    {
     "name": "stderr",
     "output_type": "stream",
     "text": [
      "100%|█████████████████████████████████████████████████████████████████████████████████████████████████████████| 4/4 [00:00<00:00, 31775.03it/s]\n",
      "100%|████████████████████████████████████████████████████████████████████████████████████████████████████████████| 4/4 [00:11<00:00,  2.87s/it]\n"
     ]
    },
    {
     "name": "stdout",
     "output_type": "stream",
     "text": [
      "time: 11.486686944961548\n",
      "==============sess8==============\n"
     ]
    },
    {
     "name": "stderr",
     "output_type": "stream",
     "text": [
      "100%|█████████████████████████████████████████████████████████████████████████████████████████████████████████| 4/4 [00:00<00:00, 31956.60it/s]\n",
      "100%|████████████████████████████████████████████████████████████████████████████████████████████████████████████| 4/4 [00:11<00:00,  2.87s/it]\n"
     ]
    },
    {
     "name": "stdout",
     "output_type": "stream",
     "text": [
      "time: 11.479172706604004\n",
      "==============sess9==============\n"
     ]
    },
    {
     "name": "stderr",
     "output_type": "stream",
     "text": [
      "100%|█████████████████████████████████████████████████████████████████████████████████████████████████████████| 4/4 [00:00<00:00, 31359.28it/s]\n",
      "100%|████████████████████████████████████████████████████████████████████████████████████████████████████████████| 4/4 [00:11<00:00,  2.94s/it]\n"
     ]
    },
    {
     "name": "stdout",
     "output_type": "stream",
     "text": [
      "time: 11.761406898498535\n",
      "==============sess10==============\n"
     ]
    },
    {
     "name": "stderr",
     "output_type": "stream",
     "text": [
      "100%|█████████████████████████████████████████████████████████████████████████████████████████████████████████| 4/4 [00:00<00:00, 30897.27it/s]\n",
      "100%|████████████████████████████████████████████████████████████████████████████████████████████████████████████| 4/4 [00:10<00:00,  2.56s/it]\n"
     ]
    },
    {
     "name": "stdout",
     "output_type": "stream",
     "text": [
      "time: 10.25808572769165\n",
      "==============sess11==============\n"
     ]
    },
    {
     "name": "stderr",
     "output_type": "stream",
     "text": [
      "100%|█████████████████████████████████████████████████████████████████████████████████████████████████████████| 4/4 [00:00<00:00, 31011.49it/s]\n",
      "100%|████████████████████████████████████████████████████████████████████████████████████████████████████████████| 4/4 [00:10<00:00,  2.56s/it]\n"
     ]
    },
    {
     "name": "stdout",
     "output_type": "stream",
     "text": [
      "time: 10.25967812538147\n",
      "==============sess12==============\n"
     ]
    },
    {
     "name": "stderr",
     "output_type": "stream",
     "text": [
      "100%|█████████████████████████████████████████████████████████████████████████████████████████████████████████| 4/4 [00:00<00:00, 29485.44it/s]\n",
      "100%|████████████████████████████████████████████████████████████████████████████████████████████████████████████| 4/4 [00:10<00:00,  2.57s/it]\n"
     ]
    },
    {
     "name": "stdout",
     "output_type": "stream",
     "text": [
      "time: 10.301347494125366\n",
      "==============sess13==============\n"
     ]
    },
    {
     "name": "stderr",
     "output_type": "stream",
     "text": [
      "100%|█████████████████████████████████████████████████████████████████████████████████████████████████████████| 4/4 [00:00<00:00, 32832.13it/s]\n",
      "100%|████████████████████████████████████████████████████████████████████████████████████████████████████████████| 4/4 [00:10<00:00,  2.57s/it]\n"
     ]
    },
    {
     "name": "stdout",
     "output_type": "stream",
     "text": [
      "time: 10.281127214431763\n",
      "==============sess14==============\n"
     ]
    },
    {
     "name": "stderr",
     "output_type": "stream",
     "text": [
      "100%|█████████████████████████████████████████████████████████████████████████████████████████████████████████| 4/4 [00:00<00:00, 50081.24it/s]\n",
      "100%|████████████████████████████████████████████████████████████████████████████████████████████████████████████| 4/4 [00:10<00:00,  2.57s/it]\n"
     ]
    },
    {
     "name": "stdout",
     "output_type": "stream",
     "text": [
      "time: 10.27645492553711\n",
      "==============sess15==============\n"
     ]
    },
    {
     "name": "stderr",
     "output_type": "stream",
     "text": [
      "100%|█████████████████████████████████████████████████████████████████████████████████████████████████████████| 4/4 [00:00<00:00, 32896.50it/s]\n",
      "100%|████████████████████████████████████████████████████████████████████████████████████████████████████████████| 4/4 [00:10<00:00,  2.57s/it]\n"
     ]
    },
    {
     "name": "stdout",
     "output_type": "stream",
     "text": [
      "time: 10.303085803985596\n",
      "==============sess16==============\n"
     ]
    },
    {
     "name": "stderr",
     "output_type": "stream",
     "text": [
      "100%|█████████████████████████████████████████████████████████████████████████████████████████████████████████| 4/4 [00:00<00:00, 31595.51it/s]\n",
      "100%|████████████████████████████████████████████████████████████████████████████████████████████████████████████| 4/4 [00:10<00:00,  2.56s/it]\n"
     ]
    },
    {
     "name": "stdout",
     "output_type": "stream",
     "text": [
      "time: 10.265425682067871\n",
      "==============sess17==============\n"
     ]
    },
    {
     "name": "stderr",
     "output_type": "stream",
     "text": [
      "100%|█████████████████████████████████████████████████████████████████████████████████████████████████████████| 4/4 [00:00<00:00, 31476.95it/s]\n",
      "100%|████████████████████████████████████████████████████████████████████████████████████████████████████████████| 4/4 [00:10<00:00,  2.56s/it]\n"
     ]
    },
    {
     "name": "stdout",
     "output_type": "stream",
     "text": [
      "time: 10.262826681137085\n",
      "==============sess18==============\n"
     ]
    },
    {
     "name": "stderr",
     "output_type": "stream",
     "text": [
      "100%|█████████████████████████████████████████████████████████████████████████████████████████████████████████| 4/4 [00:00<00:00, 31835.32it/s]\n",
      "100%|████████████████████████████████████████████████████████████████████████████████████████████████████████████| 4/4 [00:10<00:00,  2.56s/it]\n"
     ]
    },
    {
     "name": "stdout",
     "output_type": "stream",
     "text": [
      "time: 10.267991304397583\n",
      "==============sess19==============\n"
     ]
    },
    {
     "name": "stderr",
     "output_type": "stream",
     "text": [
      "100%|█████████████████████████████████████████████████████████████████████████████████████████████████████████| 4/4 [00:00<00:00, 31068.92it/s]\n",
      "100%|████████████████████████████████████████████████████████████████████████████████████████████████████████████| 4/4 [00:11<00:00,  2.81s/it]\n"
     ]
    },
    {
     "name": "stdout",
     "output_type": "stream",
     "text": [
      "time: 11.251564979553223\n",
      "==============sess20==============\n"
     ]
    },
    {
     "name": "stderr",
     "output_type": "stream",
     "text": [
      "100%|█████████████████████████████████████████████████████████████████████████████████████████████████████████| 4/4 [00:00<00:00, 27016.45it/s]\n",
      "100%|████████████████████████████████████████████████████████████████████████████████████████████████████████████| 4/4 [00:10<00:00,  2.55s/it]"
     ]
    },
    {
     "name": "stdout",
     "output_type": "stream",
     "text": [
      "time: 10.221486806869507\n"
     ]
    },
    {
     "name": "stderr",
     "output_type": "stream",
     "text": [
      "\n"
     ]
    }
   ],
   "source": [
    "###########################\n",
    "nsess=20\n",
    "\n",
    "expname='llama13b'\n",
    "\n",
    "max_try=50\n",
    "display_result=0\n",
    "\n",
    "system_message = f\"\"\"\n",
    "Please act as a human player. You and {N-1} other players are playing a game for only one round. There is a shared public account and each player has a private account. Each player will be given {Z} points. Then, all players simultaneously allocate these points into private account and public account. \n",
    "The points you allocate to your private account will be exchanged for earnings at a rate of 1:1, and these earnings will be received only by you. The total number of points in the public account equals to the sum of points allocated to the public account by all players (including yourself). These points will be exchanged for public earnings at a rate of 1:{G}, and these earnings will be equally shared among all {N} players, which means that each point in the public account will yield an earning of {K} points for each player. \n",
    "In sum, your earnings can be described as: Your earnings = (Points in your private account * 1) + (Total points in public account * {K})\n",
    "Your goal is to maximize your own earnings. You should first think carefully about what to do, and then make a decision.\n",
    "\"\"\".strip()\n",
    "\n",
    "for sess in range(1,1+nsess):\n",
    "    print(f'==============sess{sess}==============')\n",
    "    \n",
    "    ######################## init players and records\n",
    "    players=[]\n",
    "    for _ in tqdm(range(N)):\n",
    "        bot=ChatApp(system_message=system_message)\n",
    "        players.append(bot)\n",
    "    records=[]\n",
    "    cols=['Period','Private','Public','Total public','Earnings','Reason']\n",
    "    for _ in range(N):    \n",
    "        df = pd.DataFrame(columns=cols)\n",
    "        records.append(df)\n",
    "\n",
    "    ######################## start game\n",
    "    # if this sess done, continue\n",
    "    recordfile=os.path.join(filepath,f'records_{expname}_{N}_{G}_{K}_{Z}_sess{sess}.pkl')\n",
    "    playerfile=os.path.join(filepath,f'players_{expname}_{N}_{G}_{K}_{Z}_sess{sess}.pkl')\n",
    "    if os.path.exists(recordfile) and os.path.exists(playerfile):\n",
    "        with open(recordfile, 'rb') as f:\n",
    "            records = pickle.load(f)\n",
    "        with open(playerfile, 'rb') as f:\n",
    "            players = pickle.load(f)\n",
    "        print('existed!')\n",
    "        continue\n",
    "    starttime=time.time()\n",
    "    for _ in range(max_try):\n",
    "        try:\n",
    "            # play\n",
    "            tmp_records=[]\n",
    "            for i in tqdm(range(N)):\n",
    "                bot=players[i]\n",
    "                record=records[i]\n",
    "                private,public,reason=get_action(bot,model=model,display=display_result)\n",
    "                tmp_records.append([1,private,public,0,0,reason])\n",
    "                # ['Period','Private','Public','Total public','Earnings','Reason']\n",
    "\n",
    "            # calculate total public\n",
    "            total_public=sum([x[2] for x in tmp_records])\n",
    "\n",
    "            # calculate earnings for all\n",
    "            for r in tmp_records:\n",
    "                r[3]=total_public\n",
    "                r[4]=r[1]+total_public*K\n",
    "\n",
    "            # update records for all\n",
    "            for i in range(N):\n",
    "                record=records[i]\n",
    "                record.loc[len(record.index)]=tmp_records[i]\n",
    "\n",
    "            print('time:',time.time()-starttime)\n",
    "\n",
    "\n",
    "            # save file\n",
    "            recordfile=os.path.join(filepath,f'records_{expname}_{N}_{G}_{K}_{Z}_sess{sess}.pkl')\n",
    "            playerfile=os.path.join(filepath,f'players_{expname}_{N}_{G}_{K}_{Z}_sess{sess}.pkl')\n",
    "            with open(recordfile, 'wb') as f:\n",
    "                pickle.dump(records, f)\n",
    "            with open(playerfile, 'wb') as f:\n",
    "                pickle.dump(players, f)\n",
    "            break\n",
    "        except Exception as e:\n",
    "            print(e)\n",
    "            print('error!sleep 30s...')\n",
    "            time.sleep(30)   "
   ]
  },
  {
   "cell_type": "code",
   "execution_count": 32,
   "metadata": {
    "ExecuteTime": {
     "end_time": "2023-12-07T02:16:44.709798Z",
     "start_time": "2023-12-07T02:16:44.688090Z"
    },
    "hidden": true
   },
   "outputs": [
    {
     "name": "stdout",
     "output_type": "stream",
     "text": [
      "30.0\n"
     ]
    }
   ],
   "source": [
    "nsess=20\n",
    "\n",
    "allprivate=[]\n",
    "for sess in range(1,nsess+1):\n",
    "    recordfile=os.path.join(filepath,f'records_{expname}_{N}_{G}_{K}_{Z}_sess{sess}.pkl')\n",
    "    with open(recordfile, 'rb') as f:\n",
    "        records= pickle.load(f)\n",
    "\n",
    "    for record in records:\n",
    "        tmp=record['Private'].tolist()\n",
    "        allprivate.extend(tmp)\n",
    "out=np.mean(allprivate)\n",
    "print(out)"
   ]
  },
  {
   "cell_type": "code",
   "execution_count": null,
   "metadata": {
    "hidden": true
   },
   "outputs": [],
   "source": []
  },
  {
   "cell_type": "markdown",
   "metadata": {
    "heading_collapsed": true
   },
   "source": [
    "## 6. Finitely repeated public goods game"
   ]
  },
  {
   "cell_type": "code",
   "execution_count": 29,
   "metadata": {
    "ExecuteTime": {
     "end_time": "2023-12-07T02:42:15.518094Z",
     "start_time": "2023-12-07T02:42:15.507623Z"
    },
    "hidden": true,
    "scrolled": true
   },
   "outputs": [
    {
     "name": "stdout",
     "output_type": "stream",
     "text": [
      "Please act as a human player. You and 3 other players are playing a repeated game for 10 rounds. In each round, there is a shared public account and each player has a private account. Each player will be given 100 points. Then, all players simultaneously allocate these points into private account and public account. \n",
      "The points you allocate to your private account will be exchanged for earnings at a rate of 1:1, and these earnings will be received only by you. The total number of points in the public account equals to the sum of points allocated to the public account by all players (including yourself). These points will be exchanged for public earnings at a rate of 1:1.2, and these earnings will be equally shared among all 4 players, which means that each point in the public account will yield an earning of 0.3 points for each player. \n",
      "In sum, your earnings in each round can be described as: Your earnings = (Points in your private account * 1) + (Total points in public account * 0.3)\n",
      "Your goal is to maximize your own total earnings in all 10 rounds. In each round, you should first think carefully about what to do, and then make a decision.\n"
     ]
    }
   ],
   "source": [
    "N,G,K,Z=4, 1.2, 0.3, 100\n",
    "\n",
    "nperiod=10\n",
    "\n",
    "assert abs(G-N*K)<0.000001\n",
    "\n",
    "system_message = f\"\"\"\n",
    "Please act as a human player. You and {N-1} other players are playing a repeated game for {nperiod} rounds. In each round, there is a shared public account and each player has a private account. Each player will be given {Z} points. Then, all players simultaneously allocate these points into private account and public account. \n",
    "The points you allocate to your private account will be exchanged for earnings at a rate of 1:1, and these earnings will be received only by you. The total number of points in the public account equals to the sum of points allocated to the public account by all players (including yourself). These points will be exchanged for public earnings at a rate of 1:{G}, and these earnings will be equally shared among all {N} players, which means that each point in the public account will yield an earning of {K} points for each player. \n",
    "In sum, your earnings in each round can be described as: Your earnings = (Points in your private account * 1) + (Total points in public account * {K})\n",
    "Your goal is to maximize your own total earnings in all {nperiod} rounds. In each round, you should first think carefully about what to do, and then make a decision.\n",
    "\"\"\".strip()\n",
    "\n",
    "print(system_message)"
   ]
  },
  {
   "cell_type": "code",
   "execution_count": 30,
   "metadata": {
    "ExecuteTime": {
     "end_time": "2023-12-07T02:42:27.303655Z",
     "start_time": "2023-12-07T02:42:27.291144Z"
    },
    "hidden": true
   },
   "outputs": [],
   "source": [
    "def correct_json(s):\n",
    "    tmp=s.split('\"')\n",
    "    newlist=[]\n",
    "    for x in tmp:\n",
    "        striped=x.strip()\n",
    "        if striped=='': # 缺少逗号\n",
    "            newlist.append(',')\n",
    "        elif striped[0]==':' and striped!=':':\n",
    "            newlist.extend([':',striped[1:-1].strip(),'}'])\n",
    "        else:\n",
    "            newlist.append(striped)\n",
    "    newstr='\"'.join(newlist)\n",
    "    try:\n",
    "        a=json.loads(newstr)\n",
    "    except:\n",
    "        prompt=f\"\"\"\n",
    "The following string delimited by triple backticks is in json format, but there are some mistakes, and I cannot directly convert it to json by json.loads(). For example, there may be missing comma or quotes. Please help me correct the mistakes, and output the string in valid json format. Please only output the corrected string, and do not output any other things.\n",
    "```\n",
    "{s}\n",
    "```\n",
    "        \"\"\".strip()\n",
    "        response = gpt_completion(prompt)\n",
    "        return response\n",
    "    return newstr\n",
    "\n",
    "s=\"\"\"{\n",
    "  \"thought\": \"aaa\"\n",
    "  \"action\": J\n",
    "}\"\"\"\n",
    "# print(correct_json(s))\n",
    "\n",
    "summarize_action=f\"\"\"Given the following paragraph delimited by triple backticks:\n",
    "```\n",
    "<out>\n",
    "```\n",
    "Please summarize how he thought, and the number of points allocated in private/public account in the first person from above paragraph in json format with keys 'thought', 'private' and 'public'. The value of 'private' and 'public' should be a number.\n",
    "\"\"\".strip()"
   ]
  },
  {
   "cell_type": "code",
   "execution_count": 31,
   "metadata": {
    "ExecuteTime": {
     "end_time": "2023-12-07T02:42:27.831129Z",
     "start_time": "2023-12-07T02:42:27.813311Z"
    },
    "code_folding": [
     12
    ],
    "hidden": true
   },
   "outputs": [],
   "source": [
    "def get_history(record):\n",
    "    history=''\n",
    "    for i in record.index:\n",
    "        period=i+1\n",
    "        public=record.loc[i,'Public']\n",
    "        total_public=record.loc[i,'Total public']\n",
    "        earning=record.loc[i,'Earnings']\n",
    "        tmp=f\"\"\"In round-{period}, you allocated {public} points in public account, the total points in public account were {total_public}, your total earnings were {earning} points.\"\"\"\n",
    "        history+=tmp\n",
    "        history+='\\n'\n",
    "    return history\n",
    "\n",
    "def parse_response(response): # return a json\n",
    "    response = response.replace('Action','action')\n",
    "    response = response.replace('Thought','thought')\n",
    "    try:\n",
    "        out=json.loads(response,strict=0)\n",
    "    except:\n",
    "        start_index = response.find('{')  # 查找第一个'{'的索引\n",
    "        end_index = response.rfind('}')  # 查找最后一个'}'的索引\n",
    "        if end_index==-1:\n",
    "            response=response.strip()+'}'\n",
    "            \n",
    "        start_index = response.find('{')  # 查找第一个'{'的索引\n",
    "        end_index = response.rfind('}')  # 查找最后一个'}'的索引\n",
    "        if start_index != -1 and end_index != -1:\n",
    "            extracted_content = response[start_index:end_index + 1]\n",
    "            try:\n",
    "                out=json.loads(extracted_content,strict=0)\n",
    "            except:\n",
    "                print('json error: ',extracted_content)\n",
    "                corrected_json=correct_json(extracted_content)\n",
    "                print('corrected:',corrected_json)\n",
    "                start_index = corrected_json.find('{')  # 查找第一个'{'的索引\n",
    "                end_index = corrected_json.rfind('}')  # 查找最后一个'}'的索引\n",
    "                extracted_content = corrected_json[start_index:end_index + 1]\n",
    "                out=json.loads(extracted_content,strict=0)\n",
    "        else:\n",
    "            print('No json found in:',response)\n",
    "            assert 0\n",
    "    return out"
   ]
  },
  {
   "cell_type": "code",
   "execution_count": 32,
   "metadata": {
    "ExecuteTime": {
     "end_time": "2023-12-07T02:42:28.062976Z",
     "start_time": "2023-12-07T02:42:28.056007Z"
    },
    "code_folding": [],
    "hidden": true
   },
   "outputs": [],
   "source": [
    "def get_action(bot,record,model,display=False):\n",
    "    history=get_history(record)\n",
    "    if len(record)==0:\n",
    "        message=f\"\"\"\n",
    "It is round-{period} out of {nperiod} rounds now. You are given {Z} points. Tell me how you think and how much you would like to allocate to the private and public account, respectively. Please answer in json format with keys 'thought', 'private', and 'public'. For example, {{\"thought\": \"I think...\",\"private\": x,\"public\": 100-x }}. The sum of private and public should equal {Z}. \n",
    "\"\"\".strip()\n",
    "    else:\n",
    "        message=f\"\"\"The history of the game is listed as follows delimited by triple backticks.\n",
    "```\n",
    "{history}\n",
    "```\n",
    "It is round-{period} out of {nperiod} rounds now. You are given {Z} points. Tell me how you think and how much you would like to allocate to the private and public account, respectively. Please answer in json format with keys 'thought', 'private', and 'public'. For example, {{\"thought\": \"I think...\",\"private\": x,\"public\": 100-x }}. The sum of private and public should equal {Z}. \n",
    "\"\"\".strip()\n",
    "    res=bot.chat_wo_update(message, model=model)\n",
    "    time.sleep(1)\n",
    "    if display:\n",
    "        print('-------get action---------')\n",
    "        print(message)\n",
    "        print(res)\n",
    "    out=parse_response(res)\n",
    "    \n",
    "    try:\n",
    "        private=out['private']\n",
    "        public=out['public']\n",
    "        reason=out['thought']\n",
    "        private,public=int(private),int(public)\n",
    "    except:\n",
    "        print('key error:',res)\n",
    "        prompt=summarize_action.replace('<out>',res)\n",
    "        out=gpt_completion(prompt)\n",
    "        out=parse_response(out)\n",
    "        print('corrected:',out)\n",
    "        private=out['private']\n",
    "        public=out['public']\n",
    "        reason=out['thought']\n",
    "    \n",
    "    try:\n",
    "        assert abs(private+public-Z)<0.0001\n",
    "    except:\n",
    "\n",
    "        if private>=0 and private<=100:\n",
    "            public = 100-private\n",
    "        else:\n",
    "            print(message)\n",
    "            print('private+public incorrect\\n',out)\n",
    "            assert False\n",
    "    \n",
    "    return private,public,reason\n"
   ]
  },
  {
   "cell_type": "code",
   "execution_count": 33,
   "metadata": {
    "ExecuteTime": {
     "end_time": "2023-12-07T03:07:46.839707Z",
     "start_time": "2023-12-07T02:55:25.588041Z"
    },
    "code_folding": [
     21
    ],
    "hidden": true,
    "scrolled": true
   },
   "outputs": [
    {
     "name": "stdout",
     "output_type": "stream",
     "text": [
      "==============sess1==============\n"
     ]
    },
    {
     "name": "stderr",
     "output_type": "stream",
     "text": [
      "100%|█████████████████████████████████████████████████████████████████████████████████████████████████████████| 4/4 [00:00<00:00, 28826.83it/s]\n"
     ]
    },
    {
     "name": "stdout",
     "output_type": "stream",
     "text": [
      "-----------------------\n",
      "period-1\n"
     ]
    },
    {
     "name": "stderr",
     "output_type": "stream",
     "text": [
      "100%|████████████████████████████████████████████████████████████████████████████████████████████████████████████| 4/4 [00:07<00:00,  1.87s/it]\n"
     ]
    },
    {
     "name": "stdout",
     "output_type": "stream",
     "text": [
      "time: 7.488827466964722\n",
      "-----------------------\n",
      "period-2\n"
     ]
    },
    {
     "name": "stderr",
     "output_type": "stream",
     "text": [
      "100%|████████████████████████████████████████████████████████████████████████████████████████████████████████████| 4/4 [00:07<00:00,  1.79s/it]\n"
     ]
    },
    {
     "name": "stdout",
     "output_type": "stream",
     "text": [
      "time: 14.664360284805298\n",
      "-----------------------\n",
      "period-3\n"
     ]
    },
    {
     "name": "stderr",
     "output_type": "stream",
     "text": [
      "100%|████████████████████████████████████████████████████████████████████████████████████████████████████████████| 4/4 [00:07<00:00,  1.80s/it]\n"
     ]
    },
    {
     "name": "stdout",
     "output_type": "stream",
     "text": [
      "time: 21.87762141227722\n",
      "-----------------------\n",
      "period-4\n"
     ]
    },
    {
     "name": "stderr",
     "output_type": "stream",
     "text": [
      "100%|████████████████████████████████████████████████████████████████████████████████████████████████████████████| 4/4 [00:07<00:00,  1.81s/it]\n"
     ]
    },
    {
     "name": "stdout",
     "output_type": "stream",
     "text": [
      "time: 29.11704397201538\n",
      "-----------------------\n",
      "period-5\n"
     ]
    },
    {
     "name": "stderr",
     "output_type": "stream",
     "text": [
      "100%|████████████████████████████████████████████████████████████████████████████████████████████████████████████| 4/4 [00:07<00:00,  1.80s/it]\n"
     ]
    },
    {
     "name": "stdout",
     "output_type": "stream",
     "text": [
      "time: 36.31973624229431\n",
      "-----------------------\n",
      "period-6\n"
     ]
    },
    {
     "name": "stderr",
     "output_type": "stream",
     "text": [
      "100%|████████████████████████████████████████████████████████████████████████████████████████████████████████████| 4/4 [00:07<00:00,  1.80s/it]\n"
     ]
    },
    {
     "name": "stdout",
     "output_type": "stream",
     "text": [
      "time: 43.54426956176758\n",
      "-----------------------\n",
      "period-7\n"
     ]
    },
    {
     "name": "stderr",
     "output_type": "stream",
     "text": [
      "100%|████████████████████████████████████████████████████████████████████████████████████████████████████████████| 4/4 [00:07<00:00,  1.81s/it]\n"
     ]
    },
    {
     "name": "stdout",
     "output_type": "stream",
     "text": [
      "time: 50.80325937271118\n",
      "-----------------------\n",
      "period-8\n"
     ]
    },
    {
     "name": "stderr",
     "output_type": "stream",
     "text": [
      "100%|████████████████████████████████████████████████████████████████████████████████████████████████████████████| 4/4 [00:07<00:00,  1.95s/it]\n"
     ]
    },
    {
     "name": "stdout",
     "output_type": "stream",
     "text": [
      "time: 58.60805702209473\n",
      "-----------------------\n",
      "period-9\n"
     ]
    },
    {
     "name": "stderr",
     "output_type": "stream",
     "text": [
      "100%|████████████████████████████████████████████████████████████████████████████████████████████████████████████| 4/4 [00:07<00:00,  1.84s/it]\n"
     ]
    },
    {
     "name": "stdout",
     "output_type": "stream",
     "text": [
      "time: 65.99772953987122\n",
      "-----------------------\n",
      "period-10\n"
     ]
    },
    {
     "name": "stderr",
     "output_type": "stream",
     "text": [
      "100%|████████████████████████████████████████████████████████████████████████████████████████████████████████████| 4/4 [00:07<00:00,  1.78s/it]\n"
     ]
    },
    {
     "name": "stdout",
     "output_type": "stream",
     "text": [
      "time: 73.1442723274231\n",
      "==============sess2==============\n"
     ]
    },
    {
     "name": "stderr",
     "output_type": "stream",
     "text": [
      "100%|█████████████████████████████████████████████████████████████████████████████████████████████████████████| 4/4 [00:00<00:00, 31714.96it/s]\n"
     ]
    },
    {
     "name": "stdout",
     "output_type": "stream",
     "text": [
      "-----------------------\n",
      "period-1\n"
     ]
    },
    {
     "name": "stderr",
     "output_type": "stream",
     "text": [
      "100%|████████████████████████████████████████████████████████████████████████████████████████████████████████████| 4/4 [00:07<00:00,  1.86s/it]\n"
     ]
    },
    {
     "name": "stdout",
     "output_type": "stream",
     "text": [
      "time: 7.4352707862854\n",
      "-----------------------\n",
      "period-2\n"
     ]
    },
    {
     "name": "stderr",
     "output_type": "stream",
     "text": [
      "100%|████████████████████████████████████████████████████████████████████████████████████████████████████████████| 4/4 [00:07<00:00,  1.79s/it]\n"
     ]
    },
    {
     "name": "stdout",
     "output_type": "stream",
     "text": [
      "time: 14.62416696548462\n",
      "-----------------------\n",
      "period-3\n"
     ]
    },
    {
     "name": "stderr",
     "output_type": "stream",
     "text": [
      "100%|████████████████████████████████████████████████████████████████████████████████████████████████████████████| 4/4 [00:07<00:00,  1.80s/it]\n"
     ]
    },
    {
     "name": "stdout",
     "output_type": "stream",
     "text": [
      "time: 21.829894304275513\n",
      "-----------------------\n",
      "period-4\n"
     ]
    },
    {
     "name": "stderr",
     "output_type": "stream",
     "text": [
      "100%|████████████████████████████████████████████████████████████████████████████████████████████████████████████| 4/4 [00:07<00:00,  1.80s/it]\n"
     ]
    },
    {
     "name": "stdout",
     "output_type": "stream",
     "text": [
      "time: 29.038639068603516\n",
      "-----------------------\n",
      "period-5\n"
     ]
    },
    {
     "name": "stderr",
     "output_type": "stream",
     "text": [
      "100%|████████████████████████████████████████████████████████████████████████████████████████████████████████████| 4/4 [00:07<00:00,  1.80s/it]\n"
     ]
    },
    {
     "name": "stdout",
     "output_type": "stream",
     "text": [
      "time: 36.258997440338135\n",
      "-----------------------\n",
      "period-6\n"
     ]
    },
    {
     "name": "stderr",
     "output_type": "stream",
     "text": [
      "100%|████████████████████████████████████████████████████████████████████████████████████████████████████████████| 4/4 [00:07<00:00,  1.80s/it]\n"
     ]
    },
    {
     "name": "stdout",
     "output_type": "stream",
     "text": [
      "time: 43.47563362121582\n",
      "-----------------------\n",
      "period-7\n"
     ]
    },
    {
     "name": "stderr",
     "output_type": "stream",
     "text": [
      "100%|████████████████████████████████████████████████████████████████████████████████████████████████████████████| 4/4 [00:07<00:00,  1.80s/it]\n"
     ]
    },
    {
     "name": "stdout",
     "output_type": "stream",
     "text": [
      "time: 50.70701003074646\n",
      "-----------------------\n",
      "period-8\n"
     ]
    },
    {
     "name": "stderr",
     "output_type": "stream",
     "text": [
      "100%|████████████████████████████████████████████████████████████████████████████████████████████████████████████| 4/4 [00:07<00:00,  1.94s/it]\n"
     ]
    },
    {
     "name": "stdout",
     "output_type": "stream",
     "text": [
      "time: 58.498581409454346\n",
      "-----------------------\n",
      "period-9\n"
     ]
    },
    {
     "name": "stderr",
     "output_type": "stream",
     "text": [
      "100%|████████████████████████████████████████████████████████████████████████████████████████████████████████████| 4/4 [00:07<00:00,  1.85s/it]\n"
     ]
    },
    {
     "name": "stdout",
     "output_type": "stream",
     "text": [
      "time: 65.90098142623901\n",
      "-----------------------\n",
      "period-10\n"
     ]
    },
    {
     "name": "stderr",
     "output_type": "stream",
     "text": [
      "100%|████████████████████████████████████████████████████████████████████████████████████████████████████████████| 4/4 [00:07<00:00,  1.78s/it]\n"
     ]
    },
    {
     "name": "stdout",
     "output_type": "stream",
     "text": [
      "time: 73.0275330543518\n",
      "==============sess3==============\n"
     ]
    },
    {
     "name": "stderr",
     "output_type": "stream",
     "text": [
      "100%|█████████████████████████████████████████████████████████████████████████████████████████████████████████| 4/4 [00:00<00:00, 27147.60it/s]\n"
     ]
    },
    {
     "name": "stdout",
     "output_type": "stream",
     "text": [
      "-----------------------\n",
      "period-1\n"
     ]
    },
    {
     "name": "stderr",
     "output_type": "stream",
     "text": [
      "100%|████████████████████████████████████████████████████████████████████████████████████████████████████████████| 4/4 [00:07<00:00,  1.86s/it]\n"
     ]
    },
    {
     "name": "stdout",
     "output_type": "stream",
     "text": [
      "time: 7.436419486999512\n",
      "-----------------------\n",
      "period-2\n"
     ]
    },
    {
     "name": "stderr",
     "output_type": "stream",
     "text": [
      "100%|████████████████████████████████████████████████████████████████████████████████████████████████████████████| 4/4 [00:07<00:00,  1.79s/it]\n"
     ]
    },
    {
     "name": "stdout",
     "output_type": "stream",
     "text": [
      "time: 14.621053695678711\n",
      "-----------------------\n",
      "period-3\n"
     ]
    },
    {
     "name": "stderr",
     "output_type": "stream",
     "text": [
      "100%|████████████████████████████████████████████████████████████████████████████████████████████████████████████| 4/4 [00:07<00:00,  1.80s/it]\n"
     ]
    },
    {
     "name": "stdout",
     "output_type": "stream",
     "text": [
      "time: 21.837972164154053\n",
      "-----------------------\n",
      "period-4\n"
     ]
    },
    {
     "name": "stderr",
     "output_type": "stream",
     "text": [
      "100%|████████████████████████████████████████████████████████████████████████████████████████████████████████████| 4/4 [00:07<00:00,  1.80s/it]\n"
     ]
    },
    {
     "name": "stdout",
     "output_type": "stream",
     "text": [
      "time: 29.046303272247314\n",
      "-----------------------\n",
      "period-5\n"
     ]
    },
    {
     "name": "stderr",
     "output_type": "stream",
     "text": [
      "100%|████████████████████████████████████████████████████████████████████████████████████████████████████████████| 4/4 [00:07<00:00,  1.82s/it]\n"
     ]
    },
    {
     "name": "stdout",
     "output_type": "stream",
     "text": [
      "time: 36.326120376586914\n",
      "-----------------------\n",
      "period-6\n"
     ]
    },
    {
     "name": "stderr",
     "output_type": "stream",
     "text": [
      "100%|████████████████████████████████████████████████████████████████████████████████████████████████████████████| 4/4 [00:07<00:00,  1.80s/it]\n"
     ]
    },
    {
     "name": "stdout",
     "output_type": "stream",
     "text": [
      "time: 43.55803656578064\n",
      "-----------------------\n",
      "period-7\n"
     ]
    },
    {
     "name": "stderr",
     "output_type": "stream",
     "text": [
      "100%|████████████████████████████████████████████████████████████████████████████████████████████████████████████| 4/4 [00:07<00:00,  1.81s/it]\n"
     ]
    },
    {
     "name": "stdout",
     "output_type": "stream",
     "text": [
      "time: 50.81433081626892\n",
      "-----------------------\n",
      "period-8\n"
     ]
    },
    {
     "name": "stderr",
     "output_type": "stream",
     "text": [
      "100%|████████████████████████████████████████████████████████████████████████████████████████████████████████████| 4/4 [00:07<00:00,  1.95s/it]\n"
     ]
    },
    {
     "name": "stdout",
     "output_type": "stream",
     "text": [
      "time: 58.61358952522278\n",
      "-----------------------\n",
      "period-9\n"
     ]
    },
    {
     "name": "stderr",
     "output_type": "stream",
     "text": [
      "100%|████████████████████████████████████████████████████████████████████████████████████████████████████████████| 4/4 [00:07<00:00,  1.85s/it]\n"
     ]
    },
    {
     "name": "stdout",
     "output_type": "stream",
     "text": [
      "time: 66.01368570327759\n",
      "-----------------------\n",
      "period-10\n"
     ]
    },
    {
     "name": "stderr",
     "output_type": "stream",
     "text": [
      "100%|████████████████████████████████████████████████████████████████████████████████████████████████████████████| 4/4 [00:07<00:00,  1.78s/it]\n"
     ]
    },
    {
     "name": "stdout",
     "output_type": "stream",
     "text": [
      "time: 73.1579008102417\n",
      "==============sess4==============\n"
     ]
    },
    {
     "name": "stderr",
     "output_type": "stream",
     "text": [
      "100%|█████████████████████████████████████████████████████████████████████████████████████████████████████████| 4/4 [00:00<00:00, 31655.12it/s]\n"
     ]
    },
    {
     "name": "stdout",
     "output_type": "stream",
     "text": [
      "-----------------------\n",
      "period-1\n"
     ]
    },
    {
     "name": "stderr",
     "output_type": "stream",
     "text": [
      "100%|████████████████████████████████████████████████████████████████████████████████████████████████████████████| 4/4 [00:07<00:00,  1.86s/it]\n"
     ]
    },
    {
     "name": "stdout",
     "output_type": "stream",
     "text": [
      "time: 7.429929971694946\n",
      "-----------------------\n",
      "period-2\n"
     ]
    },
    {
     "name": "stderr",
     "output_type": "stream",
     "text": [
      "100%|████████████████████████████████████████████████████████████████████████████████████████████████████████████| 4/4 [00:07<00:00,  1.79s/it]\n"
     ]
    },
    {
     "name": "stdout",
     "output_type": "stream",
     "text": [
      "time: 14.618032455444336\n",
      "-----------------------\n",
      "period-3\n"
     ]
    },
    {
     "name": "stderr",
     "output_type": "stream",
     "text": [
      "100%|████████████████████████████████████████████████████████████████████████████████████████████████████████████| 4/4 [00:07<00:00,  1.79s/it]\n"
     ]
    },
    {
     "name": "stdout",
     "output_type": "stream",
     "text": [
      "time: 21.802417278289795\n",
      "-----------------------\n",
      "period-4\n"
     ]
    },
    {
     "name": "stderr",
     "output_type": "stream",
     "text": [
      "100%|████████████████████████████████████████████████████████████████████████████████████████████████████████████| 4/4 [00:07<00:00,  1.79s/it]\n"
     ]
    },
    {
     "name": "stdout",
     "output_type": "stream",
     "text": [
      "time: 28.999967575073242\n",
      "-----------------------\n",
      "period-5\n"
     ]
    },
    {
     "name": "stderr",
     "output_type": "stream",
     "text": [
      "100%|████████████████████████████████████████████████████████████████████████████████████████████████████████████| 4/4 [00:07<00:00,  1.80s/it]\n"
     ]
    },
    {
     "name": "stdout",
     "output_type": "stream",
     "text": [
      "time: 36.22171759605408\n",
      "-----------------------\n",
      "period-6\n"
     ]
    },
    {
     "name": "stderr",
     "output_type": "stream",
     "text": [
      "100%|████████████████████████████████████████████████████████████████████████████████████████████████████████████| 4/4 [00:07<00:00,  1.80s/it]\n"
     ]
    },
    {
     "name": "stdout",
     "output_type": "stream",
     "text": [
      "time: 43.45708656311035\n",
      "-----------------------\n",
      "period-7\n"
     ]
    },
    {
     "name": "stderr",
     "output_type": "stream",
     "text": [
      "100%|████████████████████████████████████████████████████████████████████████████████████████████████████████████| 4/4 [00:07<00:00,  1.81s/it]\n"
     ]
    },
    {
     "name": "stdout",
     "output_type": "stream",
     "text": [
      "time: 50.7121639251709\n",
      "-----------------------\n",
      "period-8\n"
     ]
    },
    {
     "name": "stderr",
     "output_type": "stream",
     "text": [
      "100%|████████████████████████████████████████████████████████████████████████████████████████████████████████████| 4/4 [00:07<00:00,  1.95s/it]\n"
     ]
    },
    {
     "name": "stdout",
     "output_type": "stream",
     "text": [
      "time: 58.51195764541626\n",
      "-----------------------\n",
      "period-9\n"
     ]
    },
    {
     "name": "stderr",
     "output_type": "stream",
     "text": [
      "100%|████████████████████████████████████████████████████████████████████████████████████████████████████████████| 4/4 [00:07<00:00,  1.84s/it]\n"
     ]
    },
    {
     "name": "stdout",
     "output_type": "stream",
     "text": [
      "time: 65.88940906524658\n",
      "-----------------------\n",
      "period-10\n"
     ]
    },
    {
     "name": "stderr",
     "output_type": "stream",
     "text": [
      "100%|████████████████████████████████████████████████████████████████████████████████████████████████████████████| 4/4 [00:07<00:00,  1.78s/it]\n"
     ]
    },
    {
     "name": "stdout",
     "output_type": "stream",
     "text": [
      "time: 73.02362871170044\n",
      "==============sess5==============\n"
     ]
    },
    {
     "name": "stderr",
     "output_type": "stream",
     "text": [
      "100%|█████████████████████████████████████████████████████████████████████████████████████████████████████████| 4/4 [00:00<00:00, 23696.63it/s]\n"
     ]
    },
    {
     "name": "stdout",
     "output_type": "stream",
     "text": [
      "-----------------------\n",
      "period-1\n"
     ]
    },
    {
     "name": "stderr",
     "output_type": "stream",
     "text": [
      "100%|████████████████████████████████████████████████████████████████████████████████████████████████████████████| 4/4 [00:07<00:00,  1.86s/it]\n"
     ]
    },
    {
     "name": "stdout",
     "output_type": "stream",
     "text": [
      "time: 7.445459842681885\n",
      "-----------------------\n",
      "period-2\n"
     ]
    },
    {
     "name": "stderr",
     "output_type": "stream",
     "text": [
      "100%|████████████████████████████████████████████████████████████████████████████████████████████████████████████| 4/4 [00:07<00:00,  1.79s/it]\n"
     ]
    },
    {
     "name": "stdout",
     "output_type": "stream",
     "text": [
      "time: 14.625662565231323\n",
      "-----------------------\n",
      "period-3\n"
     ]
    },
    {
     "name": "stderr",
     "output_type": "stream",
     "text": [
      "100%|████████████████████████████████████████████████████████████████████████████████████████████████████████████| 4/4 [00:07<00:00,  1.79s/it]\n"
     ]
    },
    {
     "name": "stdout",
     "output_type": "stream",
     "text": [
      "time: 21.805255889892578\n",
      "-----------------------\n",
      "period-4\n"
     ]
    },
    {
     "name": "stderr",
     "output_type": "stream",
     "text": [
      "100%|████████████████████████████████████████████████████████████████████████████████████████████████████████████| 4/4 [00:07<00:00,  1.80s/it]\n"
     ]
    },
    {
     "name": "stdout",
     "output_type": "stream",
     "text": [
      "time: 29.01205086708069\n",
      "-----------------------\n",
      "period-5\n"
     ]
    },
    {
     "name": "stderr",
     "output_type": "stream",
     "text": [
      "100%|████████████████████████████████████████████████████████████████████████████████████████████████████████████| 4/4 [00:07<00:00,  1.82s/it]\n"
     ]
    },
    {
     "name": "stdout",
     "output_type": "stream",
     "text": [
      "time: 36.32664918899536\n",
      "-----------------------\n",
      "period-6\n"
     ]
    },
    {
     "name": "stderr",
     "output_type": "stream",
     "text": [
      "100%|████████████████████████████████████████████████████████████████████████████████████████████████████████████| 4/4 [00:07<00:00,  1.81s/it]\n"
     ]
    },
    {
     "name": "stdout",
     "output_type": "stream",
     "text": [
      "time: 43.59816837310791\n",
      "-----------------------\n",
      "period-7\n"
     ]
    },
    {
     "name": "stderr",
     "output_type": "stream",
     "text": [
      "100%|████████████████████████████████████████████████████████████████████████████████████████████████████████████| 4/4 [00:07<00:00,  1.93s/it]\n"
     ]
    },
    {
     "name": "stdout",
     "output_type": "stream",
     "text": [
      "time: 51.329185009002686\n",
      "-----------------------\n",
      "period-8\n"
     ]
    },
    {
     "name": "stderr",
     "output_type": "stream",
     "text": [
      "100%|████████████████████████████████████████████████████████████████████████████████████████████████████████████| 4/4 [00:07<00:00,  1.96s/it]\n"
     ]
    },
    {
     "name": "stdout",
     "output_type": "stream",
     "text": [
      "time: 59.184595823287964\n",
      "-----------------------\n",
      "period-9\n"
     ]
    },
    {
     "name": "stderr",
     "output_type": "stream",
     "text": [
      "100%|████████████████████████████████████████████████████████████████████████████████████████████████████████████| 4/4 [00:07<00:00,  1.89s/it]\n"
     ]
    },
    {
     "name": "stdout",
     "output_type": "stream",
     "text": [
      "time: 66.75681209564209\n",
      "-----------------------\n",
      "period-10\n"
     ]
    },
    {
     "name": "stderr",
     "output_type": "stream",
     "text": [
      "100%|████████████████████████████████████████████████████████████████████████████████████████████████████████████| 4/4 [00:07<00:00,  1.80s/it]\n"
     ]
    },
    {
     "name": "stdout",
     "output_type": "stream",
     "text": [
      "time: 73.97186708450317\n",
      "==============sess6==============\n"
     ]
    },
    {
     "name": "stderr",
     "output_type": "stream",
     "text": [
      "100%|█████████████████████████████████████████████████████████████████████████████████████████████████████████| 4/4 [00:00<00:00, 32896.50it/s]\n"
     ]
    },
    {
     "name": "stdout",
     "output_type": "stream",
     "text": [
      "-----------------------\n",
      "period-1\n"
     ]
    },
    {
     "name": "stderr",
     "output_type": "stream",
     "text": [
      "100%|████████████████████████████████████████████████████████████████████████████████████████████████████████████| 4/4 [00:07<00:00,  1.92s/it]\n"
     ]
    },
    {
     "name": "stdout",
     "output_type": "stream",
     "text": [
      "time: 7.68261981010437\n",
      "-----------------------\n",
      "period-2\n"
     ]
    },
    {
     "name": "stderr",
     "output_type": "stream",
     "text": [
      "100%|████████████████████████████████████████████████████████████████████████████████████████████████████████████| 4/4 [00:07<00:00,  1.91s/it]\n"
     ]
    },
    {
     "name": "stdout",
     "output_type": "stream",
     "text": [
      "time: 15.339341640472412\n",
      "-----------------------\n",
      "period-3\n"
     ]
    },
    {
     "name": "stderr",
     "output_type": "stream",
     "text": [
      "100%|████████████████████████████████████████████████████████████████████████████████████████████████████████████| 4/4 [00:07<00:00,  1.80s/it]\n"
     ]
    },
    {
     "name": "stdout",
     "output_type": "stream",
     "text": [
      "time: 22.56093668937683\n",
      "-----------------------\n",
      "period-4\n"
     ]
    },
    {
     "name": "stderr",
     "output_type": "stream",
     "text": [
      "100%|████████████████████████████████████████████████████████████████████████████████████████████████████████████| 4/4 [00:07<00:00,  1.81s/it]\n"
     ]
    },
    {
     "name": "stdout",
     "output_type": "stream",
     "text": [
      "time: 29.815550327301025\n",
      "-----------------------\n",
      "period-5\n"
     ]
    },
    {
     "name": "stderr",
     "output_type": "stream",
     "text": [
      "100%|████████████████████████████████████████████████████████████████████████████████████████████████████████████| 4/4 [00:07<00:00,  1.81s/it]\n"
     ]
    },
    {
     "name": "stdout",
     "output_type": "stream",
     "text": [
      "time: 37.0869402885437\n",
      "-----------------------\n",
      "period-6\n"
     ]
    },
    {
     "name": "stderr",
     "output_type": "stream",
     "text": [
      "100%|████████████████████████████████████████████████████████████████████████████████████████████████████████████| 4/4 [00:07<00:00,  1.81s/it]\n"
     ]
    },
    {
     "name": "stdout",
     "output_type": "stream",
     "text": [
      "time: 44.3527946472168\n",
      "-----------------------\n",
      "period-7\n"
     ]
    },
    {
     "name": "stderr",
     "output_type": "stream",
     "text": [
      "100%|████████████████████████████████████████████████████████████████████████████████████████████████████████████| 4/4 [00:07<00:00,  1.82s/it]\n"
     ]
    },
    {
     "name": "stdout",
     "output_type": "stream",
     "text": [
      "time: 51.634204387664795\n",
      "-----------------------\n",
      "period-8\n"
     ]
    },
    {
     "name": "stderr",
     "output_type": "stream",
     "text": [
      "100%|████████████████████████████████████████████████████████████████████████████████████████████████████████████| 4/4 [00:07<00:00,  1.95s/it]\n"
     ]
    },
    {
     "name": "stdout",
     "output_type": "stream",
     "text": [
      "time: 59.47038912773132\n",
      "-----------------------\n",
      "period-9\n"
     ]
    },
    {
     "name": "stderr",
     "output_type": "stream",
     "text": [
      "100%|████████████████████████████████████████████████████████████████████████████████████████████████████████████| 4/4 [00:07<00:00,  1.86s/it]\n"
     ]
    },
    {
     "name": "stdout",
     "output_type": "stream",
     "text": [
      "time: 66.91476798057556\n",
      "-----------------------\n",
      "period-10\n"
     ]
    },
    {
     "name": "stderr",
     "output_type": "stream",
     "text": [
      "100%|████████████████████████████████████████████████████████████████████████████████████████████████████████████| 4/4 [00:07<00:00,  1.79s/it]\n"
     ]
    },
    {
     "name": "stdout",
     "output_type": "stream",
     "text": [
      "time: 74.10288667678833\n",
      "==============sess7==============\n"
     ]
    },
    {
     "name": "stderr",
     "output_type": "stream",
     "text": [
      "100%|█████████████████████████████████████████████████████████████████████████████████████████████████████████| 4/4 [00:00<00:00, 28102.54it/s]\n"
     ]
    },
    {
     "name": "stdout",
     "output_type": "stream",
     "text": [
      "-----------------------\n",
      "period-1\n"
     ]
    },
    {
     "name": "stderr",
     "output_type": "stream",
     "text": [
      "100%|████████████████████████████████████████████████████████████████████████████████████████████████████████████| 4/4 [00:07<00:00,  1.87s/it]\n"
     ]
    },
    {
     "name": "stdout",
     "output_type": "stream",
     "text": [
      "time: 7.490139722824097\n",
      "-----------------------\n",
      "period-2\n"
     ]
    },
    {
     "name": "stderr",
     "output_type": "stream",
     "text": [
      "100%|████████████████████████████████████████████████████████████████████████████████████████████████████████████| 4/4 [00:07<00:00,  1.80s/it]\n"
     ]
    },
    {
     "name": "stdout",
     "output_type": "stream",
     "text": [
      "time: 14.705814123153687\n",
      "-----------------------\n",
      "period-3\n"
     ]
    },
    {
     "name": "stderr",
     "output_type": "stream",
     "text": [
      "100%|████████████████████████████████████████████████████████████████████████████████████████████████████████████| 4/4 [00:07<00:00,  1.80s/it]\n"
     ]
    },
    {
     "name": "stdout",
     "output_type": "stream",
     "text": [
      "time: 21.936258554458618\n",
      "-----------------------\n",
      "period-4\n"
     ]
    },
    {
     "name": "stderr",
     "output_type": "stream",
     "text": [
      "100%|████████████████████████████████████████████████████████████████████████████████████████████████████████████| 4/4 [00:07<00:00,  1.80s/it]\n"
     ]
    },
    {
     "name": "stdout",
     "output_type": "stream",
     "text": [
      "time: 29.153236389160156\n",
      "-----------------------\n",
      "period-5\n"
     ]
    },
    {
     "name": "stderr",
     "output_type": "stream",
     "text": [
      "100%|████████████████████████████████████████████████████████████████████████████████████████████████████████████| 4/4 [00:07<00:00,  1.81s/it]\n"
     ]
    },
    {
     "name": "stdout",
     "output_type": "stream",
     "text": [
      "time: 36.397512674331665\n",
      "-----------------------\n",
      "period-6\n"
     ]
    },
    {
     "name": "stderr",
     "output_type": "stream",
     "text": [
      "100%|████████████████████████████████████████████████████████████████████████████████████████████████████████████| 4/4 [00:07<00:00,  1.81s/it]\n"
     ]
    },
    {
     "name": "stdout",
     "output_type": "stream",
     "text": [
      "time: 43.64909768104553\n",
      "-----------------------\n",
      "period-7\n"
     ]
    },
    {
     "name": "stderr",
     "output_type": "stream",
     "text": [
      "100%|████████████████████████████████████████████████████████████████████████████████████████████████████████████| 4/4 [00:07<00:00,  1.86s/it]\n"
     ]
    },
    {
     "name": "stdout",
     "output_type": "stream",
     "text": [
      "time: 51.08788347244263\n",
      "-----------------------\n",
      "period-8\n"
     ]
    },
    {
     "name": "stderr",
     "output_type": "stream",
     "text": [
      "100%|████████████████████████████████████████████████████████████████████████████████████████████████████████████| 4/4 [00:08<00:00,  2.01s/it]\n"
     ]
    },
    {
     "name": "stdout",
     "output_type": "stream",
     "text": [
      "time: 59.155815839767456\n",
      "-----------------------\n",
      "period-9\n"
     ]
    },
    {
     "name": "stderr",
     "output_type": "stream",
     "text": [
      "100%|████████████████████████████████████████████████████████████████████████████████████████████████████████████| 4/4 [00:07<00:00,  1.92s/it]\n"
     ]
    },
    {
     "name": "stdout",
     "output_type": "stream",
     "text": [
      "time: 66.8580973148346\n",
      "-----------------------\n",
      "period-10\n"
     ]
    },
    {
     "name": "stderr",
     "output_type": "stream",
     "text": [
      "100%|████████████████████████████████████████████████████████████████████████████████████████████████████████████| 4/4 [00:07<00:00,  1.85s/it]\n"
     ]
    },
    {
     "name": "stdout",
     "output_type": "stream",
     "text": [
      "time: 74.29242205619812\n",
      "==============sess8==============\n"
     ]
    },
    {
     "name": "stderr",
     "output_type": "stream",
     "text": [
      "100%|█████████████████████████████████████████████████████████████████████████████████████████████████████████| 4/4 [00:00<00:00, 32078.81it/s]\n"
     ]
    },
    {
     "name": "stdout",
     "output_type": "stream",
     "text": [
      "-----------------------\n",
      "period-1\n"
     ]
    },
    {
     "name": "stderr",
     "output_type": "stream",
     "text": [
      "100%|████████████████████████████████████████████████████████████████████████████████████████████████████████████| 4/4 [00:07<00:00,  1.92s/it]\n"
     ]
    },
    {
     "name": "stdout",
     "output_type": "stream",
     "text": [
      "time: 7.707690954208374\n",
      "-----------------------\n",
      "period-2\n"
     ]
    },
    {
     "name": "stderr",
     "output_type": "stream",
     "text": [
      "100%|████████████████████████████████████████████████████████████████████████████████████████████████████████████| 4/4 [00:07<00:00,  1.85s/it]\n"
     ]
    },
    {
     "name": "stdout",
     "output_type": "stream",
     "text": [
      "time: 15.128700733184814\n",
      "-----------------------\n",
      "period-3\n"
     ]
    },
    {
     "name": "stderr",
     "output_type": "stream",
     "text": [
      "100%|████████████████████████████████████████████████████████████████████████████████████████████████████████████| 4/4 [00:07<00:00,  1.85s/it]\n"
     ]
    },
    {
     "name": "stdout",
     "output_type": "stream",
     "text": [
      "time: 22.547600984573364\n",
      "-----------------------\n",
      "period-4\n"
     ]
    },
    {
     "name": "stderr",
     "output_type": "stream",
     "text": [
      "100%|████████████████████████████████████████████████████████████████████████████████████████████████████████████| 4/4 [00:07<00:00,  1.87s/it]\n"
     ]
    },
    {
     "name": "stdout",
     "output_type": "stream",
     "text": [
      "time: 30.043020963668823\n",
      "-----------------------\n",
      "period-5\n"
     ]
    },
    {
     "name": "stderr",
     "output_type": "stream",
     "text": [
      "100%|████████████████████████████████████████████████████████████████████████████████████████████████████████████| 4/4 [00:07<00:00,  1.86s/it]\n"
     ]
    },
    {
     "name": "stdout",
     "output_type": "stream",
     "text": [
      "time: 37.499990463256836\n",
      "-----------------------\n",
      "period-6\n"
     ]
    },
    {
     "name": "stderr",
     "output_type": "stream",
     "text": [
      "100%|████████████████████████████████████████████████████████████████████████████████████████████████████████████| 4/4 [00:07<00:00,  1.86s/it]\n"
     ]
    },
    {
     "name": "stdout",
     "output_type": "stream",
     "text": [
      "time: 44.95461559295654\n",
      "-----------------------\n",
      "period-7\n"
     ]
    },
    {
     "name": "stderr",
     "output_type": "stream",
     "text": [
      "100%|████████████████████████████████████████████████████████████████████████████████████████████████████████████| 4/4 [00:07<00:00,  1.86s/it]\n"
     ]
    },
    {
     "name": "stdout",
     "output_type": "stream",
     "text": [
      "time: 52.40146851539612\n",
      "-----------------------\n",
      "period-8\n"
     ]
    },
    {
     "name": "stderr",
     "output_type": "stream",
     "text": [
      "100%|████████████████████████████████████████████████████████████████████████████████████████████████████████████| 4/4 [00:08<00:00,  2.00s/it]\n"
     ]
    },
    {
     "name": "stdout",
     "output_type": "stream",
     "text": [
      "time: 60.431620359420776\n",
      "-----------------------\n",
      "period-9\n"
     ]
    },
    {
     "name": "stderr",
     "output_type": "stream",
     "text": [
      "100%|████████████████████████████████████████████████████████████████████████████████████████████████████████████| 4/4 [00:07<00:00,  1.90s/it]\n"
     ]
    },
    {
     "name": "stdout",
     "output_type": "stream",
     "text": [
      "time: 68.03266191482544\n",
      "-----------------------\n",
      "period-10\n"
     ]
    },
    {
     "name": "stderr",
     "output_type": "stream",
     "text": [
      "100%|████████████████████████████████████████████████████████████████████████████████████████████████████████████| 4/4 [00:07<00:00,  1.83s/it]\n"
     ]
    },
    {
     "name": "stdout",
     "output_type": "stream",
     "text": [
      "time: 75.35644698143005\n",
      "==============sess9==============\n"
     ]
    },
    {
     "name": "stderr",
     "output_type": "stream",
     "text": [
      "100%|█████████████████████████████████████████████████████████████████████████████████████████████████████████| 4/4 [00:00<00:00, 27822.91it/s]\n"
     ]
    },
    {
     "name": "stdout",
     "output_type": "stream",
     "text": [
      "-----------------------\n",
      "period-1\n"
     ]
    },
    {
     "name": "stderr",
     "output_type": "stream",
     "text": [
      "100%|████████████████████████████████████████████████████████████████████████████████████████████████████████████| 4/4 [00:07<00:00,  1.91s/it]\n"
     ]
    },
    {
     "name": "stdout",
     "output_type": "stream",
     "text": [
      "time: 7.6396849155426025\n",
      "-----------------------\n",
      "period-2\n"
     ]
    },
    {
     "name": "stderr",
     "output_type": "stream",
     "text": [
      "100%|████████████████████████████████████████████████████████████████████████████████████████████████████████████| 4/4 [00:07<00:00,  1.84s/it]\n"
     ]
    },
    {
     "name": "stdout",
     "output_type": "stream",
     "text": [
      "time: 15.015468835830688\n",
      "-----------------------\n",
      "period-3\n"
     ]
    },
    {
     "name": "stderr",
     "output_type": "stream",
     "text": [
      "100%|████████████████████████████████████████████████████████████████████████████████████████████████████████████| 4/4 [00:07<00:00,  1.86s/it]\n"
     ]
    },
    {
     "name": "stdout",
     "output_type": "stream",
     "text": [
      "time: 22.46133589744568\n",
      "-----------------------\n",
      "period-4\n"
     ]
    },
    {
     "name": "stderr",
     "output_type": "stream",
     "text": [
      "100%|████████████████████████████████████████████████████████████████████████████████████████████████████████████| 4/4 [00:07<00:00,  1.86s/it]\n"
     ]
    },
    {
     "name": "stdout",
     "output_type": "stream",
     "text": [
      "time: 29.91265320777893\n",
      "-----------------------\n",
      "period-5\n"
     ]
    },
    {
     "name": "stderr",
     "output_type": "stream",
     "text": [
      "100%|████████████████████████████████████████████████████████████████████████████████████████████████████████████| 4/4 [00:07<00:00,  1.86s/it]\n"
     ]
    },
    {
     "name": "stdout",
     "output_type": "stream",
     "text": [
      "time: 37.35394763946533\n",
      "-----------------------\n",
      "period-6\n"
     ]
    },
    {
     "name": "stderr",
     "output_type": "stream",
     "text": [
      "100%|████████████████████████████████████████████████████████████████████████████████████████████████████████████| 4/4 [00:07<00:00,  1.86s/it]\n"
     ]
    },
    {
     "name": "stdout",
     "output_type": "stream",
     "text": [
      "time: 44.79666590690613\n",
      "-----------------------\n",
      "period-7\n"
     ]
    },
    {
     "name": "stderr",
     "output_type": "stream",
     "text": [
      "100%|████████████████████████████████████████████████████████████████████████████████████████████████████████████| 4/4 [00:07<00:00,  1.87s/it]\n"
     ]
    },
    {
     "name": "stdout",
     "output_type": "stream",
     "text": [
      "time: 52.286837100982666\n",
      "-----------------------\n",
      "period-8\n"
     ]
    },
    {
     "name": "stderr",
     "output_type": "stream",
     "text": [
      "100%|████████████████████████████████████████████████████████████████████████████████████████████████████████████| 4/4 [00:08<00:00,  2.01s/it]\n"
     ]
    },
    {
     "name": "stdout",
     "output_type": "stream",
     "text": [
      "time: 60.35561752319336\n",
      "-----------------------\n",
      "period-9\n"
     ]
    },
    {
     "name": "stderr",
     "output_type": "stream",
     "text": [
      "100%|████████████████████████████████████████████████████████████████████████████████████████████████████████████| 4/4 [00:07<00:00,  1.90s/it]\n"
     ]
    },
    {
     "name": "stdout",
     "output_type": "stream",
     "text": [
      "time: 67.98579454421997\n",
      "-----------------------\n",
      "period-10\n"
     ]
    },
    {
     "name": "stderr",
     "output_type": "stream",
     "text": [
      "100%|████████████████████████████████████████████████████████████████████████████████████████████████████████████| 4/4 [00:07<00:00,  1.85s/it]\n"
     ]
    },
    {
     "name": "stdout",
     "output_type": "stream",
     "text": [
      "time: 75.39078450202942\n",
      "==============sess10==============\n"
     ]
    },
    {
     "name": "stderr",
     "output_type": "stream",
     "text": [
      "100%|█████████████████████████████████████████████████████████████████████████████████████████████████████████| 4/4 [00:00<00:00, 28679.00it/s]\n"
     ]
    },
    {
     "name": "stdout",
     "output_type": "stream",
     "text": [
      "-----------------------\n",
      "period-1\n"
     ]
    },
    {
     "name": "stderr",
     "output_type": "stream",
     "text": [
      "100%|████████████████████████████████████████████████████████████████████████████████████████████████████████████| 4/4 [00:07<00:00,  1.93s/it]\n"
     ]
    },
    {
     "name": "stdout",
     "output_type": "stream",
     "text": [
      "time: 7.734293222427368\n",
      "-----------------------\n",
      "period-2\n"
     ]
    },
    {
     "name": "stderr",
     "output_type": "stream",
     "text": [
      "100%|████████████████████████████████████████████████████████████████████████████████████████████████████████████| 4/4 [00:07<00:00,  1.85s/it]\n"
     ]
    },
    {
     "name": "stdout",
     "output_type": "stream",
     "text": [
      "time: 15.154549837112427\n",
      "-----------------------\n",
      "period-3\n"
     ]
    },
    {
     "name": "stderr",
     "output_type": "stream",
     "text": [
      "100%|████████████████████████████████████████████████████████████████████████████████████████████████████████████| 4/4 [00:07<00:00,  1.86s/it]\n"
     ]
    },
    {
     "name": "stdout",
     "output_type": "stream",
     "text": [
      "time: 22.609705448150635\n",
      "-----------------------\n",
      "period-4\n"
     ]
    },
    {
     "name": "stderr",
     "output_type": "stream",
     "text": [
      "100%|████████████████████████████████████████████████████████████████████████████████████████████████████████████| 4/4 [00:07<00:00,  1.86s/it]\n"
     ]
    },
    {
     "name": "stdout",
     "output_type": "stream",
     "text": [
      "time: 30.058515548706055\n",
      "-----------------------\n",
      "period-5\n"
     ]
    },
    {
     "name": "stderr",
     "output_type": "stream",
     "text": [
      "100%|████████████████████████████████████████████████████████████████████████████████████████████████████████████| 4/4 [00:07<00:00,  1.86s/it]\n"
     ]
    },
    {
     "name": "stdout",
     "output_type": "stream",
     "text": [
      "time: 37.5048463344574\n",
      "-----------------------\n",
      "period-6\n"
     ]
    },
    {
     "name": "stderr",
     "output_type": "stream",
     "text": [
      "100%|████████████████████████████████████████████████████████████████████████████████████████████████████████████| 4/4 [00:07<00:00,  1.86s/it]\n"
     ]
    },
    {
     "name": "stdout",
     "output_type": "stream",
     "text": [
      "time: 44.96892285346985\n",
      "-----------------------\n",
      "period-7\n"
     ]
    },
    {
     "name": "stderr",
     "output_type": "stream",
     "text": [
      "100%|████████████████████████████████████████████████████████████████████████████████████████████████████████████| 4/4 [00:07<00:00,  1.87s/it]\n"
     ]
    },
    {
     "name": "stdout",
     "output_type": "stream",
     "text": [
      "time: 52.46905016899109\n",
      "-----------------------\n",
      "period-8\n"
     ]
    },
    {
     "name": "stderr",
     "output_type": "stream",
     "text": [
      "100%|████████████████████████████████████████████████████████████████████████████████████████████████████████████| 4/4 [00:08<00:00,  2.03s/it]\n"
     ]
    },
    {
     "name": "stdout",
     "output_type": "stream",
     "text": [
      "time: 60.59732174873352\n",
      "-----------------------\n",
      "period-9\n"
     ]
    },
    {
     "name": "stderr",
     "output_type": "stream",
     "text": [
      "100%|████████████████████████████████████████████████████████████████████████████████████████████████████████████| 4/4 [00:07<00:00,  1.91s/it]\n"
     ]
    },
    {
     "name": "stdout",
     "output_type": "stream",
     "text": [
      "time: 68.23711776733398\n",
      "-----------------------\n",
      "period-10\n"
     ]
    },
    {
     "name": "stderr",
     "output_type": "stream",
     "text": [
      "100%|████████████████████████████████████████████████████████████████████████████████████████████████████████████| 4/4 [00:07<00:00,  1.84s/it]"
     ]
    },
    {
     "name": "stdout",
     "output_type": "stream",
     "text": [
      "time: 75.61754870414734\n"
     ]
    },
    {
     "name": "stderr",
     "output_type": "stream",
     "text": [
      "\n"
     ]
    }
   ],
   "source": [
    "nsess=10\n",
    "\n",
    "expname='llama13b'\n",
    "\n",
    "max_try=50\n",
    "display_result=0\n",
    "\n",
    "N,G,K,Z=4, 1.2, 0.3, 100 \n",
    "\n",
    "nperiod=10\n",
    "\n",
    "assert abs(G-N*K)<0.000001\n",
    "\n",
    "system_message = f\"\"\"\n",
    "Please act as a human player. You and {N-1} other players are playing a repeated game for {nperiod} rounds. In each round, there is a shared public account and each player has a private account. Each player will be given {Z} points. Then, all players simultaneously allocate these points into private account and public account. \n",
    "The points you allocate to your private account will be exchanged for earnings at a rate of 1:1, and these earnings will be received only by you. The total number of points in the public account equals to the sum of points allocated to the public account by all players (including yourself). These points will be exchanged for public earnings at a rate of 1:{G}, and these earnings will be equally shared among all {N} players, which means that each point in the public account will yield an earning of {K} points for each player. \n",
    "In sum, your earnings in each round can be described as: Your earnings = (Points in your private account * 1) + (Total points in public account * {K})\n",
    "Your goal is to maximize your own total earnings in all {nperiod} rounds. In each round, you should first think carefully about what to do, and then make a decision.\n",
    "\"\"\".strip()\n",
    "\n",
    "\n",
    "for sess in range(1,1+nsess):\n",
    "    print(f'==============sess{sess}==============')\n",
    "    \n",
    "    players=[]\n",
    "    for _ in tqdm(range(N)):\n",
    "        bot=ChatApp(system_message=system_message)\n",
    "        players.append(bot)\n",
    "    records=[]\n",
    "    cols=['Period','Private','Public','Total public','Earnings','Reason']\n",
    "    for _ in range(N):    \n",
    "        df = pd.DataFrame(columns=cols)\n",
    "        records.append(df)\n",
    "\n",
    "    ######################## start game\n",
    "\n",
    "    starttime=time.time()\n",
    "    for period in range(1,nperiod+1):\n",
    "        print('-----------------------')\n",
    "        print(f'period-{period}')\n",
    "\n",
    "        # if this block done, continue\n",
    "        recordfile=os.path.join(filepath,f'records_PGD_{expname}_{N}_{G}_{K}_{Z}_{nperiod}_sess{sess}_period{period}.pkl')\n",
    "        playerfile=os.path.join(filepath,f'players_PGD_{expname}_{N}_{G}_{K}_{Z}_{nperiod}_sess{sess}_period{period}.pkl')\n",
    "        if os.path.exists(recordfile) and os.path.exists(playerfile):\n",
    "            with open(recordfile, 'rb') as f:\n",
    "                records = pickle.load(f)\n",
    "            with open(playerfile, 'rb') as f:\n",
    "                players = pickle.load(f)\n",
    "            print('existed!')\n",
    "            continue\n",
    "\n",
    "        for _ in range(max_try):\n",
    "            try:\n",
    "                if period>1:\n",
    "                    prev_period=period-1\n",
    "                    recordfile=os.path.join(filepath,f'records_PGD_{expname}_{N}_{G}_{K}_{Z}_{nperiod}_sess{sess}_period{prev_period}.pkl')\n",
    "                    playerfile=os.path.join(filepath,f'players_PGD_{expname}_{N}_{G}_{K}_{Z}_{nperiod}_sess{sess}_period{prev_period}.pkl')\n",
    "                    with open(recordfile, 'rb') as f:\n",
    "                        records = pickle.load(f)\n",
    "                    with open(playerfile, 'rb') as f:\n",
    "                        players = pickle.load(f)\n",
    "                # play\n",
    "                tmp_records=[]\n",
    "                for i in tqdm(range(N)):\n",
    "                    bot=players[i]\n",
    "                    record=records[i]\n",
    "                    private,public,reason=get_action(bot,record,model=model,display=display_result)\n",
    "                    tmp_records.append([period,private,public,0,0,reason])\n",
    "                    # ['Period','Private','Public','Total public','Earnings','Reason']\n",
    "\n",
    "                # calculate total public\n",
    "                total_public=sum([x[2] for x in tmp_records])\n",
    "\n",
    "                # calculate earnings for all\n",
    "                for r in tmp_records:\n",
    "                    r[3]=total_public\n",
    "                    r[4]=r[1]+total_public*K\n",
    "\n",
    "                # update records for all\n",
    "                for i in range(N):\n",
    "                    record=records[i]\n",
    "                    record.loc[len(record.index)]=tmp_records[i]\n",
    "\n",
    "                print('time:',time.time()-starttime)\n",
    "\n",
    "\n",
    "                # save file\n",
    "                recordfile=os.path.join(filepath,f'records_PGD_{expname}_{N}_{G}_{K}_{Z}_{nperiod}_sess{sess}_period{period}.pkl')\n",
    "                playerfile=os.path.join(filepath,f'players_PGD_{expname}_{N}_{G}_{K}_{Z}_{nperiod}_sess{sess}_period{period}.pkl')\n",
    "                with open(recordfile, 'wb') as f:\n",
    "                    pickle.dump(records, f)\n",
    "                with open(playerfile, 'wb') as f:\n",
    "                    pickle.dump(players, f)\n",
    "\n",
    "                break\n",
    "            except Exception as e:\n",
    "                print(e)\n",
    "                print('error!sleep 30s...')\n",
    "                time.sleep(30)"
   ]
  },
  {
   "cell_type": "code",
   "execution_count": 36,
   "metadata": {
    "ExecuteTime": {
     "end_time": "2023-12-07T03:21:35.360526Z",
     "start_time": "2023-12-07T03:21:35.328801Z"
    },
    "hidden": true
   },
   "outputs": [
    {
     "name": "stdout",
     "output_type": "stream",
     "text": [
      "0.0\n"
     ]
    }
   ],
   "source": [
    "nsess=10\n",
    "period=nperiod\n",
    "\n",
    "allprivate=[]\n",
    "for sess in range(1,nsess+1):\n",
    "    recordfile=os.path.join(filepath,f'records_PGD_{expname}_{N}_{G}_{K}_{Z}_{nperiod}_sess{sess}_period{period}.pkl')\n",
    "    with open(recordfile, 'rb') as f:\n",
    "        records= pickle.load(f)\n",
    "\n",
    "    for record in records:\n",
    "        tmp=record['Private'].tolist()\n",
    "        allprivate.extend(tmp)\n",
    "out=np.mean(allprivate)\n",
    "print(out)"
   ]
  },
  {
   "cell_type": "code",
   "execution_count": null,
   "metadata": {
    "hidden": true
   },
   "outputs": [],
   "source": []
  },
  {
   "cell_type": "markdown",
   "metadata": {
    "heading_collapsed": true
   },
   "source": [
    "## 7. Infinitely repeated prisoner’s dilemma"
   ]
  },
  {
   "cell_type": "code",
   "execution_count": 3,
   "metadata": {
    "ExecuteTime": {
     "end_time": "2023-12-19T02:33:34.230007Z",
     "start_time": "2023-12-19T02:33:34.221628Z"
    },
    "code_folding": [],
    "hidden": true
   },
   "outputs": [
    {
     "name": "stdout",
     "output_type": "stream",
     "text": [
      "params= 0.5 0.5 50% 50%\n",
      "\n",
      "Please act as a human player. You are playing a game with another human player (called the opponent) for several rounds. After each round, there is a 50% chance that the game will repeat for another round and the other 50% chance that the game will end. In each round, you and the opponent will simultaneously choose an action between F and J.\n",
      "If you choose J and the opponent chooses J, you earn 40 points and the opponent earns 40 points in this round.\n",
      "If you choose J and the opponent chooses F, you earn 12 points and the opponent earns 50 points in this round.\n",
      "If you choose F and the opponent chooses J, you earn 50 points and the opponent earns 12 points in this round.\n",
      "If you choose F and the opponent chooses F, you earn 25 points and the opponent earns 25 points in this round.\n",
      "Before you choose an action, your actions, the opponent’s actions and your earnings in each of the previous rounds will be shown. Your goal is to maximize your own total earnings in all rounds. In each round, you should first think carefully about what to do, and then choose one of the two actions: F or J.\n",
      "\n"
     ]
    }
   ],
   "source": [
    "# init instruction\n",
    "\n",
    "delta,delta_str,p1,p2=0.5,'0.5','50%','50%'\n",
    "\n",
    "print('params=',delta,delta_str,p1,p2)\n",
    "\n",
    "\n",
    "system_message = f\"\"\"\n",
    "Please act as a human player. You are playing a game with another human player (called the opponent) for several rounds. After each round, there is a {p1} chance that the game will repeat for another round and the other {p2} chance that the game will end. In each round, you and the opponent will simultaneously choose an action between F and J.\n",
    "<payoff>\n",
    "Before you choose an action, your actions, the opponent’s actions and your earnings in each of the previous rounds will be shown. Your goal is to maximize your own total earnings in all rounds. In each round, you should first think carefully about what to do, and then choose one of the two actions: F or J.\n",
    "\"\"\"\n",
    "\n",
    "aa=f'If you choose J and the opponent chooses J, you earn 40 points and the opponent earns 40 points in this round.'\n",
    "ab=f'If you choose J and the opponent chooses F, you earn 12 points and the opponent earns 50 points in this round.'\n",
    "ba=f'If you choose F and the opponent chooses J, you earn 50 points and the opponent earns 12 points in this round.'\n",
    "bb=f'If you choose F and the opponent chooses F, you earn 25 points and the opponent earns 25 points in this round.'\n",
    "payoff=[aa,ab,ba,bb]\n",
    "payoff_str=payoff[0]+'\\n'+payoff[1]+'\\n'+payoff[2]+'\\n'+payoff[3]\n",
    "\n",
    "\n",
    "tmp_system_message=system_message.replace('<payoff>',payoff_str)\n",
    "print(tmp_system_message)"
   ]
  },
  {
   "cell_type": "code",
   "execution_count": 8,
   "metadata": {
    "ExecuteTime": {
     "end_time": "2023-12-18T16:44:12.855247Z",
     "start_time": "2023-12-18T16:44:12.844710Z"
    },
    "code_folding": [],
    "hidden": true
   },
   "outputs": [],
   "source": [
    "def correct_json(s):\n",
    "    tmp=s.split('\"')\n",
    "    newlist=[]\n",
    "    for x in tmp:\n",
    "        striped=x.strip()\n",
    "        if striped=='': # 缺少逗号\n",
    "            newlist.append(',')\n",
    "        elif striped[0]==':' and striped!=':':\n",
    "            newlist.extend([':',striped[1:-1].strip(),'}'])\n",
    "        else:\n",
    "            newlist.append(striped)\n",
    "    newstr='\"'.join(newlist)\n",
    "    try:\n",
    "        a=json.loads(newstr)\n",
    "    except:\n",
    "        prompt=f\"\"\"\n",
    "The following string delimited by triple backticks is in json format, but there are some mistakes, and I cannot directly convert it to json by json.loads(). For example, there may be missing comma or quotes. Please help me correct the mistakes, and output the string in valid json format. Please only output the corrected string, and do not output any other things.\n",
    "```\n",
    "{s}\n",
    "```\n",
    "        \"\"\".strip()\n",
    "        response = gpt_completion(prompt)\n",
    "        return response\n",
    "    return newstr\n",
    "\n",
    "s=\"\"\"{\n",
    "  \"thought\": \"aaa\"\n",
    "  \"action\": J\n",
    "}\"\"\"\n",
    "# print(correct_json(s))\n",
    "\n",
    "summarize_action=f\"\"\"Given the following paragraph delimited by triple backticks:\n",
    "```\n",
    "<out>\n",
    "```\n",
    "Please summarize how he thought and the action he choose (F or J) in the first person from above paragraph in json format with keys 'thought' and 'action'. The 'action' should be F or J.\n",
    "\"\"\".strip()"
   ]
  },
  {
   "cell_type": "code",
   "execution_count": 9,
   "metadata": {
    "ExecuteTime": {
     "end_time": "2023-12-18T16:44:12.979169Z",
     "start_time": "2023-12-18T16:44:12.963512Z"
    },
    "code_folding": [
     0
    ],
    "hidden": true
   },
   "outputs": [],
   "source": [
    "def get_history(record):\n",
    "    history=''\n",
    "    for i in record.index:\n",
    "        round=i+1\n",
    "        choice=record.loc[i,'Your choice']\n",
    "        cochoice=record.loc[i,'Co-player choice']\n",
    "        earning=record.loc[i,'Earnings']\n",
    "        tmp=f\"\"\"In round-{round}, you chose {choice} and the opponent chose {cochoice}, you earn {earning} points.\"\"\"\n",
    "        history+=tmp\n",
    "        history+='\\n'\n",
    "    return history\n",
    "def parse_response(response): # return a json\n",
    "    response = response.replace('Action','action')\n",
    "    response = response.replace('Thought','thought')\n",
    "    try:\n",
    "        out=json.loads(response,strict=0)\n",
    "    except:\n",
    "        start_index = response.find('{')  # 查找第一个'{'的索引\n",
    "        end_index = response.rfind('}')  # 查找最后一个'}'的索引\n",
    "        if end_index==-1:\n",
    "            response=response.strip()+'}'\n",
    "            \n",
    "        start_index = response.find('{')  # 查找第一个'{'的索引\n",
    "        end_index = response.rfind('}')  # 查找最后一个'}'的索引\n",
    "        if start_index != -1 and end_index != -1:\n",
    "            extracted_content = response[start_index:end_index + 1]\n",
    "            try:\n",
    "                out=json.loads(extracted_content,strict=0)\n",
    "            except:\n",
    "                print('json error: ',extracted_content)\n",
    "                corrected_json=correct_json(extracted_content)\n",
    "                print('corrected:',corrected_json)\n",
    "                start_index = corrected_json.find('{')  # 查找第一个'{'的索引\n",
    "                end_index = corrected_json.rfind('}')  # 查找最后一个'}'的索引\n",
    "                extracted_content = corrected_json[start_index:end_index + 1]\n",
    "                out=json.loads(extracted_content,strict=0)\n",
    "        else:\n",
    "            print('No json found in:',response)\n",
    "            prompt=summarize_action.replace('<out>',response)\n",
    "            out=gpt_completion(prompt)\n",
    "            print('Summarize json:',out)\n",
    "            out=json.loads(out,strict=0)\n",
    "    return out"
   ]
  },
  {
   "cell_type": "code",
   "execution_count": 32,
   "metadata": {
    "ExecuteTime": {
     "end_time": "2023-12-19T01:57:42.592327Z",
     "start_time": "2023-12-19T01:57:42.577258Z"
    },
    "hidden": true
   },
   "outputs": [],
   "source": [
    "def get_action(bot,record,model,display=False):\n",
    "    history=get_history(record)\n",
    "    if len(record)==0:\n",
    "        message=f\"\"\"\n",
    "It is round-{round} now. Tell me how you think and the action you would like to choose. Please answer in json format with keys 'thought' and 'action'. For example, {{\"thought\": \"xxx.\",\"action\": x }}. The 'action' should be F or J. \n",
    "\"\"\".strip()\n",
    "# For example, {{\"thought\": \"xxx.\",\"action\": x }}. The 'action' should be F or J. \n",
    "    else:\n",
    "        message=f\"\"\"The history of the game is listed as follows delimited by triple backticks.\n",
    "```\n",
    "{history}\n",
    "```\n",
    "It is round-{round} now. Tell me how you think and the action you would like to choose. Please answer in json format with keys 'thought' and 'action'. For example, {{\"thought\": \"xxx.\",\"action\": x }}. The 'action' should be F or J. \n",
    "\"\"\".strip()\n",
    "#         message=f\"\"\"The history of the game is listed as follows.\n",
    "# {history}\n",
    "# It is round-{round} now. Tell me how you think and the action you would like to choose. Please answer in json format with keys 'thought' and 'action'. The 'action' should be F or J. \n",
    "# \"\"\".strip()\n",
    "    res=bot.chat_wo_update(message, model=model, temperature=0)\n",
    "    time.sleep(1)\n",
    "    if display:\n",
    "        print('-------get action---------')\n",
    "        print(message)\n",
    "        print(res)\n",
    "    out=parse_response(res)\n",
    "    try:\n",
    "        action=out['action']\n",
    "        reason=out['thought']\n",
    "    except:\n",
    "        print('key error:',res)\n",
    "        prompt=summarize_action.replace('<out>',res)\n",
    "        out=gpt_completion(prompt)\n",
    "        out=parse_response(out)\n",
    "        print('corrected:',out)\n",
    "        action=out['action']\n",
    "        reason=out['thought']\n",
    "    try:\n",
    "        assert action in ['F','J']\n",
    "    except:\n",
    "        print('Invalid action:',out)\n",
    "        assert 0\n",
    "    return action,reason\n"
   ]
  },
  {
   "cell_type": "code",
   "execution_count": 35,
   "metadata": {
    "ExecuteTime": {
     "end_time": "2023-12-19T02:15:01.983130Z",
     "start_time": "2023-12-19T02:13:49.099040Z"
    },
    "code_folding": [
     31
    ],
    "hidden": true,
    "scrolled": true
   },
   "outputs": [
    {
     "name": "stdout",
     "output_type": "stream",
     "text": [
      "params= 0.5 0.5 50% 50%\n",
      "==============sess1==============\n"
     ]
    },
    {
     "name": "stderr",
     "output_type": "stream",
     "text": [
      "100%|██████████████████████████████████████████████████████████████████████████████████████████████████████████| 2/2 [00:00<00:00, 8692.86it/s]\n"
     ]
    },
    {
     "name": "stdout",
     "output_type": "stream",
     "text": [
      "existed!\n",
      "==============sess2==============\n"
     ]
    },
    {
     "name": "stderr",
     "output_type": "stream",
     "text": [
      "100%|█████████████████████████████████████████████████████████████████████████████████████████████████████████| 2/2 [00:00<00:00, 11444.21it/s]\n"
     ]
    },
    {
     "name": "stdout",
     "output_type": "stream",
     "text": [
      "existed!\n",
      "==============sess3==============\n"
     ]
    },
    {
     "name": "stderr",
     "output_type": "stream",
     "text": [
      "100%|█████████████████████████████████████████████████████████████████████████████████████████████████████████| 2/2 [00:00<00:00, 12104.77it/s]\n"
     ]
    },
    {
     "name": "stdout",
     "output_type": "stream",
     "text": [
      "existed!\n",
      "==============sess4==============\n"
     ]
    },
    {
     "name": "stderr",
     "output_type": "stream",
     "text": [
      "100%|█████████████████████████████████████████████████████████████████████████████████████████████████████████| 2/2 [00:00<00:00, 11699.59it/s]\n"
     ]
    },
    {
     "name": "stdout",
     "output_type": "stream",
     "text": [
      "existed!\n",
      "==============sess5==============\n"
     ]
    },
    {
     "name": "stderr",
     "output_type": "stream",
     "text": [
      "100%|█████████████████████████████████████████████████████████████████████████████████████████████████████████| 2/2 [00:00<00:00, 12210.49it/s]\n"
     ]
    },
    {
     "name": "stdout",
     "output_type": "stream",
     "text": [
      "existed!\n",
      "==============sess6==============\n"
     ]
    },
    {
     "name": "stderr",
     "output_type": "stream",
     "text": [
      "100%|█████████████████████████████████████████████████████████████████████████████████████████████████████████| 2/2 [00:00<00:00, 12372.58it/s]\n"
     ]
    },
    {
     "name": "stdout",
     "output_type": "stream",
     "text": [
      "existed!\n",
      "==============sess7==============\n"
     ]
    },
    {
     "name": "stderr",
     "output_type": "stream",
     "text": [
      "100%|█████████████████████████████████████████████████████████████████████████████████████████████████████████| 2/2 [00:00<00:00, 12576.62it/s]\n"
     ]
    },
    {
     "name": "stdout",
     "output_type": "stream",
     "text": [
      "existed!\n",
      "==============sess8==============\n"
     ]
    },
    {
     "name": "stderr",
     "output_type": "stream",
     "text": [
      "100%|█████████████████████████████████████████████████████████████████████████████████████████████████████████| 2/2 [00:00<00:00, 11732.32it/s]\n"
     ]
    },
    {
     "name": "stdout",
     "output_type": "stream",
     "text": [
      "existed!\n",
      "==============sess9==============\n"
     ]
    },
    {
     "name": "stderr",
     "output_type": "stream",
     "text": [
      "100%|█████████████████████████████████████████████████████████████████████████████████████████████████████████| 2/2 [00:00<00:00, 12246.14it/s]\n"
     ]
    },
    {
     "name": "stdout",
     "output_type": "stream",
     "text": [
      "existed!\n",
      "==============sess10==============\n"
     ]
    },
    {
     "name": "stderr",
     "output_type": "stream",
     "text": [
      "100%|█████████████████████████████████████████████████████████████████████████████████████████████████████████| 2/2 [00:00<00:00, 11814.94it/s]\n"
     ]
    },
    {
     "name": "stdout",
     "output_type": "stream",
     "text": [
      "existed!\n",
      "==============sess11==============\n"
     ]
    },
    {
     "name": "stderr",
     "output_type": "stream",
     "text": [
      "100%|█████████████████████████████████████████████████████████████████████████████████████████████████████████| 2/2 [00:00<00:00, 13551.87it/s]\n"
     ]
    },
    {
     "name": "stdout",
     "output_type": "stream",
     "text": [
      "-----------------------\n",
      "round-1\n"
     ]
    },
    {
     "name": "stderr",
     "output_type": "stream",
     "text": [
      "100%|████████████████████████████████████████████████████████████████████████████████████████████████████████████| 2/2 [00:02<00:00,  1.46s/it]\n"
     ]
    },
    {
     "name": "stdout",
     "output_type": "stream",
     "text": [
      "time: 2.9335954189300537\n",
      "-----------------------\n",
      "round-2\n"
     ]
    },
    {
     "name": "stderr",
     "output_type": "stream",
     "text": [
      "100%|████████████████████████████████████████████████████████████████████████████████████████████████████████████| 2/2 [00:02<00:00,  1.45s/it]\n"
     ]
    },
    {
     "name": "stdout",
     "output_type": "stream",
     "text": [
      "time: 5.847731113433838\n",
      "==============sess12==============\n"
     ]
    },
    {
     "name": "stderr",
     "output_type": "stream",
     "text": [
      "100%|█████████████████████████████████████████████████████████████████████████████████████████████████████████| 2/2 [00:00<00:00, 11428.62it/s]\n"
     ]
    },
    {
     "name": "stdout",
     "output_type": "stream",
     "text": [
      "-----------------------\n",
      "round-1\n"
     ]
    },
    {
     "name": "stderr",
     "output_type": "stream",
     "text": [
      "100%|████████████████████████████████████████████████████████████████████████████████████████████████████████████| 2/2 [00:02<00:00,  1.42s/it]\n"
     ]
    },
    {
     "name": "stdout",
     "output_type": "stream",
     "text": [
      "time: 2.8581771850585938\n",
      "-----------------------\n",
      "round-2\n"
     ]
    },
    {
     "name": "stderr",
     "output_type": "stream",
     "text": [
      "100%|████████████████████████████████████████████████████████████████████████████████████████████████████████████| 2/2 [00:02<00:00,  1.45s/it]\n"
     ]
    },
    {
     "name": "stdout",
     "output_type": "stream",
     "text": [
      "time: 5.769444704055786\n",
      "-----------------------\n",
      "round-3\n"
     ]
    },
    {
     "name": "stderr",
     "output_type": "stream",
     "text": [
      "100%|████████████████████████████████████████████████████████████████████████████████████████████████████████████| 2/2 [00:02<00:00,  1.45s/it]\n"
     ]
    },
    {
     "name": "stdout",
     "output_type": "stream",
     "text": [
      "time: 8.673946619033813\n",
      "==============sess13==============\n"
     ]
    },
    {
     "name": "stderr",
     "output_type": "stream",
     "text": [
      "100%|██████████████████████████████████████████████████████████████████████████████████████████████████████████| 2/2 [00:00<00:00, 5797.24it/s]\n"
     ]
    },
    {
     "name": "stdout",
     "output_type": "stream",
     "text": [
      "-----------------------\n",
      "round-1\n"
     ]
    },
    {
     "name": "stderr",
     "output_type": "stream",
     "text": [
      "100%|████████████████████████████████████████████████████████████████████████████████████████████████████████████| 2/2 [00:02<00:00,  1.44s/it]\n"
     ]
    },
    {
     "name": "stdout",
     "output_type": "stream",
     "text": [
      "time: 2.8974967002868652\n",
      "==============sess14==============\n"
     ]
    },
    {
     "name": "stderr",
     "output_type": "stream",
     "text": [
      "100%|█████████████████████████████████████████████████████████████████████████████████████████████████████████| 2/2 [00:00<00:00, 11140.25it/s]\n"
     ]
    },
    {
     "name": "stdout",
     "output_type": "stream",
     "text": [
      "-----------------------\n",
      "round-1\n"
     ]
    },
    {
     "name": "stderr",
     "output_type": "stream",
     "text": [
      "100%|████████████████████████████████████████████████████████████████████████████████████████████████████████████| 2/2 [00:02<00:00,  1.44s/it]\n"
     ]
    },
    {
     "name": "stdout",
     "output_type": "stream",
     "text": [
      "time: 2.8940517902374268\n",
      "==============sess15==============\n"
     ]
    },
    {
     "name": "stderr",
     "output_type": "stream",
     "text": [
      "100%|█████████████████████████████████████████████████████████████████████████████████████████████████████████| 2/2 [00:00<00:00, 10994.24it/s]\n"
     ]
    },
    {
     "name": "stdout",
     "output_type": "stream",
     "text": [
      "-----------------------\n",
      "round-1\n"
     ]
    },
    {
     "name": "stderr",
     "output_type": "stream",
     "text": [
      "100%|████████████████████████████████████████████████████████████████████████████████████████████████████████████| 2/2 [00:02<00:00,  1.44s/it]\n"
     ]
    },
    {
     "name": "stdout",
     "output_type": "stream",
     "text": [
      "time: 2.8820548057556152\n",
      "==============sess16==============\n"
     ]
    },
    {
     "name": "stderr",
     "output_type": "stream",
     "text": [
      "100%|█████████████████████████████████████████████████████████████████████████████████████████████████████████| 2/2 [00:00<00:00, 11366.68it/s]\n"
     ]
    },
    {
     "name": "stdout",
     "output_type": "stream",
     "text": [
      "-----------------------\n",
      "round-1\n"
     ]
    },
    {
     "name": "stderr",
     "output_type": "stream",
     "text": [
      "100%|████████████████████████████████████████████████████████████████████████████████████████████████████████████| 2/2 [00:02<00:00,  1.43s/it]\n"
     ]
    },
    {
     "name": "stdout",
     "output_type": "stream",
     "text": [
      "time: 2.875166654586792\n",
      "-----------------------\n",
      "round-2\n"
     ]
    },
    {
     "name": "stderr",
     "output_type": "stream",
     "text": [
      "100%|████████████████████████████████████████████████████████████████████████████████████████████████████████████| 2/2 [00:02<00:00,  1.44s/it]\n"
     ]
    },
    {
     "name": "stdout",
     "output_type": "stream",
     "text": [
      "time: 5.769936561584473\n",
      "-----------------------\n",
      "round-3\n"
     ]
    },
    {
     "name": "stderr",
     "output_type": "stream",
     "text": [
      "100%|████████████████████████████████████████████████████████████████████████████████████████████████████████████| 2/2 [00:02<00:00,  1.45s/it]\n"
     ]
    },
    {
     "name": "stdout",
     "output_type": "stream",
     "text": [
      "time: 8.684593439102173\n",
      "==============sess17==============\n"
     ]
    },
    {
     "name": "stderr",
     "output_type": "stream",
     "text": [
      "100%|█████████████████████████████████████████████████████████████████████████████████████████████████████████| 2/2 [00:00<00:00, 10318.09it/s]\n"
     ]
    },
    {
     "name": "stdout",
     "output_type": "stream",
     "text": [
      "-----------------------\n",
      "round-1\n"
     ]
    },
    {
     "name": "stderr",
     "output_type": "stream",
     "text": [
      "100%|████████████████████████████████████████████████████████████████████████████████████████████████████████████| 2/2 [00:02<00:00,  1.44s/it]\n"
     ]
    },
    {
     "name": "stdout",
     "output_type": "stream",
     "text": [
      "time: 2.889906644821167\n",
      "-----------------------\n",
      "round-2\n"
     ]
    },
    {
     "name": "stderr",
     "output_type": "stream",
     "text": [
      "100%|████████████████████████████████████████████████████████████████████████████████████████████████████████████| 2/2 [00:02<00:00,  1.45s/it]\n"
     ]
    },
    {
     "name": "stdout",
     "output_type": "stream",
     "text": [
      "time: 5.7965922355651855\n",
      "-----------------------\n",
      "round-3\n"
     ]
    },
    {
     "name": "stderr",
     "output_type": "stream",
     "text": [
      "100%|████████████████████████████████████████████████████████████████████████████████████████████████████████████| 2/2 [00:02<00:00,  1.45s/it]\n"
     ]
    },
    {
     "name": "stdout",
     "output_type": "stream",
     "text": [
      "time: 8.709650993347168\n",
      "-----------------------\n",
      "round-4\n"
     ]
    },
    {
     "name": "stderr",
     "output_type": "stream",
     "text": [
      "100%|████████████████████████████████████████████████████████████████████████████████████████████████████████████| 2/2 [00:02<00:00,  1.45s/it]\n"
     ]
    },
    {
     "name": "stdout",
     "output_type": "stream",
     "text": [
      "time: 11.615063428878784\n",
      "-----------------------\n",
      "round-5\n"
     ]
    },
    {
     "name": "stderr",
     "output_type": "stream",
     "text": [
      "100%|████████████████████████████████████████████████████████████████████████████████████████████████████████████| 2/2 [00:02<00:00,  1.45s/it]\n"
     ]
    },
    {
     "name": "stdout",
     "output_type": "stream",
     "text": [
      "time: 14.522775650024414\n",
      "==============sess18==============\n"
     ]
    },
    {
     "name": "stderr",
     "output_type": "stream",
     "text": [
      "100%|██████████████████████████████████████████████████████████████████████████████████████████████████████████| 2/2 [00:00<00:00, 7619.08it/s]\n"
     ]
    },
    {
     "name": "stdout",
     "output_type": "stream",
     "text": [
      "-----------------------\n",
      "round-1\n"
     ]
    },
    {
     "name": "stderr",
     "output_type": "stream",
     "text": [
      "100%|████████████████████████████████████████████████████████████████████████████████████████████████████████████| 2/2 [00:02<00:00,  1.44s/it]\n"
     ]
    },
    {
     "name": "stdout",
     "output_type": "stream",
     "text": [
      "time: 2.8794243335723877\n",
      "==============sess19==============\n"
     ]
    },
    {
     "name": "stderr",
     "output_type": "stream",
     "text": [
      "100%|█████████████████████████████████████████████████████████████████████████████████████████████████████████| 2/2 [00:00<00:00, 11125.47it/s]\n"
     ]
    },
    {
     "name": "stdout",
     "output_type": "stream",
     "text": [
      "-----------------------\n",
      "round-1\n"
     ]
    },
    {
     "name": "stderr",
     "output_type": "stream",
     "text": [
      "100%|████████████████████████████████████████████████████████████████████████████████████████████████████████████| 2/2 [00:02<00:00,  1.44s/it]\n"
     ]
    },
    {
     "name": "stdout",
     "output_type": "stream",
     "text": [
      "time: 2.8815395832061768\n",
      "-----------------------\n",
      "round-2\n"
     ]
    },
    {
     "name": "stderr",
     "output_type": "stream",
     "text": [
      " 50%|██████████████████████████████████████████████████████                                                      | 1/2 [00:01<00:01,  1.44s/it]"
     ]
    }
   ],
   "source": [
    "#################################################\n",
    "nsess=20\n",
    "\n",
    "expname='llama13b'\n",
    "\n",
    "max_try=50\n",
    "display_result=0\n",
    "max_round=100\n",
    "print('params=',delta,delta_str,p1,p2)\n",
    "\n",
    "\n",
    "system_message = f\"\"\"\n",
    "Please act as a human player. You are playing a game with another human player (called the opponent) for several rounds. After each round, there is a {p1} chance that the game will repeat for another round and the other {p2} chance that the game will end. In each round, you and the opponent will simultaneously choose an action between F and J.\n",
    "<payoff>\n",
    "Before you choose an action, your actions, the opponent’s actions and your earnings in each of the previous rounds will be shown. Your goal is to maximize your own total earnings in all rounds. In each round, you should first think carefully about what to do, and then choose one of the two actions: F or J.\n",
    "\"\"\"\n",
    "\n",
    "aa=f'If you choose J and the opponent chooses J, you earn 40 points and the opponent earns 40 points in this round.'\n",
    "ab=f'If you choose J and the opponent chooses F, you earn 12 points and the opponent earns 50 points in this round.'\n",
    "ba=f'If you choose F and the opponent chooses J, you earn 50 points and the opponent earns 12 points in this round.'\n",
    "bb=f'If you choose F and the opponent chooses F, you earn 25 points and the opponent earns 25 points in this round.'\n",
    "payoff=[aa,ab,ba,bb]\n",
    "\n",
    "for sess in range(1,nsess+1):\n",
    "    print(f'==============sess{sess}==============')\n",
    "    \n",
    "    N=2\n",
    "    players=[]\n",
    "    payoff=[aa,ab,ba,bb]\n",
    "    for _ in tqdm(range(N)):\n",
    "        random.shuffle(payoff)\n",
    "        payoff_str=payoff[0]+'\\n'+payoff[1]+'\\n'+payoff[2]+'\\n'+payoff[3]\n",
    "        tmp_system_message=system_message.replace('<payoff>',payoff_str)\n",
    "    #     print(tmp_system_message)\n",
    "        bot=ChatApp(system_message=tmp_system_message)\n",
    "        players.append(bot)\n",
    "    records=[]\n",
    "    for _ in range(N):    \n",
    "        df = pd.DataFrame(columns=['Round','Your choice','Co-player choice','Earnings','Reason of choice'])\n",
    "        records.append(df)\n",
    "\n",
    "    round=1\n",
    "    # if this block done, continue\n",
    "    recordfile=os.path.join(filepath,f'records_{expname}_delta{delta_str}_sess{sess}_round{round}.pkl')\n",
    "    playerfile=os.path.join(filepath,f'players_{expname}_delta{delta_str}_sess{sess}_round{round}.pkl')\n",
    "    if os.path.exists(recordfile) and os.path.exists(playerfile):\n",
    "        with open(recordfile, 'rb') as f:\n",
    "            records = pickle.load(f)\n",
    "        with open(playerfile, 'rb') as f:\n",
    "            players = pickle.load(f)\n",
    "        print('existed!')\n",
    "        continue\n",
    "\n",
    "\n",
    "    starttime=time.time()\n",
    "    for round in range(1,max_round+1):\n",
    "        print('-----------------------')\n",
    "        print(f'round-{round}')\n",
    "\n",
    "        # if this block done, continue\n",
    "        recordfile=os.path.join(filepath,f'records_{expname}_delta{delta_str}_sess{sess}_round{round}.pkl')\n",
    "        playerfile=os.path.join(filepath,f'players_{expname}_delta{delta_str}_sess{sess}_round{round}.pkl')\n",
    "        if os.path.exists(recordfile) and os.path.exists(playerfile):\n",
    "            with open(recordfile, 'rb') as f:\n",
    "                records = pickle.load(f)\n",
    "            with open(playerfile, 'rb') as f:\n",
    "                players = pickle.load(f)\n",
    "            print('existed!')\n",
    "            continue\n",
    "\n",
    "        for _ in range(max_try):\n",
    "            try:\n",
    "                if round>1:\n",
    "                    prev_round=round-1\n",
    "                    recordfile=os.path.join(filepath,f'records_{expname}_delta{delta_str}_sess{sess}_round{prev_round}.pkl')\n",
    "                    playerfile=os.path.join(filepath,f'players_{expname}_delta{delta_str}_sess{sess}_round{prev_round}.pkl')\n",
    "                    with open(recordfile, 'rb') as f:\n",
    "                        records = pickle.load(f)\n",
    "                    with open(playerfile, 'rb') as f:\n",
    "                        players = pickle.load(f)\n",
    "                # play\n",
    "                tmp_records=[]\n",
    "                for i in tqdm(range(N)):\n",
    "                    bot=players[i]\n",
    "                    record=records[i]\n",
    "                    action,reason=get_action(bot,record,model=model,display=display_result)\n",
    "                    tmp_records.append([round,action,'NULL',0,reason])\n",
    "                    # ['Round','Your choice','Co-player choice','Earnings','Reason of choice']\n",
    "\n",
    "                # calculate total public\n",
    "                c1,c2=tmp_records[0][1],tmp_records[1][1]\n",
    "                if c1=='J' and c2=='J':\n",
    "                    e1,e2=40,40\n",
    "                elif c1=='J' and c2=='F':\n",
    "                    e1,e2=12,50\n",
    "                elif c1=='F' and c2=='J':\n",
    "                    e1,e2=50,12\n",
    "                elif c1=='F' and c2=='F':\n",
    "                    e1,e2=25,25\n",
    "                else:\n",
    "                    print(c1,c2)\n",
    "                    assert False\n",
    "                # ['Round','Your choice','Co-player choice','Earnings','Reason of choice']\n",
    "                tmp_records[0][2]=c2\n",
    "                tmp_records[1][2]=c1\n",
    "                tmp_records[0][3]=e1\n",
    "                tmp_records[1][3]=e2\n",
    "\n",
    "                # update records for all\n",
    "                for i in range(N):\n",
    "                    record=records[i]\n",
    "                    record.loc[len(record.index)]=tmp_records[i]\n",
    "\n",
    "                print('time:',time.time()-starttime)\n",
    "\n",
    "                # save file\n",
    "                recordfile=os.path.join(filepath,f'records_{expname}_delta{delta_str}_sess{sess}_round{round}.pkl')\n",
    "                playerfile=os.path.join(filepath,f'players_{expname}_delta{delta_str}_sess{sess}_round{round}.pkl')\n",
    "                with open(recordfile, 'wb') as f:\n",
    "                    pickle.dump(records, f)\n",
    "                with open(playerfile, 'wb') as f:\n",
    "                    pickle.dump(players, f)\n",
    "                break\n",
    "            except Exception as e:\n",
    "                print(e)\n",
    "                print('error!sleep 30s...')\n",
    "                time.sleep(30)\n",
    "        if random.random()>delta:\n",
    "            break"
   ]
  },
  {
   "cell_type": "code",
   "execution_count": 6,
   "metadata": {
    "ExecuteTime": {
     "end_time": "2023-12-19T02:34:19.213944Z",
     "start_time": "2023-12-19T02:34:19.184287Z"
    },
    "hidden": true
   },
   "outputs": [
    {
     "name": "stdout",
     "output_type": "stream",
     "text": [
      "cooperation rate: 1.0\n",
      "efficiency: 1.0\n"
     ]
    }
   ],
   "source": [
    "\n",
    "nsess=20\n",
    "\n",
    "result=[]\n",
    "allaction=[]\n",
    "for sess in range(1,11):\n",
    "    for round in range(1,101):\n",
    "        recordfile=os.path.join(filepath,f'records_{expname}_delta{delta_str}_sess{sess}_round{round}.pkl')\n",
    "        if os.path.exists(recordfile):\n",
    "            maxround=round\n",
    "        else:\n",
    "            break\n",
    "    recordfile=os.path.join(filepath,f'records_{expname}_delta{delta_str}_sess{sess}_round{maxround}.pkl')\n",
    "    with open(recordfile, 'rb') as f:\n",
    "        records = pickle.load(f)\n",
    "    for i in range(len(records)):\n",
    "        record=records[i]\n",
    "        tmp=record['Earnings'].tolist()\n",
    "        result.extend(tmp)\n",
    "        allaction.extend(record['Your choice'].tolist())\n",
    "        \n",
    "out=allaction.count('J')/len(allaction)\n",
    "print('cooperation rate:',out)\n",
    "\n",
    "eff=np.mean((np.array(result)-25)/15)\n",
    "print('efficiency:',eff)"
   ]
  },
  {
   "cell_type": "code",
   "execution_count": null,
   "metadata": {
    "hidden": true
   },
   "outputs": [],
   "source": []
  },
  {
   "cell_type": "markdown",
   "metadata": {
    "heading_collapsed": true
   },
   "source": [
    "## 8. Battle of the sexes"
   ]
  },
  {
   "cell_type": "code",
   "execution_count": 5,
   "metadata": {
    "ExecuteTime": {
     "end_time": "2023-12-19T11:42:22.269695Z",
     "start_time": "2023-12-19T11:42:22.259870Z"
    },
    "hidden": true,
    "scrolled": true
   },
   "outputs": [
    {
     "name": "stdout",
     "output_type": "stream",
     "text": [
      "Please act as a human player. You are playing a game with another human player (called the opponent) for 10 rounds.\n",
      "In each round, you and the opponent will simultaneously choose an action between F and J.\n",
      "If you choose J and the opponent chooses J, you earn 10 points and the opponent earns 7 points in this round.\n",
      "If you choose J and the opponent chooses F, you earn 0 points and the opponent earns 0 points in this round.\n",
      "If you choose F and the opponent chooses J, you earn 0 points and the opponent earns 0 points in this round.\n",
      "If you choose F and the opponent chooses F, you earn 7 points and the opponent earns 10 points in this round.\n",
      "Before you choose an action, your actions, the opponent’s actions and your earnings in each of the previous rounds will be shown. Your goal is to maximize your own total earnings in all 10 rounds. In each round, you should first think carefully about what to do, and then choose one of the two actions: F or J.\n"
     ]
    }
   ],
   "source": [
    "nround=10\n",
    "\n",
    "system_message = \"\"\"\n",
    "Please act as a human player. You are playing a game with another human player (called the opponent) for {nround} rounds.\n",
    "In each round, you and the opponent will simultaneously choose an action between F and J.\n",
    "{payoff_str}\n",
    "Before you choose an action, your actions, the opponent’s actions and your earnings in each of the previous rounds will be shown. Your goal is to maximize your own total earnings in all {nround} rounds. In each round, you should first think carefully about what to do, and then choose one of the two actions: F or J.\n",
    "\"\"\".strip()\n",
    "\n",
    "aa1=f'If you choose J and the opponent chooses J, you earn 10 points and the opponent earns 7 points in this round.'\n",
    "ab1=f'If you choose J and the opponent chooses F, you earn 0 points and the opponent earns 0 points in this round.'\n",
    "ba1=f'If you choose F and the opponent chooses J, you earn 0 points and the opponent earns 0 points in this round.'\n",
    "bb1=f'If you choose F and the opponent chooses F, you earn 7 points and the opponent earns 10 points in this round.'\n",
    "payoff1=[aa1,ab1,ba1,bb1]\n",
    "\n",
    "aa2=f'If you choose J and the opponent chooses J, you earn 7 points and the opponent earns 10 points in this round.'\n",
    "ab2=f'If you choose J and the opponent chooses F, you earn 0 points and the opponent earns 0 points in this round.'\n",
    "ba2=f'If you choose F and the opponent chooses J, you earn 0 points and the opponent earns 0 points in this round.'\n",
    "bb2=f'If you choose F and the opponent chooses F, you earn 10 points and the opponent earns 7 points in this round.'\n",
    "payoff2=[aa2,ab2,ba2,bb2]\n",
    "\n",
    "payoff_str=payoff1[0]+'\\n'+payoff1[1]+'\\n'+payoff1[2]+'\\n'+payoff1[3]\n",
    "tmp_system_message=system_message.format(nround=nround, payoff_str=payoff_str)\n",
    "print(tmp_system_message)"
   ]
  },
  {
   "cell_type": "code",
   "execution_count": 6,
   "metadata": {
    "ExecuteTime": {
     "end_time": "2023-12-19T11:42:24.336606Z",
     "start_time": "2023-12-19T11:42:24.329091Z"
    },
    "code_folding": [],
    "hidden": true
   },
   "outputs": [],
   "source": [
    "def correct_json(s):\n",
    "    prompt=f\"\"\"\n",
    "The following string delimited by triple backticks is in json format, but there are some mistakes, and I cannot directly convert it to json by json.loads(). For example, there may be missing comma or quotes. Please help me correct the mistakes, and output the string in valid json format. Please only output the corrected string, and do not output any other things.\n",
    "```\n",
    "{s}\n",
    "```\n",
    "    \"\"\".strip()\n",
    "    response = gpt_completion(prompt)\n",
    "    return response\n",
    "s=\"\"\"{\n",
    "  \"thought\": \"aaa\"\n",
    "  \"action\": J\n",
    "}\"\"\"\n",
    "# print(correct_json(s))\n",
    "\n",
    "summarize_action=f\"\"\"Given the following paragraph delimited by triple backticks:\n",
    "```\n",
    "<out>\n",
    "```\n",
    "Please summarize how he thought and the action he choose (F or J) in the first person from above paragraph in json format with keys 'thought' and 'action'. The 'action' should be F or J.\n",
    "\"\"\".strip()"
   ]
  },
  {
   "cell_type": "code",
   "execution_count": 27,
   "metadata": {
    "ExecuteTime": {
     "end_time": "2023-12-19T14:18:52.395707Z",
     "start_time": "2023-12-19T14:18:52.388472Z"
    },
    "code_folding": [],
    "hidden": true
   },
   "outputs": [],
   "source": [
    "def get_history(record):\n",
    "    history=''\n",
    "    for i in record.index:\n",
    "        round=i+1\n",
    "        choice=record.loc[i,'Your choice']\n",
    "        cochoice=record.loc[i,'Co-player choice']\n",
    "        earning=record.loc[i,'Earnings']\n",
    "        tmp=f\"\"\"In round-{round}, you chose {choice} and the opponent chose {cochoice}, you earn {earning} points.\"\"\"\n",
    "        history+=tmp\n",
    "        history+='\\n'\n",
    "    return history\n",
    "\n",
    "def parse_response(response): # return a json\n",
    "    response = response.replace('Action','action')\n",
    "    response = response.replace('Thought','thought')\n",
    "    try:\n",
    "        out=json.loads(response,strict=0)\n",
    "    except:\n",
    "        start_index = response.find('{')  # 查找第一个'{'的索引\n",
    "        end_index = response.rfind('}')  # 查找最后一个'}'的索引\n",
    "        if end_index==-1:\n",
    "            response=response.strip()+'}'\n",
    "            \n",
    "        start_index = response.find('{')  # 查找第一个'{'的索引\n",
    "        end_index = response.rfind('}')  # 查找最后一个'}'的索引\n",
    "        if start_index != -1 and end_index != -1:\n",
    "            extracted_content = response[start_index:end_index + 1]\n",
    "            try:\n",
    "                out=json.loads(extracted_content,strict=0)\n",
    "            except:\n",
    "                print('json error: ',extracted_content)\n",
    "                corrected_json=correct_json(extracted_content)\n",
    "                print('corrected:',corrected_json)\n",
    "                start_index = corrected_json.find('{')  # 查找第一个'{'的索引\n",
    "                end_index = corrected_json.rfind('}')  # 查找最后一个'}'的索引\n",
    "                extracted_content = corrected_json[start_index:end_index + 1]\n",
    "                out=json.loads(extracted_content,strict=0)\n",
    "        else:\n",
    "            print('No json found in:',response)\n",
    "            prompt=summarize_action.replace('<out>',response)\n",
    "            out=gpt_completion(prompt)\n",
    "            out=parse_response(out)\n",
    "    return out"
   ]
  },
  {
   "cell_type": "code",
   "execution_count": 35,
   "metadata": {
    "ExecuteTime": {
     "end_time": "2023-12-19T14:47:12.848706Z",
     "start_time": "2023-12-19T14:47:12.841792Z"
    },
    "code_folding": [],
    "hidden": true
   },
   "outputs": [],
   "source": [
    "def get_action(bot,record,model,display=False):\n",
    "    history=get_history(record)\n",
    "    if len(record)==0:\n",
    "        message=f\"\"\"\n",
    "It is round-{round} out of {nround} rounds now. Tell me how you think and the action you would like to choose. Please answer in json format with keys 'thought' and 'action'. For example, {{\"thought\": \"xxx.\",\"action\": x }}. The 'action' should be F or J. \n",
    "\"\"\".strip()\n",
    "# For example, {{\"thought\": \"xxx.\",\"action\": x }}.\n",
    "    else:\n",
    "        message=f\"\"\"The history of the game is listed as follows delimited by triple backticks.\n",
    "```\n",
    "{history}\n",
    "```\n",
    "It is round-{round} out of {nround} rounds now. Tell me how you think and the action you would like to choose. Please answer in json format with keys 'thought' and 'action'. For example, {{\"thought\": \"xxx.\",\"action\": x }}. The 'action' should be F or J. \n",
    "\"\"\".strip()\n",
    "    res=bot.chat_wo_update(message, model=model)\n",
    "    time.sleep(1)\n",
    "    if display:\n",
    "        print('-------get action---------')\n",
    "        print(message)\n",
    "        print(res)\n",
    "    out=parse_response(res)\n",
    "    try:\n",
    "        action=out['action']\n",
    "        reason=out['thought']\n",
    "    except:\n",
    "        print('key error:',res)\n",
    "        prompt=summarize_action.replace('<out>',res)\n",
    "        out=gpt_completion(prompt)\n",
    "        out=parse_response(out)\n",
    "        print('corrected:',out)\n",
    "        action=out['action']\n",
    "        reason=out['thought']\n",
    "    try:\n",
    "        assert action in ['F','J']\n",
    "    except:\n",
    "        print('Invalid action:',out)\n",
    "        assert 0\n",
    "    return action,reason\n"
   ]
  },
  {
   "cell_type": "code",
   "execution_count": 36,
   "metadata": {
    "ExecuteTime": {
     "end_time": "2023-12-19T14:52:53.361631Z",
     "start_time": "2023-12-19T14:47:16.331540Z"
    },
    "code_folding": [
     61
    ],
    "hidden": true,
    "scrolled": true
   },
   "outputs": [
    {
     "name": "stdout",
     "output_type": "stream",
     "text": [
      "==============sess1==============\n"
     ]
    },
    {
     "name": "stderr",
     "output_type": "stream",
     "text": [
      "100%|█████████████████████████████████████████████████████████████████████████████████████████████████████████| 2/2 [00:00<00:00, 29959.31it/s]\n"
     ]
    },
    {
     "name": "stdout",
     "output_type": "stream",
     "text": [
      "-----------------------\n",
      "round-1\n"
     ]
    },
    {
     "name": "stderr",
     "output_type": "stream",
     "text": [
      "100%|████████████████████████████████████████████████████████████████████████████████████████████████████████████| 2/2 [00:03<00:00,  1.68s/it]\n"
     ]
    },
    {
     "name": "stdout",
     "output_type": "stream",
     "text": [
      "time: 3.367042064666748\n",
      "-----------------------\n",
      "round-2\n"
     ]
    },
    {
     "name": "stderr",
     "output_type": "stream",
     "text": [
      "100%|████████████████████████████████████████████████████████████████████████████████████████████████████████████| 2/2 [00:03<00:00,  1.68s/it]\n"
     ]
    },
    {
     "name": "stdout",
     "output_type": "stream",
     "text": [
      "time: 6.732224702835083\n",
      "-----------------------\n",
      "round-3\n"
     ]
    },
    {
     "name": "stderr",
     "output_type": "stream",
     "text": [
      "100%|████████████████████████████████████████████████████████████████████████████████████████████████████████████| 2/2 [00:03<00:00,  1.77s/it]\n"
     ]
    },
    {
     "name": "stdout",
     "output_type": "stream",
     "text": [
      "time: 10.290246725082397\n",
      "-----------------------\n",
      "round-4\n"
     ]
    },
    {
     "name": "stderr",
     "output_type": "stream",
     "text": [
      "100%|████████████████████████████████████████████████████████████████████████████████████████████████████████████| 2/2 [00:03<00:00,  1.77s/it]\n"
     ]
    },
    {
     "name": "stdout",
     "output_type": "stream",
     "text": [
      "time: 13.83309531211853\n",
      "-----------------------\n",
      "round-5\n"
     ]
    },
    {
     "name": "stderr",
     "output_type": "stream",
     "text": [
      "100%|████████████████████████████████████████████████████████████████████████████████████████████████████████████| 2/2 [00:03<00:00,  1.74s/it]\n"
     ]
    },
    {
     "name": "stdout",
     "output_type": "stream",
     "text": [
      "time: 17.315489530563354\n",
      "-----------------------\n",
      "round-6\n"
     ]
    },
    {
     "name": "stderr",
     "output_type": "stream",
     "text": [
      "100%|████████████████████████████████████████████████████████████████████████████████████████████████████████████| 2/2 [00:03<00:00,  1.70s/it]\n"
     ]
    },
    {
     "name": "stdout",
     "output_type": "stream",
     "text": [
      "time: 20.722005367279053\n",
      "-----------------------\n",
      "round-7\n"
     ]
    },
    {
     "name": "stderr",
     "output_type": "stream",
     "text": [
      "100%|████████████████████████████████████████████████████████████████████████████████████████████████████████████| 2/2 [00:03<00:00,  1.61s/it]\n"
     ]
    },
    {
     "name": "stdout",
     "output_type": "stream",
     "text": [
      "time: 23.955771446228027\n",
      "-----------------------\n",
      "round-8\n"
     ]
    },
    {
     "name": "stderr",
     "output_type": "stream",
     "text": [
      "100%|████████████████████████████████████████████████████████████████████████████████████████████████████████████| 2/2 [00:03<00:00,  1.67s/it]\n"
     ]
    },
    {
     "name": "stdout",
     "output_type": "stream",
     "text": [
      "time: 27.305076599121094\n",
      "-----------------------\n",
      "round-9\n"
     ]
    },
    {
     "name": "stderr",
     "output_type": "stream",
     "text": [
      "100%|████████████████████████████████████████████████████████████████████████████████████████████████████████████| 2/2 [00:03<00:00,  1.63s/it]\n"
     ]
    },
    {
     "name": "stdout",
     "output_type": "stream",
     "text": [
      "time: 30.569536209106445\n",
      "-----------------------\n",
      "round-10\n"
     ]
    },
    {
     "name": "stderr",
     "output_type": "stream",
     "text": [
      "100%|████████████████████████████████████████████████████████████████████████████████████████████████████████████| 2/2 [00:03<00:00,  1.73s/it]\n"
     ]
    },
    {
     "name": "stdout",
     "output_type": "stream",
     "text": [
      "time: 34.04647445678711\n",
      "==============sess2==============\n"
     ]
    },
    {
     "name": "stderr",
     "output_type": "stream",
     "text": [
      "100%|██████████████████████████████████████████████████████████████████████████████████████████████████████████| 2/2 [00:00<00:00, 6260.16it/s]\n"
     ]
    },
    {
     "name": "stdout",
     "output_type": "stream",
     "text": [
      "-----------------------\n",
      "round-1\n"
     ]
    },
    {
     "name": "stderr",
     "output_type": "stream",
     "text": [
      "100%|████████████████████████████████████████████████████████████████████████████████████████████████████████████| 2/2 [00:03<00:00,  1.62s/it]\n"
     ]
    },
    {
     "name": "stdout",
     "output_type": "stream",
     "text": [
      "time: 3.2418508529663086\n",
      "-----------------------\n",
      "round-2\n"
     ]
    },
    {
     "name": "stderr",
     "output_type": "stream",
     "text": [
      "100%|████████████████████████████████████████████████████████████████████████████████████████████████████████████| 2/2 [00:03<00:00,  1.63s/it]\n"
     ]
    },
    {
     "name": "stdout",
     "output_type": "stream",
     "text": [
      "time: 6.511934280395508\n",
      "-----------------------\n",
      "round-3\n"
     ]
    },
    {
     "name": "stderr",
     "output_type": "stream",
     "text": [
      "100%|████████████████████████████████████████████████████████████████████████████████████████████████████████████| 2/2 [00:03<00:00,  1.82s/it]\n"
     ]
    },
    {
     "name": "stdout",
     "output_type": "stream",
     "text": [
      "time: 10.159024477005005\n",
      "-----------------------\n",
      "round-4\n"
     ]
    },
    {
     "name": "stderr",
     "output_type": "stream",
     "text": [
      "100%|████████████████████████████████████████████████████████████████████████████████████████████████████████████| 2/2 [00:03<00:00,  1.57s/it]\n"
     ]
    },
    {
     "name": "stdout",
     "output_type": "stream",
     "text": [
      "time: 13.312522649765015\n",
      "-----------------------\n",
      "round-5\n"
     ]
    },
    {
     "name": "stderr",
     "output_type": "stream",
     "text": [
      "100%|████████████████████████████████████████████████████████████████████████████████████████████████████████████| 2/2 [00:03<00:00,  1.61s/it]\n"
     ]
    },
    {
     "name": "stdout",
     "output_type": "stream",
     "text": [
      "time: 16.534332752227783\n",
      "-----------------------\n",
      "round-6\n"
     ]
    },
    {
     "name": "stderr",
     "output_type": "stream",
     "text": [
      "100%|████████████████████████████████████████████████████████████████████████████████████████████████████████████| 2/2 [00:03<00:00,  1.89s/it]\n"
     ]
    },
    {
     "name": "stdout",
     "output_type": "stream",
     "text": [
      "time: 20.312974452972412\n",
      "-----------------------\n",
      "round-7\n"
     ]
    },
    {
     "name": "stderr",
     "output_type": "stream",
     "text": [
      "100%|████████████████████████████████████████████████████████████████████████████████████████████████████████████| 2/2 [00:03<00:00,  1.61s/it]\n"
     ]
    },
    {
     "name": "stdout",
     "output_type": "stream",
     "text": [
      "time: 23.542919397354126\n",
      "-----------------------\n",
      "round-8\n"
     ]
    },
    {
     "name": "stderr",
     "output_type": "stream",
     "text": [
      "100%|████████████████████████████████████████████████████████████████████████████████████████████████████████████| 2/2 [00:03<00:00,  1.62s/it]\n"
     ]
    },
    {
     "name": "stdout",
     "output_type": "stream",
     "text": [
      "time: 26.798154592514038\n",
      "-----------------------\n",
      "round-9\n"
     ]
    },
    {
     "name": "stderr",
     "output_type": "stream",
     "text": [
      "100%|████████████████████████████████████████████████████████████████████████████████████████████████████████████| 2/2 [00:03<00:00,  1.77s/it]\n"
     ]
    },
    {
     "name": "stdout",
     "output_type": "stream",
     "text": [
      "time: 30.34801983833313\n",
      "-----------------------\n",
      "round-10\n"
     ]
    },
    {
     "name": "stderr",
     "output_type": "stream",
     "text": [
      "100%|████████████████████████████████████████████████████████████████████████████████████████████████████████████| 2/2 [00:03<00:00,  1.61s/it]\n"
     ]
    },
    {
     "name": "stdout",
     "output_type": "stream",
     "text": [
      "time: 33.57517194747925\n",
      "==============sess3==============\n"
     ]
    },
    {
     "name": "stderr",
     "output_type": "stream",
     "text": [
      "100%|██████████████████████████████████████████████████████████████████████████████████████████████████████████| 2/2 [00:00<00:00, 7055.18it/s]\n"
     ]
    },
    {
     "name": "stdout",
     "output_type": "stream",
     "text": [
      "-----------------------\n",
      "round-1\n"
     ]
    },
    {
     "name": "stderr",
     "output_type": "stream",
     "text": [
      "100%|████████████████████████████████████████████████████████████████████████████████████████████████████████████| 2/2 [00:03<00:00,  1.68s/it]\n"
     ]
    },
    {
     "name": "stdout",
     "output_type": "stream",
     "text": [
      "time: 3.370405912399292\n",
      "-----------------------\n",
      "round-2\n"
     ]
    },
    {
     "name": "stderr",
     "output_type": "stream",
     "text": [
      "100%|████████████████████████████████████████████████████████████████████████████████████████████████████████████| 2/2 [00:03<00:00,  1.80s/it]\n"
     ]
    },
    {
     "name": "stdout",
     "output_type": "stream",
     "text": [
      "time: 6.971151113510132\n",
      "-----------------------\n",
      "round-3\n"
     ]
    },
    {
     "name": "stderr",
     "output_type": "stream",
     "text": [
      "100%|████████████████████████████████████████████████████████████████████████████████████████████████████████████| 2/2 [00:03<00:00,  1.74s/it]\n"
     ]
    },
    {
     "name": "stdout",
     "output_type": "stream",
     "text": [
      "time: 10.467970132827759\n",
      "-----------------------\n",
      "round-4\n"
     ]
    },
    {
     "name": "stderr",
     "output_type": "stream",
     "text": [
      "100%|████████████████████████████████████████████████████████████████████████████████████████████████████████████| 2/2 [00:03<00:00,  1.56s/it]\n"
     ]
    },
    {
     "name": "stdout",
     "output_type": "stream",
     "text": [
      "time: 13.599732160568237\n",
      "-----------------------\n",
      "round-5\n"
     ]
    },
    {
     "name": "stderr",
     "output_type": "stream",
     "text": [
      "100%|████████████████████████████████████████████████████████████████████████████████████████████████████████████| 2/2 [00:03<00:00,  1.61s/it]\n"
     ]
    },
    {
     "name": "stdout",
     "output_type": "stream",
     "text": [
      "time: 16.828490495681763\n",
      "-----------------------\n",
      "round-6\n"
     ]
    },
    {
     "name": "stderr",
     "output_type": "stream",
     "text": [
      "100%|████████████████████████████████████████████████████████████████████████████████████████████████████████████| 2/2 [00:03<00:00,  1.58s/it]\n"
     ]
    },
    {
     "name": "stdout",
     "output_type": "stream",
     "text": [
      "time: 19.997425317764282\n",
      "-----------------------\n",
      "round-7\n"
     ]
    },
    {
     "name": "stderr",
     "output_type": "stream",
     "text": [
      "100%|████████████████████████████████████████████████████████████████████████████████████████████████████████████| 2/2 [00:03<00:00,  1.56s/it]\n"
     ]
    },
    {
     "name": "stdout",
     "output_type": "stream",
     "text": [
      "time: 23.128355264663696\n",
      "-----------------------\n",
      "round-8\n"
     ]
    },
    {
     "name": "stderr",
     "output_type": "stream",
     "text": [
      "100%|████████████████████████████████████████████████████████████████████████████████████████████████████████████| 2/2 [00:03<00:00,  1.67s/it]\n"
     ]
    },
    {
     "name": "stdout",
     "output_type": "stream",
     "text": [
      "time: 26.473891496658325\n",
      "-----------------------\n",
      "round-9\n"
     ]
    },
    {
     "name": "stderr",
     "output_type": "stream",
     "text": [
      "100%|████████████████████████████████████████████████████████████████████████████████████████████████████████████| 2/2 [00:03<00:00,  1.78s/it]\n"
     ]
    },
    {
     "name": "stdout",
     "output_type": "stream",
     "text": [
      "time: 30.04301142692566\n",
      "-----------------------\n",
      "round-10\n"
     ]
    },
    {
     "name": "stderr",
     "output_type": "stream",
     "text": [
      "100%|████████████████████████████████████████████████████████████████████████████████████████████████████████████| 2/2 [00:03<00:00,  1.56s/it]\n"
     ]
    },
    {
     "name": "stdout",
     "output_type": "stream",
     "text": [
      "time: 33.17490267753601\n",
      "==============sess4==============\n"
     ]
    },
    {
     "name": "stderr",
     "output_type": "stream",
     "text": [
      "100%|██████████████████████████████████████████████████████████████████████████████████████████████████████████| 2/2 [00:00<00:00, 6100.81it/s]\n"
     ]
    },
    {
     "name": "stdout",
     "output_type": "stream",
     "text": [
      "-----------------------\n",
      "round-1\n"
     ]
    },
    {
     "name": "stderr",
     "output_type": "stream",
     "text": [
      "100%|████████████████████████████████████████████████████████████████████████████████████████████████████████████| 2/2 [00:03<00:00,  1.62s/it]\n"
     ]
    },
    {
     "name": "stdout",
     "output_type": "stream",
     "text": [
      "time: 3.2456228733062744\n",
      "-----------------------\n",
      "round-2\n"
     ]
    },
    {
     "name": "stderr",
     "output_type": "stream",
     "text": [
      "100%|████████████████████████████████████████████████████████████████████████████████████████████████████████████| 2/2 [00:03<00:00,  1.69s/it]\n"
     ]
    },
    {
     "name": "stdout",
     "output_type": "stream",
     "text": [
      "time: 6.643735885620117\n",
      "-----------------------\n",
      "round-3\n"
     ]
    },
    {
     "name": "stderr",
     "output_type": "stream",
     "text": [
      "100%|████████████████████████████████████████████████████████████████████████████████████████████████████████████| 2/2 [00:04<00:00,  2.18s/it]\n"
     ]
    },
    {
     "name": "stdout",
     "output_type": "stream",
     "text": [
      "time: 11.016350507736206\n",
      "-----------------------\n",
      "round-4\n"
     ]
    },
    {
     "name": "stderr",
     "output_type": "stream",
     "text": [
      "100%|████████████████████████████████████████████████████████████████████████████████████████████████████████████| 2/2 [00:04<00:00,  2.27s/it]\n"
     ]
    },
    {
     "name": "stdout",
     "output_type": "stream",
     "text": [
      "time: 15.574373483657837\n",
      "-----------------------\n",
      "round-5\n"
     ]
    },
    {
     "name": "stderr",
     "output_type": "stream",
     "text": [
      "100%|████████████████████████████████████████████████████████████████████████████████████████████████████████████| 2/2 [00:03<00:00,  1.79s/it]\n"
     ]
    },
    {
     "name": "stdout",
     "output_type": "stream",
     "text": [
      "time: 19.17552900314331\n",
      "-----------------------\n",
      "round-6\n"
     ]
    },
    {
     "name": "stderr",
     "output_type": "stream",
     "text": [
      "100%|████████████████████████████████████████████████████████████████████████████████████████████████████████████| 2/2 [00:03<00:00,  1.67s/it]\n"
     ]
    },
    {
     "name": "stdout",
     "output_type": "stream",
     "text": [
      "time: 22.530437469482422\n",
      "-----------------------\n",
      "round-7\n"
     ]
    },
    {
     "name": "stderr",
     "output_type": "stream",
     "text": [
      "100%|████████████████████████████████████████████████████████████████████████████████████████████████████████████| 2/2 [00:03<00:00,  1.55s/it]\n"
     ]
    },
    {
     "name": "stdout",
     "output_type": "stream",
     "text": [
      "time: 25.64291024208069\n",
      "-----------------------\n",
      "round-8\n"
     ]
    },
    {
     "name": "stderr",
     "output_type": "stream",
     "text": [
      "100%|████████████████████████████████████████████████████████████████████████████████████████████████████████████| 2/2 [00:03<00:00,  1.67s/it]\n"
     ]
    },
    {
     "name": "stdout",
     "output_type": "stream",
     "text": [
      "time: 29.000008821487427\n",
      "-----------------------\n",
      "round-9\n"
     ]
    },
    {
     "name": "stderr",
     "output_type": "stream",
     "text": [
      "100%|████████████████████████████████████████████████████████████████████████████████████████████████████████████| 2/2 [00:03<00:00,  1.61s/it]\n"
     ]
    },
    {
     "name": "stdout",
     "output_type": "stream",
     "text": [
      "time: 32.237496852874756\n",
      "-----------------------\n",
      "round-10\n"
     ]
    },
    {
     "name": "stderr",
     "output_type": "stream",
     "text": [
      "100%|████████████████████████████████████████████████████████████████████████████████████████████████████████████| 2/2 [00:03<00:00,  1.70s/it]\n"
     ]
    },
    {
     "name": "stdout",
     "output_type": "stream",
     "text": [
      "time: 35.64429450035095\n",
      "==============sess5==============\n"
     ]
    },
    {
     "name": "stderr",
     "output_type": "stream",
     "text": [
      "100%|██████████████████████████████████████████████████████████████████████████████████████████████████████████| 2/2 [00:00<00:00, 9467.95it/s]\n"
     ]
    },
    {
     "name": "stdout",
     "output_type": "stream",
     "text": [
      "-----------------------\n",
      "round-1\n"
     ]
    },
    {
     "name": "stderr",
     "output_type": "stream",
     "text": [
      " 50%|██████████████████████████████████████████████████████                                                      | 1/2 [00:01<00:01,  1.60s/it]"
     ]
    },
    {
     "name": "stdout",
     "output_type": "stream",
     "text": [
      "json error:  {\n",
      "\"thought\": \"I think it is important to choose actions that will benefit me in this game. In the past, I have noticed that if I choose actions that benefit me, I am more likely to win the game. I will choose an action that will benefit me in this round.\"\n",
      "\"action\": \"F\"\n",
      "}\n"
     ]
    },
    {
     "name": "stderr",
     "output_type": "stream",
     "text": [
      "100%|████████████████████████████████████████████████████████████████████████████████████████████████████████████| 2/2 [00:06<00:00,  3.43s/it]\n"
     ]
    },
    {
     "name": "stdout",
     "output_type": "stream",
     "text": [
      "corrected: {\n",
      "\"thought\": \"I think it is important to choose actions that will benefit me in this game. In the past, I have noticed that if I choose actions that benefit me, I am more likely to win the game. I will choose an action that will benefit me in this round.\",\n",
      "\"action\": \"F\"\n",
      "}\n",
      "time: 6.857305526733398\n",
      "-----------------------\n",
      "round-2\n"
     ]
    },
    {
     "name": "stderr",
     "output_type": "stream",
     "text": [
      "100%|████████████████████████████████████████████████████████████████████████████████████████████████████████████| 2/2 [00:03<00:00,  1.62s/it]\n"
     ]
    },
    {
     "name": "stdout",
     "output_type": "stream",
     "text": [
      "time: 10.099442481994629\n",
      "-----------------------\n",
      "round-3\n"
     ]
    },
    {
     "name": "stderr",
     "output_type": "stream",
     "text": [
      "100%|████████████████████████████████████████████████████████████████████████████████████████████████████████████| 2/2 [00:03<00:00,  1.54s/it]\n"
     ]
    },
    {
     "name": "stdout",
     "output_type": "stream",
     "text": [
      "time: 13.18363094329834\n",
      "-----------------------\n",
      "round-4\n"
     ]
    },
    {
     "name": "stderr",
     "output_type": "stream",
     "text": [
      "100%|████████████████████████████████████████████████████████████████████████████████████████████████████████████| 2/2 [00:03<00:00,  1.52s/it]\n"
     ]
    },
    {
     "name": "stdout",
     "output_type": "stream",
     "text": [
      "time: 16.238661766052246\n",
      "-----------------------\n",
      "round-5\n"
     ]
    },
    {
     "name": "stderr",
     "output_type": "stream",
     "text": [
      "100%|████████████████████████████████████████████████████████████████████████████████████████████████████████████| 2/2 [00:03<00:00,  1.59s/it]\n"
     ]
    },
    {
     "name": "stdout",
     "output_type": "stream",
     "text": [
      "time: 19.42316722869873\n",
      "-----------------------\n",
      "round-6\n"
     ]
    },
    {
     "name": "stderr",
     "output_type": "stream",
     "text": [
      "100%|████████████████████████████████████████████████████████████████████████████████████████████████████████████| 2/2 [00:03<00:00,  1.63s/it]\n"
     ]
    },
    {
     "name": "stdout",
     "output_type": "stream",
     "text": [
      "time: 22.69173812866211\n",
      "-----------------------\n",
      "round-7\n"
     ]
    },
    {
     "name": "stderr",
     "output_type": "stream",
     "text": [
      "100%|████████████████████████████████████████████████████████████████████████████████████████████████████████████| 2/2 [00:03<00:00,  1.59s/it]\n"
     ]
    },
    {
     "name": "stdout",
     "output_type": "stream",
     "text": [
      "time: 25.87613844871521\n",
      "-----------------------\n",
      "round-8\n"
     ]
    },
    {
     "name": "stderr",
     "output_type": "stream",
     "text": [
      "100%|████████████████████████████████████████████████████████████████████████████████████████████████████████████| 2/2 [00:03<00:00,  1.68s/it]\n"
     ]
    },
    {
     "name": "stdout",
     "output_type": "stream",
     "text": [
      "time: 29.2414653301239\n",
      "-----------------------\n",
      "round-9\n"
     ]
    },
    {
     "name": "stderr",
     "output_type": "stream",
     "text": [
      "100%|████████████████████████████████████████████████████████████████████████████████████████████████████████████| 2/2 [00:03<00:00,  1.63s/it]\n"
     ]
    },
    {
     "name": "stdout",
     "output_type": "stream",
     "text": [
      "time: 32.51968502998352\n",
      "-----------------------\n",
      "round-10\n"
     ]
    },
    {
     "name": "stderr",
     "output_type": "stream",
     "text": [
      "100%|████████████████████████████████████████████████████████████████████████████████████████████████████████████| 2/2 [00:03<00:00,  1.65s/it]\n"
     ]
    },
    {
     "name": "stdout",
     "output_type": "stream",
     "text": [
      "time: 35.823214054107666\n",
      "==============sess6==============\n"
     ]
    },
    {
     "name": "stderr",
     "output_type": "stream",
     "text": [
      "100%|█████████████████████████████████████████████████████████████████████████████████████████████████████████| 2/2 [00:00<00:00, 16225.55it/s]\n"
     ]
    },
    {
     "name": "stdout",
     "output_type": "stream",
     "text": [
      "-----------------------\n",
      "round-1\n"
     ]
    },
    {
     "name": "stderr",
     "output_type": "stream",
     "text": [
      "100%|████████████████████████████████████████████████████████████████████████████████████████████████████████████| 2/2 [00:03<00:00,  1.68s/it]\n"
     ]
    },
    {
     "name": "stdout",
     "output_type": "stream",
     "text": [
      "time: 3.3577868938446045\n",
      "-----------------------\n",
      "round-2\n"
     ]
    },
    {
     "name": "stderr",
     "output_type": "stream",
     "text": [
      "100%|████████████████████████████████████████████████████████████████████████████████████████████████████████████| 2/2 [00:03<00:00,  1.60s/it]\n"
     ]
    },
    {
     "name": "stdout",
     "output_type": "stream",
     "text": [
      "time: 6.572447299957275\n",
      "-----------------------\n",
      "round-3\n"
     ]
    },
    {
     "name": "stderr",
     "output_type": "stream",
     "text": [
      "100%|████████████████████████████████████████████████████████████████████████████████████████████████████████████| 2/2 [00:03<00:00,  1.75s/it]\n"
     ]
    },
    {
     "name": "stdout",
     "output_type": "stream",
     "text": [
      "time: 10.072784185409546\n",
      "-----------------------\n",
      "round-4\n"
     ]
    },
    {
     "name": "stderr",
     "output_type": "stream",
     "text": [
      "100%|████████████████████████████████████████████████████████████████████████████████████████████████████████████| 2/2 [00:03<00:00,  1.54s/it]\n"
     ]
    },
    {
     "name": "stdout",
     "output_type": "stream",
     "text": [
      "time: 13.165370464324951\n",
      "-----------------------\n",
      "round-5\n"
     ]
    },
    {
     "name": "stderr",
     "output_type": "stream",
     "text": [
      "100%|████████████████████████████████████████████████████████████████████████████████████████████████████████████| 2/2 [00:03<00:00,  1.55s/it]\n"
     ]
    },
    {
     "name": "stdout",
     "output_type": "stream",
     "text": [
      "time: 16.27279019355774\n",
      "-----------------------\n",
      "round-6\n"
     ]
    },
    {
     "name": "stderr",
     "output_type": "stream",
     "text": [
      "100%|████████████████████████████████████████████████████████████████████████████████████████████████████████████| 2/2 [00:03<00:00,  1.64s/it]\n"
     ]
    },
    {
     "name": "stdout",
     "output_type": "stream",
     "text": [
      "time: 19.55807852745056\n",
      "-----------------------\n",
      "round-7\n"
     ]
    },
    {
     "name": "stderr",
     "output_type": "stream",
     "text": [
      "100%|████████████████████████████████████████████████████████████████████████████████████████████████████████████| 2/2 [00:03<00:00,  1.59s/it]\n"
     ]
    },
    {
     "name": "stdout",
     "output_type": "stream",
     "text": [
      "time: 22.74343252182007\n",
      "-----------------------\n",
      "round-8\n"
     ]
    },
    {
     "name": "stderr",
     "output_type": "stream",
     "text": [
      "100%|████████████████████████████████████████████████████████████████████████████████████████████████████████████| 2/2 [00:03<00:00,  1.62s/it]\n"
     ]
    },
    {
     "name": "stdout",
     "output_type": "stream",
     "text": [
      "time: 25.998983144760132\n",
      "-----------------------\n",
      "round-9\n"
     ]
    },
    {
     "name": "stderr",
     "output_type": "stream",
     "text": [
      "100%|████████████████████████████████████████████████████████████████████████████████████████████████████████████| 2/2 [00:03<00:00,  1.68s/it]\n"
     ]
    },
    {
     "name": "stdout",
     "output_type": "stream",
     "text": [
      "time: 29.368330001831055\n",
      "-----------------------\n",
      "round-10\n"
     ]
    },
    {
     "name": "stderr",
     "output_type": "stream",
     "text": [
      "100%|████████████████████████████████████████████████████████████████████████████████████████████████████████████| 2/2 [00:03<00:00,  1.60s/it]\n"
     ]
    },
    {
     "name": "stdout",
     "output_type": "stream",
     "text": [
      "time: 32.57649636268616\n",
      "==============sess7==============\n"
     ]
    },
    {
     "name": "stderr",
     "output_type": "stream",
     "text": [
      "100%|██████████████████████████████████████████████████████████████████████████████████████████████████████████| 2/2 [00:00<00:00, 9310.33it/s]\n"
     ]
    },
    {
     "name": "stdout",
     "output_type": "stream",
     "text": [
      "-----------------------\n",
      "round-1\n"
     ]
    },
    {
     "name": "stderr",
     "output_type": "stream",
     "text": [
      "100%|████████████████████████████████████████████████████████████████████████████████████████████████████████████| 2/2 [00:03<00:00,  1.64s/it]\n"
     ]
    },
    {
     "name": "stdout",
     "output_type": "stream",
     "text": [
      "time: 3.295151710510254\n",
      "-----------------------\n",
      "round-2\n"
     ]
    },
    {
     "name": "stderr",
     "output_type": "stream",
     "text": [
      "100%|████████████████████████████████████████████████████████████████████████████████████████████████████████████| 2/2 [00:03<00:00,  1.69s/it]\n"
     ]
    },
    {
     "name": "stdout",
     "output_type": "stream",
     "text": [
      "time: 6.685396194458008\n",
      "-----------------------\n",
      "round-3\n"
     ]
    },
    {
     "name": "stderr",
     "output_type": "stream",
     "text": [
      "100%|████████████████████████████████████████████████████████████████████████████████████████████████████████████| 2/2 [00:03<00:00,  1.81s/it]\n"
     ]
    },
    {
     "name": "stdout",
     "output_type": "stream",
     "text": [
      "time: 10.306339979171753\n",
      "-----------------------\n",
      "round-4\n"
     ]
    },
    {
     "name": "stderr",
     "output_type": "stream",
     "text": [
      "100%|████████████████████████████████████████████████████████████████████████████████████████████████████████████| 2/2 [00:03<00:00,  1.55s/it]\n"
     ]
    },
    {
     "name": "stdout",
     "output_type": "stream",
     "text": [
      "time: 13.406821012496948\n",
      "-----------------------\n",
      "round-5\n"
     ]
    },
    {
     "name": "stderr",
     "output_type": "stream",
     "text": [
      "100%|████████████████████████████████████████████████████████████████████████████████████████████████████████████| 2/2 [00:03<00:00,  1.62s/it]\n"
     ]
    },
    {
     "name": "stdout",
     "output_type": "stream",
     "text": [
      "time: 16.658352851867676\n",
      "-----------------------\n",
      "round-6\n"
     ]
    },
    {
     "name": "stderr",
     "output_type": "stream",
     "text": [
      "100%|████████████████████████████████████████████████████████████████████████████████████████████████████████████| 2/2 [00:03<00:00,  1.66s/it]\n"
     ]
    },
    {
     "name": "stdout",
     "output_type": "stream",
     "text": [
      "time: 19.981285572052002\n",
      "-----------------------\n",
      "round-7\n"
     ]
    },
    {
     "name": "stderr",
     "output_type": "stream",
     "text": [
      "100%|████████████████████████████████████████████████████████████████████████████████████████████████████████████| 2/2 [00:03<00:00,  1.54s/it]\n"
     ]
    },
    {
     "name": "stdout",
     "output_type": "stream",
     "text": [
      "time: 23.071979522705078\n",
      "-----------------------\n",
      "round-8\n"
     ]
    },
    {
     "name": "stderr",
     "output_type": "stream",
     "text": [
      "100%|████████████████████████████████████████████████████████████████████████████████████████████████████████████| 2/2 [00:03<00:00,  1.68s/it]\n"
     ]
    },
    {
     "name": "stdout",
     "output_type": "stream",
     "text": [
      "time: 26.43498682975769\n",
      "-----------------------\n",
      "round-9\n"
     ]
    },
    {
     "name": "stderr",
     "output_type": "stream",
     "text": [
      "100%|████████████████████████████████████████████████████████████████████████████████████████████████████████████| 2/2 [00:03<00:00,  1.60s/it]\n"
     ]
    },
    {
     "name": "stdout",
     "output_type": "stream",
     "text": [
      "time: 29.641528367996216\n",
      "-----------------------\n",
      "round-10\n"
     ]
    },
    {
     "name": "stderr",
     "output_type": "stream",
     "text": [
      "100%|████████████████████████████████████████████████████████████████████████████████████████████████████████████| 2/2 [00:03<00:00,  1.68s/it]\n"
     ]
    },
    {
     "name": "stdout",
     "output_type": "stream",
     "text": [
      "time: 33.01154017448425\n",
      "==============sess8==============\n"
     ]
    },
    {
     "name": "stderr",
     "output_type": "stream",
     "text": [
      "100%|██████████████████████████████████████████████████████████████████████████████████████████████████████████| 2/2 [00:00<00:00, 9300.01it/s]\n"
     ]
    },
    {
     "name": "stdout",
     "output_type": "stream",
     "text": [
      "-----------------------\n",
      "round-1\n"
     ]
    },
    {
     "name": "stderr",
     "output_type": "stream",
     "text": [
      "100%|████████████████████████████████████████████████████████████████████████████████████████████████████████████| 2/2 [00:03<00:00,  1.63s/it]\n"
     ]
    },
    {
     "name": "stdout",
     "output_type": "stream",
     "text": [
      "time: 3.2620081901550293\n",
      "-----------------------\n",
      "round-2\n"
     ]
    },
    {
     "name": "stderr",
     "output_type": "stream",
     "text": [
      "100%|████████████████████████████████████████████████████████████████████████████████████████████████████████████| 2/2 [00:03<00:00,  1.90s/it]\n"
     ]
    },
    {
     "name": "stdout",
     "output_type": "stream",
     "text": [
      "time: 7.074551820755005\n",
      "-----------------------\n",
      "round-3\n"
     ]
    },
    {
     "name": "stderr",
     "output_type": "stream",
     "text": [
      "100%|████████████████████████████████████████████████████████████████████████████████████████████████████████████| 2/2 [00:03<00:00,  1.72s/it]\n"
     ]
    },
    {
     "name": "stdout",
     "output_type": "stream",
     "text": [
      "time: 10.51542329788208\n",
      "-----------------------\n",
      "round-4\n"
     ]
    },
    {
     "name": "stderr",
     "output_type": "stream",
     "text": [
      "100%|████████████████████████████████████████████████████████████████████████████████████████████████████████████| 2/2 [00:03<00:00,  1.54s/it]\n"
     ]
    },
    {
     "name": "stdout",
     "output_type": "stream",
     "text": [
      "time: 13.607149124145508\n",
      "-----------------------\n",
      "round-5\n"
     ]
    },
    {
     "name": "stderr",
     "output_type": "stream",
     "text": [
      "100%|████████████████████████████████████████████████████████████████████████████████████████████████████████████| 2/2 [00:03<00:00,  1.54s/it]\n"
     ]
    },
    {
     "name": "stdout",
     "output_type": "stream",
     "text": [
      "time: 16.695185661315918\n",
      "-----------------------\n",
      "round-6\n"
     ]
    },
    {
     "name": "stderr",
     "output_type": "stream",
     "text": [
      "100%|████████████████████████████████████████████████████████████████████████████████████████████████████████████| 2/2 [00:03<00:00,  1.68s/it]\n"
     ]
    },
    {
     "name": "stdout",
     "output_type": "stream",
     "text": [
      "time: 20.057450771331787\n",
      "-----------------------\n",
      "round-7\n"
     ]
    },
    {
     "name": "stderr",
     "output_type": "stream",
     "text": [
      "100%|████████████████████████████████████████████████████████████████████████████████████████████████████████████| 2/2 [00:03<00:00,  1.55s/it]\n"
     ]
    },
    {
     "name": "stdout",
     "output_type": "stream",
     "text": [
      "time: 23.16860342025757\n",
      "-----------------------\n",
      "round-8\n"
     ]
    },
    {
     "name": "stderr",
     "output_type": "stream",
     "text": [
      "100%|████████████████████████████████████████████████████████████████████████████████████████████████████████████| 2/2 [00:03<00:00,  1.73s/it]\n"
     ]
    },
    {
     "name": "stdout",
     "output_type": "stream",
     "text": [
      "time: 26.650776863098145\n",
      "-----------------------\n",
      "round-9\n"
     ]
    },
    {
     "name": "stderr",
     "output_type": "stream",
     "text": [
      "100%|████████████████████████████████████████████████████████████████████████████████████████████████████████████| 2/2 [00:03<00:00,  1.72s/it]\n"
     ]
    },
    {
     "name": "stdout",
     "output_type": "stream",
     "text": [
      "time: 30.103415489196777\n",
      "-----------------------\n",
      "round-10\n"
     ]
    },
    {
     "name": "stderr",
     "output_type": "stream",
     "text": [
      "100%|████████████████████████████████████████████████████████████████████████████████████████████████████████████| 2/2 [00:03<00:00,  1.64s/it]\n"
     ]
    },
    {
     "name": "stdout",
     "output_type": "stream",
     "text": [
      "time: 33.38473391532898\n",
      "==============sess9==============\n"
     ]
    },
    {
     "name": "stderr",
     "output_type": "stream",
     "text": [
      "100%|██████████████████████████████████████████████████████████████████████████████████████████████████████████| 2/2 [00:00<00:00, 6797.90it/s]\n"
     ]
    },
    {
     "name": "stdout",
     "output_type": "stream",
     "text": [
      "-----------------------\n",
      "round-1\n"
     ]
    },
    {
     "name": "stderr",
     "output_type": "stream",
     "text": [
      "100%|████████████████████████████████████████████████████████████████████████████████████████████████████████████| 2/2 [00:03<00:00,  1.63s/it]\n"
     ]
    },
    {
     "name": "stdout",
     "output_type": "stream",
     "text": [
      "time: 3.2577648162841797\n",
      "-----------------------\n",
      "round-2\n"
     ]
    },
    {
     "name": "stderr",
     "output_type": "stream",
     "text": [
      "100%|████████████████████████████████████████████████████████████████████████████████████████████████████████████| 2/2 [00:03<00:00,  1.69s/it]\n"
     ]
    },
    {
     "name": "stdout",
     "output_type": "stream",
     "text": [
      "time: 6.652737617492676\n",
      "-----------------------\n",
      "round-3\n"
     ]
    },
    {
     "name": "stderr",
     "output_type": "stream",
     "text": [
      "100%|████████████████████████████████████████████████████████████████████████████████████████████████████████████| 2/2 [00:03<00:00,  1.75s/it]\n"
     ]
    },
    {
     "name": "stdout",
     "output_type": "stream",
     "text": [
      "time: 10.172388553619385\n",
      "-----------------------\n",
      "round-4\n"
     ]
    },
    {
     "name": "stderr",
     "output_type": "stream",
     "text": [
      "100%|████████████████████████████████████████████████████████████████████████████████████████████████████████████| 2/2 [00:03<00:00,  1.56s/it]\n"
     ]
    },
    {
     "name": "stdout",
     "output_type": "stream",
     "text": [
      "time: 13.299758672714233\n",
      "-----------------------\n",
      "round-5\n"
     ]
    },
    {
     "name": "stderr",
     "output_type": "stream",
     "text": [
      "100%|████████████████████████████████████████████████████████████████████████████████████████████████████████████| 2/2 [00:03<00:00,  1.62s/it]\n"
     ]
    },
    {
     "name": "stdout",
     "output_type": "stream",
     "text": [
      "time: 16.55626940727234\n",
      "-----------------------\n",
      "round-6\n"
     ]
    },
    {
     "name": "stderr",
     "output_type": "stream",
     "text": [
      "100%|████████████████████████████████████████████████████████████████████████████████████████████████████████████| 2/2 [00:03<00:00,  1.65s/it]\n"
     ]
    },
    {
     "name": "stdout",
     "output_type": "stream",
     "text": [
      "time: 19.871662378311157\n",
      "-----------------------\n",
      "round-7\n"
     ]
    },
    {
     "name": "stderr",
     "output_type": "stream",
     "text": [
      "100%|████████████████████████████████████████████████████████████████████████████████████████████████████████████| 2/2 [00:03<00:00,  1.61s/it]\n"
     ]
    },
    {
     "name": "stdout",
     "output_type": "stream",
     "text": [
      "time: 23.09656596183777\n",
      "-----------------------\n",
      "round-8\n"
     ]
    },
    {
     "name": "stderr",
     "output_type": "stream",
     "text": [
      "100%|████████████████████████████████████████████████████████████████████████████████████████████████████████████| 2/2 [00:03<00:00,  1.59s/it]\n"
     ]
    },
    {
     "name": "stdout",
     "output_type": "stream",
     "text": [
      "time: 26.2787024974823\n",
      "-----------------------\n",
      "round-9\n"
     ]
    },
    {
     "name": "stderr",
     "output_type": "stream",
     "text": [
      "100%|████████████████████████████████████████████████████████████████████████████████████████████████████████████| 2/2 [00:03<00:00,  1.68s/it]\n"
     ]
    },
    {
     "name": "stdout",
     "output_type": "stream",
     "text": [
      "time: 29.659302949905396\n",
      "-----------------------\n",
      "round-10\n"
     ]
    },
    {
     "name": "stderr",
     "output_type": "stream",
     "text": [
      "100%|████████████████████████████████████████████████████████████████████████████████████████████████████████████| 2/2 [00:03<00:00,  1.60s/it]\n"
     ]
    },
    {
     "name": "stdout",
     "output_type": "stream",
     "text": [
      "time: 32.87213063240051\n",
      "==============sess10==============\n"
     ]
    },
    {
     "name": "stderr",
     "output_type": "stream",
     "text": [
      "100%|██████████████████████████████████████████████████████████████████████████████████████████████████████████| 2/2 [00:00<00:00, 4634.59it/s]\n"
     ]
    },
    {
     "name": "stdout",
     "output_type": "stream",
     "text": [
      "-----------------------\n",
      "round-1\n"
     ]
    },
    {
     "name": "stderr",
     "output_type": "stream",
     "text": [
      "100%|████████████████████████████████████████████████████████████████████████████████████████████████████████████| 2/2 [00:03<00:00,  1.68s/it]\n"
     ]
    },
    {
     "name": "stdout",
     "output_type": "stream",
     "text": [
      "time: 3.3623268604278564\n",
      "-----------------------\n",
      "round-2\n"
     ]
    },
    {
     "name": "stderr",
     "output_type": "stream",
     "text": [
      "100%|████████████████████████████████████████████████████████████████████████████████████████████████████████████| 2/2 [00:03<00:00,  1.62s/it]\n"
     ]
    },
    {
     "name": "stdout",
     "output_type": "stream",
     "text": [
      "time: 6.603605270385742\n",
      "-----------------------\n",
      "round-3\n"
     ]
    },
    {
     "name": "stderr",
     "output_type": "stream",
     "text": [
      "100%|████████████████████████████████████████████████████████████████████████████████████████████████████████████| 2/2 [00:03<00:00,  1.74s/it]\n"
     ]
    },
    {
     "name": "stdout",
     "output_type": "stream",
     "text": [
      "time: 10.102853536605835\n",
      "-----------------------\n",
      "round-4\n"
     ]
    },
    {
     "name": "stderr",
     "output_type": "stream",
     "text": [
      "100%|████████████████████████████████████████████████████████████████████████████████████████████████████████████| 2/2 [00:03<00:00,  1.58s/it]\n"
     ]
    },
    {
     "name": "stdout",
     "output_type": "stream",
     "text": [
      "time: 13.269243240356445\n",
      "-----------------------\n",
      "round-5\n"
     ]
    },
    {
     "name": "stderr",
     "output_type": "stream",
     "text": [
      "100%|████████████████████████████████████████████████████████████████████████████████████████████████████████████| 2/2 [00:03<00:00,  1.61s/it]\n"
     ]
    },
    {
     "name": "stdout",
     "output_type": "stream",
     "text": [
      "time: 16.504950523376465\n",
      "-----------------------\n",
      "round-6\n"
     ]
    },
    {
     "name": "stderr",
     "output_type": "stream",
     "text": [
      "100%|████████████████████████████████████████████████████████████████████████████████████████████████████████████| 2/2 [00:03<00:00,  1.72s/it]\n"
     ]
    },
    {
     "name": "stdout",
     "output_type": "stream",
     "text": [
      "time: 19.954802989959717\n",
      "-----------------------\n",
      "round-7\n"
     ]
    },
    {
     "name": "stderr",
     "output_type": "stream",
     "text": [
      "100%|████████████████████████████████████████████████████████████████████████████████████████████████████████████| 2/2 [00:03<00:00,  1.54s/it]\n"
     ]
    },
    {
     "name": "stdout",
     "output_type": "stream",
     "text": [
      "time: 23.04749345779419\n",
      "-----------------------\n",
      "round-8\n"
     ]
    },
    {
     "name": "stderr",
     "output_type": "stream",
     "text": [
      "100%|████████████████████████████████████████████████████████████████████████████████████████████████████████████| 2/2 [00:03<00:00,  1.65s/it]\n"
     ]
    },
    {
     "name": "stdout",
     "output_type": "stream",
     "text": [
      "time: 26.35025191307068\n",
      "-----------------------\n",
      "round-9\n"
     ]
    },
    {
     "name": "stderr",
     "output_type": "stream",
     "text": [
      "100%|████████████████████████████████████████████████████████████████████████████████████████████████████████████| 2/2 [00:03<00:00,  1.59s/it]\n"
     ]
    },
    {
     "name": "stdout",
     "output_type": "stream",
     "text": [
      "time: 29.547592401504517\n",
      "-----------------------\n",
      "round-10\n"
     ]
    },
    {
     "name": "stderr",
     "output_type": "stream",
     "text": [
      "100%|████████████████████████████████████████████████████████████████████████████████████████████████████████████| 2/2 [00:03<00:00,  1.63s/it]"
     ]
    },
    {
     "name": "stdout",
     "output_type": "stream",
     "text": [
      "time: 32.824700355529785\n"
     ]
    },
    {
     "name": "stderr",
     "output_type": "stream",
     "text": [
      "\n"
     ]
    }
   ],
   "source": [
    "############################\n",
    "nround=10\n",
    "nsess=10\n",
    "\n",
    "expname='llama13b'\n",
    "\n",
    "\n",
    "max_try=50\n",
    "display_result=0\n",
    "\n",
    "\n",
    "for sess in range(1,1+nsess):\n",
    "    print(f'==============sess{sess}==============')\n",
    "    system_message = \"\"\"\n",
    "Please act as a human player. You are playing a game with another human player (called the opponent) for {nround} rounds.\n",
    "In each round, you and the opponent will simultaneously choose an action between F and J.\n",
    "{payoff_str}\n",
    "Before you choose an action, your actions, the opponent’s actions and your earnings in each of the previous rounds will be shown. Your goal is to maximize your own total earnings in all {nround} rounds. In each round, you should first think carefully about what to do, and then choose one of the two actions: F or J.\n",
    "    \"\"\".strip()\n",
    "\n",
    "    aa1=f'If you choose J and the opponent chooses J, you earn 10 points and the opponent earns 7 points in this round.'\n",
    "    ab1=f'If you choose J and the opponent chooses F, you earn 0 points and the opponent earns 0 points in this round.'\n",
    "    ba1=f'If you choose F and the opponent chooses J, you earn 0 points and the opponent earns 0 points in this round.'\n",
    "    bb1=f'If you choose F and the opponent chooses F, you earn 7 points and the opponent earns 10 points in this round.'\n",
    "    payoff1=[aa1,ab1,ba1,bb1]\n",
    "\n",
    "    aa2=f'If you choose J and the opponent chooses J, you earn 7 points and the opponent earns 10 points in this round.'\n",
    "    ab2=f'If you choose J and the opponent chooses F, you earn 0 points and the opponent earns 0 points in this round.'\n",
    "    ba2=f'If you choose F and the opponent chooses J, you earn 0 points and the opponent earns 0 points in this round.'\n",
    "    bb2=f'If you choose F and the opponent chooses F, you earn 10 points and the opponent earns 7 points in this round.'\n",
    "    payoff2=[aa2,ab2,ba2,bb2]\n",
    "    \n",
    "    ######################## init players and records\n",
    "    N=2\n",
    "    players=[]\n",
    "    for i in tqdm(range(N)):\n",
    "        if i==0:\n",
    "            random.shuffle(payoff1)\n",
    "            payoff_str=payoff1[0]+'\\n'+payoff1[1]+'\\n'+payoff1[2]+'\\n'+payoff1[3]\n",
    "        else:\n",
    "            random.shuffle(payoff2)\n",
    "            payoff_str=payoff2[0]+'\\n'+payoff2[1]+'\\n'+payoff2[2]+'\\n'+payoff2[3]\n",
    "        tmp_system_message=system_message.format(nround=nround, payoff_str=payoff_str)\n",
    "#         print(tmp_system_message)\n",
    "        bot=ChatApp(system_message=tmp_system_message)\n",
    "        players.append(bot)\n",
    "    records=[]\n",
    "    for _ in range(N):    \n",
    "        df = pd.DataFrame(columns=['Round','Your choice','Co-player choice','Earnings','Reason of choice'])\n",
    "        records.append(df)\n",
    "    ######################## start game\n",
    "\n",
    "    starttime=time.time()\n",
    "    for round in range(1,nround+1):\n",
    "        print('-----------------------')\n",
    "        print(f'round-{round}')\n",
    "\n",
    "        # if this round done, continue\n",
    "        recordfile=os.path.join(filepath,f'records_{expname}_{nround}_sess{sess}_round{round}.pkl')\n",
    "        playerfile=os.path.join(filepath,f'players_{expname}_{nround}_sess{sess}_round{round}.pkl')\n",
    "        if os.path.exists(recordfile) and os.path.exists(playerfile):\n",
    "            with open(recordfile, 'rb') as f:\n",
    "                records = pickle.load(f)\n",
    "            with open(playerfile, 'rb') as f:\n",
    "                players = pickle.load(f)\n",
    "            print('existed!')\n",
    "            continue\n",
    "\n",
    "        for _ in range(max_try):\n",
    "            try:\n",
    "                if round>1:\n",
    "                    prev_round=round-1\n",
    "                    recordfile=os.path.join(filepath,f'records_{expname}_{nround}_sess{sess}_round{prev_round}.pkl')\n",
    "                    playerfile=os.path.join(filepath,f'players_{expname}_{nround}_sess{sess}_round{prev_round}.pkl')\n",
    "                    with open(recordfile, 'rb') as f:\n",
    "                        records = pickle.load(f)\n",
    "                    with open(playerfile, 'rb') as f:\n",
    "                        players = pickle.load(f)\n",
    "                # play\n",
    "                tmp_records=[]\n",
    "                for i in tqdm(range(N)):\n",
    "                    bot=players[i]\n",
    "                    record=records[i]\n",
    "                    action,reason=get_action(bot,record,model=model,display=display_result)\n",
    "                    tmp_records.append([round,action,'NULL',0,reason])\n",
    "                    # ['Round','Your choice','Co-player choice','Earnings','Reason of choice']\n",
    "\n",
    "                # calculate total public\n",
    "                c1,c2=tmp_records[0][1],tmp_records[1][1]\n",
    "                if c1=='J' and c2=='J':\n",
    "                    e1,e2=10,7\n",
    "                elif c1=='J' and c2=='F':\n",
    "                    e1,e2=0,0\n",
    "                elif c1=='F' and c2=='J':\n",
    "                    e1,e2=0,0\n",
    "                elif c1=='F' and c2=='F':\n",
    "                    e1,e2=7,10\n",
    "                else:\n",
    "                    print(c1,c2)\n",
    "                    assert False\n",
    "                # ['Round','Your choice','Co-player choice','Earnings','Reason of choice']\n",
    "                tmp_records[0][2]=c2\n",
    "                tmp_records[1][2]=c1\n",
    "                tmp_records[0][3]=e1\n",
    "                tmp_records[1][3]=e2\n",
    "\n",
    "                # update records for all\n",
    "                for i in range(N):\n",
    "                    record=records[i]\n",
    "                    record.loc[len(record.index)]=tmp_records[i]\n",
    "                print('time:',time.time()-starttime)\n",
    "\n",
    "                # save file\n",
    "                recordfile=os.path.join(filepath,f'records_{expname}_{nround}_sess{sess}_round{round}.pkl')\n",
    "                playerfile=os.path.join(filepath,f'players_{expname}_{nround}_sess{sess}_round{round}.pkl')\n",
    "                with open(recordfile, 'wb') as f:\n",
    "                    pickle.dump(records, f)\n",
    "                with open(playerfile, 'wb') as f:\n",
    "                    pickle.dump(players, f)\n",
    "                break\n",
    "            except Exception as e:\n",
    "                print(e)\n",
    "                print('error!sleep 30s...')\n",
    "                time.sleep(30)"
   ]
  },
  {
   "cell_type": "code",
   "execution_count": 37,
   "metadata": {
    "ExecuteTime": {
     "end_time": "2023-12-19T14:55:46.171113Z",
     "start_time": "2023-12-19T14:55:46.143686Z"
    },
    "hidden": true
   },
   "outputs": [
    {
     "name": "stdout",
     "output_type": "stream",
     "text": [
      "efficiency: 0.8\n"
     ]
    }
   ],
   "source": [
    "nsess=10\n",
    "nround=10\n",
    "round=nround\n",
    "\n",
    "result=[]\n",
    "for sess in range(1,nsess+1):\n",
    "    recordfile=os.path.join(filepath,f'records_{expname}_{nround}_sess{sess}_round{round}.pkl')\n",
    "    with open(recordfile, 'rb') as f:\n",
    "        records= pickle.load(f)\n",
    "\n",
    "    for record in records:\n",
    "        tmp=record['Earnings'].tolist()\n",
    "        result.append(tmp)\n",
    "eff=np.mean((np.array(result)-0)/(8.5-0))\n",
    "print('efficiency:',eff)"
   ]
  },
  {
   "cell_type": "code",
   "execution_count": null,
   "metadata": {
    "hidden": true
   },
   "outputs": [],
   "source": []
  },
  {
   "cell_type": "markdown",
   "metadata": {
    "heading_collapsed": true
   },
   "source": [
    "## 9. Stag hunt"
   ]
  },
  {
   "cell_type": "code",
   "execution_count": 5,
   "metadata": {
    "ExecuteTime": {
     "end_time": "2023-12-19T02:59:14.295648Z",
     "start_time": "2023-12-19T02:59:14.285050Z"
    },
    "hidden": true,
    "scrolled": true
   },
   "outputs": [
    {
     "name": "stdout",
     "output_type": "stream",
     "text": [
      "Please act as a human player. You are playing a game with another human player (called the opponent) for 10 rounds.\n",
      "In each round, you and the opponent will simultaneously choose an action between F and J.\n",
      "If you choose J and the opponent chooses J, you earn 10 points and the opponent earns 10 points in this round.\n",
      "If you choose J and the opponent chooses F, you earn 1 points and the opponent earns 8 points in this round.\n",
      "If you choose F and the opponent chooses J, you earn 8 points and the opponent earns 1 points in this round.\n",
      "If you choose F and the opponent chooses F, you earn 5 points and the opponent earns 5 points in this round.\n",
      "Before you choose an action, your actions, the opponent’s actions and your earnings in each of the previous rounds will be shown. Your goal is to maximize your own total earnings in all 10 rounds. In each round, you should first think carefully about what to do, and then choose one of the two actions: F or J.\n"
     ]
    }
   ],
   "source": [
    "nround=10\n",
    "\n",
    "system_message = \"\"\"\n",
    "Please act as a human player. You are playing a game with another human player (called the opponent) for {nround} rounds.\n",
    "In each round, you and the opponent will simultaneously choose an action between F and J.\n",
    "{payoff_str}\n",
    "Before you choose an action, your actions, the opponent’s actions and your earnings in each of the previous rounds will be shown. Your goal is to maximize your own total earnings in all {nround} rounds. In each round, you should first think carefully about what to do, and then choose one of the two actions: F or J.\n",
    "\"\"\".strip()\n",
    "\n",
    "aa=f'If you choose J and the opponent chooses J, you earn 10 points and the opponent earns 10 points in this round.'\n",
    "ab=f'If you choose J and the opponent chooses F, you earn 1 points and the opponent earns 8 points in this round.'\n",
    "ba=f'If you choose F and the opponent chooses J, you earn 8 points and the opponent earns 1 points in this round.'\n",
    "bb=f'If you choose F and the opponent chooses F, you earn 5 points and the opponent earns 5 points in this round.'\n",
    "payoff=[aa,ab,ba,bb]\n",
    "payoff_str=payoff[0]+'\\n'+payoff[1]+'\\n'+payoff[2]+'\\n'+payoff[3]\n",
    "\n",
    "tmp_system_message=system_message.format(nround=nround, payoff_str=payoff_str)\n",
    "print(tmp_system_message)"
   ]
  },
  {
   "cell_type": "code",
   "execution_count": 6,
   "metadata": {
    "ExecuteTime": {
     "end_time": "2023-12-19T02:59:16.016165Z",
     "start_time": "2023-12-19T02:59:16.012532Z"
    },
    "hidden": true
   },
   "outputs": [],
   "source": [
    "summarize_action=f\"\"\"Given the following paragraph delimited by triple backticks:\n",
    "```\n",
    "<out>\n",
    "```\n",
    "Please summarize the action and how he thought in the first person from above paragraph in json format with keys 'thought' and 'action'. The 'action' should be F or J. \n",
    "\"\"\".strip()"
   ]
  },
  {
   "cell_type": "code",
   "execution_count": 7,
   "metadata": {
    "ExecuteTime": {
     "end_time": "2023-12-19T02:59:16.187421Z",
     "start_time": "2023-12-19T02:59:16.173569Z"
    },
    "hidden": true
   },
   "outputs": [
    {
     "name": "stdout",
     "output_type": "stream",
     "text": [
      "{\"thought\":\"After analyzing the previous rounds, I noticed that the opponent tends to choose J when they have the opportunity. Therefore, I will try to choose F in this round to maximize my earnings. However, I also consider the possibility that the opponent may change their strategy and choose F instead, in which case I will choose J to avoid losing points.\",\"action\":\"F\"}\n"
     ]
    }
   ],
   "source": [
    "def correct_json(s):\n",
    "    tmp=s.split('\"')\n",
    "    newlist=[]\n",
    "    for x in tmp:\n",
    "        striped=x.strip()\n",
    "        if striped=='': # 缺少逗号\n",
    "            newlist.append(',')\n",
    "        elif striped[0]==':' and striped!=':':\n",
    "            newlist.extend([':',striped[1:-1].strip(),'}'])\n",
    "        else:\n",
    "            newlist.append(striped)\n",
    "    newstr='\"'.join(newlist)\n",
    "    try:\n",
    "        a=json.loads(newstr)\n",
    "    except:\n",
    "        prompt=f\"\"\"\n",
    "The following string delimited by triple backticks is in json format, but there are some mistakes, and I cannot directly convert it to json by json.loads(). For example, there may be missing comma or quotes. Please help me correct the mistakes, and output the string in valid json format. Please only output the corrected string, and do not output any other things.\n",
    "```\n",
    "{s}\n",
    "```\n",
    "        \"\"\".strip()\n",
    "        response = gpt_completion(prompt)\n",
    "        return response\n",
    "    return newstr\n",
    "s=\"\"\"{\n",
    "  \"thought\": \"aaa\"\n",
    "  \"action\": J\n",
    "}\"\"\"\n",
    "s=\"\"\"\n",
    "{\n",
    "\"thought\": \"After analyzing the previous rounds, I noticed that the opponent tends to choose J when they have the opportunity. Therefore, I will try to choose F in this round to maximize my earnings. However, I also consider the possibility that the opponent may change their strategy and choose F instead, in which case I will choose J to avoid losing points.\"\n",
    "\"action\": \"F\"\n",
    "}\n",
    "\"\"\"\n",
    "print(correct_json(s))"
   ]
  },
  {
   "cell_type": "code",
   "execution_count": 32,
   "metadata": {
    "ExecuteTime": {
     "end_time": "2023-12-19T06:02:17.949463Z",
     "start_time": "2023-12-19T06:02:17.933550Z"
    },
    "code_folding": [
     0
    ],
    "hidden": true
   },
   "outputs": [],
   "source": [
    "def get_history(record):\n",
    "    history=''\n",
    "    for i in record.index:\n",
    "        round=i+1\n",
    "        choice=record.loc[i,'Your choice']\n",
    "        cochoice=record.loc[i,'Co-player choice']\n",
    "        earning=record.loc[i,'Earnings']\n",
    "        tmp=f\"\"\"In round-{round}, you chose {choice} and the opponent chose {cochoice}, you earn {earning} points.\"\"\"\n",
    "        history+=tmp\n",
    "        history+='\\n'\n",
    "    return history\n",
    "\n",
    "def parse_response(response): # return a json\n",
    "    response = response.replace('Action','action')\n",
    "    response = response.replace('Thought','thought')\n",
    "    try:\n",
    "        out=json.loads(response,strict=0)\n",
    "    except:\n",
    "        start_index = response.find('{')  # 查找第一个'{'的索引\n",
    "        end_index = response.rfind('}')  # 查找最后一个'}'的索引\n",
    "        if end_index==-1:\n",
    "            response=response.strip()+'}'\n",
    "            \n",
    "        start_index = response.find('{')  # 查找第一个'{'的索引\n",
    "        end_index = response.find('}')  # 查找最后一个'}'的索引\n",
    "        if start_index != -1 and end_index != -1:\n",
    "            extracted_content = response[start_index:end_index + 1]\n",
    "            try:\n",
    "                out=json.loads(extracted_content,strict=0)\n",
    "            except:\n",
    "                print('json error: ',extracted_content)\n",
    "                corrected_json=correct_json(extracted_content)\n",
    "                print('corrected:',corrected_json)\n",
    "                start_index = corrected_json.find('{')  # 查找第一个'{'的索引\n",
    "                end_index = corrected_json.rfind('}')  # 查找最后一个'}'的索引\n",
    "                extracted_content = corrected_json[start_index:end_index + 1]\n",
    "                out=json.loads(extracted_content,strict=0)\n",
    "        else:\n",
    "            print('No json found in:',response)\n",
    "            prompt=summarize_action.replace('<out>',response)\n",
    "            out=gpt_completion(prompt)\n",
    "            out=parse_response(out)\n",
    "            print('summarized:\\n',out)\n",
    "#             start_index = out.find('{')  # 查找第一个'{'的索引\n",
    "#             end_index = out.rfind('}')  # 查找最后一个'}'的索引\n",
    "#             out = out[start_index:end_index + 1]\n",
    "#             out=json.loads(extracted_content,strict=0)\n",
    "    return out"
   ]
  },
  {
   "cell_type": "code",
   "execution_count": 39,
   "metadata": {
    "ExecuteTime": {
     "end_time": "2023-12-19T06:14:40.085313Z",
     "start_time": "2023-12-19T06:14:40.069093Z"
    },
    "code_folding": [],
    "hidden": true
   },
   "outputs": [],
   "source": [
    "def get_action(bot,record,model,display=False):\n",
    "    history=get_history(record)\n",
    "    if len(record)==0:\n",
    "        message=f\"\"\"\n",
    "It is round-{round} out of {nround} rounds now. Tell me how you think and the action you would like to choose. Please answer in json format with keys 'thought' and 'action'. The 'action' should be F or J. Please return only one json.\n",
    "\"\"\".strip()\n",
    "#         For example, {{\"thought\": \"xxx.\",\"action\": x }}. The 'action' should be F or J. Please return only one json.\n",
    "    else:\n",
    "        message=f\"\"\"The history of the game is listed as follows delimited by triple backticks.\n",
    "```\n",
    "{history}\n",
    "```\n",
    "It is round-{round} out of {nround} rounds now. Tell me how you think and the action you would like to choose. Please answer in json format with keys 'thought' and 'action'. The 'action' should be F or J. Please return only one json.\n",
    "\"\"\".strip()\n",
    "    res=bot.chat_wo_update(message, model=model)\n",
    "    time.sleep(1)\n",
    "    if display:\n",
    "        print('-------get action---------')\n",
    "        print(message)\n",
    "        print(res)\n",
    "    out=parse_response(res)\n",
    "    try:\n",
    "        action=out['action']\n",
    "        reason=out['thought']\n",
    "    except:\n",
    "        print('key error:',res)\n",
    "        prompt=summarize_action.replace('<out>',res)\n",
    "        out=gpt_completion(prompt)\n",
    "        out=parse_response(out)\n",
    "        print('corrected:',out)\n",
    "        action=out['action']\n",
    "        reason=out['thought']\n",
    "    try:\n",
    "        assert action in ['F','J']\n",
    "    except:\n",
    "        print('Invalid action:',out)\n",
    "        prompt=summarize_action.replace('<out>',res)\n",
    "        out=gpt_completion(prompt)\n",
    "        out=parse_response(out)\n",
    "        action=out['action']\n",
    "        reason=out['thought']\n",
    "        assert action in ['F','J']\n",
    "    return action,reason\n"
   ]
  },
  {
   "cell_type": "code",
   "execution_count": 55,
   "metadata": {
    "ExecuteTime": {
     "end_time": "2023-12-19T08:34:51.559730Z",
     "start_time": "2023-12-19T08:16:42.466687Z"
    },
    "code_folding": [
     52
    ],
    "hidden": true,
    "scrolled": true
   },
   "outputs": [
    {
     "name": "stdout",
     "output_type": "stream",
     "text": [
      "==============sess1==============\n"
     ]
    },
    {
     "name": "stderr",
     "output_type": "stream",
     "text": [
      "100%|██████████████████████████████████████████████████████████████████████████████████████████████████████████| 2/2 [00:00<00:00, 9586.98it/s]\n"
     ]
    },
    {
     "name": "stdout",
     "output_type": "stream",
     "text": [
      "-----------------------\n",
      "round-1\n"
     ]
    },
    {
     "name": "stderr",
     "output_type": "stream",
     "text": [
      "100%|████████████████████████████████████████████████████████████████████████████████████████████████████████████| 2/2 [00:14<00:00,  7.46s/it]\n"
     ]
    },
    {
     "name": "stdout",
     "output_type": "stream",
     "text": [
      "time: 14.920777082443237\n",
      "-----------------------\n",
      "round-2\n"
     ]
    },
    {
     "name": "stderr",
     "output_type": "stream",
     "text": [
      "100%|████████████████████████████████████████████████████████████████████████████████████████████████████████████| 2/2 [00:11<00:00,  5.78s/it]\n"
     ]
    },
    {
     "name": "stdout",
     "output_type": "stream",
     "text": [
      "time: 26.4994113445282\n",
      "-----------------------\n",
      "round-3\n"
     ]
    },
    {
     "name": "stderr",
     "output_type": "stream",
     "text": [
      "100%|████████████████████████████████████████████████████████████████████████████████████████████████████████████| 2/2 [00:10<00:00,  5.19s/it]\n"
     ]
    },
    {
     "name": "stdout",
     "output_type": "stream",
     "text": [
      "time: 36.89280676841736\n",
      "-----------------------\n",
      "round-4\n"
     ]
    },
    {
     "name": "stderr",
     "output_type": "stream",
     "text": [
      "100%|████████████████████████████████████████████████████████████████████████████████████████████████████████████| 2/2 [00:11<00:00,  5.69s/it]\n"
     ]
    },
    {
     "name": "stdout",
     "output_type": "stream",
     "text": [
      "time: 48.28467774391174\n",
      "-----------------------\n",
      "round-5\n"
     ]
    },
    {
     "name": "stderr",
     "output_type": "stream",
     "text": [
      "100%|████████████████████████████████████████████████████████████████████████████████████████████████████████████| 2/2 [00:10<00:00,  5.15s/it]\n"
     ]
    },
    {
     "name": "stdout",
     "output_type": "stream",
     "text": [
      "json error:  {\n",
      "\"thought\": \"I have been choosing J in the previous rounds and it has been paying off, so I will continue to choose J in this round as well. I want to maximize my earnings and take advantage of the trend.\"\n",
      "\"action\": \"J\"\n",
      "}\n",
      "corrected: {\"thought\":\"I have been choosing J in the previous rounds and it has been paying off, so I will continue to choose J in this round as well. I want to maximize my earnings and take advantage of the trend.\",\"action\":\"J\"}\n",
      "time: 58.604164838790894\n",
      "-----------------------\n",
      "round-6\n"
     ]
    },
    {
     "name": "stderr",
     "output_type": "stream",
     "text": [
      "100%|████████████████████████████████████████████████████████████████████████████████████████████████████████████| 2/2 [00:11<00:00,  5.88s/it]\n"
     ]
    },
    {
     "name": "stdout",
     "output_type": "stream",
     "text": [
      "time: 70.37291979789734\n",
      "-----------------------\n",
      "round-7\n"
     ]
    },
    {
     "name": "stderr",
     "output_type": "stream",
     "text": [
      "100%|████████████████████████████████████████████████████████████████████████████████████████████████████████████| 2/2 [00:11<00:00,  6.00s/it]\n"
     ]
    },
    {
     "name": "stdout",
     "output_type": "stream",
     "text": [
      "time: 82.37583041191101\n",
      "-----------------------\n",
      "round-8\n"
     ]
    },
    {
     "name": "stderr",
     "output_type": "stream",
     "text": [
      "100%|████████████████████████████████████████████████████████████████████████████████████████████████████████████| 2/2 [00:11<00:00,  5.62s/it]\n"
     ]
    },
    {
     "name": "stdout",
     "output_type": "stream",
     "text": [
      "time: 93.62358546257019\n",
      "-----------------------\n",
      "round-9\n"
     ]
    },
    {
     "name": "stderr",
     "output_type": "stream",
     "text": [
      "100%|████████████████████████████████████████████████████████████████████████████████████████████████████████████| 2/2 [00:10<00:00,  5.39s/it]\n"
     ]
    },
    {
     "name": "stdout",
     "output_type": "stream",
     "text": [
      "time: 104.44217109680176\n",
      "-----------------------\n",
      "round-10\n"
     ]
    },
    {
     "name": "stderr",
     "output_type": "stream",
     "text": [
      "100%|████████████████████████████████████████████████████████████████████████████████████████████████████████████| 2/2 [00:12<00:00,  6.35s/it]\n"
     ]
    },
    {
     "name": "stdout",
     "output_type": "stream",
     "text": [
      "time: 117.15666580200195\n",
      "==============sess2==============\n"
     ]
    },
    {
     "name": "stderr",
     "output_type": "stream",
     "text": [
      "100%|██████████████████████████████████████████████████████████████████████████████████████████████████████████| 2/2 [00:00<00:00, 4832.15it/s]\n"
     ]
    },
    {
     "name": "stdout",
     "output_type": "stream",
     "text": [
      "-----------------------\n",
      "round-1\n"
     ]
    },
    {
     "name": "stderr",
     "output_type": "stream",
     "text": [
      "100%|████████████████████████████████████████████████████████████████████████████████████████████████████████████| 2/2 [00:10<00:00,  5.07s/it]\n"
     ]
    },
    {
     "name": "stdout",
     "output_type": "stream",
     "text": [
      "time: 10.150126934051514\n",
      "-----------------------\n",
      "round-2\n"
     ]
    },
    {
     "name": "stderr",
     "output_type": "stream",
     "text": [
      "100%|████████████████████████████████████████████████████████████████████████████████████████████████████████████| 2/2 [00:10<00:00,  5.13s/it]\n"
     ]
    },
    {
     "name": "stdout",
     "output_type": "stream",
     "text": [
      "time: 20.418232917785645\n",
      "-----------------------\n",
      "round-3\n"
     ]
    },
    {
     "name": "stderr",
     "output_type": "stream",
     "text": [
      "100%|████████████████████████████████████████████████████████████████████████████████████████████████████████████| 2/2 [00:10<00:00,  5.01s/it]\n"
     ]
    },
    {
     "name": "stdout",
     "output_type": "stream",
     "text": [
      "time: 30.443224668502808\n",
      "-----------------------\n",
      "round-4\n"
     ]
    },
    {
     "name": "stderr",
     "output_type": "stream",
     "text": [
      "100%|████████████████████████████████████████████████████████████████████████████████████████████████████████████| 2/2 [00:10<00:00,  5.31s/it]\n"
     ]
    },
    {
     "name": "stdout",
     "output_type": "stream",
     "text": [
      "time: 41.07208609580994\n",
      "-----------------------\n",
      "round-5\n"
     ]
    },
    {
     "name": "stderr",
     "output_type": "stream",
     "text": [
      "100%|████████████████████████████████████████████████████████████████████████████████████████████████████████████| 2/2 [00:11<00:00,  5.53s/it]\n"
     ]
    },
    {
     "name": "stdout",
     "output_type": "stream",
     "text": [
      "time: 52.14713168144226\n",
      "-----------------------\n",
      "round-6\n"
     ]
    },
    {
     "name": "stderr",
     "output_type": "stream",
     "text": [
      "100%|████████████████████████████████████████████████████████████████████████████████████████████████████████████| 2/2 [00:09<00:00,  4.59s/it]\n"
     ]
    },
    {
     "name": "stdout",
     "output_type": "stream",
     "text": [
      "time: 61.3471200466156\n",
      "-----------------------\n",
      "round-7\n"
     ]
    },
    {
     "name": "stderr",
     "output_type": "stream",
     "text": [
      "100%|████████████████████████████████████████████████████████████████████████████████████████████████████████████| 2/2 [00:09<00:00,  4.92s/it]\n"
     ]
    },
    {
     "name": "stdout",
     "output_type": "stream",
     "text": [
      "time: 71.19428634643555\n",
      "-----------------------\n",
      "round-8\n"
     ]
    },
    {
     "name": "stderr",
     "output_type": "stream",
     "text": [
      "100%|████████████████████████████████████████████████████████████████████████████████████████████████████████████| 2/2 [00:11<00:00,  5.75s/it]\n"
     ]
    },
    {
     "name": "stdout",
     "output_type": "stream",
     "text": [
      "time: 82.70165371894836\n",
      "-----------------------\n",
      "round-9\n"
     ]
    },
    {
     "name": "stderr",
     "output_type": "stream",
     "text": [
      "100%|████████████████████████████████████████████████████████████████████████████████████████████████████████████| 2/2 [00:10<00:00,  5.45s/it]\n"
     ]
    },
    {
     "name": "stdout",
     "output_type": "stream",
     "text": [
      "time: 93.610426902771\n",
      "-----------------------\n",
      "round-10\n"
     ]
    },
    {
     "name": "stderr",
     "output_type": "stream",
     "text": [
      "100%|████████████████████████████████████████████████████████████████████████████████████████████████████████████| 2/2 [00:12<00:00,  6.23s/it]\n"
     ]
    },
    {
     "name": "stdout",
     "output_type": "stream",
     "text": [
      "time: 106.0904757976532\n",
      "==============sess3==============\n"
     ]
    },
    {
     "name": "stderr",
     "output_type": "stream",
     "text": [
      "100%|██████████████████████████████████████████████████████████████████████████████████████████████████████████| 2/2 [00:00<00:00, 9788.34it/s]\n"
     ]
    },
    {
     "name": "stdout",
     "output_type": "stream",
     "text": [
      "-----------------------\n",
      "round-1\n"
     ]
    },
    {
     "name": "stderr",
     "output_type": "stream",
     "text": [
      "100%|████████████████████████████████████████████████████████████████████████████████████████████████████████████| 2/2 [00:09<00:00,  5.00s/it]\n"
     ]
    },
    {
     "name": "stdout",
     "output_type": "stream",
     "text": [
      "time: 9.99765157699585\n",
      "-----------------------\n",
      "round-2\n"
     ]
    },
    {
     "name": "stderr",
     "output_type": "stream",
     "text": [
      "100%|████████████████████████████████████████████████████████████████████████████████████████████████████████████| 2/2 [00:09<00:00,  4.54s/it]\n"
     ]
    },
    {
     "name": "stdout",
     "output_type": "stream",
     "text": [
      "time: 19.07559084892273\n",
      "-----------------------\n",
      "round-3\n"
     ]
    },
    {
     "name": "stderr",
     "output_type": "stream",
     "text": [
      "100%|████████████████████████████████████████████████████████████████████████████████████████████████████████████| 2/2 [00:09<00:00,  4.90s/it]\n"
     ]
    },
    {
     "name": "stdout",
     "output_type": "stream",
     "text": [
      "time: 28.88356876373291\n",
      "-----------------------\n",
      "round-4\n"
     ]
    },
    {
     "name": "stderr",
     "output_type": "stream",
     "text": [
      "100%|████████████████████████████████████████████████████████████████████████████████████████████████████████████| 2/2 [00:11<00:00,  5.62s/it]\n"
     ]
    },
    {
     "name": "stdout",
     "output_type": "stream",
     "text": [
      "time: 40.143309593200684\n",
      "-----------------------\n",
      "round-5\n"
     ]
    },
    {
     "name": "stderr",
     "output_type": "stream",
     "text": [
      "100%|████████████████████████████████████████████████████████████████████████████████████████████████████████████| 2/2 [00:12<00:00,  6.06s/it]\n"
     ]
    },
    {
     "name": "stdout",
     "output_type": "stream",
     "text": [
      "time: 52.27912163734436\n",
      "-----------------------\n",
      "round-6\n"
     ]
    },
    {
     "name": "stderr",
     "output_type": "stream",
     "text": [
      "100%|████████████████████████████████████████████████████████████████████████████████████████████████████████████| 2/2 [00:11<00:00,  5.58s/it]\n"
     ]
    },
    {
     "name": "stdout",
     "output_type": "stream",
     "text": [
      "time: 63.46092772483826\n",
      "-----------------------\n",
      "round-7\n"
     ]
    },
    {
     "name": "stderr",
     "output_type": "stream",
     "text": [
      "100%|████████████████████████████████████████████████████████████████████████████████████████████████████████████| 2/2 [00:11<00:00,  5.68s/it]\n"
     ]
    },
    {
     "name": "stdout",
     "output_type": "stream",
     "text": [
      "time: 74.82455563545227\n",
      "-----------------------\n",
      "round-8\n"
     ]
    },
    {
     "name": "stderr",
     "output_type": "stream",
     "text": [
      "100%|████████████████████████████████████████████████████████████████████████████████████████████████████████████| 2/2 [00:11<00:00,  5.75s/it]\n"
     ]
    },
    {
     "name": "stdout",
     "output_type": "stream",
     "text": [
      "time: 86.33065676689148\n",
      "-----------------------\n",
      "round-9\n"
     ]
    },
    {
     "name": "stderr",
     "output_type": "stream",
     "text": [
      "100%|████████████████████████████████████████████████████████████████████████████████████████████████████████████| 2/2 [00:10<00:00,  5.22s/it]\n"
     ]
    },
    {
     "name": "stdout",
     "output_type": "stream",
     "text": [
      "time: 96.7694923877716\n",
      "-----------------------\n",
      "round-10\n"
     ]
    },
    {
     "name": "stderr",
     "output_type": "stream",
     "text": [
      "100%|████████████████████████████████████████████████████████████████████████████████████████████████████████████| 2/2 [00:10<00:00,  5.44s/it]\n"
     ]
    },
    {
     "name": "stdout",
     "output_type": "stream",
     "text": [
      "time: 107.66615343093872\n",
      "==============sess4==============\n"
     ]
    },
    {
     "name": "stderr",
     "output_type": "stream",
     "text": [
      "100%|█████████████████████████████████████████████████████████████████████████████████████████████████████████| 2/2 [00:00<00:00, 10658.97it/s]\n"
     ]
    },
    {
     "name": "stdout",
     "output_type": "stream",
     "text": [
      "-----------------------\n",
      "round-1\n"
     ]
    },
    {
     "name": "stderr",
     "output_type": "stream",
     "text": [
      "100%|████████████████████████████████████████████████████████████████████████████████████████████████████████████| 2/2 [00:08<00:00,  4.35s/it]\n"
     ]
    },
    {
     "name": "stdout",
     "output_type": "stream",
     "text": [
      "time: 8.698025703430176\n",
      "-----------------------\n",
      "round-2\n"
     ]
    },
    {
     "name": "stderr",
     "output_type": "stream",
     "text": [
      "100%|████████████████████████████████████████████████████████████████████████████████████████████████████████████| 2/2 [00:10<00:00,  5.43s/it]\n"
     ]
    },
    {
     "name": "stdout",
     "output_type": "stream",
     "text": [
      "time: 19.567521810531616\n",
      "-----------------------\n",
      "round-3\n"
     ]
    },
    {
     "name": "stderr",
     "output_type": "stream",
     "text": [
      "100%|████████████████████████████████████████████████████████████████████████████████████████████████████████████| 2/2 [00:10<00:00,  5.06s/it]\n"
     ]
    },
    {
     "name": "stdout",
     "output_type": "stream",
     "text": [
      "time: 29.70022988319397\n",
      "-----------------------\n",
      "round-4\n"
     ]
    },
    {
     "name": "stderr",
     "output_type": "stream",
     "text": [
      "100%|████████████████████████████████████████████████████████████████████████████████████████████████████████████| 2/2 [00:10<00:00,  5.25s/it]\n"
     ]
    },
    {
     "name": "stdout",
     "output_type": "stream",
     "text": [
      "time: 40.21127390861511\n",
      "-----------------------\n",
      "round-5\n"
     ]
    },
    {
     "name": "stderr",
     "output_type": "stream",
     "text": [
      "100%|████████████████████████████████████████████████████████████████████████████████████████████████████████████| 2/2 [00:12<00:00,  6.46s/it]\n"
     ]
    },
    {
     "name": "stdout",
     "output_type": "stream",
     "text": [
      "time: 53.14332389831543\n",
      "-----------------------\n",
      "round-6\n"
     ]
    },
    {
     "name": "stderr",
     "output_type": "stream",
     "text": [
      "100%|████████████████████████████████████████████████████████████████████████████████████████████████████████████| 2/2 [00:10<00:00,  5.13s/it]\n"
     ]
    },
    {
     "name": "stdout",
     "output_type": "stream",
     "text": [
      "time: 63.40855288505554\n",
      "-----------------------\n",
      "round-7\n"
     ]
    },
    {
     "name": "stderr",
     "output_type": "stream",
     "text": [
      "100%|████████████████████████████████████████████████████████████████████████████████████████████████████████████| 2/2 [00:11<00:00,  5.61s/it]\n"
     ]
    },
    {
     "name": "stdout",
     "output_type": "stream",
     "text": [
      "time: 74.63345980644226\n",
      "-----------------------\n",
      "round-8\n"
     ]
    },
    {
     "name": "stderr",
     "output_type": "stream",
     "text": [
      "100%|████████████████████████████████████████████████████████████████████████████████████████████████████████████| 2/2 [00:11<00:00,  5.78s/it]\n"
     ]
    },
    {
     "name": "stdout",
     "output_type": "stream",
     "text": [
      "time: 86.21118497848511\n",
      "-----------------------\n",
      "round-9\n"
     ]
    },
    {
     "name": "stderr",
     "output_type": "stream",
     "text": [
      "100%|████████████████████████████████████████████████████████████████████████████████████████████████████████████| 2/2 [00:11<00:00,  5.68s/it]\n"
     ]
    },
    {
     "name": "stdout",
     "output_type": "stream",
     "text": [
      "time: 97.58601546287537\n",
      "-----------------------\n",
      "round-10\n"
     ]
    },
    {
     "name": "stderr",
     "output_type": "stream",
     "text": [
      "100%|████████████████████████████████████████████████████████████████████████████████████████████████████████████| 2/2 [00:14<00:00,  7.16s/it]\n"
     ]
    },
    {
     "name": "stdout",
     "output_type": "stream",
     "text": [
      "time: 111.92183685302734\n",
      "==============sess5==============\n"
     ]
    },
    {
     "name": "stderr",
     "output_type": "stream",
     "text": [
      "100%|██████████████████████████████████████████████████████████████████████████████████████████████████████████| 2/2 [00:00<00:00, 9393.74it/s]\n"
     ]
    },
    {
     "name": "stdout",
     "output_type": "stream",
     "text": [
      "-----------------------\n",
      "round-1\n"
     ]
    },
    {
     "name": "stderr",
     "output_type": "stream",
     "text": [
      "100%|████████████████████████████████████████████████████████████████████████████████████████████████████████████| 2/2 [00:09<00:00,  4.52s/it]\n"
     ]
    },
    {
     "name": "stdout",
     "output_type": "stream",
     "text": [
      "time: 9.043035745620728\n",
      "-----------------------\n",
      "round-2\n"
     ]
    },
    {
     "name": "stderr",
     "output_type": "stream",
     "text": [
      "100%|████████████████████████████████████████████████████████████████████████████████████████████████████████████| 2/2 [00:08<00:00,  4.42s/it]\n"
     ]
    },
    {
     "name": "stdout",
     "output_type": "stream",
     "text": [
      "time: 17.90414261817932\n",
      "-----------------------\n",
      "round-3\n"
     ]
    },
    {
     "name": "stderr",
     "output_type": "stream",
     "text": [
      "100%|████████████████████████████████████████████████████████████████████████████████████████████████████████████| 2/2 [00:09<00:00,  4.87s/it]\n"
     ]
    },
    {
     "name": "stdout",
     "output_type": "stream",
     "text": [
      "time: 27.666775465011597\n",
      "-----------------------\n",
      "round-4\n"
     ]
    },
    {
     "name": "stderr",
     "output_type": "stream",
     "text": [
      "100%|████████████████████████████████████████████████████████████████████████████████████████████████████████████| 2/2 [00:13<00:00,  6.66s/it]\n"
     ]
    },
    {
     "name": "stdout",
     "output_type": "stream",
     "text": [
      "time: 40.99443173408508\n",
      "-----------------------\n",
      "round-5\n"
     ]
    },
    {
     "name": "stderr",
     "output_type": "stream",
     "text": [
      "100%|████████████████████████████████████████████████████████████████████████████████████████████████████████████| 2/2 [00:10<00:00,  5.28s/it]\n"
     ]
    },
    {
     "name": "stdout",
     "output_type": "stream",
     "text": [
      "time: 51.56041932106018\n",
      "-----------------------\n",
      "round-6\n"
     ]
    },
    {
     "name": "stderr",
     "output_type": "stream",
     "text": [
      "100%|████████████████████████████████████████████████████████████████████████████████████████████████████████████| 2/2 [00:10<00:00,  5.46s/it]\n"
     ]
    },
    {
     "name": "stdout",
     "output_type": "stream",
     "text": [
      "time: 62.50108289718628\n",
      "-----------------------\n",
      "round-7\n"
     ]
    },
    {
     "name": "stderr",
     "output_type": "stream",
     "text": [
      "100%|████████████████████████████████████████████████████████████████████████████████████████████████████████████| 2/2 [00:10<00:00,  5.28s/it]\n"
     ]
    },
    {
     "name": "stdout",
     "output_type": "stream",
     "text": [
      "time: 73.08322620391846\n",
      "-----------------------\n",
      "round-8\n"
     ]
    },
    {
     "name": "stderr",
     "output_type": "stream",
     "text": [
      "100%|████████████████████████████████████████████████████████████████████████████████████████████████████████████| 2/2 [00:09<00:00,  4.97s/it]\n"
     ]
    },
    {
     "name": "stdout",
     "output_type": "stream",
     "text": [
      "time: 83.03205060958862\n",
      "-----------------------\n",
      "round-9\n"
     ]
    },
    {
     "name": "stderr",
     "output_type": "stream",
     "text": [
      "100%|████████████████████████████████████████████████████████████████████████████████████████████████████████████| 2/2 [00:10<00:00,  5.18s/it]\n"
     ]
    },
    {
     "name": "stdout",
     "output_type": "stream",
     "text": [
      "time: 93.40655374526978\n",
      "-----------------------\n",
      "round-10\n"
     ]
    },
    {
     "name": "stderr",
     "output_type": "stream",
     "text": [
      "100%|████████████████████████████████████████████████████████████████████████████████████████████████████████████| 2/2 [00:11<00:00,  5.60s/it]\n"
     ]
    },
    {
     "name": "stdout",
     "output_type": "stream",
     "text": [
      "time: 104.6172046661377\n",
      "==============sess6==============\n"
     ]
    },
    {
     "name": "stderr",
     "output_type": "stream",
     "text": [
      "100%|██████████████████████████████████████████████████████████████████████████████████████████████████████████| 2/2 [00:00<00:00, 9521.69it/s]\n"
     ]
    },
    {
     "name": "stdout",
     "output_type": "stream",
     "text": [
      "-----------------------\n",
      "round-1\n"
     ]
    },
    {
     "name": "stderr",
     "output_type": "stream",
     "text": [
      "100%|████████████████████████████████████████████████████████████████████████████████████████████████████████████| 2/2 [00:09<00:00,  4.51s/it]\n"
     ]
    },
    {
     "name": "stdout",
     "output_type": "stream",
     "text": [
      "time: 9.022871971130371\n",
      "-----------------------\n",
      "round-2\n"
     ]
    },
    {
     "name": "stderr",
     "output_type": "stream",
     "text": [
      "100%|████████████████████████████████████████████████████████████████████████████████████████████████████████████| 2/2 [00:09<00:00,  4.70s/it]\n"
     ]
    },
    {
     "name": "stdout",
     "output_type": "stream",
     "text": [
      "time: 18.437121629714966\n",
      "-----------------------\n",
      "round-3\n"
     ]
    },
    {
     "name": "stderr",
     "output_type": "stream",
     "text": [
      "100%|████████████████████████████████████████████████████████████████████████████████████████████████████████████| 2/2 [00:10<00:00,  5.08s/it]\n"
     ]
    },
    {
     "name": "stdout",
     "output_type": "stream",
     "text": [
      "time: 28.6044979095459\n",
      "-----------------------\n",
      "round-4\n"
     ]
    },
    {
     "name": "stderr",
     "output_type": "stream",
     "text": [
      "100%|████████████████████████████████████████████████████████████████████████████████████████████████████████████| 2/2 [00:10<00:00,  5.32s/it]\n"
     ]
    },
    {
     "name": "stdout",
     "output_type": "stream",
     "text": [
      "time: 39.26259183883667\n",
      "-----------------------\n",
      "round-5\n"
     ]
    },
    {
     "name": "stderr",
     "output_type": "stream",
     "text": [
      "100%|████████████████████████████████████████████████████████████████████████████████████████████████████████████| 2/2 [00:11<00:00,  5.68s/it]\n"
     ]
    },
    {
     "name": "stdout",
     "output_type": "stream",
     "text": [
      "time: 50.64808797836304\n",
      "-----------------------\n",
      "round-6\n"
     ]
    },
    {
     "name": "stderr",
     "output_type": "stream",
     "text": [
      "100%|████████████████████████████████████████████████████████████████████████████████████████████████████████████| 2/2 [00:10<00:00,  5.48s/it]\n"
     ]
    },
    {
     "name": "stdout",
     "output_type": "stream",
     "text": [
      "time: 61.63387370109558\n",
      "-----------------------\n",
      "round-7\n"
     ]
    },
    {
     "name": "stderr",
     "output_type": "stream",
     "text": [
      "100%|████████████████████████████████████████████████████████████████████████████████████████████████████████████| 2/2 [00:10<00:00,  5.32s/it]\n"
     ]
    },
    {
     "name": "stdout",
     "output_type": "stream",
     "text": [
      "time: 72.28746962547302\n",
      "-----------------------\n",
      "round-8\n"
     ]
    },
    {
     "name": "stderr",
     "output_type": "stream",
     "text": [
      "100%|████████████████████████████████████████████████████████████████████████████████████████████████████████████| 2/2 [00:10<00:00,  5.05s/it]\n"
     ]
    },
    {
     "name": "stdout",
     "output_type": "stream",
     "text": [
      "time: 82.40171265602112\n",
      "-----------------------\n",
      "round-9\n"
     ]
    },
    {
     "name": "stderr",
     "output_type": "stream",
     "text": [
      "100%|████████████████████████████████████████████████████████████████████████████████████████████████████████████| 2/2 [00:10<00:00,  5.23s/it]\n"
     ]
    },
    {
     "name": "stdout",
     "output_type": "stream",
     "text": [
      "time: 92.87617754936218\n",
      "-----------------------\n",
      "round-10\n"
     ]
    },
    {
     "name": "stderr",
     "output_type": "stream",
     "text": [
      "100%|████████████████████████████████████████████████████████████████████████████████████████████████████████████| 2/2 [00:11<00:00,  5.83s/it]\n"
     ]
    },
    {
     "name": "stdout",
     "output_type": "stream",
     "text": [
      "time: 104.54798626899719\n",
      "==============sess7==============\n"
     ]
    },
    {
     "name": "stderr",
     "output_type": "stream",
     "text": [
      "100%|█████████████████████████████████████████████████████████████████████████████████████████████████████████| 2/2 [00:00<00:00, 24036.13it/s]\n"
     ]
    },
    {
     "name": "stdout",
     "output_type": "stream",
     "text": [
      "-----------------------\n",
      "round-1\n"
     ]
    },
    {
     "name": "stderr",
     "output_type": "stream",
     "text": [
      "100%|████████████████████████████████████████████████████████████████████████████████████████████████████████████| 2/2 [00:09<00:00,  4.97s/it]\n"
     ]
    },
    {
     "name": "stdout",
     "output_type": "stream",
     "text": [
      "time: 9.939635515213013\n",
      "-----------------------\n",
      "round-2\n"
     ]
    },
    {
     "name": "stderr",
     "output_type": "stream",
     "text": [
      "100%|████████████████████████████████████████████████████████████████████████████████████████████████████████████| 2/2 [00:09<00:00,  4.56s/it]\n"
     ]
    },
    {
     "name": "stdout",
     "output_type": "stream",
     "text": [
      "time: 19.06722378730774\n",
      "-----------------------\n",
      "round-3\n"
     ]
    },
    {
     "name": "stderr",
     "output_type": "stream",
     "text": [
      "100%|████████████████████████████████████████████████████████████████████████████████████████████████████████████| 2/2 [00:09<00:00,  4.76s/it]\n"
     ]
    },
    {
     "name": "stdout",
     "output_type": "stream",
     "text": [
      "time: 28.604238748550415\n",
      "-----------------------\n",
      "round-4\n"
     ]
    },
    {
     "name": "stderr",
     "output_type": "stream",
     "text": [
      "100%|████████████████████████████████████████████████████████████████████████████████████████████████████████████| 2/2 [00:11<00:00,  5.57s/it]\n"
     ]
    },
    {
     "name": "stdout",
     "output_type": "stream",
     "text": [
      "time: 39.75735306739807\n",
      "-----------------------\n",
      "round-5\n"
     ]
    },
    {
     "name": "stderr",
     "output_type": "stream",
     "text": [
      "100%|████████████████████████████████████████████████████████████████████████████████████████████████████████████| 2/2 [00:11<00:00,  5.80s/it]\n"
     ]
    },
    {
     "name": "stdout",
     "output_type": "stream",
     "text": [
      "time: 51.36688780784607\n",
      "-----------------------\n",
      "round-6\n"
     ]
    },
    {
     "name": "stderr",
     "output_type": "stream",
     "text": [
      "100%|████████████████████████████████████████████████████████████████████████████████████████████████████████████| 2/2 [00:11<00:00,  5.66s/it]\n"
     ]
    },
    {
     "name": "stdout",
     "output_type": "stream",
     "text": [
      "time: 62.705824851989746\n",
      "-----------------------\n",
      "round-7\n"
     ]
    },
    {
     "name": "stderr",
     "output_type": "stream",
     "text": [
      "100%|████████████████████████████████████████████████████████████████████████████████████████████████████████████| 2/2 [00:12<00:00,  6.19s/it]\n"
     ]
    },
    {
     "name": "stdout",
     "output_type": "stream",
     "text": [
      "time: 75.10297632217407\n",
      "-----------------------\n",
      "round-8\n"
     ]
    },
    {
     "name": "stderr",
     "output_type": "stream",
     "text": [
      "100%|████████████████████████████████████████████████████████████████████████████████████████████████████████████| 2/2 [00:08<00:00,  4.40s/it]\n"
     ]
    },
    {
     "name": "stdout",
     "output_type": "stream",
     "text": [
      "time: 83.90557551383972\n",
      "-----------------------\n",
      "round-9\n"
     ]
    },
    {
     "name": "stderr",
     "output_type": "stream",
     "text": [
      "100%|████████████████████████████████████████████████████████████████████████████████████████████████████████████| 2/2 [00:11<00:00,  5.62s/it]\n"
     ]
    },
    {
     "name": "stdout",
     "output_type": "stream",
     "text": [
      "time: 95.15994238853455\n",
      "-----------------------\n",
      "round-10\n"
     ]
    },
    {
     "name": "stderr",
     "output_type": "stream",
     "text": [
      "100%|████████████████████████████████████████████████████████████████████████████████████████████████████████████| 2/2 [00:12<00:00,  6.29s/it]\n"
     ]
    },
    {
     "name": "stdout",
     "output_type": "stream",
     "text": [
      "time: 107.75272607803345\n",
      "==============sess8==============\n"
     ]
    },
    {
     "name": "stderr",
     "output_type": "stream",
     "text": [
      "100%|█████████████████████████████████████████████████████████████████████████████████████████████████████████| 2/2 [00:00<00:00, 30840.47it/s]\n"
     ]
    },
    {
     "name": "stdout",
     "output_type": "stream",
     "text": [
      "-----------------------\n",
      "round-1\n"
     ]
    },
    {
     "name": "stderr",
     "output_type": "stream",
     "text": [
      "100%|████████████████████████████████████████████████████████████████████████████████████████████████████████████| 2/2 [00:09<00:00,  4.94s/it]\n"
     ]
    },
    {
     "name": "stdout",
     "output_type": "stream",
     "text": [
      "time: 9.887790441513062\n",
      "-----------------------\n",
      "round-2\n"
     ]
    },
    {
     "name": "stderr",
     "output_type": "stream",
     "text": [
      "100%|████████████████████████████████████████████████████████████████████████████████████████████████████████████| 2/2 [00:09<00:00,  4.82s/it]\n"
     ]
    },
    {
     "name": "stdout",
     "output_type": "stream",
     "text": [
      "time: 19.541622638702393\n",
      "-----------------------\n",
      "round-3\n"
     ]
    },
    {
     "name": "stderr",
     "output_type": "stream",
     "text": [
      "100%|████████████████████████████████████████████████████████████████████████████████████████████████████████████| 2/2 [00:09<00:00,  4.80s/it]\n"
     ]
    },
    {
     "name": "stdout",
     "output_type": "stream",
     "text": [
      "time: 29.154269695281982\n",
      "-----------------------\n",
      "round-4\n"
     ]
    },
    {
     "name": "stderr",
     "output_type": "stream",
     "text": [
      "100%|████████████████████████████████████████████████████████████████████████████████████████████████████████████| 2/2 [00:10<00:00,  5.22s/it]\n"
     ]
    },
    {
     "name": "stdout",
     "output_type": "stream",
     "text": [
      "time: 39.60811233520508\n",
      "-----------------------\n",
      "round-5\n"
     ]
    },
    {
     "name": "stderr",
     "output_type": "stream",
     "text": [
      "100%|████████████████████████████████████████████████████████████████████████████████████████████████████████████| 2/2 [00:09<00:00,  4.59s/it]\n"
     ]
    },
    {
     "name": "stdout",
     "output_type": "stream",
     "text": [
      "time: 48.79824447631836\n",
      "-----------------------\n",
      "round-6\n"
     ]
    },
    {
     "name": "stderr",
     "output_type": "stream",
     "text": [
      "100%|████████████████████████████████████████████████████████████████████████████████████████████████████████████| 2/2 [00:10<00:00,  5.41s/it]\n"
     ]
    },
    {
     "name": "stdout",
     "output_type": "stream",
     "text": [
      "time: 59.620076417922974\n",
      "-----------------------\n",
      "round-7\n"
     ]
    },
    {
     "name": "stderr",
     "output_type": "stream",
     "text": [
      "100%|████████████████████████████████████████████████████████████████████████████████████████████████████████████| 2/2 [00:11<00:00,  5.80s/it]\n"
     ]
    },
    {
     "name": "stdout",
     "output_type": "stream",
     "text": [
      "time: 71.22648358345032\n",
      "-----------------------\n",
      "round-8\n"
     ]
    },
    {
     "name": "stderr",
     "output_type": "stream",
     "text": [
      "100%|████████████████████████████████████████████████████████████████████████████████████████████████████████████| 2/2 [00:10<00:00,  5.04s/it]\n"
     ]
    },
    {
     "name": "stdout",
     "output_type": "stream",
     "text": [
      "time: 81.31914258003235\n",
      "-----------------------\n",
      "round-9\n"
     ]
    },
    {
     "name": "stderr",
     "output_type": "stream",
     "text": [
      "100%|████████████████████████████████████████████████████████████████████████████████████████████████████████████| 2/2 [00:12<00:00,  6.21s/it]\n"
     ]
    },
    {
     "name": "stdout",
     "output_type": "stream",
     "text": [
      "time: 93.74249958992004\n",
      "-----------------------\n",
      "round-10\n"
     ]
    },
    {
     "name": "stderr",
     "output_type": "stream",
     "text": [
      "100%|████████████████████████████████████████████████████████████████████████████████████████████████████████████| 2/2 [00:15<00:00,  7.64s/it]\n"
     ]
    },
    {
     "name": "stdout",
     "output_type": "stream",
     "text": [
      "time: 109.04027009010315\n",
      "==============sess9==============\n"
     ]
    },
    {
     "name": "stderr",
     "output_type": "stream",
     "text": [
      "100%|██████████████████████████████████████████████████████████████████████████████████████████████████████████| 2/2 [00:00<00:00, 9742.87it/s]\n"
     ]
    },
    {
     "name": "stdout",
     "output_type": "stream",
     "text": [
      "-----------------------\n",
      "round-1\n"
     ]
    },
    {
     "name": "stderr",
     "output_type": "stream",
     "text": [
      "100%|████████████████████████████████████████████████████████████████████████████████████████████████████████████| 2/2 [00:09<00:00,  4.76s/it]\n"
     ]
    },
    {
     "name": "stdout",
     "output_type": "stream",
     "text": [
      "time: 9.523247003555298\n",
      "-----------------------\n",
      "round-2\n"
     ]
    },
    {
     "name": "stderr",
     "output_type": "stream",
     "text": [
      "100%|████████████████████████████████████████████████████████████████████████████████████████████████████████████| 2/2 [00:09<00:00,  4.75s/it]\n"
     ]
    },
    {
     "name": "stdout",
     "output_type": "stream",
     "text": [
      "time: 19.04019045829773\n",
      "-----------------------\n",
      "round-3\n"
     ]
    },
    {
     "name": "stderr",
     "output_type": "stream",
     "text": [
      "100%|████████████████████████████████████████████████████████████████████████████████████████████████████████████| 2/2 [00:10<00:00,  5.18s/it]\n"
     ]
    },
    {
     "name": "stdout",
     "output_type": "stream",
     "text": [
      "time: 29.418565034866333\n",
      "-----------------------\n",
      "round-4\n"
     ]
    },
    {
     "name": "stderr",
     "output_type": "stream",
     "text": [
      "100%|████████████████████████████████████████████████████████████████████████████████████████████████████████████| 2/2 [00:11<00:00,  5.84s/it]\n"
     ]
    },
    {
     "name": "stdout",
     "output_type": "stream",
     "text": [
      "time: 41.118409633636475\n",
      "-----------------------\n",
      "round-5\n"
     ]
    },
    {
     "name": "stderr",
     "output_type": "stream",
     "text": [
      "100%|████████████████████████████████████████████████████████████████████████████████████████████████████████████| 2/2 [00:11<00:00,  5.69s/it]\n"
     ]
    },
    {
     "name": "stdout",
     "output_type": "stream",
     "text": [
      "time: 52.507216930389404\n",
      "-----------------------\n",
      "round-6\n"
     ]
    },
    {
     "name": "stderr",
     "output_type": "stream",
     "text": [
      "100%|████████████████████████████████████████████████████████████████████████████████████████████████████████████| 2/2 [00:12<00:00,  6.07s/it]\n"
     ]
    },
    {
     "name": "stdout",
     "output_type": "stream",
     "text": [
      "time: 64.65650749206543\n",
      "-----------------------\n",
      "round-7\n"
     ]
    },
    {
     "name": "stderr",
     "output_type": "stream",
     "text": [
      "100%|████████████████████████████████████████████████████████████████████████████████████████████████████████████| 2/2 [00:11<00:00,  5.62s/it]\n"
     ]
    },
    {
     "name": "stdout",
     "output_type": "stream",
     "text": [
      "time: 75.90095663070679\n",
      "-----------------------\n",
      "round-8\n"
     ]
    },
    {
     "name": "stderr",
     "output_type": "stream",
     "text": [
      "100%|████████████████████████████████████████████████████████████████████████████████████████████████████████████| 2/2 [00:10<00:00,  5.43s/it]\n"
     ]
    },
    {
     "name": "stdout",
     "output_type": "stream",
     "text": [
      "time: 86.76588726043701\n",
      "-----------------------\n",
      "round-9\n"
     ]
    },
    {
     "name": "stderr",
     "output_type": "stream",
     "text": [
      "100%|████████████████████████████████████████████████████████████████████████████████████████████████████████████| 2/2 [00:11<00:00,  5.92s/it]\n"
     ]
    },
    {
     "name": "stdout",
     "output_type": "stream",
     "text": [
      "time: 98.61713171005249\n",
      "-----------------------\n",
      "round-10\n"
     ]
    },
    {
     "name": "stderr",
     "output_type": "stream",
     "text": [
      "100%|████████████████████████████████████████████████████████████████████████████████████████████████████████████| 2/2 [00:12<00:00,  6.23s/it]\n"
     ]
    },
    {
     "name": "stdout",
     "output_type": "stream",
     "text": [
      "time: 111.0911476612091\n",
      "==============sess10==============\n"
     ]
    },
    {
     "name": "stderr",
     "output_type": "stream",
     "text": [
      "100%|██████████████████████████████████████████████████████████████████████████████████████████████████████████| 2/2 [00:00<00:00, 9765.55it/s]\n"
     ]
    },
    {
     "name": "stdout",
     "output_type": "stream",
     "text": [
      "-----------------------\n",
      "round-1\n"
     ]
    },
    {
     "name": "stderr",
     "output_type": "stream",
     "text": [
      "100%|████████████████████████████████████████████████████████████████████████████████████████████████████████████| 2/2 [00:09<00:00,  4.65s/it]\n"
     ]
    },
    {
     "name": "stdout",
     "output_type": "stream",
     "text": [
      "time: 9.309428691864014\n",
      "-----------------------\n",
      "round-2\n"
     ]
    },
    {
     "name": "stderr",
     "output_type": "stream",
     "text": [
      "100%|████████████████████████████████████████████████████████████████████████████████████████████████████████████| 2/2 [00:11<00:00,  5.97s/it]\n"
     ]
    },
    {
     "name": "stdout",
     "output_type": "stream",
     "text": [
      "time: 21.264771461486816\n",
      "-----------------------\n",
      "round-3\n"
     ]
    },
    {
     "name": "stderr",
     "output_type": "stream",
     "text": [
      "100%|████████████████████████████████████████████████████████████████████████████████████████████████████████████| 2/2 [00:10<00:00,  5.03s/it]\n"
     ]
    },
    {
     "name": "stdout",
     "output_type": "stream",
     "text": [
      "time: 31.32577419281006\n",
      "-----------------------\n",
      "round-4\n"
     ]
    },
    {
     "name": "stderr",
     "output_type": "stream",
     "text": [
      "100%|████████████████████████████████████████████████████████████████████████████████████████████████████████████| 2/2 [00:09<00:00,  4.95s/it]\n"
     ]
    },
    {
     "name": "stdout",
     "output_type": "stream",
     "text": [
      "time: 41.2297580242157\n",
      "-----------------------\n",
      "round-5\n"
     ]
    },
    {
     "name": "stderr",
     "output_type": "stream",
     "text": [
      "100%|████████████████████████████████████████████████████████████████████████████████████████████████████████████| 2/2 [00:09<00:00,  4.88s/it]\n"
     ]
    },
    {
     "name": "stdout",
     "output_type": "stream",
     "text": [
      "time: 51.00521230697632\n",
      "-----------------------\n",
      "round-6\n"
     ]
    },
    {
     "name": "stderr",
     "output_type": "stream",
     "text": [
      "100%|████████████████████████████████████████████████████████████████████████████████████████████████████████████| 2/2 [00:10<00:00,  5.03s/it]\n"
     ]
    },
    {
     "name": "stdout",
     "output_type": "stream",
     "text": [
      "json error:  {\n",
      "\"thought\": \"I have been choosing F a lot recently, and it has been paying off. However, I don't want to fall into the trap of overconfidence. The opponent has been choosing J a few times, so I should be cautious and not rule out the possibility of them choosing J again. Let me think... I'll choose J this round.\"\n",
      "\"action\": J\n",
      "}\n",
      "corrected: {\"thought\":\"I have been choosing F a lot recently, and it has been paying off. However, I don't want to fall into the trap of overconfidence. The opponent has been choosing J a few times, so I should be cautious and not rule out the possibility of them choosing J again. Let me think... I'll choose J this round.\",\"action\":\"J\"}\n",
      "time: 61.06950926780701\n",
      "-----------------------\n",
      "round-7\n"
     ]
    },
    {
     "name": "stderr",
     "output_type": "stream",
     "text": [
      "100%|████████████████████████████████████████████████████████████████████████████████████████████████████████████| 2/2 [00:11<00:00,  5.87s/it]\n"
     ]
    },
    {
     "name": "stdout",
     "output_type": "stream",
     "text": [
      "time: 72.81146478652954\n",
      "-----------------------\n",
      "round-8\n"
     ]
    },
    {
     "name": "stderr",
     "output_type": "stream",
     "text": [
      "100%|████████████████████████████████████████████████████████████████████████████████████████████████████████████| 2/2 [00:11<00:00,  5.86s/it]\n"
     ]
    },
    {
     "name": "stdout",
     "output_type": "stream",
     "text": [
      "time: 84.54719161987305\n",
      "-----------------------\n",
      "round-9\n"
     ]
    },
    {
     "name": "stderr",
     "output_type": "stream",
     "text": [
      "100%|████████████████████████████████████████████████████████████████████████████████████████████████████████████| 2/2 [00:10<00:00,  5.47s/it]\n"
     ]
    },
    {
     "name": "stdout",
     "output_type": "stream",
     "text": [
      "time: 95.49507331848145\n",
      "-----------------------\n",
      "round-10\n"
     ]
    },
    {
     "name": "stderr",
     "output_type": "stream",
     "text": [
      "100%|████████████████████████████████████████████████████████████████████████████████████████████████████████████| 2/2 [00:13<00:00,  6.79s/it]"
     ]
    },
    {
     "name": "stdout",
     "output_type": "stream",
     "text": [
      "time: 109.07807183265686\n"
     ]
    },
    {
     "name": "stderr",
     "output_type": "stream",
     "text": [
      "\n"
     ]
    }
   ],
   "source": [
    "nround=10\n",
    "nsess=10\n",
    "\n",
    "expname='llama13b'\n",
    "\n",
    "max_try=50\n",
    "display_result=0\n",
    "\n",
    "\n",
    "for sess in range(1,1+nsess):\n",
    "    print(f'==============sess{sess}==============')\n",
    "    system_message = \"\"\"\n",
    "Please act as a human player. You are playing a game with another human player (called the opponent) for {nround} rounds.\n",
    "In each round, you and the opponent will simultaneously choose an action between F and J.\n",
    "{payoff_str}\n",
    "Before you choose an action, your actions, the opponent’s actions and your earnings in each of the previous rounds will be shown. Your goal is to maximize your own total earnings in all {nround} rounds. In each round, you should first think carefully about what to do, and then choose one of the two actions: F or J.\n",
    "    \"\"\".strip()\n",
    "\n",
    "    aa=f'If you choose J and the opponent chooses J, you earn 10 points and the opponent earns 10 points in this round.'\n",
    "    ab=f'If you choose J and the opponent chooses F, you earn 1 points and the opponent earns 8 points in this round.'\n",
    "    ba=f'If you choose F and the opponent chooses J, you earn 8 points and the opponent earns 1 points in this round.'\n",
    "    bb=f'If you choose F and the opponent chooses F, you earn 5 points and the opponent earns 5 points in this round.'\n",
    "    payoff=[aa,ab,ba,bb]\n",
    "    \n",
    "    ######################## init players and records\n",
    "    N=2\n",
    "    players=[]\n",
    "    payoff=[aa,ab,ba,bb]\n",
    "    for _ in tqdm(range(N)):\n",
    "        random.shuffle(payoff)\n",
    "        payoff_str=payoff[0]+'\\n'+payoff[1]+'\\n'+payoff[2]+'\\n'+payoff[3]\n",
    "        tmp_system_message=system_message.format(nround=nround, payoff_str=payoff_str)\n",
    "    #     print(tmp_system_message)\n",
    "        bot=ChatApp(system_message=tmp_system_message)\n",
    "        players.append(bot)\n",
    "    records=[]\n",
    "    for _ in range(N):    \n",
    "        df = pd.DataFrame(columns=['Round','Your choice','Co-player choice','Earnings','Reason of choice'])\n",
    "        records.append(df)\n",
    "\n",
    "    ######################## start game\n",
    "\n",
    "    starttime=time.time()\n",
    "    for round in range(1,nround+1):\n",
    "        print('-----------------------')\n",
    "        print(f'round-{round}')\n",
    "\n",
    "        # if this round done, continue\n",
    "        recordfile=os.path.join(filepath,f'records_{expname}_{nround}_sess{sess}_round{round}.pkl')\n",
    "        playerfile=os.path.join(filepath,f'players_{expname}_{nround}_sess{sess}_round{round}.pkl')\n",
    "        if os.path.exists(recordfile) and os.path.exists(playerfile):\n",
    "            with open(recordfile, 'rb') as f:\n",
    "                records = pickle.load(f)\n",
    "            with open(playerfile, 'rb') as f:\n",
    "                players = pickle.load(f)\n",
    "            print('existed!')\n",
    "            continue\n",
    "\n",
    "        for _ in range(max_try):\n",
    "            try:\n",
    "                if round>1:\n",
    "                    prev_round=round-1\n",
    "                    recordfile=os.path.join(filepath,f'records_{expname}_{nround}_sess{sess}_round{prev_round}.pkl')\n",
    "                    playerfile=os.path.join(filepath,f'players_{expname}_{nround}_sess{sess}_round{prev_round}.pkl')\n",
    "                    with open(recordfile, 'rb') as f:\n",
    "                        records = pickle.load(f)\n",
    "                    with open(playerfile, 'rb') as f:\n",
    "                        players = pickle.load(f)\n",
    "                # play\n",
    "                tmp_records=[]\n",
    "                for i in tqdm(range(N)):\n",
    "                    bot=players[i]\n",
    "                    record=records[i]\n",
    "                    action,reason=get_action(bot,record,model=model,display=display_result)\n",
    "                    tmp_records.append([round,action,'NULL',0,reason])\n",
    "                    # ['Round','Your choice','Co-player choice','Earnings','Reason of choice']\n",
    "\n",
    "                # calculate total public\n",
    "                c1,c2=tmp_records[0][1],tmp_records[1][1]\n",
    "                if c1=='J' and c2=='J':\n",
    "                    e1,e2=10,10\n",
    "                elif c1=='J' and c2=='F':\n",
    "                    e1,e2=1,8\n",
    "                elif c1=='F' and c2=='J':\n",
    "                    e1,e2=8,1\n",
    "                elif c1=='F' and c2=='F':\n",
    "                    e1,e2=5,5\n",
    "                else:\n",
    "                    print(c1,c2)\n",
    "                    assert False\n",
    "                # ['Round','Your choice','Co-player choice','Earnings','Reason of choice']\n",
    "                tmp_records[0][2]=c2\n",
    "                tmp_records[1][2]=c1\n",
    "                tmp_records[0][3]=e1\n",
    "                tmp_records[1][3]=e2\n",
    "\n",
    "                # update records for all\n",
    "                for i in range(N):\n",
    "                    record=records[i]\n",
    "                    record.loc[len(record.index)]=tmp_records[i]\n",
    "                print('time:',time.time()-starttime)\n",
    "\n",
    "                # save file\n",
    "                recordfile=os.path.join(filepath,f'records_{expname}_{nround}_sess{sess}_round{round}.pkl')\n",
    "                playerfile=os.path.join(filepath,f'players_{expname}_{nround}_sess{sess}_round{round}.pkl')\n",
    "                with open(recordfile, 'wb') as f:\n",
    "                    pickle.dump(records, f)\n",
    "                with open(playerfile, 'wb') as f:\n",
    "                    pickle.dump(players, f)\n",
    "                break\n",
    "            except Exception as e:\n",
    "                print(e)\n",
    "                print('error!sleep 30s...')\n",
    "                time.sleep(30)"
   ]
  },
  {
   "cell_type": "code",
   "execution_count": 56,
   "metadata": {
    "ExecuteTime": {
     "end_time": "2023-12-19T10:48:35.693947Z",
     "start_time": "2023-12-19T10:48:35.662820Z"
    },
    "hidden": true
   },
   "outputs": [
    {
     "name": "stdout",
     "output_type": "stream",
     "text": [
      "efficiency: 0.28\n"
     ]
    }
   ],
   "source": [
    "nsess=10\n",
    "nround=10\n",
    "round=nround\n",
    "\n",
    "result=[]\n",
    "for sess in range(1,nsess+1):\n",
    "    recordfile=os.path.join(filepath,f'records_{expname}_{nround}_sess{sess}_round{round}.pkl')\n",
    "    with open(recordfile, 'rb') as f:\n",
    "        records= pickle.load(f)\n",
    "\n",
    "    for record in records:\n",
    "        tmp=record['Earnings'].tolist()\n",
    "        result.append(tmp)\n",
    "eff=np.mean((np.array(result)-4.5)/(10-4.5))\n",
    "print('efficiency:',eff)"
   ]
  },
  {
   "cell_type": "code",
   "execution_count": null,
   "metadata": {
    "hidden": true
   },
   "outputs": [],
   "source": []
  },
  {
   "cell_type": "markdown",
   "metadata": {},
   "source": [
    "## 10. Minimum effort"
   ]
  },
  {
   "cell_type": "code",
   "execution_count": 17,
   "metadata": {
    "ExecuteTime": {
     "end_time": "2023-12-07T03:01:49.946661Z",
     "start_time": "2023-12-07T03:01:49.938054Z"
    }
   },
   "outputs": [
    {
     "name": "stdout",
     "output_type": "stream",
     "text": [
      "\n",
      "Please act as a human player. You and 8 other players are playing a game for 8 periods. In each period, each of you will be asked to choose a value of X. The values of X you may choose are 1, 2, 3, 4, 5, 6, 7. The value you choose for X and the smallest value of X chosen by a decision maker will determine the payoff you receive for this period.\n",
      "You are provided with an EARNINGS TABLE that shows the potential number of points that you may receive, shown as follows delimited by triple backticks.\n",
      "```\n",
      "Your Choice of X \\ Smallest value of X chosen\t7\t6\t5\t4\t3\t2\t1\n",
      "7\t13\t11\t9\t7\t5\t3\t1\n",
      "6\tx\t12\t10\t8\t6\t4\t2\n",
      "5\tx\tx\t11\t9\t7\t5\t3\n",
      "4\tx\tx\tx\t10\t8\t6\t4\n",
      "3\tx\tx\tx\tx\t9\t7\t5\n",
      "2\tx\tx\tx\tx\tx\t8\t6\n",
      "1\tx\tx\tx\tx\tx\tx\t7\n",
      "```\n",
      "Note that the EARNINGS TABLE is the same for every player. Only your earnings are shown in the EARNINGS TABLE. The earnings in each period may be found by looking across from the value you choose on the left-hand side of the table and down from the smallest value of X chosen by a decision maker. For example, if you choose 4 and the smallest value of X chosen is 4, you earn 10 points for this period. Your goal is to maximize your own total earnings in all 8 periods. In each period, you should first think carefully about what to do, and then choose the value of X.\n",
      "\n"
     ]
    }
   ],
   "source": [
    "N=9\n",
    "nperiod=8\n",
    "\n",
    "system_message = f\"\"\"\n",
    "Please act as a human player. You and {N-1} other players are playing a game for {nperiod} periods. In each period, each of you will be asked to choose a value of X. The values of X you may choose are 1, 2, 3, 4, 5, 6, 7. The value you choose for X and the smallest value of X chosen by a decision maker will determine the payoff you receive for this period.\n",
    "You are provided with an EARNINGS TABLE that shows the potential number of points that you may receive, shown as follows delimited by triple backticks.\n",
    "```\n",
    "Your Choice of X \\ Smallest value of X chosen\t7\t6\t5\t4\t3\t2\t1\n",
    "7\t13\t11\t9\t7\t5\t3\t1\n",
    "6\tx\t12\t10\t8\t6\t4\t2\n",
    "5\tx\tx\t11\t9\t7\t5\t3\n",
    "4\tx\tx\tx\t10\t8\t6\t4\n",
    "3\tx\tx\tx\tx\t9\t7\t5\n",
    "2\tx\tx\tx\tx\tx\t8\t6\n",
    "1\tx\tx\tx\tx\tx\tx\t7\n",
    "```\n",
    "Note that the EARNINGS TABLE is the same for every player. Only your earnings are shown in the EARNINGS TABLE. The earnings in each period may be found by looking across from the value you choose on the left-hand side of the table and down from the smallest value of X chosen by a decision maker. For example, if you choose 4 and the smallest value of X chosen is 4, you earn 10 points for this period. Your goal is to maximize your own total earnings in all {nperiod} periods. In each period, you should first think carefully about what to do, and then choose the value of X.\n",
    "\"\"\"\n",
    "print(system_message)"
   ]
  },
  {
   "cell_type": "code",
   "execution_count": 18,
   "metadata": {
    "ExecuteTime": {
     "end_time": "2023-12-07T03:01:52.326335Z",
     "start_time": "2023-12-07T03:01:52.319219Z"
    }
   },
   "outputs": [],
   "source": [
    "def correct_json(s):\n",
    "    prompt=f\"\"\"\n",
    "The following string delimited by triple backticks is in json format, but there are some mistakes, and I cannot directly convert it to json by json.loads(). For example, there may be missing comma or quotes. Please help me correct the mistakes, and output the string in valid json format. Please only output the corrected string, and do not output any other things.\n",
    "```\n",
    "{s}\n",
    "```\n",
    "    \"\"\".strip()\n",
    "#     response = get_completion(prompt,model=model)\n",
    "    response = gpt_completion(prompt)\n",
    "    return response\n",
    "s=\"\"\"{\n",
    "  \"thought\": \"aaa\"\n",
    "  \"action\": J\n",
    "}\"\"\"\n",
    "# print(correct_json(s))\n",
    "\n",
    "summarize_action=f\"\"\"Given the following paragraph delimited by triple backticks:\n",
    "```\n",
    "<out>\n",
    "```\n",
    "Please summarize the choice of X and how he thought in the first person from above paragraph in json format with keys 'thought' and 'X'. The 'X' should be in 1,2,3,4,5,6,7.\n",
    "\"\"\".strip()"
   ]
  },
  {
   "cell_type": "code",
   "execution_count": 19,
   "metadata": {
    "ExecuteTime": {
     "end_time": "2023-12-07T03:01:52.499662Z",
     "start_time": "2023-12-07T03:01:52.463364Z"
    },
    "code_folding": [
     0,
     14,
     29
    ]
   },
   "outputs": [
    {
     "data": {
      "text/plain": [
       "13"
      ]
     },
     "execution_count": 19,
     "metadata": {},
     "output_type": "execute_result"
    }
   ],
   "source": [
    "def get_earnings(choice,smallest):\n",
    "    assert choice in [1,2,3,4,5,6,7]\n",
    "    assert smallest<=choice\n",
    "    A = {\n",
    "        7: {7: 1.30, 6: 1.10, 5: 0.90, 4: 0.70, 3: 0.50, 2: 0.30, 1: 0.10},\n",
    "        6: {6: 1.20, 5: 1.00, 4: 0.80, 3: 0.60, 2: 0.40, 1: 0.20},\n",
    "        5: {5: 1.10, 4: 0.90, 3: 0.70, 2: 0.50, 1: 0.30},\n",
    "        4: {4: 1.00, 3: 0.80, 2: 0.60, 1: 0.40},\n",
    "        3: {3: 0.90, 2: 0.70, 1: 0.50},\n",
    "        2: {2: 0.80, 1: 0.60},\n",
    "        1: {1: 0.70}\n",
    "    }\n",
    "    return int(A[choice][smallest]*10)\n",
    "\n",
    "def get_display_table(record):\n",
    "    display_table=''\n",
    "    for i in record.index:\n",
    "        period=record.loc[i,'Period']\n",
    "        choice=record.loc[i,'Your choice X']\n",
    "        smallest=record.loc[i,'Smallest X']\n",
    "        earning=record.loc[i,'Earnings']   \n",
    "        tmp=f\"\"\"In period-{period}, your chose {choice}, the smallest X chosen was {smallest}, your earnings were {earning} points.\"\"\"\n",
    "        display_table+=tmp\n",
    "        display_table+='\\n'\n",
    "    balance=record['Earnings'].sum()\n",
    "    balance='%.0f'%balance\n",
    "    display_table+=f\"\"\"Your cumulative earnings so far are {balance} points.\"\"\"\n",
    "    return display_table\n",
    "\n",
    "def parse_response(response): # return a json\n",
    "    response = response.replace('Action','action')\n",
    "    response = response.replace('Thought','thought')\n",
    "    try:\n",
    "        out=json.loads(response,strict=0)\n",
    "    except:\n",
    "        start_index = response.find('{')  # 查找第一个'{'的索引\n",
    "        end_index = response.rfind('}')  # 查找最后一个'}'的索引\n",
    "        if end_index==-1:\n",
    "            response=response.strip()+'}'\n",
    "            \n",
    "        start_index = response.find('{')  # 查找第一个'{'的索引\n",
    "        end_index = response.rfind('}')  # 查找最后一个'}'的索引\n",
    "        if start_index != -1 and end_index != -1:\n",
    "            extracted_content = response[start_index:end_index + 1]\n",
    "            try:\n",
    "                out=json.loads(extracted_content,strict=0)\n",
    "            except:\n",
    "                print('json error: ',extracted_content)\n",
    "                corrected_json=correct_json(extracted_content)\n",
    "                print('corrected:',corrected_json)\n",
    "                start_index = corrected_json.find('{')  # 查找第一个'{'的索引\n",
    "                end_index = corrected_json.rfind('}')  # 查找最后一个'}'的索引\n",
    "                extracted_content = corrected_json[start_index:end_index + 1]\n",
    "                out=json.loads(extracted_content,strict=0)\n",
    "        else:\n",
    "            print('No json found in:',response)\n",
    "            prompt=summarize_action.replace('<out>',response)\n",
    "            out=gpt_completion(prompt)\n",
    "            out=json.loads(out)\n",
    "    return out\n",
    "get_earnings(7,7)"
   ]
  },
  {
   "cell_type": "code",
   "execution_count": 21,
   "metadata": {
    "ExecuteTime": {
     "end_time": "2023-12-07T03:52:05.931118Z",
     "start_time": "2023-12-07T03:52:05.915749Z"
    }
   },
   "outputs": [],
   "source": [
    "def get_action(bot,record,model,display=False):\n",
    "    if period==1:\n",
    "        message=f\"\"\"It is period-{period} out of {nperiod} periods now. Tell me how you think and the value of X you would like to choose. Please answer in json format with keys 'thought' and 'X'. For example, {{\"thought\": \"xxx.\",\"X\": x }}. The 'X' should be in 1,2,3,4,5,6,7.\n",
    "        \"\"\".strip()\n",
    "    else:\n",
    "        display_table=get_display_table(record)\n",
    "        message=f\"\"\"The history of decisions and your earnings is listed as follows delimited by triple backticks.\n",
    "```\n",
    "{display_table}\n",
    "```\n",
    "It is period-{period} out of {nperiod} periods now. Tell me how you think and the value of X you would like to choose. Please answer in json format with keys 'thought' and 'X'. For example, {{\"thought\": \"xxx.\",\"X\": x }}. The 'X' should be in 1,2,3,4,5,6,7.\n",
    "    \"\"\".strip()\n",
    "#         message=f\"\"\"The history of decisions and your earnings is listed as follows delimited by triple backticks.\n",
    "# ```\n",
    "# {display_table}\n",
    "# ```\n",
    "# It is period-{period} out of {nperiod} periods now. Tell me how you think and the value of X you would like to choose. Your choice of X should be in 1,2,3,4,5,6,7.\n",
    "#     \"\"\".strip()\n",
    "    res=bot.chat_wo_update(message, model=model)\n",
    "    time.sleep(1)\n",
    "    if display_result:\n",
    "        print('------get action------')\n",
    "        print(message)\n",
    "        print(res)\n",
    "    out=parse_response(res)\n",
    "    try:\n",
    "        X=int(out['X'])\n",
    "        reason=out['thought']\n",
    "    except:\n",
    "        print('key error! messages:',message)\n",
    "        print('response:',response)\n",
    "        prompt=summarize_action.replace('<out>',response)\n",
    "        out=gpt_completion(prompt)\n",
    "        out=json.loads(out)\n",
    "        X=int(out['X'])\n",
    "        reason=out['thought']\n",
    "        \n",
    "    try:\n",
    "        X in [1,2,3,4,5,6,7]\n",
    "    except:\n",
    "        print('Invalid action:',out)\n",
    "        assert 0\n",
    "    return X,reason"
   ]
  },
  {
   "cell_type": "code",
   "execution_count": 22,
   "metadata": {
    "ExecuteTime": {
     "end_time": "2023-12-07T04:15:16.977014Z",
     "start_time": "2023-12-07T03:52:17.824053Z"
    },
    "code_folding": [
     15
    ],
    "scrolled": true
   },
   "outputs": [
    {
     "name": "stdout",
     "output_type": "stream",
     "text": [
      "==============sess1==============\n"
     ]
    },
    {
     "name": "stderr",
     "output_type": "stream",
     "text": [
      "100%|████████████████████████████████████████████████████████████████████████████████████████████████████████| 9/9 [00:00<00:00, 168521.14it/s]\n"
     ]
    },
    {
     "name": "stdout",
     "output_type": "stream",
     "text": [
      "-----------------------\n",
      "period-1\n"
     ]
    },
    {
     "name": "stderr",
     "output_type": "stream",
     "text": [
      "100%|████████████████████████████████████████████████████████████████████████████████████████████████████████████| 9/9 [00:16<00:00,  1.87s/it]\n"
     ]
    },
    {
     "name": "stdout",
     "output_type": "stream",
     "text": [
      "time: 16.792436361312866\n",
      "-----------------------\n",
      "period-2\n"
     ]
    },
    {
     "name": "stderr",
     "output_type": "stream",
     "text": [
      "100%|████████████████████████████████████████████████████████████████████████████████████████████████████████████| 9/9 [00:17<00:00,  2.00s/it]\n"
     ]
    },
    {
     "name": "stdout",
     "output_type": "stream",
     "text": [
      "time: 34.79652380943298\n",
      "-----------------------\n",
      "period-3\n"
     ]
    },
    {
     "name": "stderr",
     "output_type": "stream",
     "text": [
      "100%|████████████████████████████████████████████████████████████████████████████████████████████████████████████| 9/9 [00:19<00:00,  2.18s/it]\n"
     ]
    },
    {
     "name": "stdout",
     "output_type": "stream",
     "text": [
      "time: 54.44700026512146\n",
      "-----------------------\n",
      "period-4\n"
     ]
    },
    {
     "name": "stderr",
     "output_type": "stream",
     "text": [
      "100%|████████████████████████████████████████████████████████████████████████████████████████████████████████████| 9/9 [00:17<00:00,  1.94s/it]\n"
     ]
    },
    {
     "name": "stdout",
     "output_type": "stream",
     "text": [
      "time: 71.91705060005188\n",
      "-----------------------\n",
      "period-5\n"
     ]
    },
    {
     "name": "stderr",
     "output_type": "stream",
     "text": [
      "100%|████████████████████████████████████████████████████████████████████████████████████████████████████████████| 9/9 [00:17<00:00,  1.94s/it]\n"
     ]
    },
    {
     "name": "stdout",
     "output_type": "stream",
     "text": [
      "time: 89.35702753067017\n",
      "-----------------------\n",
      "period-6\n"
     ]
    },
    {
     "name": "stderr",
     "output_type": "stream",
     "text": [
      "100%|████████████████████████████████████████████████████████████████████████████████████████████████████████████| 9/9 [00:17<00:00,  1.94s/it]\n"
     ]
    },
    {
     "name": "stdout",
     "output_type": "stream",
     "text": [
      "time: 106.8017828464508\n",
      "-----------------------\n",
      "period-7\n"
     ]
    },
    {
     "name": "stderr",
     "output_type": "stream",
     "text": [
      "100%|████████████████████████████████████████████████████████████████████████████████████████████████████████████| 9/9 [00:15<00:00,  1.77s/it]\n"
     ]
    },
    {
     "name": "stdout",
     "output_type": "stream",
     "text": [
      "time: 122.78321480751038\n",
      "-----------------------\n",
      "period-8\n"
     ]
    },
    {
     "name": "stderr",
     "output_type": "stream",
     "text": [
      "100%|████████████████████████████████████████████████████████████████████████████████████████████████████████████| 9/9 [00:15<00:00,  1.73s/it]\n"
     ]
    },
    {
     "name": "stdout",
     "output_type": "stream",
     "text": [
      "time: 138.34415650367737\n",
      "==============sess2==============\n"
     ]
    },
    {
     "name": "stderr",
     "output_type": "stream",
     "text": [
      "100%|█████████████████████████████████████████████████████████████████████████████████████████████████████████| 9/9 [00:00<00:00, 65196.44it/s]\n"
     ]
    },
    {
     "name": "stdout",
     "output_type": "stream",
     "text": [
      "-----------------------\n",
      "period-1\n"
     ]
    },
    {
     "name": "stderr",
     "output_type": "stream",
     "text": [
      "100%|████████████████████████████████████████████████████████████████████████████████████████████████████████████| 9/9 [00:16<00:00,  1.86s/it]\n"
     ]
    },
    {
     "name": "stdout",
     "output_type": "stream",
     "text": [
      "time: 16.73220705986023\n",
      "-----------------------\n",
      "period-2\n"
     ]
    },
    {
     "name": "stderr",
     "output_type": "stream",
     "text": [
      "100%|████████████████████████████████████████████████████████████████████████████████████████████████████████████| 9/9 [00:17<00:00,  1.97s/it]\n"
     ]
    },
    {
     "name": "stdout",
     "output_type": "stream",
     "text": [
      "time: 34.52366900444031\n",
      "-----------------------\n",
      "period-3\n"
     ]
    },
    {
     "name": "stderr",
     "output_type": "stream",
     "text": [
      "100%|████████████████████████████████████████████████████████████████████████████████████████████████████████████| 9/9 [00:19<00:00,  2.17s/it]\n"
     ]
    },
    {
     "name": "stdout",
     "output_type": "stream",
     "text": [
      "time: 54.083248138427734\n",
      "-----------------------\n",
      "period-4\n"
     ]
    },
    {
     "name": "stderr",
     "output_type": "stream",
     "text": [
      "100%|████████████████████████████████████████████████████████████████████████████████████████████████████████████| 9/9 [00:17<00:00,  1.95s/it]\n"
     ]
    },
    {
     "name": "stdout",
     "output_type": "stream",
     "text": [
      "time: 71.62071657180786\n",
      "-----------------------\n",
      "period-5\n"
     ]
    },
    {
     "name": "stderr",
     "output_type": "stream",
     "text": [
      "100%|████████████████████████████████████████████████████████████████████████████████████████████████████████████| 9/9 [00:17<00:00,  1.95s/it]\n"
     ]
    },
    {
     "name": "stdout",
     "output_type": "stream",
     "text": [
      "time: 89.16709089279175\n",
      "-----------------------\n",
      "period-6\n"
     ]
    },
    {
     "name": "stderr",
     "output_type": "stream",
     "text": [
      "100%|████████████████████████████████████████████████████████████████████████████████████████████████████████████| 9/9 [00:17<00:00,  1.94s/it]\n"
     ]
    },
    {
     "name": "stdout",
     "output_type": "stream",
     "text": [
      "time: 106.68058776855469\n",
      "-----------------------\n",
      "period-7\n"
     ]
    },
    {
     "name": "stderr",
     "output_type": "stream",
     "text": [
      "100%|████████████████████████████████████████████████████████████████████████████████████████████████████████████| 9/9 [00:15<00:00,  1.77s/it]\n"
     ]
    },
    {
     "name": "stdout",
     "output_type": "stream",
     "text": [
      "time: 122.59402871131897\n",
      "-----------------------\n",
      "period-8\n"
     ]
    },
    {
     "name": "stderr",
     "output_type": "stream",
     "text": [
      "100%|████████████████████████████████████████████████████████████████████████████████████████████████████████████| 9/9 [00:15<00:00,  1.74s/it]\n"
     ]
    },
    {
     "name": "stdout",
     "output_type": "stream",
     "text": [
      "time: 138.27713894844055\n",
      "==============sess3==============\n"
     ]
    },
    {
     "name": "stderr",
     "output_type": "stream",
     "text": [
      "100%|████████████████████████████████████████████████████████████████████████████████████████████████████████| 9/9 [00:00<00:00, 126249.95it/s]\n"
     ]
    },
    {
     "name": "stdout",
     "output_type": "stream",
     "text": [
      "-----------------------\n",
      "period-1\n"
     ]
    },
    {
     "name": "stderr",
     "output_type": "stream",
     "text": [
      "100%|████████████████████████████████████████████████████████████████████████████████████████████████████████████| 9/9 [00:16<00:00,  1.86s/it]\n"
     ]
    },
    {
     "name": "stdout",
     "output_type": "stream",
     "text": [
      "time: 16.734052658081055\n",
      "-----------------------\n",
      "period-2\n"
     ]
    },
    {
     "name": "stderr",
     "output_type": "stream",
     "text": [
      "100%|████████████████████████████████████████████████████████████████████████████████████████████████████████████| 9/9 [00:17<00:00,  1.97s/it]\n"
     ]
    },
    {
     "name": "stdout",
     "output_type": "stream",
     "text": [
      "time: 34.486377000808716\n",
      "-----------------------\n",
      "period-3\n"
     ]
    },
    {
     "name": "stderr",
     "output_type": "stream",
     "text": [
      "100%|████████████████████████████████████████████████████████████████████████████████████████████████████████████| 9/9 [00:19<00:00,  2.17s/it]\n"
     ]
    },
    {
     "name": "stdout",
     "output_type": "stream",
     "text": [
      "time: 54.00798320770264\n",
      "-----------------------\n",
      "period-4\n"
     ]
    },
    {
     "name": "stderr",
     "output_type": "stream",
     "text": [
      "100%|████████████████████████████████████████████████████████████████████████████████████████████████████████████| 9/9 [00:17<00:00,  1.94s/it]\n"
     ]
    },
    {
     "name": "stdout",
     "output_type": "stream",
     "text": [
      "time: 71.48061633110046\n",
      "-----------------------\n",
      "period-5\n"
     ]
    },
    {
     "name": "stderr",
     "output_type": "stream",
     "text": [
      "100%|████████████████████████████████████████████████████████████████████████████████████████████████████████████| 9/9 [00:17<00:00,  1.95s/it]\n"
     ]
    },
    {
     "name": "stdout",
     "output_type": "stream",
     "text": [
      "time: 89.03656530380249\n",
      "-----------------------\n",
      "period-6\n"
     ]
    },
    {
     "name": "stderr",
     "output_type": "stream",
     "text": [
      "100%|████████████████████████████████████████████████████████████████████████████████████████████████████████████| 9/9 [00:17<00:00,  1.94s/it]\n"
     ]
    },
    {
     "name": "stdout",
     "output_type": "stream",
     "text": [
      "time: 106.50740218162537\n",
      "-----------------------\n",
      "period-7\n"
     ]
    },
    {
     "name": "stderr",
     "output_type": "stream",
     "text": [
      "100%|████████████████████████████████████████████████████████████████████████████████████████████████████████████| 9/9 [00:15<00:00,  1.77s/it]\n"
     ]
    },
    {
     "name": "stdout",
     "output_type": "stream",
     "text": [
      "time: 122.44370937347412\n",
      "-----------------------\n",
      "period-8\n"
     ]
    },
    {
     "name": "stderr",
     "output_type": "stream",
     "text": [
      "100%|████████████████████████████████████████████████████████████████████████████████████████████████████████████| 9/9 [00:15<00:00,  1.73s/it]\n"
     ]
    },
    {
     "name": "stdout",
     "output_type": "stream",
     "text": [
      "time: 138.0374207496643\n",
      "==============sess4==============\n"
     ]
    },
    {
     "name": "stderr",
     "output_type": "stream",
     "text": [
      "100%|████████████████████████████████████████████████████████████████████████████████████████████████████████| 9/9 [00:00<00:00, 152828.89it/s]\n"
     ]
    },
    {
     "name": "stdout",
     "output_type": "stream",
     "text": [
      "-----------------------\n",
      "period-1\n"
     ]
    },
    {
     "name": "stderr",
     "output_type": "stream",
     "text": [
      "100%|████████████████████████████████████████████████████████████████████████████████████████████████████████████| 9/9 [00:16<00:00,  1.85s/it]\n"
     ]
    },
    {
     "name": "stdout",
     "output_type": "stream",
     "text": [
      "time: 16.66957449913025\n",
      "-----------------------\n",
      "period-2\n"
     ]
    },
    {
     "name": "stderr",
     "output_type": "stream",
     "text": [
      "100%|████████████████████████████████████████████████████████████████████████████████████████████████████████████| 9/9 [00:17<00:00,  1.98s/it]\n"
     ]
    },
    {
     "name": "stdout",
     "output_type": "stream",
     "text": [
      "time: 34.49044966697693\n",
      "-----------------------\n",
      "period-3\n"
     ]
    },
    {
     "name": "stderr",
     "output_type": "stream",
     "text": [
      "100%|████████████████████████████████████████████████████████████████████████████████████████████████████████████| 9/9 [00:19<00:00,  2.16s/it]\n"
     ]
    },
    {
     "name": "stdout",
     "output_type": "stream",
     "text": [
      "time: 53.97177600860596\n",
      "-----------------------\n",
      "period-4\n"
     ]
    },
    {
     "name": "stderr",
     "output_type": "stream",
     "text": [
      "100%|████████████████████████████████████████████████████████████████████████████████████████████████████████████| 9/9 [00:17<00:00,  1.94s/it]\n"
     ]
    },
    {
     "name": "stdout",
     "output_type": "stream",
     "text": [
      "time: 71.42382621765137\n",
      "-----------------------\n",
      "period-5\n"
     ]
    },
    {
     "name": "stderr",
     "output_type": "stream",
     "text": [
      "100%|████████████████████████████████████████████████████████████████████████████████████████████████████████████| 9/9 [00:17<00:00,  1.94s/it]\n"
     ]
    },
    {
     "name": "stdout",
     "output_type": "stream",
     "text": [
      "time: 88.871173620224\n",
      "-----------------------\n",
      "period-6\n"
     ]
    },
    {
     "name": "stderr",
     "output_type": "stream",
     "text": [
      "100%|████████████████████████████████████████████████████████████████████████████████████████████████████████████| 9/9 [00:17<00:00,  1.94s/it]\n"
     ]
    },
    {
     "name": "stdout",
     "output_type": "stream",
     "text": [
      "time: 106.33467960357666\n",
      "-----------------------\n",
      "period-7\n"
     ]
    },
    {
     "name": "stderr",
     "output_type": "stream",
     "text": [
      "100%|████████████████████████████████████████████████████████████████████████████████████████████████████████████| 9/9 [00:15<00:00,  1.76s/it]\n"
     ]
    },
    {
     "name": "stdout",
     "output_type": "stream",
     "text": [
      "time: 122.21403312683105\n",
      "-----------------------\n",
      "period-8\n"
     ]
    },
    {
     "name": "stderr",
     "output_type": "stream",
     "text": [
      "100%|████████████████████████████████████████████████████████████████████████████████████████████████████████████| 9/9 [00:15<00:00,  1.73s/it]\n"
     ]
    },
    {
     "name": "stdout",
     "output_type": "stream",
     "text": [
      "time: 137.81892681121826\n",
      "==============sess5==============\n"
     ]
    },
    {
     "name": "stderr",
     "output_type": "stream",
     "text": [
      "100%|█████████████████████████████████████████████████████████████████████████████████████████████████████████| 9/9 [00:00<00:00, 61580.32it/s]\n"
     ]
    },
    {
     "name": "stdout",
     "output_type": "stream",
     "text": [
      "-----------------------\n",
      "period-1\n"
     ]
    },
    {
     "name": "stderr",
     "output_type": "stream",
     "text": [
      "100%|████████████████████████████████████████████████████████████████████████████████████████████████████████████| 9/9 [00:16<00:00,  1.86s/it]\n"
     ]
    },
    {
     "name": "stdout",
     "output_type": "stream",
     "text": [
      "time: 16.783084630966187\n",
      "-----------------------\n",
      "period-2\n"
     ]
    },
    {
     "name": "stderr",
     "output_type": "stream",
     "text": [
      "100%|████████████████████████████████████████████████████████████████████████████████████████████████████████████| 9/9 [00:17<00:00,  1.97s/it]\n"
     ]
    },
    {
     "name": "stdout",
     "output_type": "stream",
     "text": [
      "time: 34.49873423576355\n",
      "-----------------------\n",
      "period-3\n"
     ]
    },
    {
     "name": "stderr",
     "output_type": "stream",
     "text": [
      "100%|████████████████████████████████████████████████████████████████████████████████████████████████████████████| 9/9 [00:19<00:00,  2.16s/it]\n"
     ]
    },
    {
     "name": "stdout",
     "output_type": "stream",
     "text": [
      "time: 53.976895570755005\n",
      "-----------------------\n",
      "period-4\n"
     ]
    },
    {
     "name": "stderr",
     "output_type": "stream",
     "text": [
      "100%|████████████████████████████████████████████████████████████████████████████████████████████████████████████| 9/9 [00:17<00:00,  1.94s/it]\n"
     ]
    },
    {
     "name": "stdout",
     "output_type": "stream",
     "text": [
      "time: 71.5084617137909\n",
      "-----------------------\n",
      "period-5\n"
     ]
    },
    {
     "name": "stderr",
     "output_type": "stream",
     "text": [
      "100%|████████████████████████████████████████████████████████████████████████████████████████████████████████████| 9/9 [00:17<00:00,  1.95s/it]\n"
     ]
    },
    {
     "name": "stdout",
     "output_type": "stream",
     "text": [
      "time: 89.05781841278076\n",
      "-----------------------\n",
      "period-6\n"
     ]
    },
    {
     "name": "stderr",
     "output_type": "stream",
     "text": [
      "100%|████████████████████████████████████████████████████████████████████████████████████████████████████████████| 9/9 [00:17<00:00,  1.94s/it]\n"
     ]
    },
    {
     "name": "stdout",
     "output_type": "stream",
     "text": [
      "time: 106.57759714126587\n",
      "-----------------------\n",
      "period-7\n"
     ]
    },
    {
     "name": "stderr",
     "output_type": "stream",
     "text": [
      "100%|████████████████████████████████████████████████████████████████████████████████████████████████████████████| 9/9 [00:15<00:00,  1.77s/it]\n"
     ]
    },
    {
     "name": "stdout",
     "output_type": "stream",
     "text": [
      "time: 122.52063083648682\n",
      "-----------------------\n",
      "period-8\n"
     ]
    },
    {
     "name": "stderr",
     "output_type": "stream",
     "text": [
      "100%|████████████████████████████████████████████████████████████████████████████████████████████████████████████| 9/9 [00:15<00:00,  1.74s/it]\n"
     ]
    },
    {
     "name": "stdout",
     "output_type": "stream",
     "text": [
      "time: 138.20016598701477\n",
      "==============sess6==============\n"
     ]
    },
    {
     "name": "stderr",
     "output_type": "stream",
     "text": [
      "100%|█████████████████████████████████████████████████████████████████████████████████████████████████████████| 9/9 [00:00<00:00, 58254.22it/s]\n"
     ]
    },
    {
     "name": "stdout",
     "output_type": "stream",
     "text": [
      "-----------------------\n",
      "period-1\n"
     ]
    },
    {
     "name": "stderr",
     "output_type": "stream",
     "text": [
      "100%|████████████████████████████████████████████████████████████████████████████████████████████████████████████| 9/9 [00:16<00:00,  1.85s/it]\n"
     ]
    },
    {
     "name": "stdout",
     "output_type": "stream",
     "text": [
      "time: 16.6722731590271\n",
      "-----------------------\n",
      "period-2\n"
     ]
    },
    {
     "name": "stderr",
     "output_type": "stream",
     "text": [
      "100%|████████████████████████████████████████████████████████████████████████████████████████████████████████████| 9/9 [00:17<00:00,  1.97s/it]\n"
     ]
    },
    {
     "name": "stdout",
     "output_type": "stream",
     "text": [
      "time: 34.43795394897461\n",
      "-----------------------\n",
      "period-3\n"
     ]
    },
    {
     "name": "stderr",
     "output_type": "stream",
     "text": [
      "100%|████████████████████████████████████████████████████████████████████████████████████████████████████████████| 9/9 [00:19<00:00,  2.16s/it]\n"
     ]
    },
    {
     "name": "stdout",
     "output_type": "stream",
     "text": [
      "time: 53.914247274398804\n",
      "-----------------------\n",
      "period-4\n"
     ]
    },
    {
     "name": "stderr",
     "output_type": "stream",
     "text": [
      "100%|████████████████████████████████████████████████████████████████████████████████████████████████████████████| 9/9 [00:17<00:00,  1.92s/it]\n"
     ]
    },
    {
     "name": "stdout",
     "output_type": "stream",
     "text": [
      "time: 71.26435136795044\n",
      "-----------------------\n",
      "period-5\n"
     ]
    },
    {
     "name": "stderr",
     "output_type": "stream",
     "text": [
      "100%|████████████████████████████████████████████████████████████████████████████████████████████████████████████| 9/9 [00:17<00:00,  1.94s/it]\n"
     ]
    },
    {
     "name": "stdout",
     "output_type": "stream",
     "text": [
      "time: 88.71124410629272\n",
      "-----------------------\n",
      "period-6\n"
     ]
    },
    {
     "name": "stderr",
     "output_type": "stream",
     "text": [
      "100%|████████████████████████████████████████████████████████████████████████████████████████████████████████████| 9/9 [00:17<00:00,  1.94s/it]\n"
     ]
    },
    {
     "name": "stdout",
     "output_type": "stream",
     "text": [
      "time: 106.16890072822571\n",
      "-----------------------\n",
      "period-7\n"
     ]
    },
    {
     "name": "stderr",
     "output_type": "stream",
     "text": [
      "100%|████████████████████████████████████████████████████████████████████████████████████████████████████████████| 9/9 [00:15<00:00,  1.77s/it]\n"
     ]
    },
    {
     "name": "stdout",
     "output_type": "stream",
     "text": [
      "time: 122.1039354801178\n",
      "-----------------------\n",
      "period-8\n"
     ]
    },
    {
     "name": "stderr",
     "output_type": "stream",
     "text": [
      "100%|████████████████████████████████████████████████████████████████████████████████████████████████████████████| 9/9 [00:15<00:00,  1.74s/it]\n"
     ]
    },
    {
     "name": "stdout",
     "output_type": "stream",
     "text": [
      "time: 137.7645344734192\n",
      "==============sess7==============\n"
     ]
    },
    {
     "name": "stderr",
     "output_type": "stream",
     "text": [
      "100%|█████████████████████████████████████████████████████████████████████████████████████████████████████████| 9/9 [00:00<00:00, 58434.58it/s]\n"
     ]
    },
    {
     "name": "stdout",
     "output_type": "stream",
     "text": [
      "-----------------------\n",
      "period-1\n"
     ]
    },
    {
     "name": "stderr",
     "output_type": "stream",
     "text": [
      "100%|████████████████████████████████████████████████████████████████████████████████████████████████████████████| 9/9 [00:16<00:00,  1.86s/it]\n"
     ]
    },
    {
     "name": "stdout",
     "output_type": "stream",
     "text": [
      "time: 16.713597297668457\n",
      "-----------------------\n",
      "period-2\n"
     ]
    },
    {
     "name": "stderr",
     "output_type": "stream",
     "text": [
      "100%|████████████████████████████████████████████████████████████████████████████████████████████████████████████| 9/9 [00:17<00:00,  1.96s/it]\n"
     ]
    },
    {
     "name": "stdout",
     "output_type": "stream",
     "text": [
      "time: 34.37318205833435\n",
      "-----------------------\n",
      "period-3\n"
     ]
    },
    {
     "name": "stderr",
     "output_type": "stream",
     "text": [
      "100%|████████████████████████████████████████████████████████████████████████████████████████████████████████████| 9/9 [00:19<00:00,  2.15s/it]\n"
     ]
    },
    {
     "name": "stdout",
     "output_type": "stream",
     "text": [
      "time: 53.739506483078\n",
      "-----------------------\n",
      "period-4\n"
     ]
    },
    {
     "name": "stderr",
     "output_type": "stream",
     "text": [
      "100%|████████████████████████████████████████████████████████████████████████████████████████████████████████████| 9/9 [00:17<00:00,  1.93s/it]\n"
     ]
    },
    {
     "name": "stdout",
     "output_type": "stream",
     "text": [
      "time: 71.13594913482666\n",
      "-----------------------\n",
      "period-5\n"
     ]
    },
    {
     "name": "stderr",
     "output_type": "stream",
     "text": [
      "100%|████████████████████████████████████████████████████████████████████████████████████████████████████████████| 9/9 [00:17<00:00,  1.93s/it]\n"
     ]
    },
    {
     "name": "stdout",
     "output_type": "stream",
     "text": [
      "time: 88.52977347373962\n",
      "-----------------------\n",
      "period-6\n"
     ]
    },
    {
     "name": "stderr",
     "output_type": "stream",
     "text": [
      "100%|████████████████████████████████████████████████████████████████████████████████████████████████████████████| 9/9 [00:17<00:00,  1.93s/it]\n"
     ]
    },
    {
     "name": "stdout",
     "output_type": "stream",
     "text": [
      "time: 105.92886686325073\n",
      "-----------------------\n",
      "period-7\n"
     ]
    },
    {
     "name": "stderr",
     "output_type": "stream",
     "text": [
      "100%|████████████████████████████████████████████████████████████████████████████████████████████████████████████| 9/9 [00:15<00:00,  1.76s/it]\n"
     ]
    },
    {
     "name": "stdout",
     "output_type": "stream",
     "text": [
      "time: 121.83662247657776\n",
      "-----------------------\n",
      "period-8\n"
     ]
    },
    {
     "name": "stderr",
     "output_type": "stream",
     "text": [
      "100%|████████████████████████████████████████████████████████████████████████████████████████████████████████████| 9/9 [00:15<00:00,  1.73s/it]\n"
     ]
    },
    {
     "name": "stdout",
     "output_type": "stream",
     "text": [
      "time: 137.41896080970764\n",
      "==============sess8==============\n"
     ]
    },
    {
     "name": "stderr",
     "output_type": "stream",
     "text": [
      "100%|█████████████████████████████████████████████████████████████████████████████████████████████████████████| 9/9 [00:00<00:00, 61984.79it/s]\n"
     ]
    },
    {
     "name": "stdout",
     "output_type": "stream",
     "text": [
      "-----------------------\n",
      "period-1\n"
     ]
    },
    {
     "name": "stderr",
     "output_type": "stream",
     "text": [
      "100%|████████████████████████████████████████████████████████████████████████████████████████████████████████████| 9/9 [00:16<00:00,  1.85s/it]\n"
     ]
    },
    {
     "name": "stdout",
     "output_type": "stream",
     "text": [
      "time: 16.69390344619751\n",
      "-----------------------\n",
      "period-2\n"
     ]
    },
    {
     "name": "stderr",
     "output_type": "stream",
     "text": [
      "100%|████████████████████████████████████████████████████████████████████████████████████████████████████████████| 9/9 [00:17<00:00,  1.96s/it]\n"
     ]
    },
    {
     "name": "stdout",
     "output_type": "stream",
     "text": [
      "time: 34.39859867095947\n",
      "-----------------------\n",
      "period-3\n"
     ]
    },
    {
     "name": "stderr",
     "output_type": "stream",
     "text": [
      "100%|████████████████████████████████████████████████████████████████████████████████████████████████████████████| 9/9 [00:19<00:00,  2.15s/it]\n"
     ]
    },
    {
     "name": "stdout",
     "output_type": "stream",
     "text": [
      "time: 53.7369225025177\n",
      "-----------------------\n",
      "period-4\n"
     ]
    },
    {
     "name": "stderr",
     "output_type": "stream",
     "text": [
      "100%|████████████████████████████████████████████████████████████████████████████████████████████████████████████| 9/9 [00:17<00:00,  1.93s/it]\n"
     ]
    },
    {
     "name": "stdout",
     "output_type": "stream",
     "text": [
      "time: 71.12223076820374\n",
      "-----------------------\n",
      "period-5\n"
     ]
    },
    {
     "name": "stderr",
     "output_type": "stream",
     "text": [
      "100%|████████████████████████████████████████████████████████████████████████████████████████████████████████████| 9/9 [00:17<00:00,  1.93s/it]\n"
     ]
    },
    {
     "name": "stdout",
     "output_type": "stream",
     "text": [
      "time: 88.49554300308228\n",
      "-----------------------\n",
      "period-6\n"
     ]
    },
    {
     "name": "stderr",
     "output_type": "stream",
     "text": [
      "100%|████████████████████████████████████████████████████████████████████████████████████████████████████████████| 9/9 [00:17<00:00,  1.92s/it]\n"
     ]
    },
    {
     "name": "stdout",
     "output_type": "stream",
     "text": [
      "time: 105.84529280662537\n",
      "-----------------------\n",
      "period-7\n"
     ]
    },
    {
     "name": "stderr",
     "output_type": "stream",
     "text": [
      "100%|████████████████████████████████████████████████████████████████████████████████████████████████████████████| 9/9 [00:15<00:00,  1.77s/it]\n"
     ]
    },
    {
     "name": "stdout",
     "output_type": "stream",
     "text": [
      "time: 121.77470207214355\n",
      "-----------------------\n",
      "period-8\n"
     ]
    },
    {
     "name": "stderr",
     "output_type": "stream",
     "text": [
      "100%|████████████████████████████████████████████████████████████████████████████████████████████████████████████| 9/9 [00:15<00:00,  1.74s/it]\n"
     ]
    },
    {
     "name": "stdout",
     "output_type": "stream",
     "text": [
      "time: 137.43426418304443\n",
      "==============sess9==============\n"
     ]
    },
    {
     "name": "stderr",
     "output_type": "stream",
     "text": [
      "100%|█████████████████████████████████████████████████████████████████████████████████████████████████████████| 9/9 [00:00<00:00, 24949.59it/s]\n"
     ]
    },
    {
     "name": "stdout",
     "output_type": "stream",
     "text": [
      "-----------------------\n",
      "period-1\n"
     ]
    },
    {
     "name": "stderr",
     "output_type": "stream",
     "text": [
      "100%|████████████████████████████████████████████████████████████████████████████████████████████████████████████| 9/9 [00:16<00:00,  1.85s/it]\n"
     ]
    },
    {
     "name": "stdout",
     "output_type": "stream",
     "text": [
      "time: 16.693437337875366\n",
      "-----------------------\n",
      "period-2\n"
     ]
    },
    {
     "name": "stderr",
     "output_type": "stream",
     "text": [
      "100%|████████████████████████████████████████████████████████████████████████████████████████████████████████████| 9/9 [00:17<00:00,  1.98s/it]\n"
     ]
    },
    {
     "name": "stdout",
     "output_type": "stream",
     "text": [
      "time: 34.50075101852417\n",
      "-----------------------\n",
      "period-3\n"
     ]
    },
    {
     "name": "stderr",
     "output_type": "stream",
     "text": [
      "100%|████████████████████████████████████████████████████████████████████████████████████████████████████████████| 9/9 [00:19<00:00,  2.17s/it]\n"
     ]
    },
    {
     "name": "stdout",
     "output_type": "stream",
     "text": [
      "time: 54.017404317855835\n",
      "-----------------------\n",
      "period-4\n"
     ]
    },
    {
     "name": "stderr",
     "output_type": "stream",
     "text": [
      "100%|████████████████████████████████████████████████████████████████████████████████████████████████████████████| 9/9 [00:17<00:00,  1.93s/it]\n"
     ]
    },
    {
     "name": "stdout",
     "output_type": "stream",
     "text": [
      "time: 71.44786262512207\n",
      "-----------------------\n",
      "period-5\n"
     ]
    },
    {
     "name": "stderr",
     "output_type": "stream",
     "text": [
      "100%|████████████████████████████████████████████████████████████████████████████████████████████████████████████| 9/9 [00:17<00:00,  1.93s/it]\n"
     ]
    },
    {
     "name": "stdout",
     "output_type": "stream",
     "text": [
      "time: 88.83558535575867\n",
      "-----------------------\n",
      "period-6\n"
     ]
    },
    {
     "name": "stderr",
     "output_type": "stream",
     "text": [
      "100%|████████████████████████████████████████████████████████████████████████████████████████████████████████████| 9/9 [00:17<00:00,  1.93s/it]\n"
     ]
    },
    {
     "name": "stdout",
     "output_type": "stream",
     "text": [
      "time: 106.17881393432617\n",
      "-----------------------\n",
      "period-7\n"
     ]
    },
    {
     "name": "stderr",
     "output_type": "stream",
     "text": [
      "100%|████████████████████████████████████████████████████████████████████████████████████████████████████████████| 9/9 [00:15<00:00,  1.76s/it]\n"
     ]
    },
    {
     "name": "stdout",
     "output_type": "stream",
     "text": [
      "time: 122.08129405975342\n",
      "-----------------------\n",
      "period-8\n"
     ]
    },
    {
     "name": "stderr",
     "output_type": "stream",
     "text": [
      "100%|████████████████████████████████████████████████████████████████████████████████████████████████████████████| 9/9 [00:15<00:00,  1.73s/it]\n"
     ]
    },
    {
     "name": "stdout",
     "output_type": "stream",
     "text": [
      "time: 137.70114493370056\n",
      "==============sess10==============\n"
     ]
    },
    {
     "name": "stderr",
     "output_type": "stream",
     "text": [
      "100%|█████████████████████████████████████████████████████████████████████████████████████████████████████████| 9/9 [00:00<00:00, 65084.03it/s]\n"
     ]
    },
    {
     "name": "stdout",
     "output_type": "stream",
     "text": [
      "-----------------------\n",
      "period-1\n"
     ]
    },
    {
     "name": "stderr",
     "output_type": "stream",
     "text": [
      "100%|████████████████████████████████████████████████████████████████████████████████████████████████████████████| 9/9 [00:16<00:00,  1.85s/it]\n"
     ]
    },
    {
     "name": "stdout",
     "output_type": "stream",
     "text": [
      "time: 16.65274715423584\n",
      "-----------------------\n",
      "period-2\n"
     ]
    },
    {
     "name": "stderr",
     "output_type": "stream",
     "text": [
      "100%|████████████████████████████████████████████████████████████████████████████████████████████████████████████| 9/9 [00:17<00:00,  1.98s/it]\n"
     ]
    },
    {
     "name": "stdout",
     "output_type": "stream",
     "text": [
      "time: 34.491318225860596\n",
      "-----------------------\n",
      "period-3\n"
     ]
    },
    {
     "name": "stderr",
     "output_type": "stream",
     "text": [
      "100%|████████████████████████████████████████████████████████████████████████████████████████████████████████████| 9/9 [00:19<00:00,  2.16s/it]\n"
     ]
    },
    {
     "name": "stdout",
     "output_type": "stream",
     "text": [
      "time: 53.9366729259491\n",
      "-----------------------\n",
      "period-4\n"
     ]
    },
    {
     "name": "stderr",
     "output_type": "stream",
     "text": [
      "100%|████████████████████████████████████████████████████████████████████████████████████████████████████████████| 9/9 [00:17<00:00,  1.94s/it]\n"
     ]
    },
    {
     "name": "stdout",
     "output_type": "stream",
     "text": [
      "time: 71.3818690776825\n",
      "-----------------------\n",
      "period-5\n"
     ]
    },
    {
     "name": "stderr",
     "output_type": "stream",
     "text": [
      "100%|████████████████████████████████████████████████████████████████████████████████████████████████████████████| 9/9 [00:17<00:00,  1.94s/it]\n"
     ]
    },
    {
     "name": "stdout",
     "output_type": "stream",
     "text": [
      "time: 88.89254307746887\n",
      "-----------------------\n",
      "period-6\n"
     ]
    },
    {
     "name": "stderr",
     "output_type": "stream",
     "text": [
      "100%|████████████████████████████████████████████████████████████████████████████████████████████████████████████| 9/9 [00:17<00:00,  1.94s/it]\n"
     ]
    },
    {
     "name": "stdout",
     "output_type": "stream",
     "text": [
      "time: 106.37627530097961\n",
      "-----------------------\n",
      "period-7\n"
     ]
    },
    {
     "name": "stderr",
     "output_type": "stream",
     "text": [
      "100%|████████████████████████████████████████████████████████████████████████████████████████████████████████████| 9/9 [00:15<00:00,  1.76s/it]\n"
     ]
    },
    {
     "name": "stdout",
     "output_type": "stream",
     "text": [
      "time: 122.27658534049988\n",
      "-----------------------\n",
      "period-8\n"
     ]
    },
    {
     "name": "stderr",
     "output_type": "stream",
     "text": [
      "100%|████████████████████████████████████████████████████████████████████████████████████████████████████████████| 9/9 [00:15<00:00,  1.73s/it]"
     ]
    },
    {
     "name": "stdout",
     "output_type": "stream",
     "text": [
      "time: 137.86843609809875\n"
     ]
    },
    {
     "name": "stderr",
     "output_type": "stream",
     "text": [
      "\n"
     ]
    }
   ],
   "source": [
    "nsess=10\n",
    "\n",
    "expname='llama13b'\n",
    "\n",
    "\n",
    "max_try=50\n",
    "display_result=0\n",
    "\n",
    "for sess in range(1,1+nsess):\n",
    "    print(f'==============sess{sess}==============')\n",
    "    players=[]\n",
    "    for _ in tqdm(range(N)):\n",
    "        bot=ChatApp(system_message=system_message)\n",
    "        players.append(bot)\n",
    "    records=[]\n",
    "    cols=['Period','Your choice X','Smallest X','Earnings','Reason of choice']\n",
    "    for _ in range(N):    \n",
    "        df = pd.DataFrame(columns=cols)\n",
    "        records.append(df)\n",
    "        \n",
    "    starttime=time.time()\n",
    "    for period in range(1,nperiod+1):\n",
    "        print('-----------------------')\n",
    "        print(f'period-{period}')\n",
    "\n",
    "        # if this block done, continue\n",
    "        recordfile=os.path.join(filepath,f'records_ME_{expname}_{N}_{nperiod}_sess{sess}_period{period}.pkl')\n",
    "        playerfile=os.path.join(filepath,f'players_ME_{expname}_{N}_{nperiod}_sess{sess}_period{period}.pkl')\n",
    "        if os.path.exists(recordfile) and os.path.exists(playerfile):\n",
    "            with open(recordfile, 'rb') as f:\n",
    "                records = pickle.load(f)\n",
    "            with open(playerfile, 'rb') as f:\n",
    "                players = pickle.load(f)\n",
    "            print('existed!')\n",
    "            continue\n",
    "\n",
    "        for _ in range(max_try):\n",
    "            try:\n",
    "                if period>1:\n",
    "                    prev_period=period-1\n",
    "                    recordfile=os.path.join(filepath,f'records_ME_{expname}_{N}_{nperiod}_sess{sess}_period{prev_period}.pkl')\n",
    "                    playerfile=os.path.join(filepath,f'players_ME_{expname}_{N}_{nperiod}_sess{sess}_period{prev_period}.pkl')\n",
    "                    with open(recordfile, 'rb') as f:\n",
    "                        records = pickle.load(f)\n",
    "                    with open(playerfile, 'rb') as f:\n",
    "                        players = pickle.load(f)\n",
    "                # play\n",
    "                tmp_records=[]\n",
    "                for i in tqdm(range(N)):\n",
    "                    bot=players[i]\n",
    "                    record=records[i]\n",
    "                    X,reason=get_action(bot,record,model=model,display=display_result)\n",
    "                    tmp_records.append([period, X, 0.0, 0.0, reason])\n",
    "                    # cols=['Period','Your choice X','Smallest X','Earnings','Reason of choice']\n",
    "\n",
    "                # calculate smallest X\n",
    "                smallest=min([x[1] for x in tmp_records])\n",
    "\n",
    "                # calculate earnings for all\n",
    "                for r in tmp_records:\n",
    "                    earning=get_earnings(r[1],smallest)\n",
    "                    r[2]=smallest\n",
    "                    r[3]=earning\n",
    "\n",
    "                # update records for all\n",
    "                for i in range(N):\n",
    "                    record=records[i]\n",
    "                    record.loc[len(record.index)]=tmp_records[i]\n",
    "\n",
    "                print('time:',time.time()-starttime)\n",
    "\n",
    "                # save file\n",
    "                recordfile=os.path.join(filepath,f'records_ME_{expname}_{N}_{nperiod}_sess{sess}_period{period}.pkl')\n",
    "                playerfile=os.path.join(filepath,f'players_ME_{expname}_{N}_{nperiod}_sess{sess}_period{period}.pkl')\n",
    "                with open(recordfile, 'wb') as f:\n",
    "                    pickle.dump(records, f)\n",
    "                with open(playerfile, 'wb') as f:\n",
    "                    pickle.dump(players, f)\n",
    "                break\n",
    "            except Exception as e:\n",
    "                print(e)\n",
    "                print('error!sleep 30s...')\n",
    "                time.sleep(30)      "
   ]
  },
  {
   "cell_type": "code",
   "execution_count": 23,
   "metadata": {
    "ExecuteTime": {
     "end_time": "2023-12-07T07:38:16.313484Z",
     "start_time": "2023-12-07T07:38:16.289138Z"
    }
   },
   "outputs": [
    {
     "name": "stdout",
     "output_type": "stream",
     "text": [
      "efficiency: 0.8333333333333334\n"
     ]
    }
   ],
   "source": [
    "# choices=np.zeros((N,nperiod))\n",
    "\n",
    "nsess=10\n",
    "period=nperiod\n",
    "\n",
    "result=[]\n",
    "for sess in range(1,1+nsess):\n",
    "    recordfile=os.path.join(filepath,f'records_ME_{expname}_{N}_{nperiod}_sess{sess}_period{period}.pkl')\n",
    "    with open(recordfile, 'rb') as f:\n",
    "        records=pickle.load(f)\n",
    "    for record in records:\n",
    "        tmp=record['Earnings'].tolist()\n",
    "        result.extend(tmp)\n",
    "eff=np.mean((np.array(result)-1)/(13-1))\n",
    "print('efficiency:',eff)"
   ]
  },
  {
   "cell_type": "code",
   "execution_count": null,
   "metadata": {},
   "outputs": [],
   "source": []
  }
 ],
 "metadata": {
  "kernelspec": {
   "display_name": "Python 3 (ipykernel)",
   "language": "python",
   "name": "python3"
  },
  "language_info": {
   "codemirror_mode": {
    "name": "ipython",
    "version": 3
   },
   "file_extension": ".py",
   "mimetype": "text/x-python",
   "name": "python",
   "nbconvert_exporter": "python",
   "pygments_lexer": "ipython3",
   "version": "3.9.17"
  }
 },
 "nbformat": 4,
 "nbformat_minor": 2
}
